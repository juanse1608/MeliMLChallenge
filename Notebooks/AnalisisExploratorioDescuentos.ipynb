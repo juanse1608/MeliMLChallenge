{
 "cells": [
  {
   "cell_type": "markdown",
   "metadata": {
    "toc": true
   },
   "source": [
    "<h1>Table of Contents<span class=\"tocSkip\"></span></h1>\n",
    "<div class=\"toc\"><ul class=\"toc-item\"><li><span><a href=\"#Importar-Librerías\" data-toc-modified-id=\"Importar-Librerías-1\"><span class=\"toc-item-num\">1&nbsp;&nbsp;</span>Importar Librerías</a></span></li><li><span><a href=\"#Conexión-con-la-API-de-Meli\" data-toc-modified-id=\"Conexión-con-la-API-de-Meli-2\"><span class=\"toc-item-num\">2&nbsp;&nbsp;</span>Conexión con la API de Meli</a></span><ul class=\"toc-item\"><li><span><a href=\"#Acceso-al-Token\" data-toc-modified-id=\"Acceso-al-Token-2.1\"><span class=\"toc-item-num\">2.1&nbsp;&nbsp;</span>Acceso al Token</a></span></li><li><span><a href=\"#Mercado-Libre-API---Search\" data-toc-modified-id=\"Mercado-Libre-API---Search-2.2\"><span class=\"toc-item-num\">2.2&nbsp;&nbsp;</span>Mercado Libre API - Search</a></span></li><li><span><a href=\"#Construcción-del-Dataset-de-Productos\" data-toc-modified-id=\"Construcción-del-Dataset-de-Productos-2.3\"><span class=\"toc-item-num\">2.3&nbsp;&nbsp;</span>Construcción del Dataset de Productos</a></span></li></ul></li><li><span><a href=\"#Preprocesamiento-de-Datos\" data-toc-modified-id=\"Preprocesamiento-de-Datos-3\"><span class=\"toc-item-num\">3&nbsp;&nbsp;</span>Preprocesamiento de Datos</a></span></li></ul></div>"
   ]
  },
  {
   "cell_type": "markdown",
   "metadata": {},
   "source": [
    "# Reto en DS y ML - Meli\n",
    "\n",
    "El propósito de este notebook es realizar el reto de DS y ML propuesto por el equipo Meli."
   ]
  },
  {
   "cell_type": "markdown",
   "metadata": {},
   "source": [
    "## Importar Librerías"
   ]
  },
  {
   "cell_type": "code",
   "execution_count": 1,
   "metadata": {
    "ExecuteTime": {
     "end_time": "2021-03-09T02:56:59.048003Z",
     "start_time": "2021-03-09T02:56:59.039384Z"
    }
   },
   "outputs": [
    {
     "data": {
      "text/html": [
       "<style>div#notebook-container{width: 60%;}div#menubar-container{width: 65%;} div#maintoolbar-container{width: 99%;}</style>"
      ],
      "text/plain": [
       "<IPython.core.display.HTML object>"
      ]
     },
     "metadata": {},
     "output_type": "display_data"
    }
   ],
   "source": [
    "# Cambia el ancho de las celdas\n",
    "from IPython.display import HTML, display\n",
    "display(HTML(data=\"\"\"<style>div#notebook-container{width: 60%;}div#menubar-container{width: 65%;} div#maintoolbar-container{width: 99%;}</style>\"\"\"))"
   ]
  },
  {
   "cell_type": "code",
   "execution_count": 1,
   "metadata": {
    "ExecuteTime": {
     "end_time": "2021-03-09T17:31:02.634536Z",
     "start_time": "2021-03-09T17:31:02.121896Z"
    }
   },
   "outputs": [],
   "source": [
    "# Para el acceso, autorizacion y token de ApiMeli\n",
    "import urllib\n",
    "from __future__ import print_function\n",
    "import time\n",
    "import meli\n",
    "from meli.rest import ApiException\n",
    "from pprint import pprint\n",
    "import json\n",
    "\n",
    "# DataScience and MachineLearning\n",
    "import pandas as pd\n",
    "import numpy as np\n",
    "\n",
    "# Graficos"
   ]
  },
  {
   "cell_type": "code",
   "execution_count": 2,
   "metadata": {
    "ExecuteTime": {
     "end_time": "2021-03-09T17:31:11.515310Z",
     "start_time": "2021-03-09T17:31:11.506635Z"
    }
   },
   "outputs": [
    {
     "data": {
      "text/plain": [
       "'1.2.0'"
      ]
     },
     "execution_count": 2,
     "metadata": {},
     "output_type": "execute_result"
    }
   ],
   "source": [
    "pd.__version__"
   ]
  },
  {
   "cell_type": "markdown",
   "metadata": {
    "heading_collapsed": true
   },
   "source": [
    "## Conexión con la API de Meli"
   ]
  },
  {
   "cell_type": "markdown",
   "metadata": {
    "heading_collapsed": true,
    "hidden": true
   },
   "source": [
    "### Acceso al Token"
   ]
  },
  {
   "cell_type": "code",
   "execution_count": 67,
   "metadata": {
    "ExecuteTime": {
     "end_time": "2021-03-08T01:32:47.584675Z",
     "start_time": "2021-03-08T01:32:46.674898Z"
    },
    "hidden": true
   },
   "outputs": [
    {
     "name": "stdout",
     "output_type": "stream",
     "text": [
      "EL LINK ES:\t https://www.mercadolibre.com/jms/mco/lgz/login/?go=https%3A%2F%2Fauth.mercadolibre.com.co%2Fauthorization%3Fresponse_type%3Dcode%26client_id%3D4859773784768141%26redirect_uri%3Dhttp%253A%252F%252Flocalhost%252F&platform_id=ml&application_id=4859773784768141\n"
     ]
    }
   ],
   "source": [
    "# Variables de app_id, redirect_uri y tipo de response\n",
    "RESPONSE_TYPE = 'code'\n",
    "CLIENT_ID = '4859773784768141'\n",
    "REDIRECT_URI = 'http://localhost/'\n",
    "\n",
    "# Devuelve el link al codigo de autorizacion\n",
    "params = urllib.parse.urlencode({'response_type': RESPONSE_TYPE, 'client_id': CLIENT_ID, \n",
    "                                 'redirect_uri':REDIRECT_URI})\n",
    "f = urllib.request.urlopen(\"https://auth.mercadolibre.com.co/authorization?%s\" % params)\n",
    "print('EL LINK ES:\\t', f.geturl())"
   ]
  },
  {
   "cell_type": "code",
   "execution_count": 68,
   "metadata": {
    "ExecuteTime": {
     "end_time": "2021-03-08T01:33:02.824314Z",
     "start_time": "2021-03-08T01:33:02.538378Z"
    },
    "hidden": true
   },
   "outputs": [
    {
     "name": "stdout",
     "output_type": "stream",
     "text": [
      "API RESPONSE: \n",
      "\n",
      "{'access_token': 'APP_USR-4859773784768141-030801-45a78fadca2ca46fa614fcdf6121b426-297551045',\n",
      " 'expires_in': 21600,\n",
      " 'refresh_token': 'TG-60457ece3c927600073b9c0c-297551045',\n",
      " 'scope': 'offline_access read write',\n",
      " 'token_type': 'bearer',\n",
      " 'user_id': 297551045}\n"
     ]
    }
   ],
   "source": [
    "# Variable con el secret_key\n",
    "CLIENT_SECRET = '51ThrmmqvO2vazuX7eFt4zEz9kT77h0t'\n",
    "\n",
    "# Genera el token, refresh_token para el uso de la api\n",
    "configuration = meli.Configuration(host = \"https://api.mercadolibre.com\")\n",
    "\n",
    "# Contexto con una instancia de la API cliente\n",
    "with meli.ApiClient() as api_client:\n",
    "# Crea una instancia con la clase API\n",
    "    api_instance = meli.OAuth20Api(api_client)\n",
    "    grant_type = 'authorization_code' # Tipo de Grant\n",
    "    client_id = CLIENT_ID # App ID\n",
    "    client_secret = CLIENT_SECRET # Secret Key\n",
    "    redirect_uri = REDIRECT_URI # Redirect URI\n",
    "    code = 'TG-60457ec23c927600073b9bef-297551045' # El codigo de autorizacion\n",
    "try:\n",
    "    # Solicita el token de acceso\n",
    "    api_response = api_instance.get_token(grant_type=grant_type,\n",
    "                                          client_id=client_id,\n",
    "                                          client_secret=client_secret,\n",
    "                                          redirect_uri=redirect_uri,\n",
    "                                          code=code)\n",
    "    print('API RESPONSE: \\n')\n",
    "    pprint(api_response)\n",
    "except ApiException as e:\n",
    "    print(\"Exception when calling OAuth20Api->get_token: %s\\n\" % e)"
   ]
  },
  {
   "cell_type": "code",
   "execution_count": 69,
   "metadata": {
    "ExecuteTime": {
     "end_time": "2021-03-08T01:33:31.915935Z",
     "start_time": "2021-03-08T01:33:31.913644Z"
    },
    "hidden": true
   },
   "outputs": [],
   "source": [
    "# Se guarda el token en una variable\n",
    "TOKEN = api_response['access_token']\n",
    "REFRESH_TOKEN = api_response['refresh_token']"
   ]
  },
  {
   "cell_type": "markdown",
   "metadata": {
    "heading_collapsed": true,
    "hidden": true
   },
   "source": [
    "### Mercado Libre API - Search"
   ]
  },
  {
   "cell_type": "code",
   "execution_count": 70,
   "metadata": {
    "ExecuteTime": {
     "end_time": "2021-03-08T01:33:33.680987Z",
     "start_time": "2021-03-08T01:33:33.499063Z"
    },
    "hidden": true
   },
   "outputs": [],
   "source": [
    "# Se obtienen la lista de categorias (id y name) de Meli\n",
    "with meli.ApiClient() as api_client:\n",
    "    api_instance = meli.RestClientApi(api_client)\n",
    "    resource = 'sites/MCO/categories' # A resource example like items, search, category, etc.\n",
    "    access_token = TOKEN # El token de acceso\n",
    "\n",
    "try:\n",
    "    # Obtiene las categoias de meli\n",
    "    meli_cats = api_instance.resource_get(resource, access_token)\n",
    "except ApiException as e:\n",
    "    print(\"Exception when calling RestClientApi->resource_get: %s\\n\" % e)"
   ]
  },
  {
   "cell_type": "code",
   "execution_count": 102,
   "metadata": {
    "ExecuteTime": {
     "end_time": "2021-03-08T02:00:10.299005Z",
     "start_time": "2021-03-08T01:52:30.400486Z"
    },
    "collapsed": true,
    "hidden": true
   },
   "outputs": [
    {
     "name": "stdout",
     "output_type": "stream",
     "text": [
      "PROCESADA LA CATEGORIA: ACCESORIOS PARA VEHÍCULOS\n",
      "PROCESADA LA CATEGORIA: AGRO\n",
      "PROCESADA LA CATEGORIA: ALIMENTOS Y BEBIDAS\n",
      "PROCESADA LA CATEGORIA: ANIMALES Y MASCOTAS\n",
      "PROCESADA LA CATEGORIA: ANTIGÜEDADES Y COLECCIONES\n",
      "PROCESADA LA CATEGORIA: ARTE, PAPELERÍA Y MERCERÍA\n",
      "PROCESADA LA CATEGORIA: BEBÉS\n",
      "PROCESADA LA CATEGORIA: BELLEZA Y CUIDADO PERSONAL\n",
      "PROCESADA LA CATEGORIA: BOLETAS PARA ESPECTÁCULOS\n",
      "PROCESADA LA CATEGORIA: CÁMARAS Y ACCESORIOS\n",
      "PROCESADA LA CATEGORIA: CARROS, MOTOS Y OTROS\n",
      "PROCESADA LA CATEGORIA: CELULARES Y TELÉFONOS\n",
      "PROCESADA LA CATEGORIA: COMPUTACIÓN\n",
      "PROCESADA LA CATEGORIA: CONSOLAS Y VIDEOJUEGOS\n",
      "PROCESADA LA CATEGORIA: DEPORTES Y FITNESS\n",
      "PROCESADA LA CATEGORIA: ELECTRODOMÉSTICOS\n",
      "PROCESADA LA CATEGORIA: ELECTRÓNICA, AUDIO Y VIDEO\n",
      "PROCESADA LA CATEGORIA: HERRAMIENTAS Y CONSTRUCCIÓN\n",
      "PROCESADA LA CATEGORIA: HOGAR Y MUEBLES\n",
      "PROCESADA LA CATEGORIA: INDUSTRIAS Y OFICINAS\n",
      "PROCESADA LA CATEGORIA: INMUEBLES\n",
      "PROCESADA LA CATEGORIA: INSTRUMENTOS MUSICALES\n",
      "PROCESADA LA CATEGORIA: JUEGOS Y JUGUETES\n",
      "PROCESADA LA CATEGORIA: LIBROS, REVISTAS Y COMICS\n",
      "PROCESADA LA CATEGORIA: MÚSICA, PELÍCULAS Y SERIES\n",
      "PROCESADA LA CATEGORIA: RECUERDOS, PIÑATERÍA Y FIESTAS\n",
      "PROCESADA LA CATEGORIA: RELOJES Y JOYAS\n",
      "PROCESADA LA CATEGORIA: ROPA Y ACCESORIOS\n",
      "PROCESADA LA CATEGORIA: SALUD Y EQUIPAMIENTO MÉDICO\n",
      "PROCESADA LA CATEGORIA: SERVICIOS\n",
      "PROCESADA LA CATEGORIA: OTRAS CATEGORÍAS\n"
     ]
    }
   ],
   "source": [
    "# Se obtienen la lista de categorias (id y name) de Meli\n",
    "limit = 50 \n",
    "items_per_category = 500\n",
    "repetitions = items_per_category//limit\n",
    "searchs = []\n",
    "\n",
    "for cat in meli_cats:\n",
    "    offset = 0\n",
    "    for r in range(repetitions):\n",
    "        with meli.ApiClient() as api_client:\n",
    "            api_instance = meli.RestClientApi(api_client)\n",
    "            resource = 'sites/MCO/search?category={}&offset={}'.format(cat['id'], offset)\n",
    "            access_token = TOKEN # El token de acceso\n",
    "            offset += limit\n",
    "        try:\n",
    "            # Obtiene las search para la categoria de\n",
    "            api_response = api_instance.resource_get(resource, access_token)\n",
    "            searchs.append(api_response)\n",
    "        except ApiException as e:\n",
    "            print(\"Exception when calling RestClientApi->resource_get: %s\\n\" % e)\n",
    "    print('PROCESADA LA CATEGORIA: {}'.format(cat['name'].upper()))"
   ]
  },
  {
   "cell_type": "code",
   "execution_count": 139,
   "metadata": {
    "ExecuteTime": {
     "end_time": "2021-03-08T23:59:59.409202Z",
     "start_time": "2021-03-08T23:59:55.573184Z"
    },
    "hidden": true
   },
   "outputs": [],
   "source": [
    "# Se salva en un json cada una de las busquedas con sus parametros (categoria y offset)\n",
    "for search in searchs:\n",
    "    # Salva search['results']\n",
    "    cat = search['filters'][0]['values'][0]['id']\n",
    "    offset_parameter = search['paging']['offset']\n",
    "    with open('../Data/Searchs/CAT_{}__OFFSET_{}.json'.format(cat, offset_parameter), 'w') as fp:\n",
    "        json.dump(search['results'], fp)"
   ]
  },
  {
   "cell_type": "markdown",
   "metadata": {
    "hidden": true
   },
   "source": [
    "El 7 de Marzo de 2021 a las 21:00 horas se hizo una búsqueda de los __500__ primeros ítems que aparecen para cada categoría (serán los los 500 más relevantes debido a que ese es el orden por default del marketplace) en el [Mercado Libre Colombia](https://www.mercadolibre.com.co/) por medio de los filtros de `category` y `offset`.\n",
    "\n",
    "La razón por la cual no se hizo ningún filtro relacionado al descuento es porque me parece importante entender cual es el porcentaje de productos de cada categoría que tienen descuento."
   ]
  },
  {
   "cell_type": "markdown",
   "metadata": {
    "heading_collapsed": true,
    "hidden": true
   },
   "source": [
    "### Construcción del Dataset de Productos"
   ]
  },
  {
   "cell_type": "code",
   "execution_count": 198,
   "metadata": {
    "ExecuteTime": {
     "end_time": "2021-03-09T00:48:05.348311Z",
     "start_time": "2021-03-09T00:48:05.345491Z"
    },
    "hidden": true
   },
   "outputs": [],
   "source": [
    "# Se define una lista con las variables asociadas a un producto (es decir no del vendedor \n",
    "# o del shipping de el producto por ejemplo)\n",
    "item_keys = ['id', 'site_id', 'title', 'price', 'sale_price',\n",
    "             'currency_id', 'available_quantity', 'sold_quantity', 'buying_mode',\n",
    "             'listing_type_id', 'stop_time', 'condition', 'permalink', 'thumbnail', \n",
    "             'thumbnail_id', 'accepts_mercadopago', 'original_price', \n",
    "             'category_id', 'official_store_id', 'domain_id', 'catalog_product_id',\n",
    "             'order_backend', 'use_thumbnail_id']"
   ]
  },
  {
   "cell_type": "code",
   "execution_count": 239,
   "metadata": {
    "ExecuteTime": {
     "end_time": "2021-03-09T02:34:01.005284Z",
     "start_time": "2021-03-09T02:26:20.492291Z"
    },
    "hidden": true
   },
   "outputs": [
    {
     "name": "stdout",
     "output_type": "stream",
     "text": [
      "LAS DIMENSIONES DE LA BASE DE PRODUCTOS SON: (15336, 47)\n"
     ]
    }
   ],
   "source": [
    "# En este doble for se recorre los resultados de cada busqueda y\n",
    "# se crea una base con productos (la cual se usara tanto para la parte exploratoria \n",
    "# como para el modelo)\n",
    "products = pd.DataFrame()\n",
    "errores = 0\n",
    "total_de_productos = 0\n",
    "for search in searchs:\n",
    "    for idx, result in enumerate(search['results']):\n",
    "        # Se pone un try debido a que puede haber informacion incompleta \n",
    "        # de algunos productos (shipping, seller, etc)\n",
    "        try:\n",
    "            ## Item vars: En esta parte se integra la info del item especificamente\n",
    "            vars_dict = {'item_'+key: result[key] for key in item_keys}\n",
    "\n",
    "            ## Seller vars: En esta parte se integra la info del vendedor del item especificamente\n",
    "            vars_dict['seller_id'] = result['seller']['id']\n",
    "\n",
    "            # Reputation and transaction vars\n",
    "            vars_dict['seller_rep_transactions_total'] = result['seller']['seller_reputation']['transactions']['total']\n",
    "            vars_dict['seller_rep_transactions_canceled'] = result['seller']['seller_reputation']['transactions']['canceled']\n",
    "            vars_dict['seller_rep_rating_neg'] = result['seller']['seller_reputation']['transactions']['ratings']['negative']\n",
    "            vars_dict['seller_rep_rating_pos'] = result['seller']['seller_reputation']['transactions']['ratings']['positive']\n",
    "            vars_dict['seller_rep_rating_neu'] = result['seller']['seller_reputation']['transactions']['ratings']['neutral']\n",
    "            vars_dict['seller_transactions_completed'] = result['seller']['seller_reputation']['transactions']['completed']\n",
    "            vars_dict['seller_status'] = result['seller']['seller_reputation']['power_seller_status']\n",
    "\n",
    "            # Metrics vars\n",
    "            vars_dict['seller_metrics_claims_rate'] = result['seller']['seller_reputation']['metrics']['claims']['rate']\n",
    "            vars_dict['seller_metrics_claims_value'] = result['seller']['seller_reputation']['metrics']['claims']['value']\n",
    "            vars_dict['seller_metrics_claims_period'] = result['seller']['seller_reputation']['metrics']['claims']['period']\n",
    "            vars_dict['seller_metrics_delay_rate'] = result['seller']['seller_reputation']['metrics']['delayed_handling_time']['rate']\n",
    "            vars_dict['seller_metrics_delay_value'] = result['seller']['seller_reputation']['metrics']['delayed_handling_time']['value']\n",
    "            vars_dict['seller_metrics_delay_period'] = result['seller']['seller_reputation']['metrics']['delayed_handling_time']['period']\n",
    "            vars_dict['seller_metrics_sales_period'] = result['seller']['seller_reputation']['metrics']['sales']['period']\n",
    "            vars_dict['seller_metrics_sales_completed'] = result['seller']['seller_reputation']['metrics']['sales']['completed']\n",
    "            vars_dict['seller_metrics_cancellations_period'] = result['seller']['seller_reputation']['metrics']['cancellations']['period']\n",
    "            vars_dict['seller_metrics_cancellations_rate'] = result['seller']['seller_reputation']['metrics']['cancellations']['rate']\n",
    "            vars_dict['seller_metrics_cancellations_value'] = result['seller']['seller_reputation']['metrics']['cancellations']['value']\n",
    "\n",
    "            # Level id var (ej Platinum)\n",
    "            vars_dict['seller_level_id'] = result['seller']['seller_reputation']['level_id']\n",
    "\n",
    "            ## Shipping vars: En esta parte se integra la info del shipping del item especificamente\n",
    "            vars_dict['shipping_free'] = result['shipping']['free_shipping']\n",
    "            vars_dict['shipping_logistic_type'] = result['shipping']['logistic_type']\n",
    "            vars_dict['shipping_pick_up'] = result['shipping']['store_pick_up']\n",
    "\n",
    "            ## Adress vars\n",
    "            vars_dict['adress_state_id'] = result['address']['state_id']\n",
    "            product = pd.DataFrame(vars_dict, index=[0])\n",
    "            products = pd.concat([products, product], axis=0)\n",
    "        except:\n",
    "            errores += 1\n",
    "        total_de_productos += 1\n",
    "        \n",
    "# Se imprimen las dimensiones de la base de productos construida        \n",
    "products.reset_index(drop=True, inplace=True)\n",
    "print('LAS DIMENSIONES DE LA BASE DE PRODUCTOS SON: {}'.format(products.shape))"
   ]
  },
  {
   "cell_type": "code",
   "execution_count": 244,
   "metadata": {
    "ExecuteTime": {
     "end_time": "2021-03-09T02:35:39.255694Z",
     "start_time": "2021-03-09T02:35:39.252738Z"
    },
    "hidden": true
   },
   "outputs": [
    {
     "name": "stdout",
     "output_type": "stream",
     "text": [
      "EL PORCENTAJE DE ERRORES PRESENTADOS FUE DE 0.85%, EN TOTAL 131 PRODUCTOS\n"
     ]
    }
   ],
   "source": [
    "porcentaje_de_errores = np.round(errores/total_de_productos*100,2)\n",
    "print('EL PORCENTAJE DE ERRORES PRESENTADOS FUE DE {}%, EN TOTAL {} PRODUCTOS'.format(porcentaje_de_errores, errores))"
   ]
  },
  {
   "cell_type": "code",
   "execution_count": 246,
   "metadata": {
    "ExecuteTime": {
     "end_time": "2021-03-09T02:36:41.605342Z",
     "start_time": "2021-03-09T02:36:40.135568Z"
    },
    "hidden": true
   },
   "outputs": [],
   "source": [
    "# Se crea una tabla de duplicados por el item_id\n",
    "duplicados_por_id = products.loc[products['item_id'].duplicated(keep=False)]"
   ]
  },
  {
   "cell_type": "code",
   "execution_count": 249,
   "metadata": {
    "ExecuteTime": {
     "end_time": "2021-03-09T02:39:46.233597Z",
     "start_time": "2021-03-09T02:39:46.208592Z"
    },
    "hidden": true
   },
   "outputs": [
    {
     "name": "stdout",
     "output_type": "stream",
     "text": [
      "LAS DIMENSIONES DE LA BASE DE PRODUCTOS DESPUES DE REMOVER DUPLICADOS SON: (14531, 47)\n"
     ]
    }
   ],
   "source": [
    "# Se remueven los duplicados\n",
    "products.drop_duplicates(subset=['item_id'], keep='first', inplace=True)\n",
    "print('LAS DIMENSIONES DE LA BASE DE PRODUCTOS DESPUES DE REMOVER DUPLICADOS SON: {}'.format(products.shape))"
   ]
  },
  {
   "cell_type": "code",
   "execution_count": 252,
   "metadata": {
    "ExecuteTime": {
     "end_time": "2021-03-09T02:42:14.528346Z",
     "start_time": "2021-03-09T02:42:14.246313Z"
    },
    "hidden": true
   },
   "outputs": [],
   "source": [
    "# Se guarda el dataset en un .csv (en caso de que haya un problema con el notebook,\n",
    "# se apague el compu o algo asi, ya se tiene el dataset de datos)\n",
    "products.to_csv('../Data/Datasets/PRODUCTOS.csv', index=False)"
   ]
  },
  {
   "cell_type": "markdown",
   "metadata": {},
   "source": [
    "## Preprocesamiento de Datos"
   ]
  },
  {
   "cell_type": "code",
   "execution_count": 4,
   "metadata": {
    "ExecuteTime": {
     "end_time": "2021-03-09T02:57:36.046035Z",
     "start_time": "2021-03-09T02:57:35.904358Z"
    }
   },
   "outputs": [],
   "source": [
    "productos = pd.read_csv('../Data/Datasets/PRODUCTOS.csv')"
   ]
  },
  {
   "cell_type": "code",
   "execution_count": null,
   "metadata": {},
   "outputs": [],
   "source": []
  },
  {
   "cell_type": "markdown",
   "metadata": {
    "heading_collapsed": true
   },
   "source": [
    "# Fin del Documento"
   ]
  },
  {
   "cell_type": "code",
   "execution_count": null,
   "metadata": {
    "hidden": true
   },
   "outputs": [],
   "source": []
  }
 ],
 "metadata": {
  "kernelspec": {
   "display_name": "Python 3",
   "language": "python",
   "name": "python3"
  },
  "language_info": {
   "codemirror_mode": {
    "name": "ipython",
    "version": 3
   },
   "file_extension": ".py",
   "mimetype": "text/x-python",
   "name": "python",
   "nbconvert_exporter": "python",
   "pygments_lexer": "ipython3",
   "version": "3.8.2"
  },
  "notify_time": "10",
  "toc": {
   "base_numbering": 1,
   "nav_menu": {},
   "number_sections": true,
   "sideBar": true,
   "skip_h1_title": true,
   "title_cell": "Table of Contents",
   "title_sidebar": "Contents",
   "toc_cell": true,
   "toc_position": {
    "height": "calc(100% - 180px)",
    "left": "10px",
    "top": "150px",
    "width": "462px"
   },
   "toc_section_display": true,
   "toc_window_display": true
  }
 },
 "nbformat": 4,
 "nbformat_minor": 4
}
