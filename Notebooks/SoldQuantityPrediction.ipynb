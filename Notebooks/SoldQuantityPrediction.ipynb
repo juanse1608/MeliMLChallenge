{
 "cells": [
  {
   "cell_type": "markdown",
   "metadata": {
    "toc": true
   },
   "source": [
    "<h1>Table of Contents<span class=\"tocSkip\"></span></h1>\n",
    "<div class=\"toc\"><ul class=\"toc-item\"><li><span><a href=\"#Importar-Librerías\" data-toc-modified-id=\"Importar-Librerías-1\"><span class=\"toc-item-num\">1&nbsp;&nbsp;</span>Importar Librerías</a></span></li><li><span><a href=\"#Funciones-y-Clases\" data-toc-modified-id=\"Funciones-y-Clases-2\"><span class=\"toc-item-num\">2&nbsp;&nbsp;</span>Funciones y Clases</a></span></li><li><span><a href=\"#Preprocesamiento-de-Datos\" data-toc-modified-id=\"Preprocesamiento-de-Datos-3\"><span class=\"toc-item-num\">3&nbsp;&nbsp;</span>Preprocesamiento de Datos</a></span><ul class=\"toc-item\"><li><span><a href=\"#Construcción-del-Dataset-de-Productos\" data-toc-modified-id=\"Construcción-del-Dataset-de-Productos-3.1\"><span class=\"toc-item-num\">3.1&nbsp;&nbsp;</span>Construcción del Dataset de Productos</a></span><ul class=\"toc-item\"><li><span><a href=\"#Lectura-de-los-Datos\" data-toc-modified-id=\"Lectura-de-los-Datos-3.1.1\"><span class=\"toc-item-num\">3.1.1&nbsp;&nbsp;</span>Lectura de los Datos</a></span></li><li><span><a href=\"#Transformación-de-los-Datos\" data-toc-modified-id=\"Transformación-de-los-Datos-3.1.2\"><span class=\"toc-item-num\">3.1.2&nbsp;&nbsp;</span>Transformación de los Datos</a></span></li></ul></li><li><span><a href=\"#Selección-de-Predictores\" data-toc-modified-id=\"Selección-de-Predictores-3.2\"><span class=\"toc-item-num\">3.2&nbsp;&nbsp;</span>Selección de Predictores</a></span></li><li><span><a href=\"#Estandarización,-OneHotEncoding-y-Train-Test-Split\" data-toc-modified-id=\"Estandarización,-OneHotEncoding-y-Train-Test-Split-3.3\"><span class=\"toc-item-num\">3.3&nbsp;&nbsp;</span>Estandarización, OneHotEncoding y Train-Test Split</a></span></li></ul></li><li><span><a href=\"#Modelos-de-Predicción---Sold-Quantity\" data-toc-modified-id=\"Modelos-de-Predicción---Sold-Quantity-4\"><span class=\"toc-item-num\">4&nbsp;&nbsp;</span>Modelos de Predicción - Sold Quantity</a></span><ul class=\"toc-item\"><li><span><a href=\"#XGBoost-(Gradient-Boosting-Trees)\" data-toc-modified-id=\"XGBoost-(Gradient-Boosting-Trees)-4.1\"><span class=\"toc-item-num\">4.1&nbsp;&nbsp;</span>XGBoost (Gradient Boosting Trees)</a></span></li><li><span><a href=\"#NNs-(Redes-Neuronales)\" data-toc-modified-id=\"NNs-(Redes-Neuronales)-4.2\"><span class=\"toc-item-num\">4.2&nbsp;&nbsp;</span>NNs (Redes Neuronales)</a></span></li><li><span><a href=\"#Random-Forest-(Bosques-Aleatorios)\" data-toc-modified-id=\"Random-Forest-(Bosques-Aleatorios)-4.3\"><span class=\"toc-item-num\">4.3&nbsp;&nbsp;</span>Random Forest (Bosques Aleatorios)</a></span></li><li><span><a href=\"#Stacked-Model\" data-toc-modified-id=\"Stacked-Model-4.4\"><span class=\"toc-item-num\">4.4&nbsp;&nbsp;</span>Stacked Model</a></span></li></ul></li><li><span><a href=\"#Alternativa:-Modelos-de-Clasificación\" data-toc-modified-id=\"Alternativa:-Modelos-de-Clasificación-5\"><span class=\"toc-item-num\">5&nbsp;&nbsp;</span>Alternativa: Modelos de Clasificación</a></span><ul class=\"toc-item\"><li><span><a href=\"#Definición-de-los-Rangos-de-Cantidades-Vendidas\" data-toc-modified-id=\"Definición-de-los-Rangos-de-Cantidades-Vendidas-5.1\"><span class=\"toc-item-num\">5.1&nbsp;&nbsp;</span>Definición de los Rangos de Cantidades Vendidas</a></span></li><li><span><a href=\"#Neural-Network\" data-toc-modified-id=\"Neural-Network-5.2\"><span class=\"toc-item-num\">5.2&nbsp;&nbsp;</span>Neural Network</a></span></li></ul></li><li><span><a href=\"#Conclusiones-y-Reflexiones\" data-toc-modified-id=\"Conclusiones-y-Reflexiones-6\"><span class=\"toc-item-num\">6&nbsp;&nbsp;</span>Conclusiones y Reflexiones</a></span></li></ul></div>"
   ]
  },
  {
   "cell_type": "markdown",
   "metadata": {},
   "source": [
    "# Sold Quantity Prediction\n",
    "\n",
    "El propósito de este notebook es construir una serie de modelos de predicción para estimar la variable `ITEM_SOLD_QUANTITY` de un item de [Mercado Libre](https://www.mercadolibre.com.co/) con el dataset construido en [`MeliMLChallenge/Notebook/ApiPullingData.ipynb`](https://github.com/juanse1608/MeliMLChallenge/blob/main/Notebooks/ApiPullingData.ipynb).\n",
    "\n",
    "Se recuerda que el dataset consta de __14574__ items (tratanto de tener la misma cantidad para cada una de las categorías de ítems de Meli Colombia) y __50__ variables asociadas al ítem, su vendedor y su envío."
   ]
  },
  {
   "cell_type": "markdown",
   "metadata": {},
   "source": [
    "## Importar Librerías"
   ]
  },
  {
   "cell_type": "code",
   "execution_count": 762,
   "metadata": {
    "ExecuteTime": {
     "end_time": "2021-03-15T03:36:38.081437Z",
     "start_time": "2021-03-15T03:36:38.078337Z"
    }
   },
   "outputs": [
    {
     "data": {
      "text/html": [
       "<style>div#notebook-container{width: 60%;}div#menubar-container{width: 65%;} div#maintoolbar-container{width: 99%;}</style>"
      ],
      "text/plain": [
       "<IPython.core.display.HTML object>"
      ]
     },
     "metadata": {},
     "output_type": "display_data"
    }
   ],
   "source": [
    "# Cambia el ancho de las celdas\n",
    "from IPython.display import HTML, display\n",
    "display(HTML(data=\"\"\"<style>div#notebook-container{width: 60%;}div#menubar-container{width: 65%;} div#maintoolbar-container{width: 99%;}</style>\"\"\"))"
   ]
  },
  {
   "cell_type": "code",
   "execution_count": 874,
   "metadata": {
    "ExecuteTime": {
     "end_time": "2021-03-15T05:00:15.518759Z",
     "start_time": "2021-03-15T05:00:15.514089Z"
    }
   },
   "outputs": [],
   "source": [
    "# Procesamiento de datos\n",
    "import os\n",
    "import re\n",
    "import pandas as pd\n",
    "import numpy as np\n",
    "import datetime as dt\n",
    "import itertools as it\n",
    "import requests\n",
    "\n",
    "# Visualización\n",
    "import matplotlib.pyplot as plt\n",
    "import matplotlib.font_manager\n",
    "from matplotlib.ticker import PercentFormatter\n",
    "import chart_studio.plotly as py\n",
    "import plotly.graph_objs as go\n",
    "import plotly.express as px\n",
    "from plotly.subplots import make_subplots\n",
    "\n",
    "# ML y DS\n",
    "from sklearn.preprocessing import OneHotEncoder, LabelEncoder, StandardScaler\n",
    "from sklearn.model_selection import train_test_split\n",
    "from sklearn.model_selection import GridSearchCV, KFold\n",
    "from sklearn.metrics import mean_squared_error\n",
    "from sklearn.metrics import mean_absolute_error\n",
    "from sklearn.ensemble import RandomForestRegressor\n",
    "from sklearn.ensemble import StackingRegressor\n",
    "from xgboost import XGBRegressor\n",
    "from xgboost import XGBRFRegressor\n",
    "import tensorflow as tf"
   ]
  },
  {
   "cell_type": "markdown",
   "metadata": {
    "heading_collapsed": true
   },
   "source": [
    "## Funciones y Clases\n",
    "\n",
    "Esta sección tiene las funciones y clases creadas que se usarán a los largo de este notebook."
   ]
  },
  {
   "cell_type": "code",
   "execution_count": 764,
   "metadata": {
    "ExecuteTime": {
     "end_time": "2021-03-15T03:36:38.091067Z",
     "start_time": "2021-03-15T03:36:38.088790Z"
    },
    "hidden": true
   },
   "outputs": [],
   "source": [
    "# Funcion que en encuentra el valor mas cercano de un array a un valor \n",
    "def find_nearest(array, value):\n",
    "    array = np.asarray(array)\n",
    "    idx = (np.abs(array - value)).argmin()\n",
    "    return array[idx]"
   ]
  },
  {
   "cell_type": "markdown",
   "metadata": {
    "heading_collapsed": true
   },
   "source": [
    "## Preprocesamiento de Datos\n",
    "\n",
    "En esta sección se realiza un proceso general de limpieza y organización de los datos previo a la exploración de los datos."
   ]
  },
  {
   "cell_type": "markdown",
   "metadata": {
    "heading_collapsed": true,
    "hidden": true
   },
   "source": [
    "### Construcción del Dataset de Productos"
   ]
  },
  {
   "cell_type": "markdown",
   "metadata": {
    "heading_collapsed": true,
    "hidden": true
   },
   "source": [
    "#### Lectura de los Datos\n",
    " \n",
    "En esta subsección se leen el dataset de productos, se imprimen sus dimensiones, sus columnas y se mencionan sus tipos de variables."
   ]
  },
  {
   "cell_type": "code",
   "execution_count": 765,
   "metadata": {
    "ExecuteTime": {
     "end_time": "2021-03-15T03:36:38.704259Z",
     "start_time": "2021-03-15T03:36:38.566741Z"
    },
    "hidden": true
   },
   "outputs": [
    {
     "name": "stdout",
     "output_type": "stream",
     "text": [
      "LAS DIMENSIONES DE LA BASE DE PRODUCTOS SON: (14574, 50)\n"
     ]
    }
   ],
   "source": [
    "# Se lee el .csv con el datset construido\n",
    "products = pd.read_csv('../Data/Datasets/PRODUCTOS.csv')\n",
    "products.columns = products.columns.str.upper() # Pone los nombres de las columnas en mayusculas\n",
    "print('LAS DIMENSIONES DE LA BASE DE PRODUCTOS SON: {}'.format(products.shape))"
   ]
  },
  {
   "cell_type": "code",
   "execution_count": 766,
   "metadata": {
    "ExecuteTime": {
     "end_time": "2021-03-15T03:36:38.709453Z",
     "start_time": "2021-03-15T03:36:38.706288Z"
    },
    "hidden": true
   },
   "outputs": [
    {
     "data": {
      "text/plain": [
       "Index(['ITEM_ID', 'ITEM_SITE_ID', 'ITEM_TITLE', 'ITEM_PRICE',\n",
       "       'ITEM_SALE_PRICE', 'ITEM_CURRENCY_ID', 'ITEM_AVAILABLE_QUANTITY',\n",
       "       'ITEM_SOLD_QUANTITY', 'ITEM_BUYING_MODE', 'ITEM_LISTING_TYPE_ID',\n",
       "       'ITEM_STOP_TIME', 'ITEM_CONDITION', 'ITEM_PERMALINK', 'ITEM_THUMBNAIL',\n",
       "       'ITEM_THUMBNAIL_ID', 'ITEM_ACCEPTS_MERCADOPAGO', 'ITEM_ORIGINAL_PRICE',\n",
       "       'ITEM_CATEGORY_ID', 'ITEM_OFFICIAL_STORE_ID', 'ITEM_DOMAIN_ID',\n",
       "       'ITEM_CATALOG_PRODUCT_ID', 'ITEM_ORDER_BACKEND',\n",
       "       'ITEM_USE_THUMBNAIL_ID', 'SEARCH_CATEGORY_ID', 'SEARCH_CATEGORY_NAME',\n",
       "       'SEARCH_OFFSET', 'SELLER_ID', 'SELLER_REP_TRANSACTIONS_TOTAL',\n",
       "       'SELLER_REP_TRANSACTIONS_CANCELED', 'SELLER_REP_RATING_NEG',\n",
       "       'SELLER_REP_RATING_POS', 'SELLER_REP_RATING_NEU',\n",
       "       'SELLER_TRANSACTIONS_COMPLETED', 'SELLER_STATUS',\n",
       "       'SELLER_METRICS_CLAIMS_RATE', 'SELLER_METRICS_CLAIMS_VALUE',\n",
       "       'SELLER_METRICS_CLAIMS_PERIOD', 'SELLER_METRICS_DELAY_RATE',\n",
       "       'SELLER_METRICS_DELAY_VALUE', 'SELLER_METRICS_DELAY_PERIOD',\n",
       "       'SELLER_METRICS_SALES_PERIOD', 'SELLER_METRICS_SALES_COMPLETED',\n",
       "       'SELLER_METRICS_CANCELLATIONS_PERIOD',\n",
       "       'SELLER_METRICS_CANCELLATIONS_RATE',\n",
       "       'SELLER_METRICS_CANCELLATIONS_VALUE', 'SELLER_LEVEL_ID',\n",
       "       'SHIPPING_FREE', 'SHIPPING_LOGISTIC_TYPE', 'SHIPPING_PICK_UP',\n",
       "       'ADRESS_STATE_ID'],\n",
       "      dtype='object')"
      ]
     },
     "execution_count": 766,
     "metadata": {},
     "output_type": "execute_result"
    }
   ],
   "source": [
    "# Printea la columnas del dataset\n",
    "products.columns"
   ]
  },
  {
   "cell_type": "markdown",
   "metadata": {
    "ExecuteTime": {
     "end_time": "2021-03-09T23:49:05.788278Z",
     "start_time": "2021-03-09T23:49:05.710669Z"
    },
    "hidden": true
   },
   "source": [
    "Se puede ver claramente que se encuentran los siguientes tipos de variables:\n",
    "    \n",
    "1. Tipo `ITEM`: Variables asociadas al ítem.\n",
    "\n",
    "\n",
    "2. Tipo `SELLER`: Variables asociadas al vendedor.\n",
    "\n",
    "\n",
    "3. Tipo `SHIPPING`: Variables asociadas al envío.\n",
    "\n",
    "\n",
    "4. Tipo `ADRESS`: Variable que indica el departamento donde se encuentra el ítem.\n",
    "\n",
    "\n",
    "5. Tipo `SEARCH`: Variables asociadas a la búsqueda: categoría y offset."
   ]
  },
  {
   "cell_type": "markdown",
   "metadata": {
    "heading_collapsed": true,
    "hidden": true
   },
   "source": [
    "#### Transformación de los Datos\n",
    "\n",
    "En esta subsección se arreglan, limpian y transforman el dataset de productos."
   ]
  },
  {
   "cell_type": "code",
   "execution_count": 767,
   "metadata": {
    "ExecuteTime": {
     "end_time": "2021-03-15T03:36:38.916030Z",
     "start_time": "2021-03-15T03:36:38.907118Z"
    },
    "hidden": true
   },
   "outputs": [],
   "source": [
    "# Arreglo a la ADRESS_STATE_ID: para algunos productos el ADRESS_STATE_ID hay que arreglar su dato\n",
    "# Se uso el ITEM_PERMALINK para entender cual era el verdadero dato de ADRESS_STATE_ID\n",
    "cambios_de_direccion = {\n",
    "                        'TUNPUEJPR1gxMDljZA': 'CO-DC', \n",
    "                        'TUNPUEFOVGFiZWI3': 'CO-ANT ',\n",
    "                        'TUNPUENVTmE3NmQ4': 'CO-CUN',\n",
    "                        'TUNPUFZBTGExNmNjNg': 'CO-VAC',\n",
    "                        'TUNPUFJJU2ExMWIyYg': 'CO-RIS',\n",
    "                        'TUNPUEFUTG9mNDk5': 'CO-ATL',\n",
    "                        'TUNPUFRPTGExNGZkNA': 'CO-TOL',\n",
    "                        'TUNPUFNBTnJlMjMw': 'CO-SAN',\n",
    "                        'TUNPUEJPTHI1Mzlk': 'CO-BOL',\n",
    "                        'TUNPUE1BR2FiZjQ0': 'CO-MAG',\n",
    "                        'TUNPUENBTHNjODY4': 'CO-CAL',\n",
    "                        'TUNPUE1FVGExNzFjNQ': 'CO-MET',\n",
    "                        'TUNPUFFVSW9kYmZm': 'CO-QUI',\n",
    "                        'TUNPUE5PUnIxNDkyZg': 'CO-NSA', \n",
    "                        'TUNPUEFSQ2E4Zjc3': 'CO-SAP',\n",
    "                        'TUNPUEJPWWE4YzMz': 'CO-BOY',\n",
    "                        'TUNPUENBVWExM2Q1NQ': 'CO-CAU',\n",
    "                        'TUNPUENPUmFkZGIw': 'CO-COR',\n",
    "                        'TUNPUEdVQWExOTYx': 'CO-LAG',\n",
    "                        'TUNPUE5BUm8xYzk4': 'CO-NAR', \n",
    "                        'TUNPUFNVQ2U4ZWQ0': 'CO-SUC',\n",
    "                        'TUNPUENBU2U2OWIy': 'CO-CAS',\n",
    "                        'TUNPUENFU3IxODA4Mg': 'CO-CES',\n",
    "                        'TUNPUEFNQXMxMzQ2YQ': 'CO-AMA'\n",
    "                       }\n",
    "\n",
    "# Arregla un error que se detecto en las direcciones\n",
    "products.loc[products['ADRESS_STATE_ID'].isin(cambios_de_direccion.keys()), 'ADRESS_STATE_ID'] = \\\n",
    "products.loc[products['ADRESS_STATE_ID'].isin(cambios_de_direccion.keys()), 'ADRESS_STATE_ID'].map(cambios_de_direccion)"
   ]
  },
  {
   "cell_type": "code",
   "execution_count": 768,
   "metadata": {
    "ExecuteTime": {
     "end_time": "2021-03-15T03:36:38.936408Z",
     "start_time": "2021-03-15T03:36:38.918748Z"
    },
    "hidden": true
   },
   "outputs": [],
   "source": [
    "## Ajuste a la condicion del item\n",
    "\n",
    "# Se cambia nan por not_specified\n",
    "products.loc[products['ITEM_CONDITION'].isna(), 'ITEM_CONDITION'] = 'not_specified'\n",
    "\n",
    "# Ajustes al precio \n",
    "\n",
    "# Se quitan productos que no tienen precio (generalmente precio a convenir)\n",
    "# Es decir este analisis aplica para productos con precio fijo\n",
    "products = products.loc[~products['ITEM_PRICE'].isna()]\n",
    "products.reset_index(drop=True, inplace=True)\n",
    "\n",
    "# Se encontro en google la tasa de cambio de dolar a cop el dia 7 de marzo (cuando se descargaron los datos)\n",
    "exchange_rate_usd_to_cop = 3142.99 \n",
    "products.loc[products['ITEM_CURRENCY_ID'] == 'USD', 'ITEM_PRICE'] *= exchange_rate_usd_to_cop\n",
    "products.loc[products['ITEM_CURRENCY_ID'] == 'USD', 'ITEM_CURRENCY_ID'] = 'COP'\n",
    "\n",
    "# Cambia ITEM_ORIGINAL_PRICE por el ITEM_PRICE como se indica en el documento\n",
    "products.loc[products['ITEM_ORIGINAL_PRICE'].isna(), 'ITEM_ORIGINAL_PRICE'] = \\\n",
    "products.loc[products['ITEM_ORIGINAL_PRICE'].isna(), 'ITEM_PRICE']\n",
    "\n",
    "# Crea las variables de descuento absoluto y la tasa\n",
    "products['ITEM_DISCOUNT_VALUE'] = products['ITEM_ORIGINAL_PRICE'] - products['ITEM_PRICE']\n",
    "products['ITEM_DISCOUNT_RATE'] = products['ITEM_DISCOUNT_VALUE']/products['ITEM_ORIGINAL_PRICE']\n",
    "\n",
    "# Crea la variable de venta total: This is an approximation\n",
    "products['ITEM_SELL_TOTAL'] = products['ITEM_PRICE']*products['ITEM_SOLD_QUANTITY']"
   ]
  },
  {
   "cell_type": "code",
   "execution_count": 769,
   "metadata": {
    "ExecuteTime": {
     "end_time": "2021-03-15T03:36:38.968891Z",
     "start_time": "2021-03-15T03:36:38.938605Z"
    },
    "hidden": true
   },
   "outputs": [],
   "source": [
    "## Ajuste a variables del vendedor\n",
    "\n",
    "# Cambio de nan to not_specified para SELLER_STATUS\n",
    "products.loc[products['SELLER_STATUS'].isna(), 'SELLER_STATUS'] = 'not_specified'\n",
    "products.loc[products['SELLER_LEVEL_ID'].isna(), 'SELLER_LEVEL_ID'] = 'not_specified'\n",
    "\n",
    "# Cambio nan to 0 para SELLER_METRICS_SALES_PERIOD\n",
    "products.loc[products['SELLER_METRICS_SALES_PERIOD'].isna(), 'SELLER_METRICS_SALES_COMPLETED'] = 0\n",
    "products.loc[products['SELLER_METRICS_SALES_PERIOD'].isna(), 'SELLER_METRICS_SALES_PERIOD'] = '60 days'\n",
    "products.loc[products['SELLER_METRICS_SALES_PERIOD'] == '60 months', 'SELLER_METRICS_SALES_COMPLETED'] *= (60/(30*60))\n",
    "products.loc[products['SELLER_METRICS_SALES_PERIOD'] == '3 months', 'SELLER_METRICS_SALES_COMPLETED'] *= (60/90)\n",
    "products.loc[products['SELLER_METRICS_SALES_PERIOD'] == '365 days', 'SELLER_METRICS_SALES_COMPLETED'] *= (60/365)\n",
    "products['SELLER_METRICS_SALES_PERIOD'] = '60 days'\n",
    "\n",
    "# Estandarizacion de las metricas absolutas del vendedor (por periodo de tiempo)\n",
    "\n",
    "# Cancelaciones \n",
    "products.loc[products['SELLER_METRICS_CANCELLATIONS_PERIOD'] == '60 months', 'SELLER_METRICS_CANCELLATIONS_VALUE'] *= (60/(30*60))\n",
    "products.loc[products['SELLER_METRICS_CANCELLATIONS_PERIOD'] == '3 months', 'SELLER_METRICS_CANCELLATIONS_VALUE'] *= (60/90)\n",
    "products.loc[products['SELLER_METRICS_CANCELLATIONS_PERIOD'] == '365 days', 'SELLER_METRICS_CANCELLATIONS_VALUE'] *= (60/365)\n",
    "products['SELLER_METRICS_CANCELLATIONS_PERIOD'] = '60 days'\n",
    "\n",
    "# Quejas \n",
    "products.loc[products['SELLER_METRICS_CLAIMS_PERIOD'] == '60 months', 'SELLER_METRICS_CLAIMS_VALUE'] *= (60/(30*60))\n",
    "products.loc[products['SELLER_METRICS_CLAIMS_PERIOD'] == '3 months', 'SELLER_METRICS_CLAIMS_VALUE'] *= (60/90)\n",
    "products.loc[products['SELLER_METRICS_CLAIMS_PERIOD'] == '365 days', 'SELLER_METRICS_CLAIMS_VALUE'] *= (60/365)\n",
    "products['SELLER_METRICS_CLAIMS_PERIOD'] = '60 days'\n",
    "\n",
    "# Demoras \n",
    "products.loc[products['SELLER_METRICS_DELAY_PERIOD'] == '60 months', 'SELLER_METRICS_DELAY_VALUE'] *= (60/(30*60))\n",
    "products.loc[products['SELLER_METRICS_DELAY_PERIOD'] == '3 months', 'SELLER_METRICS_DELAY_VALUE'] *= (60/90)\n",
    "products.loc[products['SELLER_METRICS_DELAY_PERIOD'] == '365 days', 'SELLER_METRICS_DELAY_VALUE'] *= (60/365)\n",
    "products['SELLER_METRICS_DELAY_PERIOD'] = '60 days'\n",
    "\n",
    "## Ajustes a variables del shipping/envio\n",
    "\n",
    "# Cambio de nan to not_specified para SHIPPING_LOGISTIC_TYPE\n",
    "products.loc[products['SHIPPING_LOGISTIC_TYPE'].isna(), 'SHIPPING_LOGISTIC_TYPE'] = 'not_specified'"
   ]
  },
  {
   "cell_type": "code",
   "execution_count": 770,
   "metadata": {
    "ExecuteTime": {
     "end_time": "2021-03-15T03:36:38.990495Z",
     "start_time": "2021-03-15T03:36:38.970566Z"
    },
    "hidden": true
   },
   "outputs": [
    {
     "name": "stdout",
     "output_type": "stream",
     "text": [
      "LAS DIMENSIONES DE LA BASE DE PRODUCTOS SON: (13043, 53)\n"
     ]
    }
   ],
   "source": [
    "# Encuentra las categorias cuyas cantidades vendidas son 0 y las remueve\n",
    "sold_quantity_per_category = products.groupby('SEARCH_CATEGORY_ID')['ITEM_SELL_TOTAL'].sum().sort_values(ascending=False)\n",
    "categories_zero_sold_quantity = sold_quantity_per_category.loc[sold_quantity_per_category == 0].index.tolist()\n",
    "products = products.loc[~products['SEARCH_CATEGORY_ID'].isin(categories_zero_sold_quantity)]\n",
    "\n",
    "# Se remueven los productos cuya cantidad vendida es de 5000\n",
    "products = products.loc[products['ITEM_SOLD_QUANTITY'] < 5000]\n",
    "products = products.loc[~products['ITEM_DOMAIN_ID'].isna()]\n",
    "\n",
    "# Imprime las dimensiones del dataset de products final\n",
    "print('LAS DIMENSIONES DE LA BASE DE PRODUCTOS SON: {}'.format(products.shape))"
   ]
  },
  {
   "cell_type": "markdown",
   "metadata": {
    "heading_collapsed": true,
    "hidden": true
   },
   "source": [
    "### Selección de Predictores"
   ]
  },
  {
   "cell_type": "code",
   "execution_count": 771,
   "metadata": {
    "ExecuteTime": {
     "end_time": "2021-03-15T03:36:39.091947Z",
     "start_time": "2021-03-15T03:36:39.086282Z"
    },
    "hidden": true,
    "scrolled": false
   },
   "outputs": [
    {
     "name": "stdout",
     "output_type": "stream",
     "text": [
      "LAS DIMENSIONES DE LA DATA DE PRODUCTOS SON: (13043, 30)\n"
     ]
    }
   ],
   "source": [
    "# Variables de item y search  \n",
    "item_vars = [\n",
    "    'ITEM_PRICE',\n",
    "    'ITEM_AVAILABLE_QUANTITY',\n",
    "    'ITEM_SOLD_QUANTITY', # Variable de respuesta\n",
    "    'ITEM_LISTING_TYPE_ID',\n",
    "    'ITEM_CONDITION',\n",
    "    'ITEM_DOMAIN_ID',\n",
    "    'ITEM_ACCEPTS_MERCADOPAGO',\n",
    "    'ITEM_ORIGINAL_PRICE',\n",
    "    'ITEM_USE_THUMBNAIL_ID',\n",
    "    'SEARCH_CATEGORY_ID', # La categoria del busqueda del item \n",
    "    'SEARCH_OFFSET', # El offset de busqueda que en el que se obtuvo el item\n",
    "#     'ITEM_DISCOUNT_VALUE', # Se omite ya que es una combinacion lineal de ITEM_PRICE y ITEM_ORIGINAL_PRICE\n",
    "    'ITEM_DISCOUNT_RATE',\n",
    "]\n",
    "\n",
    "# Variables del seller y el shipping\n",
    "seller_vars = [\n",
    "    'SELLER_REP_TRANSACTIONS_TOTAL',\n",
    "    'SELLER_REP_TRANSACTIONS_CANCELED',\n",
    "    'SELLER_REP_RATING_NEG',\n",
    "    'SELLER_REP_RATING_POS',\n",
    "    'SELLER_REP_RATING_NEU',\n",
    "    'SELLER_TRANSACTIONS_COMPLETED',\n",
    "    'SELLER_METRICS_CLAIMS_RATE',\n",
    "    'SELLER_METRICS_CLAIMS_VALUE',\n",
    "    'SELLER_METRICS_DELAY_RATE',\n",
    "    'SELLER_METRICS_DELAY_VALUE', \n",
    "    'SELLER_METRICS_SALES_COMPLETED',\n",
    "    'SELLER_METRICS_CANCELLATIONS_RATE',\n",
    "    'SELLER_METRICS_CANCELLATIONS_VALUE', \n",
    "    'SELLER_LEVEL_ID',\n",
    "    'SHIPPING_FREE',\n",
    "    'SHIPPING_LOGISTIC_TYPE', \n",
    "    'SHIPPING_PICK_UP',\n",
    "    'ADRESS_STATE_ID', \n",
    "]\n",
    "\n",
    "# Seleeciona unicamente columnas anteriormente definidas\n",
    "products_selected = products[item_vars + seller_vars]\n",
    "products_selected.reset_index(drop=True, inplace=True)\n",
    "print('LAS DIMENSIONES DE LA DATA DE PRODUCTOS SON: {}'.format(products_selected.shape))"
   ]
  },
  {
   "cell_type": "markdown",
   "metadata": {
    "heading_collapsed": true,
    "hidden": true
   },
   "source": [
    "### Estandarización, OneHotEncoding y Train-Test Split"
   ]
  },
  {
   "cell_type": "code",
   "execution_count": 772,
   "metadata": {
    "ExecuteTime": {
     "end_time": "2021-03-15T03:36:39.250010Z",
     "start_time": "2021-03-15T03:36:39.240869Z"
    },
    "hidden": true
   },
   "outputs": [
    {
     "name": "stdout",
     "output_type": "stream",
     "text": [
      "LAS DIMENSIONES DE LA DATA NUMERICA DE PRODUCTOS SON: (13043, 19)\n",
      "LAS DIMENSIONES DE LA DATA CATEGORICA DE PRODUCTOS SON: (13043, 7)\n",
      "LAS DIMENSIONES DE LA DATA BINARIA DE PRODUCTOS SON: (13043, 4)\n"
     ]
    }
   ],
   "source": [
    "# Crea un dataframe de variables numericas y otro de categoricas\n",
    "numerics = ['int16', 'int32', 'int64', 'float16', 'float32', 'float64']\n",
    "products_numeric = products_selected.select_dtypes(include=numerics)\n",
    "\n",
    "categorical = ['object']\n",
    "products_categorical = products_selected.select_dtypes(include=categorical)\n",
    "\n",
    "# Cambia las variables \n",
    "binary = ['bool']\n",
    "products_binary = products_selected.select_dtypes(include=binary)\n",
    "\n",
    "# Revisa que todas las variables de products_selected esten en products_numeric, products_binary y products_categorical\n",
    "assert(products_selected.shape[1] == (products_categorical.shape[1]+products_numeric.shape[1]+products_binary.shape[1]))\n",
    "\n",
    "# Imprime las dimensiones de cada base\n",
    "print('LAS DIMENSIONES DE LA DATA NUMERICA DE PRODUCTOS SON: {}'.format(products_numeric.shape))\n",
    "print('LAS DIMENSIONES DE LA DATA CATEGORICA DE PRODUCTOS SON: {}'.format(products_categorical.shape))\n",
    "print('LAS DIMENSIONES DE LA DATA BINARIA DE PRODUCTOS SON: {}'.format(products_binary.shape))"
   ]
  },
  {
   "cell_type": "code",
   "execution_count": 773,
   "metadata": {
    "ExecuteTime": {
     "end_time": "2021-03-15T03:36:39.299664Z",
     "start_time": "2021-03-15T03:36:39.252691Z"
    },
    "hidden": true
   },
   "outputs": [],
   "source": [
    "## Cambio a 1-0 para las binarias\n",
    "# Cambia las variables binarias True-False por 1-0 \n",
    "products_binary = products_binary.astype(int)\n",
    "\n",
    "## OneHotEncoding para las columnas categoricas\n",
    "# Define el one_hot_encoder\n",
    "one_hot_encoder = OneHotEncoder(sparse=False)\n",
    "# Transforma los datos\n",
    "products_encoded_categoricals = one_hot_encoder.fit_transform(products_categorical)"
   ]
  },
  {
   "cell_type": "code",
   "execution_count": 774,
   "metadata": {
    "ExecuteTime": {
     "end_time": "2021-03-15T03:36:39.438428Z",
     "start_time": "2021-03-15T03:36:39.301890Z"
    },
    "hidden": true
   },
   "outputs": [],
   "source": [
    "# Divide los datos en entrenamiento y prueba\n",
    "Y = products_numeric['ITEM_SOLD_QUANTITY']\n",
    "X = products_numeric.drop(columns='ITEM_SOLD_QUANTITY')\n",
    "X_train, X_test, Y_train, Y_test = train_test_split(X,Y,test_size=0.3, random_state=1608)\n",
    "indexes_train = X_train.index.tolist()\n",
    "indexes_test = X_test.index.tolist()\n",
    "\n",
    "## Estandarizacion para las numericas\n",
    "standard_scaler = StandardScaler() \n",
    "X_train_std = standard_scaler.fit_transform(X_train)\n",
    "X_test_std = standard_scaler.transform(X_test)\n",
    "\n",
    "## Construye la matriz de datos con todos los tipos de data\n",
    "X_train_total = np.concatenate((X_train_std, products_encoded_categoricals[indexes_train,:],\n",
    "                                products_binary.loc[indexes_train]), axis=1)\n",
    "X_test_total = np.concatenate((X_test_std, products_encoded_categoricals[indexes_test,:],\n",
    "                                products_binary.loc[indexes_test]), axis=1)"
   ]
  },
  {
   "cell_type": "markdown",
   "metadata": {},
   "source": [
    "## Modelos de Predicción - Sold Quantity\n",
    "\n",
    "En esta sección se construye y evalua el rendimiento de disintos modelos de Machine Learning para estimar la cantidad vendida de un ítem en función de las variables escogidas previamente."
   ]
  },
  {
   "cell_type": "markdown",
   "metadata": {
    "heading_collapsed": true
   },
   "source": [
    "### XGBoost (Gradient Boosting Trees)\n",
    "\n",
    "Uno de los algoritmos que escogí para usar es Gradient Boosting Trees a través del framework `XGBoost` conocido por su excelente rendimiento y rapidez. Lo que se hara es buscar los mejores hiper-parámetros por validación cruzada y evaluar el desempeño del modelo."
   ]
  },
  {
   "cell_type": "code",
   "execution_count": 716,
   "metadata": {
    "ExecuteTime": {
     "end_time": "2021-03-15T03:11:41.324620Z",
     "start_time": "2021-03-15T03:09:28.869595Z"
    },
    "hidden": true
   },
   "outputs": [
    {
     "name": "stdout",
     "output_type": "stream",
     "text": [
      "Fitting 5 folds for each of 9 candidates, totalling 45 fits\n"
     ]
    },
    {
     "name": "stderr",
     "output_type": "stream",
     "text": [
      "[Parallel(n_jobs=-1)]: Using backend LokyBackend with 16 concurrent workers.\n",
      "[Parallel(n_jobs=-1)]: Done  45 out of  45 | elapsed:  2.1min finished\n"
     ]
    }
   ],
   "source": [
    "# Parametros del XGBoost para tunear (se escogio el dart booster para evitar el overfitting)\n",
    "param_tuning = {\n",
    "        'learning_rate': [0.10, 0.25],\n",
    "        'max_depth': [5, 7],\n",
    "        'min_child_weight': [3, 5],\n",
    "        'subsample': [1.0],\n",
    "        'colsample_bytree': [0.50],\n",
    "        'n_estimators' : [100],\n",
    "        'objective': ['reg:squarederror'],\n",
    "        'booster': ['dart'],\n",
    "        'rate_drop': [0.0, 0.1],\n",
    "        'skip_drop': [0.1, 0.5]\n",
    "    }\n",
    "\n",
    "# Se evalua para todas las combinaciones de hiperparametros cual tiene el menor error de validacion\n",
    "# usando validacion cruzada para 5-folds\n",
    "\n",
    "# Modelo XGBRegressor\n",
    "xgb_model = XGBRegressor()\n",
    "\n",
    "# Validacion cruzada\n",
    "k_folds = KFold(n_splits=5, shuffle=True, random_state=1608)\n",
    "grid_search_cv = GridSearchCV(estimator = xgb_model,\n",
    "                              param_grid = param_tuning,            \n",
    "                              cv = k_folds,\n",
    "                              n_jobs = -1,\n",
    "                              verbose = 1)\n",
    "cv_fit = grid_search_cv.fit(X=X_train_total, y=Y_train) # Fit"
   ]
  },
  {
   "cell_type": "code",
   "execution_count": 717,
   "metadata": {
    "ExecuteTime": {
     "end_time": "2021-03-15T03:11:42.211602Z",
     "start_time": "2021-03-15T03:11:42.206963Z"
    },
    "hidden": true,
    "scrolled": true
   },
   "outputs": [
    {
     "data": {
      "text/plain": [
       "{'booster': 'dart',\n",
       " 'colsample_bytree': 0.5,\n",
       " 'learning_rate': 0.25,\n",
       " 'max_depth': 7,\n",
       " 'min_child_weight': 5,\n",
       " 'n_estimators': 100,\n",
       " 'objective': 'reg:squarederror',\n",
       " 'rate_drop': 0.1,\n",
       " 'skip_drop': 0.5,\n",
       " 'subsample': 1.0}"
      ]
     },
     "execution_count": 717,
     "metadata": {},
     "output_type": "execute_result"
    }
   ],
   "source": [
    "# Imprime los mejores parametros bajo el score de cv calculado para cada iteracion\n",
    "grid_search_cv.best_params_"
   ]
  },
  {
   "cell_type": "code",
   "execution_count": 742,
   "metadata": {
    "ExecuteTime": {
     "end_time": "2021-03-15T03:24:46.736579Z",
     "start_time": "2021-03-15T03:24:46.585737Z"
    },
    "hidden": true
   },
   "outputs": [],
   "source": [
    "# Se generan las predicciones para el entrenamiento y prueba y se evaluan dos metricas: RMSE y MAE\n",
    "xgb_best_model = grid_search_cv.best_estimator_\n",
    "test_predictions = xgb_best_model.predict(X_test_total)\n",
    "train_predictions = xgb_best_model.predict(X_train_total)"
   ]
  },
  {
   "cell_type": "code",
   "execution_count": 743,
   "metadata": {
    "ExecuteTime": {
     "end_time": "2021-03-15T03:24:47.132942Z",
     "start_time": "2021-03-15T03:24:47.127641Z"
    },
    "hidden": true
   },
   "outputs": [
    {
     "name": "stdout",
     "output_type": "stream",
     "text": [
      "RMSE DE ENTRENAMIENTO: 79.35\n",
      "RMSE DE PRUEBA: 104.87\n",
      "DIFERENCIA DE: 32.17%\n"
     ]
    }
   ],
   "source": [
    "# Comparacion RSME train y test\n",
    "rmse_train = np.sqrt(mean_squared_error(y_pred=train_predictions, y_true=Y_train))\n",
    "rmse_test = np.sqrt(mean_squared_error(y_pred=test_predictions, y_true=Y_test))\n",
    "print('RMSE DE ENTRENAMIENTO: {}'.format(np.round(rmse_train,2)))\n",
    "print('RMSE DE PRUEBA: {}'.format(np.round(rmse_test,2)))\n",
    "diferencia_porcentual = np.round(100*(rmse_test-rmse_train)/rmse_train,2)\n",
    "print('DIFERENCIA DE: {}%'.format(diferencia_porcentual))"
   ]
  },
  {
   "cell_type": "code",
   "execution_count": 744,
   "metadata": {
    "ExecuteTime": {
     "end_time": "2021-03-15T03:24:48.278376Z",
     "start_time": "2021-03-15T03:24:48.272924Z"
    },
    "hidden": true
   },
   "outputs": [
    {
     "name": "stdout",
     "output_type": "stream",
     "text": [
      "MAE DE ENTRENAMIENTO: 54.74\n",
      "MAE DE PRUEBA: 72.84\n",
      "DIFERENCIA DE: 33.07%\n"
     ]
    }
   ],
   "source": [
    "# Comparacion MAE train y test\n",
    "mae_train = mean_absolute_error(y_pred=train_predictions, y_true=Y_train)\n",
    "mae_test = mean_absolute_error(y_pred=test_predictions, y_true=Y_test)\n",
    "diferencia_porcentual = np.round(100*(mae_test-mae_train)/mae_train,2)\n",
    "print('MAE DE ENTRENAMIENTO: {}'.format(np.round(mae_train,2)))\n",
    "print('MAE DE PRUEBA: {}'.format(np.round(mae_test,2)))\n",
    "print('DIFERENCIA DE: {}%'.format(diferencia_porcentual))"
   ]
  },
  {
   "cell_type": "code",
   "execution_count": 745,
   "metadata": {
    "ExecuteTime": {
     "end_time": "2021-03-15T03:24:49.177972Z",
     "start_time": "2021-03-15T03:24:49.071569Z"
    },
    "hidden": true
   },
   "outputs": [],
   "source": [
    "values = sorted(Y_train.unique())\n",
    "test_predictions = [find_nearest(values, p)for p in test_predictions] \n",
    "train_predictions = [find_nearest(values, p)for p in train_predictions] "
   ]
  },
  {
   "cell_type": "code",
   "execution_count": 746,
   "metadata": {
    "ExecuteTime": {
     "end_time": "2021-03-15T03:24:50.338099Z",
     "start_time": "2021-03-15T03:24:50.331706Z"
    },
    "hidden": true
   },
   "outputs": [
    {
     "name": "stdout",
     "output_type": "stream",
     "text": [
      "RMSE DE ENTRENAMIENTO: 86.3\n",
      "RMSE DE PRUEBA: 111.63\n",
      "DIFERENCIA DE: 29.35%\n"
     ]
    }
   ],
   "source": [
    "# Comparacion RSME train y test\n",
    "rmse_train = np.sqrt(mean_squared_error(y_pred=train_predictions, y_true=Y_train))\n",
    "rmse_test = np.sqrt(mean_squared_error(y_pred=test_predictions, y_true=Y_test))\n",
    "print('RMSE DE ENTRENAMIENTO: {}'.format(np.round(rmse_train,2)))\n",
    "print('RMSE DE PRUEBA: {}'.format(np.round(rmse_test,2)))\n",
    "diferencia_porcentual = np.round(100*(rmse_test-rmse_train)/rmse_train,2)\n",
    "print('DIFERENCIA DE: {}%'.format(diferencia_porcentual))"
   ]
  },
  {
   "cell_type": "code",
   "execution_count": 747,
   "metadata": {
    "ExecuteTime": {
     "end_time": "2021-03-15T03:24:51.620054Z",
     "start_time": "2021-03-15T03:24:51.613857Z"
    },
    "hidden": true
   },
   "outputs": [
    {
     "name": "stdout",
     "output_type": "stream",
     "text": [
      "MAE DE ENTRENAMIENTO: 49.49\n",
      "MAE DE PRUEBA: 69.39\n",
      "DIFERENCIA DE: 40.21%\n"
     ]
    }
   ],
   "source": [
    "# Comparacion MAE train y test\n",
    "mae_train = mean_absolute_error(y_pred=train_predictions, y_true=Y_train)\n",
    "mae_test = mean_absolute_error(y_pred=test_predictions, y_true=Y_test)\n",
    "diferencia_porcentual = np.round(100*(mae_test-mae_train)/mae_train,2)\n",
    "print('MAE DE ENTRENAMIENTO: {}'.format(np.round(mae_train,2)))\n",
    "print('MAE DE PRUEBA: {}'.format(np.round(mae_test,2)))\n",
    "print('DIFERENCIA DE: {}%'.format(diferencia_porcentual))"
   ]
  },
  {
   "cell_type": "code",
   "execution_count": 750,
   "metadata": {
    "ExecuteTime": {
     "end_time": "2021-03-15T03:27:04.075284Z",
     "start_time": "2021-03-15T03:27:04.062056Z"
    },
    "hidden": true
   },
   "outputs": [],
   "source": [
    "# Se crea un dataframe con los resultados\n",
    "resultados_train = pd.DataFrame({'TYPE': ['TRAIN']*len(Y_train), 'TRUE': Y_train, 'PREDICTED': train_predictions})\n",
    "resultados_test = pd.DataFrame({'TYPE': ['TEST']*len(Y_test), 'TRUE': Y_test, 'PREDICTED': test_predictions})\n",
    "resultados_xgb = pd.concat([resultados_train, resultados_test], axis=0).reset_index(drop=True)\n",
    "resultados_xgb['ABSOLUTE_ERROR'] = (resultados_xgb['TRUE']-resultados_xgb['PREDICTED']).abs()\n",
    "resultados_xgb['SQUARE_ERROR'] = (resultados_xgb['TRUE']-resultados_xgb['PREDICTED'])**2"
   ]
  },
  {
   "cell_type": "code",
   "execution_count": 758,
   "metadata": {
    "ExecuteTime": {
     "end_time": "2021-03-15T03:29:19.042951Z",
     "start_time": "2021-03-15T03:29:19.036488Z"
    },
    "hidden": true
   },
   "outputs": [],
   "source": [
    "# Resultados por cantidad\n",
    "resultados_por_cantidad = resultados_xgb.groupby(['TYPE', 'TRUE'])[['ABSOLUTE_ERROR', 'SQUARE_ERROR']].mean().reset_index()"
   ]
  },
  {
   "cell_type": "code",
   "execution_count": 759,
   "metadata": {
    "ExecuteTime": {
     "end_time": "2021-03-15T03:29:20.400302Z",
     "start_time": "2021-03-15T03:29:20.389790Z"
    },
    "hidden": true
   },
   "outputs": [
    {
     "data": {
      "text/html": [
       "<div>\n",
       "<style scoped>\n",
       "    .dataframe tbody tr th:only-of-type {\n",
       "        vertical-align: middle;\n",
       "    }\n",
       "\n",
       "    .dataframe tbody tr th {\n",
       "        vertical-align: top;\n",
       "    }\n",
       "\n",
       "    .dataframe thead th {\n",
       "        text-align: right;\n",
       "    }\n",
       "</style>\n",
       "<table border=\"1\" class=\"dataframe\">\n",
       "  <thead>\n",
       "    <tr style=\"text-align: right;\">\n",
       "      <th></th>\n",
       "      <th>TYPE</th>\n",
       "      <th>TRUE</th>\n",
       "      <th>ABSOLUTE_ERROR</th>\n",
       "      <th>SQUARE_ERROR</th>\n",
       "    </tr>\n",
       "  </thead>\n",
       "  <tbody>\n",
       "    <tr>\n",
       "      <th>0</th>\n",
       "      <td>TEST</td>\n",
       "      <td>0</td>\n",
       "      <td>13.389937</td>\n",
       "      <td>509.805031</td>\n",
       "    </tr>\n",
       "    <tr>\n",
       "      <th>1</th>\n",
       "      <td>TEST</td>\n",
       "      <td>1</td>\n",
       "      <td>14.776119</td>\n",
       "      <td>718.059701</td>\n",
       "    </tr>\n",
       "    <tr>\n",
       "      <th>2</th>\n",
       "      <td>TEST</td>\n",
       "      <td>2</td>\n",
       "      <td>11.974026</td>\n",
       "      <td>381.818182</td>\n",
       "    </tr>\n",
       "    <tr>\n",
       "      <th>3</th>\n",
       "      <td>TEST</td>\n",
       "      <td>3</td>\n",
       "      <td>18.562500</td>\n",
       "      <td>864.020833</td>\n",
       "    </tr>\n",
       "    <tr>\n",
       "      <th>4</th>\n",
       "      <td>TEST</td>\n",
       "      <td>4</td>\n",
       "      <td>15.784615</td>\n",
       "      <td>673.815385</td>\n",
       "    </tr>\n",
       "    <tr>\n",
       "      <th>5</th>\n",
       "      <td>TEST</td>\n",
       "      <td>5</td>\n",
       "      <td>38.708943</td>\n",
       "      <td>3173.508943</td>\n",
       "    </tr>\n",
       "    <tr>\n",
       "      <th>6</th>\n",
       "      <td>TEST</td>\n",
       "      <td>6</td>\n",
       "      <td>69.000000</td>\n",
       "      <td>5386.000000</td>\n",
       "    </tr>\n",
       "    <tr>\n",
       "      <th>7</th>\n",
       "      <td>TEST</td>\n",
       "      <td>7</td>\n",
       "      <td>52.000000</td>\n",
       "      <td>2704.000000</td>\n",
       "    </tr>\n",
       "    <tr>\n",
       "      <th>8</th>\n",
       "      <td>TEST</td>\n",
       "      <td>8</td>\n",
       "      <td>8.000000</td>\n",
       "      <td>64.000000</td>\n",
       "    </tr>\n",
       "    <tr>\n",
       "      <th>9</th>\n",
       "      <td>TEST</td>\n",
       "      <td>14</td>\n",
       "      <td>11.000000</td>\n",
       "      <td>121.000000</td>\n",
       "    </tr>\n",
       "    <tr>\n",
       "      <th>10</th>\n",
       "      <td>TEST</td>\n",
       "      <td>25</td>\n",
       "      <td>54.049107</td>\n",
       "      <td>5547.450893</td>\n",
       "    </tr>\n",
       "    <tr>\n",
       "      <th>11</th>\n",
       "      <td>TEST</td>\n",
       "      <td>50</td>\n",
       "      <td>63.566004</td>\n",
       "      <td>7161.996383</td>\n",
       "    </tr>\n",
       "    <tr>\n",
       "      <th>12</th>\n",
       "      <td>TEST</td>\n",
       "      <td>56</td>\n",
       "      <td>44.000000</td>\n",
       "      <td>1936.000000</td>\n",
       "    </tr>\n",
       "    <tr>\n",
       "      <th>13</th>\n",
       "      <td>TEST</td>\n",
       "      <td>100</td>\n",
       "      <td>66.703170</td>\n",
       "      <td>8505.406340</td>\n",
       "    </tr>\n",
       "    <tr>\n",
       "      <th>14</th>\n",
       "      <td>TEST</td>\n",
       "      <td>150</td>\n",
       "      <td>61.799127</td>\n",
       "      <td>6986.052402</td>\n",
       "    </tr>\n",
       "    <tr>\n",
       "      <th>15</th>\n",
       "      <td>TEST</td>\n",
       "      <td>200</td>\n",
       "      <td>62.897436</td>\n",
       "      <td>7059.512821</td>\n",
       "    </tr>\n",
       "    <tr>\n",
       "      <th>16</th>\n",
       "      <td>TEST</td>\n",
       "      <td>250</td>\n",
       "      <td>64.666667</td>\n",
       "      <td>11286.886406</td>\n",
       "    </tr>\n",
       "    <tr>\n",
       "      <th>17</th>\n",
       "      <td>TEST</td>\n",
       "      <td>500</td>\n",
       "      <td>165.544554</td>\n",
       "      <td>46850.049505</td>\n",
       "    </tr>\n",
       "  </tbody>\n",
       "</table>\n",
       "</div>"
      ],
      "text/plain": [
       "    TYPE  TRUE  ABSOLUTE_ERROR  SQUARE_ERROR\n",
       "0   TEST     0       13.389937    509.805031\n",
       "1   TEST     1       14.776119    718.059701\n",
       "2   TEST     2       11.974026    381.818182\n",
       "3   TEST     3       18.562500    864.020833\n",
       "4   TEST     4       15.784615    673.815385\n",
       "5   TEST     5       38.708943   3173.508943\n",
       "6   TEST     6       69.000000   5386.000000\n",
       "7   TEST     7       52.000000   2704.000000\n",
       "8   TEST     8        8.000000     64.000000\n",
       "9   TEST    14       11.000000    121.000000\n",
       "10  TEST    25       54.049107   5547.450893\n",
       "11  TEST    50       63.566004   7161.996383\n",
       "12  TEST    56       44.000000   1936.000000\n",
       "13  TEST   100       66.703170   8505.406340\n",
       "14  TEST   150       61.799127   6986.052402\n",
       "15  TEST   200       62.897436   7059.512821\n",
       "16  TEST   250       64.666667  11286.886406\n",
       "17  TEST   500      165.544554  46850.049505"
      ]
     },
     "execution_count": 759,
     "metadata": {},
     "output_type": "execute_result"
    }
   ],
   "source": [
    "# Imprime los resultados por cantidad en cuanto al MAE y MSE para los datos de prueba\n",
    "resultados_por_cantidad.loc[resultados_por_cantidad['TYPE']=='TEST']"
   ]
  },
  {
   "cell_type": "markdown",
   "metadata": {
    "heading_collapsed": true
   },
   "source": [
    "### NNs (Redes Neuronales)\n",
    "\n",
    "Uno de los algoritmos que escogí para usar es Redes Neuronales utilizando `Tensorflow` y en particular el modelo de `Keras` dentro de este. "
   ]
  },
  {
   "cell_type": "code",
   "execution_count": 775,
   "metadata": {
    "ExecuteTime": {
     "end_time": "2021-03-15T03:36:42.803007Z",
     "start_time": "2021-03-15T03:36:42.739297Z"
    },
    "hidden": true
   },
   "outputs": [],
   "source": [
    "# Semilla aleatoria fijada \n",
    "tf.random.set_seed(200)\n",
    "\n",
    "# Capa General 1: Capa Convolucional\n",
    "nn_model = tf.keras.models.Sequential()\n",
    "\n",
    "# Capa de 10 neuronas con activacion relu y dropout de 0.25\n",
    "nn_model.add(tf.keras.layers.Dense(10, input_shape=(X_train_total.shape[1],), activation='relu'))\n",
    "nn_model.add(tf.keras.layers.Dropout(0.25))\n",
    "\n",
    "# Capa de 25 neuronas con activacion relu y dropout de 0.25\n",
    "nn_model.add(tf.keras.layers.Dense(25, activation='relu'))\n",
    "nn_model.add(tf.keras.layers.Dropout(0.25))\n",
    "\n",
    "# Capa de 25 neuronas con activacion relu y dropout de 0.5\n",
    "nn_model.add(tf.keras.layers.Dense(25, activation='relu'))\n",
    "nn_model.add(tf.keras.layers.Dropout(0.5))\n",
    "\n",
    "# Capa de 25 neuronas con activacion relu y dropout de 0.25\n",
    "nn_model.add(tf.keras.layers.Dense(25, activation='relu'))\n",
    "nn_model.add(tf.keras.layers.Dropout(0.25))\n",
    "\n",
    "# Capa de 10 neuronas con activacion relu y dropout de 0.25\n",
    "nn_model.add(tf.keras.layers.Dense(10, activation='relu'))\n",
    "nn_model.add(tf.keras.layers.Dropout(0.25))\n",
    "\n",
    "# Capa de output \n",
    "nn_model.add(tf.keras.layers.Dense(1))\n",
    "\n",
    "# Se especifica cual es el optimizador (metodo de descenso del gradiente a usar, la función de perdida y las metricas a mostrar)\n",
    "nn_model.compile(optimizer='adam',loss=tf.keras.losses.MeanSquaredError(), metrics=['mean_absolute_error'])"
   ]
  },
  {
   "cell_type": "code",
   "execution_count": 778,
   "metadata": {
    "ExecuteTime": {
     "end_time": "2021-03-15T03:37:43.983036Z",
     "start_time": "2021-03-15T03:37:25.749599Z"
    },
    "collapsed": true,
    "hidden": true
   },
   "outputs": [
    {
     "name": "stdout",
     "output_type": "stream",
     "text": [
      "Epoch 1/250\n",
      "5/5 [==============================] - 1s 41ms/step - loss: 52650.9043 - mean_absolute_error: 149.9928 - val_loss: 51905.9492 - val_mean_absolute_error: 148.5737\n",
      "Epoch 2/250\n",
      "5/5 [==============================] - 0s 14ms/step - loss: 52538.4714 - mean_absolute_error: 150.0444 - val_loss: 51898.1016 - val_mean_absolute_error: 148.5480\n",
      "Epoch 3/250\n",
      "5/5 [==============================] - 0s 14ms/step - loss: 52836.4277 - mean_absolute_error: 150.4700 - val_loss: 51888.7812 - val_mean_absolute_error: 148.5190\n",
      "Epoch 4/250\n",
      "5/5 [==============================] - 0s 14ms/step - loss: 52232.1465 - mean_absolute_error: 149.2861 - val_loss: 51876.2031 - val_mean_absolute_error: 148.4797\n",
      "Epoch 5/250\n",
      "5/5 [==============================] - 0s 14ms/step - loss: 52723.1159 - mean_absolute_error: 150.4728 - val_loss: 51858.6289 - val_mean_absolute_error: 148.4248\n",
      "Epoch 6/250\n",
      "5/5 [==============================] - 0s 14ms/step - loss: 53278.4167 - mean_absolute_error: 151.4291 - val_loss: 51833.3789 - val_mean_absolute_error: 148.3460\n",
      "Epoch 7/250\n",
      "5/5 [==============================] - 0s 14ms/step - loss: 51844.4837 - mean_absolute_error: 148.5770 - val_loss: 51795.7070 - val_mean_absolute_error: 148.2290\n",
      "Epoch 8/250\n",
      "5/5 [==============================] - 0s 14ms/step - loss: 52686.4661 - mean_absolute_error: 150.4826 - val_loss: 51736.6875 - val_mean_absolute_error: 148.0466\n",
      "Epoch 9/250\n",
      "5/5 [==============================] - 0s 14ms/step - loss: 52161.8327 - mean_absolute_error: 148.9422 - val_loss: 51639.8672 - val_mean_absolute_error: 147.7502\n",
      "Epoch 10/250\n",
      "5/5 [==============================] - 0s 14ms/step - loss: 52141.7415 - mean_absolute_error: 149.1216 - val_loss: 51477.2227 - val_mean_absolute_error: 147.2796\n",
      "Epoch 11/250\n",
      "5/5 [==============================] - 0s 14ms/step - loss: 51923.9525 - mean_absolute_error: 148.3905 - val_loss: 51210.0859 - val_mean_absolute_error: 146.5205\n",
      "Epoch 12/250\n",
      "5/5 [==============================] - 0s 15ms/step - loss: 51571.2910 - mean_absolute_error: 147.0350 - val_loss: 50783.5586 - val_mean_absolute_error: 145.3384\n",
      "Epoch 13/250\n",
      "5/5 [==============================] - 0s 15ms/step - loss: 51319.4095 - mean_absolute_error: 146.5867 - val_loss: 50119.8711 - val_mean_absolute_error: 143.8318\n",
      "Epoch 14/250\n",
      "5/5 [==============================] - 0s 15ms/step - loss: 50211.5625 - mean_absolute_error: 144.6901 - val_loss: 49120.8750 - val_mean_absolute_error: 142.0770\n",
      "Epoch 15/250\n",
      "5/5 [==============================] - 0s 14ms/step - loss: 49043.8685 - mean_absolute_error: 141.9674 - val_loss: 47653.5195 - val_mean_absolute_error: 139.4739\n",
      "Epoch 16/250\n",
      "5/5 [==============================] - 0s 14ms/step - loss: 47594.4147 - mean_absolute_error: 139.0865 - val_loss: 45549.6953 - val_mean_absolute_error: 135.5735\n",
      "Epoch 17/250\n",
      "5/5 [==============================] - 0s 14ms/step - loss: 44251.4154 - mean_absolute_error: 133.6556 - val_loss: 42638.4531 - val_mean_absolute_error: 131.3810\n",
      "Epoch 18/250\n",
      "5/5 [==============================] - 0s 14ms/step - loss: 41931.0345 - mean_absolute_error: 131.2263 - val_loss: 38875.6602 - val_mean_absolute_error: 126.7967\n",
      "Epoch 19/250\n",
      "5/5 [==============================] - 0s 14ms/step - loss: 38363.4694 - mean_absolute_error: 128.5978 - val_loss: 34438.1484 - val_mean_absolute_error: 124.5915\n",
      "Epoch 20/250\n",
      "5/5 [==============================] - 0s 15ms/step - loss: 34905.1341 - mean_absolute_error: 127.9319 - val_loss: 29987.5137 - val_mean_absolute_error: 123.3260\n",
      "Epoch 21/250\n",
      "5/5 [==============================] - 0s 15ms/step - loss: 32869.7581 - mean_absolute_error: 131.0670 - val_loss: 26795.4258 - val_mean_absolute_error: 125.2835\n",
      "Epoch 22/250\n",
      "5/5 [==============================] - 0s 15ms/step - loss: 31315.2467 - mean_absolute_error: 134.2675 - val_loss: 25304.5586 - val_mean_absolute_error: 125.9454\n",
      "Epoch 23/250\n",
      "5/5 [==============================] - 0s 14ms/step - loss: 31318.0674 - mean_absolute_error: 135.9636 - val_loss: 24657.3125 - val_mean_absolute_error: 123.0057\n",
      "Epoch 24/250\n",
      "5/5 [==============================] - 0s 14ms/step - loss: 30882.8076 - mean_absolute_error: 132.6812 - val_loss: 24637.0391 - val_mean_absolute_error: 118.9879\n",
      "Epoch 25/250\n",
      "5/5 [==============================] - 0s 14ms/step - loss: 29791.7591 - mean_absolute_error: 128.0440 - val_loss: 24765.5137 - val_mean_absolute_error: 116.0336\n",
      "Epoch 26/250\n",
      "5/5 [==============================] - 0s 14ms/step - loss: 29018.9004 - mean_absolute_error: 123.2357 - val_loss: 24353.8379 - val_mean_absolute_error: 114.2380\n",
      "Epoch 27/250\n",
      "5/5 [==============================] - 0s 14ms/step - loss: 29038.7624 - mean_absolute_error: 122.6204 - val_loss: 23643.5840 - val_mean_absolute_error: 112.9613\n",
      "Epoch 28/250\n",
      "5/5 [==============================] - 0s 14ms/step - loss: 27755.4313 - mean_absolute_error: 120.7887 - val_loss: 22901.5254 - val_mean_absolute_error: 111.9409\n",
      "Epoch 29/250\n",
      "5/5 [==============================] - 0s 14ms/step - loss: 28420.1732 - mean_absolute_error: 122.4284 - val_loss: 22301.0156 - val_mean_absolute_error: 110.7644\n",
      "Epoch 30/250\n",
      "5/5 [==============================] - 0s 14ms/step - loss: 27016.6497 - mean_absolute_error: 118.5897 - val_loss: 21733.3770 - val_mean_absolute_error: 109.4107\n",
      "Epoch 31/250\n",
      "5/5 [==============================] - 0s 14ms/step - loss: 26427.1608 - mean_absolute_error: 117.9445 - val_loss: 21165.3203 - val_mean_absolute_error: 107.8179\n",
      "Epoch 32/250\n",
      "5/5 [==============================] - 0s 14ms/step - loss: 26654.4242 - mean_absolute_error: 117.8344 - val_loss: 20819.0117 - val_mean_absolute_error: 105.8628\n",
      "Epoch 33/250\n",
      "5/5 [==============================] - 0s 15ms/step - loss: 25379.2995 - mean_absolute_error: 114.5986 - val_loss: 20432.0352 - val_mean_absolute_error: 103.8378\n",
      "Epoch 34/250\n",
      "5/5 [==============================] - 0s 15ms/step - loss: 25669.7783 - mean_absolute_error: 113.9389 - val_loss: 19786.5566 - val_mean_absolute_error: 101.9623\n",
      "Epoch 35/250\n",
      "5/5 [==============================] - 0s 14ms/step - loss: 24253.1006 - mean_absolute_error: 110.3260 - val_loss: 19216.3301 - val_mean_absolute_error: 100.1348\n",
      "Epoch 36/250\n",
      "5/5 [==============================] - 0s 14ms/step - loss: 23560.0339 - mean_absolute_error: 108.1881 - val_loss: 18669.8145 - val_mean_absolute_error: 98.5102\n",
      "Epoch 37/250\n",
      "5/5 [==============================] - 0s 15ms/step - loss: 23593.0775 - mean_absolute_error: 108.4145 - val_loss: 18344.5215 - val_mean_absolute_error: 96.8182\n",
      "Epoch 38/250\n",
      "5/5 [==============================] - 0s 15ms/step - loss: 23950.7041 - mean_absolute_error: 108.0983 - val_loss: 18219.4727 - val_mean_absolute_error: 95.2794\n",
      "Epoch 39/250\n",
      "5/5 [==============================] - 0s 15ms/step - loss: 23593.1491 - mean_absolute_error: 106.3796 - val_loss: 17792.6152 - val_mean_absolute_error: 94.0082\n",
      "Epoch 40/250\n",
      "5/5 [==============================] - 0s 15ms/step - loss: 22577.2340 - mean_absolute_error: 104.0326 - val_loss: 17495.2051 - val_mean_absolute_error: 92.5396\n",
      "Epoch 41/250\n",
      "5/5 [==============================] - 0s 14ms/step - loss: 22521.8460 - mean_absolute_error: 102.7133 - val_loss: 17290.0098 - val_mean_absolute_error: 91.2218\n",
      "Epoch 42/250\n",
      "5/5 [==============================] - 0s 14ms/step - loss: 22150.9183 - mean_absolute_error: 102.2765 - val_loss: 16614.4492 - val_mean_absolute_error: 89.8652\n",
      "Epoch 43/250\n",
      "5/5 [==============================] - 0s 14ms/step - loss: 21182.7712 - mean_absolute_error: 99.7176 - val_loss: 15794.9277 - val_mean_absolute_error: 88.4947\n",
      "Epoch 44/250\n",
      "5/5 [==============================] - 0s 14ms/step - loss: 20853.1572 - mean_absolute_error: 99.1837 - val_loss: 15372.8418 - val_mean_absolute_error: 86.6568\n",
      "Epoch 45/250\n",
      "5/5 [==============================] - 0s 14ms/step - loss: 20940.8952 - mean_absolute_error: 98.7286 - val_loss: 15374.7480 - val_mean_absolute_error: 84.9087\n",
      "Epoch 46/250\n",
      "5/5 [==============================] - 0s 14ms/step - loss: 20158.5280 - mean_absolute_error: 95.6678 - val_loss: 15238.1709 - val_mean_absolute_error: 83.8276\n",
      "Epoch 47/250\n",
      "5/5 [==============================] - 0s 14ms/step - loss: 19916.0199 - mean_absolute_error: 94.5483 - val_loss: 14875.7217 - val_mean_absolute_error: 83.1749\n"
     ]
    },
    {
     "name": "stdout",
     "output_type": "stream",
     "text": [
      "Epoch 48/250\n",
      "5/5 [==============================] - 0s 15ms/step - loss: 19323.5752 - mean_absolute_error: 92.7917 - val_loss: 14857.0127 - val_mean_absolute_error: 82.4788\n",
      "Epoch 49/250\n",
      "5/5 [==============================] - 0s 15ms/step - loss: 20261.6178 - mean_absolute_error: 95.3989 - val_loss: 14539.6777 - val_mean_absolute_error: 81.8847\n",
      "Epoch 50/250\n",
      "5/5 [==============================] - 0s 14ms/step - loss: 19372.7061 - mean_absolute_error: 92.4866 - val_loss: 14461.4805 - val_mean_absolute_error: 81.1582\n",
      "Epoch 51/250\n",
      "5/5 [==============================] - 0s 14ms/step - loss: 18724.6152 - mean_absolute_error: 90.8575 - val_loss: 14330.7041 - val_mean_absolute_error: 80.5303\n",
      "Epoch 52/250\n",
      "5/5 [==============================] - 0s 14ms/step - loss: 19514.0693 - mean_absolute_error: 92.4588 - val_loss: 14320.1416 - val_mean_absolute_error: 80.1768\n",
      "Epoch 53/250\n",
      "5/5 [==============================] - 0s 14ms/step - loss: 18762.3590 - mean_absolute_error: 90.3203 - val_loss: 14121.3398 - val_mean_absolute_error: 79.9443\n",
      "Epoch 54/250\n",
      "5/5 [==============================] - 0s 14ms/step - loss: 18882.2207 - mean_absolute_error: 90.3210 - val_loss: 13971.0469 - val_mean_absolute_error: 79.8764\n",
      "Epoch 55/250\n",
      "5/5 [==============================] - 0s 14ms/step - loss: 18454.8151 - mean_absolute_error: 89.7391 - val_loss: 13912.0488 - val_mean_absolute_error: 79.7607\n",
      "Epoch 56/250\n",
      "5/5 [==============================] - 0s 14ms/step - loss: 18191.2363 - mean_absolute_error: 88.8881 - val_loss: 13637.8135 - val_mean_absolute_error: 79.5232\n",
      "Epoch 57/250\n",
      "5/5 [==============================] - 0s 14ms/step - loss: 18253.6585 - mean_absolute_error: 90.0572 - val_loss: 13243.0811 - val_mean_absolute_error: 79.0515\n",
      "Epoch 58/250\n",
      "5/5 [==============================] - 0s 14ms/step - loss: 17759.6628 - mean_absolute_error: 87.9299 - val_loss: 13344.8760 - val_mean_absolute_error: 78.2669\n",
      "Epoch 59/250\n",
      "5/5 [==============================] - 0s 14ms/step - loss: 17474.7041 - mean_absolute_error: 86.9141 - val_loss: 13452.1826 - val_mean_absolute_error: 77.8555\n",
      "Epoch 60/250\n",
      "5/5 [==============================] - 0s 14ms/step - loss: 17371.4762 - mean_absolute_error: 86.2172 - val_loss: 13129.5645 - val_mean_absolute_error: 77.5722\n",
      "Epoch 61/250\n",
      "5/5 [==============================] - 0s 14ms/step - loss: 17573.0059 - mean_absolute_error: 87.3618 - val_loss: 12750.7500 - val_mean_absolute_error: 77.2718\n",
      "Epoch 62/250\n",
      "5/5 [==============================] - 0s 14ms/step - loss: 17822.0345 - mean_absolute_error: 87.9122 - val_loss: 12882.4951 - val_mean_absolute_error: 76.9131\n",
      "Epoch 63/250\n",
      "5/5 [==============================] - 0s 14ms/step - loss: 17341.8174 - mean_absolute_error: 86.4160 - val_loss: 13405.4004 - val_mean_absolute_error: 77.0447\n",
      "Epoch 64/250\n",
      "5/5 [==============================] - 0s 14ms/step - loss: 17919.5335 - mean_absolute_error: 87.5941 - val_loss: 13666.9561 - val_mean_absolute_error: 77.3341\n",
      "Epoch 65/250\n",
      "5/5 [==============================] - 0s 14ms/step - loss: 17375.5905 - mean_absolute_error: 85.5552 - val_loss: 13059.0322 - val_mean_absolute_error: 77.1835\n",
      "Epoch 66/250\n",
      "5/5 [==============================] - 0s 15ms/step - loss: 17093.4281 - mean_absolute_error: 86.4778 - val_loss: 12682.5586 - val_mean_absolute_error: 77.0668\n",
      "Epoch 67/250\n",
      "5/5 [==============================] - 0s 14ms/step - loss: 16817.6294 - mean_absolute_error: 85.9572 - val_loss: 12873.3066 - val_mean_absolute_error: 76.8332\n",
      "Epoch 68/250\n",
      "5/5 [==============================] - 0s 14ms/step - loss: 17098.4671 - mean_absolute_error: 85.9750 - val_loss: 13201.2988 - val_mean_absolute_error: 76.8334\n",
      "Epoch 69/250\n",
      "5/5 [==============================] - 0s 15ms/step - loss: 16616.6450 - mean_absolute_error: 84.9336 - val_loss: 12872.0146 - val_mean_absolute_error: 76.7579\n",
      "Epoch 70/250\n",
      "5/5 [==============================] - 0s 14ms/step - loss: 17463.4678 - mean_absolute_error: 86.6241 - val_loss: 12862.3613 - val_mean_absolute_error: 76.8076\n",
      "Epoch 71/250\n",
      "5/5 [==============================] - 0s 14ms/step - loss: 16888.6081 - mean_absolute_error: 85.9648 - val_loss: 12763.7031 - val_mean_absolute_error: 76.9181\n",
      "Epoch 72/250\n",
      "5/5 [==============================] - 0s 14ms/step - loss: 16477.2806 - mean_absolute_error: 85.4460 - val_loss: 12931.9893 - val_mean_absolute_error: 76.9656\n",
      "Epoch 73/250\n",
      "5/5 [==============================] - 0s 14ms/step - loss: 16513.8927 - mean_absolute_error: 84.8456 - val_loss: 13019.8799 - val_mean_absolute_error: 77.0293\n",
      "Epoch 74/250\n",
      "5/5 [==============================] - 1s 134ms/step - loss: 17079.3841 - mean_absolute_error: 85.9439 - val_loss: 12817.2500 - val_mean_absolute_error: 76.9610\n",
      "Epoch 75/250\n",
      "5/5 [==============================] - 0s 14ms/step - loss: 16463.8755 - mean_absolute_error: 84.6991 - val_loss: 12612.3975 - val_mean_absolute_error: 76.7572\n",
      "Epoch 76/250\n",
      "5/5 [==============================] - 0s 14ms/step - loss: 16675.4891 - mean_absolute_error: 85.4128 - val_loss: 12731.3535 - val_mean_absolute_error: 76.4622\n",
      "Epoch 77/250\n",
      "5/5 [==============================] - 0s 14ms/step - loss: 17091.8180 - mean_absolute_error: 86.3020 - val_loss: 13105.8936 - val_mean_absolute_error: 76.5266\n",
      "Epoch 78/250\n",
      "5/5 [==============================] - 0s 14ms/step - loss: 16357.9386 - mean_absolute_error: 83.7982 - val_loss: 12762.7207 - val_mean_absolute_error: 76.2541\n",
      "Epoch 79/250\n",
      "5/5 [==============================] - 0s 15ms/step - loss: 16519.6564 - mean_absolute_error: 85.4348 - val_loss: 12198.4648 - val_mean_absolute_error: 75.9850\n",
      "Epoch 80/250\n",
      "5/5 [==============================] - 0s 14ms/step - loss: 15979.0378 - mean_absolute_error: 84.9563 - val_loss: 12265.5215 - val_mean_absolute_error: 75.7434\n",
      "Epoch 81/250\n",
      "5/5 [==============================] - 0s 14ms/step - loss: 16187.6030 - mean_absolute_error: 85.0807 - val_loss: 12598.6133 - val_mean_absolute_error: 75.5971\n",
      "Epoch 82/250\n",
      "5/5 [==============================] - 0s 14ms/step - loss: 16038.1868 - mean_absolute_error: 83.2632 - val_loss: 12386.9648 - val_mean_absolute_error: 75.3550\n",
      "Epoch 83/250\n",
      "5/5 [==============================] - 0s 14ms/step - loss: 16554.5579 - mean_absolute_error: 84.9866 - val_loss: 12211.0869 - val_mean_absolute_error: 75.2914\n",
      "Epoch 84/250\n",
      "5/5 [==============================] - 0s 15ms/step - loss: 16734.2762 - mean_absolute_error: 86.0744 - val_loss: 12419.1094 - val_mean_absolute_error: 75.1959\n",
      "Epoch 85/250\n",
      "5/5 [==============================] - 0s 14ms/step - loss: 16649.3320 - mean_absolute_error: 84.5978 - val_loss: 12632.7988 - val_mean_absolute_error: 75.2669\n",
      "Epoch 86/250\n",
      "5/5 [==============================] - 0s 14ms/step - loss: 16363.2702 - mean_absolute_error: 84.1030 - val_loss: 12473.1250 - val_mean_absolute_error: 75.3827\n",
      "Epoch 87/250\n",
      "5/5 [==============================] - 0s 14ms/step - loss: 16602.9339 - mean_absolute_error: 84.5837 - val_loss: 12329.5127 - val_mean_absolute_error: 75.5718\n",
      "Epoch 88/250\n",
      "5/5 [==============================] - 0s 15ms/step - loss: 16268.8761 - mean_absolute_error: 84.5208 - val_loss: 12350.0898 - val_mean_absolute_error: 75.7234\n",
      "Epoch 89/250\n",
      "5/5 [==============================] - 0s 15ms/step - loss: 16087.8750 - mean_absolute_error: 84.2777 - val_loss: 12402.8623 - val_mean_absolute_error: 75.5540\n",
      "Epoch 90/250\n",
      "5/5 [==============================] - 0s 14ms/step - loss: 15718.4471 - mean_absolute_error: 82.6715 - val_loss: 12390.4766 - val_mean_absolute_error: 75.2920\n",
      "Epoch 91/250\n",
      "5/5 [==============================] - 0s 15ms/step - loss: 15736.6510 - mean_absolute_error: 83.3133 - val_loss: 12255.3711 - val_mean_absolute_error: 75.1329\n",
      "Epoch 92/250\n",
      "5/5 [==============================] - 0s 15ms/step - loss: 15957.3716 - mean_absolute_error: 83.1886 - val_loss: 12500.9707 - val_mean_absolute_error: 75.3845\n",
      "Epoch 93/250\n",
      "5/5 [==============================] - 0s 15ms/step - loss: 16120.9699 - mean_absolute_error: 83.6043 - val_loss: 12353.0957 - val_mean_absolute_error: 75.5623\n",
      "Epoch 94/250\n",
      "5/5 [==============================] - 0s 14ms/step - loss: 16071.6411 - mean_absolute_error: 84.0412 - val_loss: 12575.7422 - val_mean_absolute_error: 75.5648\n",
      "Epoch 95/250\n"
     ]
    },
    {
     "name": "stdout",
     "output_type": "stream",
     "text": [
      "5/5 [==============================] - 0s 14ms/step - loss: 15678.7627 - mean_absolute_error: 82.7190 - val_loss: 12579.1094 - val_mean_absolute_error: 75.5228\n",
      "Epoch 96/250\n",
      "5/5 [==============================] - 0s 14ms/step - loss: 15842.5975 - mean_absolute_error: 82.8084 - val_loss: 12447.2617 - val_mean_absolute_error: 75.4633\n",
      "Epoch 97/250\n",
      "5/5 [==============================] - 0s 14ms/step - loss: 15953.5368 - mean_absolute_error: 83.9259 - val_loss: 12349.5391 - val_mean_absolute_error: 75.4718\n",
      "Epoch 98/250\n",
      "5/5 [==============================] - 0s 14ms/step - loss: 15020.2754 - mean_absolute_error: 81.5637 - val_loss: 12318.5771 - val_mean_absolute_error: 75.5154\n",
      "Epoch 99/250\n",
      "5/5 [==============================] - 0s 15ms/step - loss: 15895.1092 - mean_absolute_error: 83.8724 - val_loss: 12291.1826 - val_mean_absolute_error: 75.4052\n",
      "Epoch 100/250\n",
      "5/5 [==============================] - 0s 14ms/step - loss: 15291.1104 - mean_absolute_error: 81.7863 - val_loss: 12292.5977 - val_mean_absolute_error: 75.5455\n",
      "Epoch 101/250\n",
      "5/5 [==============================] - 0s 15ms/step - loss: 15892.2017 - mean_absolute_error: 84.0014 - val_loss: 12121.7686 - val_mean_absolute_error: 75.4856\n",
      "Epoch 102/250\n",
      "5/5 [==============================] - 0s 15ms/step - loss: 15616.4959 - mean_absolute_error: 83.4644 - val_loss: 11862.3418 - val_mean_absolute_error: 75.2134\n",
      "Epoch 103/250\n",
      "5/5 [==============================] - 0s 14ms/step - loss: 15827.9572 - mean_absolute_error: 83.7509 - val_loss: 12352.6689 - val_mean_absolute_error: 74.8237\n",
      "Epoch 104/250\n",
      "5/5 [==============================] - 0s 14ms/step - loss: 15789.0967 - mean_absolute_error: 82.5513 - val_loss: 12358.4775 - val_mean_absolute_error: 74.5940\n",
      "Epoch 105/250\n",
      "5/5 [==============================] - 0s 15ms/step - loss: 15575.3390 - mean_absolute_error: 82.3876 - val_loss: 12089.7598 - val_mean_absolute_error: 74.4172\n",
      "Epoch 106/250\n",
      "5/5 [==============================] - 0s 15ms/step - loss: 15419.2284 - mean_absolute_error: 82.1938 - val_loss: 12062.2441 - val_mean_absolute_error: 74.2788\n",
      "Epoch 107/250\n",
      "5/5 [==============================] - 0s 15ms/step - loss: 15819.7013 - mean_absolute_error: 82.6807 - val_loss: 12062.4150 - val_mean_absolute_error: 74.2391\n",
      "Epoch 108/250\n",
      "5/5 [==============================] - 0s 15ms/step - loss: 15681.4631 - mean_absolute_error: 82.9147 - val_loss: 12262.5430 - val_mean_absolute_error: 74.5496\n",
      "Epoch 109/250\n",
      "5/5 [==============================] - 0s 14ms/step - loss: 15637.5955 - mean_absolute_error: 82.3201 - val_loss: 12411.3760 - val_mean_absolute_error: 75.0238\n",
      "Epoch 110/250\n",
      "5/5 [==============================] - 0s 14ms/step - loss: 15369.8356 - mean_absolute_error: 82.1082 - val_loss: 12071.8105 - val_mean_absolute_error: 74.9364\n",
      "Epoch 111/250\n",
      "5/5 [==============================] - 0s 14ms/step - loss: 15340.0967 - mean_absolute_error: 81.8713 - val_loss: 11910.6045 - val_mean_absolute_error: 74.6297\n",
      "Epoch 112/250\n",
      "5/5 [==============================] - 0s 14ms/step - loss: 15741.6908 - mean_absolute_error: 83.4285 - val_loss: 12332.3232 - val_mean_absolute_error: 74.5607\n",
      "Epoch 113/250\n",
      "5/5 [==============================] - 0s 14ms/step - loss: 15244.1904 - mean_absolute_error: 81.8162 - val_loss: 12319.7080 - val_mean_absolute_error: 74.4203\n",
      "Epoch 114/250\n",
      "5/5 [==============================] - 0s 14ms/step - loss: 15544.7713 - mean_absolute_error: 82.1887 - val_loss: 12076.2314 - val_mean_absolute_error: 74.2406\n",
      "Epoch 115/250\n",
      "5/5 [==============================] - 0s 14ms/step - loss: 15343.6816 - mean_absolute_error: 82.2368 - val_loss: 11797.4863 - val_mean_absolute_error: 74.0743\n",
      "Epoch 116/250\n",
      "5/5 [==============================] - 0s 15ms/step - loss: 15354.0713 - mean_absolute_error: 82.2242 - val_loss: 12165.4834 - val_mean_absolute_error: 74.1122\n",
      "Epoch 117/250\n",
      "5/5 [==============================] - 0s 14ms/step - loss: 15529.8086 - mean_absolute_error: 82.5420 - val_loss: 12944.6865 - val_mean_absolute_error: 74.9195\n",
      "Epoch 118/250\n",
      "5/5 [==============================] - 0s 14ms/step - loss: 15921.9681 - mean_absolute_error: 82.0122 - val_loss: 12638.7842 - val_mean_absolute_error: 74.9430\n",
      "Epoch 119/250\n",
      "5/5 [==============================] - 0s 14ms/step - loss: 15392.2004 - mean_absolute_error: 80.9437 - val_loss: 11749.0605 - val_mean_absolute_error: 74.8071\n",
      "Epoch 120/250\n",
      "5/5 [==============================] - 0s 14ms/step - loss: 14946.8413 - mean_absolute_error: 82.1246 - val_loss: 11734.5801 - val_mean_absolute_error: 74.9822\n",
      "Epoch 121/250\n",
      "5/5 [==============================] - 0s 15ms/step - loss: 15171.1379 - mean_absolute_error: 82.6070 - val_loss: 12316.1836 - val_mean_absolute_error: 75.0128\n",
      "Epoch 122/250\n",
      "5/5 [==============================] - 0s 15ms/step - loss: 14911.3755 - mean_absolute_error: 80.9214 - val_loss: 12445.5127 - val_mean_absolute_error: 74.9531\n",
      "Epoch 123/250\n",
      "5/5 [==============================] - 0s 14ms/step - loss: 15821.2687 - mean_absolute_error: 82.9099 - val_loss: 11891.9180 - val_mean_absolute_error: 74.5251\n",
      "Epoch 124/250\n",
      "5/5 [==============================] - 0s 14ms/step - loss: 15225.3273 - mean_absolute_error: 82.2033 - val_loss: 11890.2393 - val_mean_absolute_error: 74.4488\n",
      "Epoch 125/250\n",
      "5/5 [==============================] - 0s 14ms/step - loss: 14482.7988 - mean_absolute_error: 80.1025 - val_loss: 12332.7383 - val_mean_absolute_error: 74.7911\n",
      "Epoch 126/250\n",
      "5/5 [==============================] - 0s 14ms/step - loss: 15918.0739 - mean_absolute_error: 82.6662 - val_loss: 12347.4512 - val_mean_absolute_error: 74.8002\n",
      "Epoch 127/250\n",
      "5/5 [==============================] - 0s 14ms/step - loss: 15377.2713 - mean_absolute_error: 82.2058 - val_loss: 12195.6064 - val_mean_absolute_error: 74.6889\n",
      "Epoch 128/250\n",
      "5/5 [==============================] - 0s 14ms/step - loss: 15235.0602 - mean_absolute_error: 82.2102 - val_loss: 12093.8936 - val_mean_absolute_error: 74.5522\n",
      "Epoch 129/250\n",
      "5/5 [==============================] - 0s 14ms/step - loss: 15223.8397 - mean_absolute_error: 81.6258 - val_loss: 12257.9102 - val_mean_absolute_error: 74.5891\n",
      "Epoch 130/250\n",
      "5/5 [==============================] - 0s 14ms/step - loss: 15038.9974 - mean_absolute_error: 81.0292 - val_loss: 12329.5127 - val_mean_absolute_error: 74.5978\n",
      "Epoch 131/250\n",
      "5/5 [==============================] - 0s 15ms/step - loss: 15469.4238 - mean_absolute_error: 82.2003 - val_loss: 12018.1045 - val_mean_absolute_error: 74.4199\n",
      "Epoch 132/250\n",
      "5/5 [==============================] - 0s 14ms/step - loss: 15033.1232 - mean_absolute_error: 81.7265 - val_loss: 11877.3418 - val_mean_absolute_error: 74.2026\n",
      "Epoch 133/250\n",
      "5/5 [==============================] - 0s 15ms/step - loss: 15023.9368 - mean_absolute_error: 80.7871 - val_loss: 12268.0400 - val_mean_absolute_error: 74.4642\n",
      "Epoch 134/250\n",
      "5/5 [==============================] - 0s 15ms/step - loss: 14791.0947 - mean_absolute_error: 80.1520 - val_loss: 12290.9570 - val_mean_absolute_error: 74.6072\n",
      "Epoch 135/250\n",
      "5/5 [==============================] - 0s 14ms/step - loss: 15061.7057 - mean_absolute_error: 81.0066 - val_loss: 11992.7744 - val_mean_absolute_error: 74.4669\n",
      "Epoch 136/250\n",
      "5/5 [==============================] - 0s 14ms/step - loss: 14974.8903 - mean_absolute_error: 81.4678 - val_loss: 12267.1768 - val_mean_absolute_error: 74.6678\n",
      "Epoch 137/250\n",
      "5/5 [==============================] - 0s 15ms/step - loss: 14754.1929 - mean_absolute_error: 79.8876 - val_loss: 12455.3906 - val_mean_absolute_error: 74.9262\n",
      "Epoch 138/250\n",
      "5/5 [==============================] - 0s 15ms/step - loss: 15137.7065 - mean_absolute_error: 81.3600 - val_loss: 11940.6973 - val_mean_absolute_error: 74.7037\n",
      "Epoch 139/250\n",
      "5/5 [==============================] - 0s 15ms/step - loss: 15602.8610 - mean_absolute_error: 83.0798 - val_loss: 11957.4697 - val_mean_absolute_error: 74.5588\n",
      "Epoch 140/250\n",
      "5/5 [==============================] - 0s 15ms/step - loss: 15407.5431 - mean_absolute_error: 82.6827 - val_loss: 12552.9658 - val_mean_absolute_error: 74.9678\n",
      "Epoch 141/250\n",
      "5/5 [==============================] - 0s 15ms/step - loss: 15033.5500 - mean_absolute_error: 80.6267 - val_loss: 12454.1250 - val_mean_absolute_error: 74.9520\n",
      "Epoch 142/250\n"
     ]
    },
    {
     "name": "stdout",
     "output_type": "stream",
     "text": [
      "5/5 [==============================] - 0s 14ms/step - loss: 15065.1271 - mean_absolute_error: 81.5731 - val_loss: 11881.4443 - val_mean_absolute_error: 74.5671\n",
      "Epoch 143/250\n",
      "5/5 [==============================] - 0s 14ms/step - loss: 15086.1546 - mean_absolute_error: 81.2970 - val_loss: 12266.2559 - val_mean_absolute_error: 74.8880\n",
      "Epoch 144/250\n",
      "5/5 [==============================] - 0s 14ms/step - loss: 14713.9147 - mean_absolute_error: 80.4576 - val_loss: 12480.6494 - val_mean_absolute_error: 75.1595\n",
      "Epoch 145/250\n",
      "5/5 [==============================] - 0s 14ms/step - loss: 15114.2352 - mean_absolute_error: 81.2054 - val_loss: 12065.9941 - val_mean_absolute_error: 74.7425\n",
      "Epoch 146/250\n",
      "5/5 [==============================] - 0s 14ms/step - loss: 14619.5220 - mean_absolute_error: 80.2758 - val_loss: 11969.4932 - val_mean_absolute_error: 74.5837\n",
      "Epoch 147/250\n",
      "5/5 [==============================] - 0s 14ms/step - loss: 15277.8239 - mean_absolute_error: 81.7753 - val_loss: 12361.6758 - val_mean_absolute_error: 74.8129\n",
      "Epoch 148/250\n",
      "5/5 [==============================] - 0s 14ms/step - loss: 15901.3327 - mean_absolute_error: 83.6408 - val_loss: 12414.7832 - val_mean_absolute_error: 74.8430\n",
      "Epoch 149/250\n",
      "5/5 [==============================] - 0s 14ms/step - loss: 14756.4398 - mean_absolute_error: 80.1409 - val_loss: 12481.3867 - val_mean_absolute_error: 74.8250\n",
      "Epoch 150/250\n",
      "5/5 [==============================] - 0s 14ms/step - loss: 14488.1180 - mean_absolute_error: 79.2005 - val_loss: 12342.2764 - val_mean_absolute_error: 74.8406\n",
      "Epoch 151/250\n",
      "5/5 [==============================] - 0s 14ms/step - loss: 14579.1276 - mean_absolute_error: 80.0744 - val_loss: 12077.4297 - val_mean_absolute_error: 74.8114\n",
      "Epoch 152/250\n",
      "5/5 [==============================] - 0s 14ms/step - loss: 14812.7806 - mean_absolute_error: 81.2980 - val_loss: 12206.8789 - val_mean_absolute_error: 74.8597\n",
      "Epoch 153/250\n",
      "5/5 [==============================] - 0s 14ms/step - loss: 14983.7062 - mean_absolute_error: 80.9053 - val_loss: 12502.7979 - val_mean_absolute_error: 75.0178\n",
      "Epoch 154/250\n",
      "5/5 [==============================] - 0s 14ms/step - loss: 14952.6558 - mean_absolute_error: 80.9652 - val_loss: 12240.3799 - val_mean_absolute_error: 74.8358\n",
      "Epoch 155/250\n",
      "5/5 [==============================] - 0s 14ms/step - loss: 15072.0535 - mean_absolute_error: 81.2721 - val_loss: 12257.1465 - val_mean_absolute_error: 74.7826\n",
      "Epoch 156/250\n",
      "5/5 [==============================] - 0s 14ms/step - loss: 15134.2726 - mean_absolute_error: 81.4716 - val_loss: 12543.8145 - val_mean_absolute_error: 74.9043\n",
      "Epoch 157/250\n",
      "5/5 [==============================] - 0s 14ms/step - loss: 14514.8835 - mean_absolute_error: 79.2656 - val_loss: 12525.2822 - val_mean_absolute_error: 74.9526\n",
      "Epoch 158/250\n",
      "5/5 [==============================] - 0s 14ms/step - loss: 15271.7982 - mean_absolute_error: 80.8169 - val_loss: 12366.2676 - val_mean_absolute_error: 74.8702\n",
      "Epoch 159/250\n",
      "5/5 [==============================] - 0s 14ms/step - loss: 14548.5716 - mean_absolute_error: 80.2290 - val_loss: 11937.9043 - val_mean_absolute_error: 74.5557\n",
      "Epoch 160/250\n",
      "5/5 [==============================] - 0s 14ms/step - loss: 15324.8605 - mean_absolute_error: 82.1122 - val_loss: 12339.9980 - val_mean_absolute_error: 74.7372\n",
      "Epoch 161/250\n",
      "5/5 [==============================] - 0s 14ms/step - loss: 14230.3853 - mean_absolute_error: 78.6596 - val_loss: 12536.9541 - val_mean_absolute_error: 74.9414\n",
      "Epoch 162/250\n",
      "5/5 [==============================] - 0s 13ms/step - loss: 14454.0695 - mean_absolute_error: 79.6706 - val_loss: 12379.0869 - val_mean_absolute_error: 75.0033\n",
      "Epoch 163/250\n",
      "5/5 [==============================] - 0s 14ms/step - loss: 14840.4738 - mean_absolute_error: 80.8201 - val_loss: 12238.7490 - val_mean_absolute_error: 74.8594\n",
      "Epoch 164/250\n",
      "5/5 [==============================] - 0s 14ms/step - loss: 14355.4893 - mean_absolute_error: 79.6723 - val_loss: 12249.3955 - val_mean_absolute_error: 74.9289\n",
      "Epoch 165/250\n",
      "5/5 [==============================] - 0s 14ms/step - loss: 14476.9089 - mean_absolute_error: 79.9838 - val_loss: 12068.6377 - val_mean_absolute_error: 74.9828\n",
      "Epoch 166/250\n",
      "5/5 [==============================] - 0s 15ms/step - loss: 14887.1051 - mean_absolute_error: 81.0270 - val_loss: 12429.8037 - val_mean_absolute_error: 75.3388\n",
      "Epoch 167/250\n",
      "5/5 [==============================] - 0s 15ms/step - loss: 15347.6136 - mean_absolute_error: 81.8144 - val_loss: 12427.9512 - val_mean_absolute_error: 75.4537\n",
      "Epoch 168/250\n",
      "5/5 [==============================] - 0s 15ms/step - loss: 15075.5103 - mean_absolute_error: 81.4373 - val_loss: 12404.5225 - val_mean_absolute_error: 75.3480\n",
      "Epoch 169/250\n",
      "5/5 [==============================] - 0s 15ms/step - loss: 14819.3167 - mean_absolute_error: 80.4109 - val_loss: 12635.5400 - val_mean_absolute_error: 75.5433\n",
      "Epoch 170/250\n",
      "5/5 [==============================] - 0s 14ms/step - loss: 14541.8472 - mean_absolute_error: 79.9621 - val_loss: 12031.1504 - val_mean_absolute_error: 74.9542\n",
      "Epoch 171/250\n",
      "5/5 [==============================] - 0s 120ms/step - loss: 15115.7650 - mean_absolute_error: 81.7414 - val_loss: 12119.1797 - val_mean_absolute_error: 74.7757\n",
      "Epoch 172/250\n",
      "5/5 [==============================] - 0s 15ms/step - loss: 14777.2736 - mean_absolute_error: 80.6030 - val_loss: 12621.6797 - val_mean_absolute_error: 75.2739\n",
      "Epoch 173/250\n",
      "5/5 [==============================] - 0s 15ms/step - loss: 14859.2692 - mean_absolute_error: 79.8414 - val_loss: 12335.7764 - val_mean_absolute_error: 75.0306\n",
      "Epoch 174/250\n",
      "5/5 [==============================] - 0s 15ms/step - loss: 14059.9694 - mean_absolute_error: 78.9068 - val_loss: 12076.1426 - val_mean_absolute_error: 74.8190\n",
      "Epoch 175/250\n",
      "5/5 [==============================] - 0s 14ms/step - loss: 14292.9225 - mean_absolute_error: 79.2334 - val_loss: 12160.5488 - val_mean_absolute_error: 74.7291\n",
      "Epoch 176/250\n",
      "5/5 [==============================] - 0s 14ms/step - loss: 14289.4478 - mean_absolute_error: 79.5427 - val_loss: 12431.7451 - val_mean_absolute_error: 74.8929\n",
      "Epoch 177/250\n",
      "5/5 [==============================] - 0s 14ms/step - loss: 14553.4507 - mean_absolute_error: 79.0248 - val_loss: 12632.5146 - val_mean_absolute_error: 75.2585\n",
      "Epoch 178/250\n",
      "5/5 [==============================] - 0s 14ms/step - loss: 14941.5703 - mean_absolute_error: 80.6082 - val_loss: 12716.5771 - val_mean_absolute_error: 75.5291\n",
      "Epoch 179/250\n",
      "5/5 [==============================] - 0s 14ms/step - loss: 14573.8984 - mean_absolute_error: 79.4962 - val_loss: 12444.9307 - val_mean_absolute_error: 75.3236\n",
      "Epoch 180/250\n",
      "5/5 [==============================] - 0s 14ms/step - loss: 14853.5382 - mean_absolute_error: 80.9346 - val_loss: 12462.9189 - val_mean_absolute_error: 75.5171\n",
      "Epoch 181/250\n",
      "5/5 [==============================] - 0s 14ms/step - loss: 14989.2817 - mean_absolute_error: 81.1962 - val_loss: 12533.6514 - val_mean_absolute_error: 75.7784\n",
      "Epoch 182/250\n",
      "5/5 [==============================] - 0s 14ms/step - loss: 14053.2992 - mean_absolute_error: 78.8138 - val_loss: 12282.3838 - val_mean_absolute_error: 75.3525\n",
      "Epoch 183/250\n",
      "5/5 [==============================] - 0s 14ms/step - loss: 14956.2292 - mean_absolute_error: 81.2547 - val_loss: 12445.3223 - val_mean_absolute_error: 75.5257\n",
      "Epoch 184/250\n",
      "5/5 [==============================] - 0s 14ms/step - loss: 14321.7826 - mean_absolute_error: 79.1669 - val_loss: 12825.0059 - val_mean_absolute_error: 76.0910\n",
      "Epoch 185/250\n",
      "5/5 [==============================] - 0s 14ms/step - loss: 14654.1009 - mean_absolute_error: 79.8882 - val_loss: 12536.7500 - val_mean_absolute_error: 75.8466\n",
      "Epoch 186/250\n",
      "5/5 [==============================] - 0s 14ms/step - loss: 14244.4066 - mean_absolute_error: 79.3062 - val_loss: 12346.3896 - val_mean_absolute_error: 75.5971\n",
      "Epoch 187/250\n",
      "5/5 [==============================] - 0s 14ms/step - loss: 14593.0885 - mean_absolute_error: 80.2017 - val_loss: 12285.0820 - val_mean_absolute_error: 75.3055\n",
      "Epoch 188/250\n",
      "5/5 [==============================] - 0s 14ms/step - loss: 14552.7515 - mean_absolute_error: 80.3097 - val_loss: 12599.8447 - val_mean_absolute_error: 75.6946\n",
      "Epoch 189/250\n"
     ]
    },
    {
     "name": "stdout",
     "output_type": "stream",
     "text": [
      "5/5 [==============================] - 0s 14ms/step - loss: 14210.9598 - mean_absolute_error: 78.2462 - val_loss: 13112.3027 - val_mean_absolute_error: 76.4932\n",
      "Epoch 190/250\n",
      "5/5 [==============================] - 0s 14ms/step - loss: 14376.5879 - mean_absolute_error: 78.3926 - val_loss: 12255.2324 - val_mean_absolute_error: 75.8233\n",
      "Epoch 191/250\n",
      "5/5 [==============================] - 0s 14ms/step - loss: 14725.0335 - mean_absolute_error: 80.8668 - val_loss: 11982.0723 - val_mean_absolute_error: 75.6220\n",
      "Epoch 192/250\n",
      "5/5 [==============================] - 0s 14ms/step - loss: 14909.6685 - mean_absolute_error: 81.4685 - val_loss: 12596.3066 - val_mean_absolute_error: 75.9790\n",
      "Epoch 193/250\n",
      "5/5 [==============================] - 0s 14ms/step - loss: 14583.4232 - mean_absolute_error: 79.5031 - val_loss: 13198.6416 - val_mean_absolute_error: 76.7447\n",
      "Epoch 194/250\n",
      "5/5 [==============================] - 0s 14ms/step - loss: 14844.3389 - mean_absolute_error: 80.7194 - val_loss: 12556.7529 - val_mean_absolute_error: 76.1669\n",
      "Epoch 195/250\n",
      "5/5 [==============================] - 0s 15ms/step - loss: 15077.3032 - mean_absolute_error: 81.4973 - val_loss: 12226.7041 - val_mean_absolute_error: 75.9356\n",
      "Epoch 196/250\n",
      "5/5 [==============================] - 0s 15ms/step - loss: 14957.4035 - mean_absolute_error: 80.5970 - val_loss: 12485.8389 - val_mean_absolute_error: 75.8825\n",
      "Epoch 197/250\n",
      "5/5 [==============================] - 0s 15ms/step - loss: 14748.5026 - mean_absolute_error: 80.2719 - val_loss: 13131.1738 - val_mean_absolute_error: 76.7083\n",
      "Epoch 198/250\n",
      "5/5 [==============================] - 0s 14ms/step - loss: 14952.1530 - mean_absolute_error: 80.5454 - val_loss: 12869.3877 - val_mean_absolute_error: 76.5546\n",
      "Epoch 199/250\n",
      "5/5 [==============================] - 0s 15ms/step - loss: 14167.8519 - mean_absolute_error: 79.1409 - val_loss: 12175.0166 - val_mean_absolute_error: 75.9574\n",
      "Epoch 200/250\n",
      "5/5 [==============================] - 0s 15ms/step - loss: 13938.4518 - mean_absolute_error: 79.2543 - val_loss: 12576.4561 - val_mean_absolute_error: 76.3236\n",
      "Epoch 201/250\n",
      "5/5 [==============================] - 0s 15ms/step - loss: 14265.7869 - mean_absolute_error: 79.2491 - val_loss: 12901.8193 - val_mean_absolute_error: 76.3952\n",
      "Epoch 202/250\n",
      "5/5 [==============================] - 0s 15ms/step - loss: 14014.8840 - mean_absolute_error: 79.3979 - val_loss: 12300.8789 - val_mean_absolute_error: 75.4487\n",
      "Epoch 203/250\n",
      "5/5 [==============================] - 0s 15ms/step - loss: 14473.0903 - mean_absolute_error: 79.9476 - val_loss: 12159.8496 - val_mean_absolute_error: 75.1430\n",
      "Epoch 204/250\n",
      "5/5 [==============================] - 0s 15ms/step - loss: 14532.5013 - mean_absolute_error: 80.4320 - val_loss: 12640.2002 - val_mean_absolute_error: 75.5257\n",
      "Epoch 205/250\n",
      "5/5 [==============================] - 0s 15ms/step - loss: 14345.4033 - mean_absolute_error: 79.0221 - val_loss: 12875.3857 - val_mean_absolute_error: 75.7803\n",
      "Epoch 206/250\n",
      "5/5 [==============================] - 0s 14ms/step - loss: 14547.6047 - mean_absolute_error: 79.0526 - val_loss: 12636.7031 - val_mean_absolute_error: 75.7963\n",
      "Epoch 207/250\n",
      "5/5 [==============================] - 0s 14ms/step - loss: 14385.7080 - mean_absolute_error: 80.0039 - val_loss: 12542.6045 - val_mean_absolute_error: 75.9595\n",
      "Epoch 208/250\n",
      "5/5 [==============================] - 0s 14ms/step - loss: 14033.0299 - mean_absolute_error: 79.0805 - val_loss: 12912.7715 - val_mean_absolute_error: 76.4256\n",
      "Epoch 209/250\n",
      "5/5 [==============================] - 0s 14ms/step - loss: 14019.2645 - mean_absolute_error: 78.1868 - val_loss: 12360.2881 - val_mean_absolute_error: 75.3277\n",
      "Epoch 210/250\n",
      "5/5 [==============================] - 0s 14ms/step - loss: 14046.3221 - mean_absolute_error: 78.0836 - val_loss: 12342.9492 - val_mean_absolute_error: 75.0746\n",
      "Epoch 211/250\n",
      "5/5 [==============================] - 0s 14ms/step - loss: 14072.7287 - mean_absolute_error: 78.5509 - val_loss: 12614.8535 - val_mean_absolute_error: 75.3189\n",
      "Epoch 212/250\n",
      "5/5 [==============================] - 0s 14ms/step - loss: 14347.1312 - mean_absolute_error: 78.3421 - val_loss: 12590.3008 - val_mean_absolute_error: 75.4510\n",
      "Epoch 213/250\n",
      "5/5 [==============================] - 0s 15ms/step - loss: 14354.7235 - mean_absolute_error: 79.6685 - val_loss: 12509.5947 - val_mean_absolute_error: 75.6123\n",
      "Epoch 214/250\n",
      "5/5 [==============================] - 0s 14ms/step - loss: 13825.8128 - mean_absolute_error: 78.3319 - val_loss: 12414.8652 - val_mean_absolute_error: 75.6572\n",
      "Epoch 215/250\n",
      "5/5 [==============================] - 0s 15ms/step - loss: 13820.8439 - mean_absolute_error: 78.3401 - val_loss: 12471.4678 - val_mean_absolute_error: 75.6016\n",
      "Epoch 216/250\n",
      "5/5 [==============================] - 0s 15ms/step - loss: 14211.2746 - mean_absolute_error: 78.6569 - val_loss: 12627.1191 - val_mean_absolute_error: 75.6991\n",
      "Epoch 217/250\n",
      "5/5 [==============================] - 0s 15ms/step - loss: 14360.1883 - mean_absolute_error: 79.1481 - val_loss: 12130.8584 - val_mean_absolute_error: 75.2321\n",
      "Epoch 218/250\n",
      "5/5 [==============================] - 0s 15ms/step - loss: 14306.9106 - mean_absolute_error: 79.5111 - val_loss: 12426.3164 - val_mean_absolute_error: 75.6542\n",
      "Epoch 219/250\n",
      "5/5 [==============================] - 0s 15ms/step - loss: 13965.8618 - mean_absolute_error: 78.5886 - val_loss: 13021.1328 - val_mean_absolute_error: 76.2416\n",
      "Epoch 220/250\n",
      "5/5 [==============================] - 0s 15ms/step - loss: 14454.6619 - mean_absolute_error: 79.5767 - val_loss: 12494.2549 - val_mean_absolute_error: 75.7813\n",
      "Epoch 221/250\n",
      "5/5 [==============================] - 0s 14ms/step - loss: 14018.5985 - mean_absolute_error: 78.0955 - val_loss: 12310.3408 - val_mean_absolute_error: 75.7746\n",
      "Epoch 222/250\n",
      "5/5 [==============================] - 0s 14ms/step - loss: 14318.4010 - mean_absolute_error: 79.5247 - val_loss: 12887.4863 - val_mean_absolute_error: 76.6590\n",
      "Epoch 223/250\n",
      "5/5 [==============================] - 0s 14ms/step - loss: 14297.9564 - mean_absolute_error: 79.3115 - val_loss: 12976.0508 - val_mean_absolute_error: 76.9866\n",
      "Epoch 224/250\n",
      "5/5 [==============================] - 0s 14ms/step - loss: 13751.8507 - mean_absolute_error: 77.8794 - val_loss: 12660.7275 - val_mean_absolute_error: 76.4078\n",
      "Epoch 225/250\n",
      "5/5 [==============================] - 0s 15ms/step - loss: 14181.4385 - mean_absolute_error: 79.9291 - val_loss: 12528.4355 - val_mean_absolute_error: 76.0608\n",
      "Epoch 226/250\n",
      "5/5 [==============================] - 0s 14ms/step - loss: 14541.2874 - mean_absolute_error: 80.2582 - val_loss: 12531.2881 - val_mean_absolute_error: 75.8678\n",
      "Epoch 227/250\n",
      "5/5 [==============================] - 0s 14ms/step - loss: 14344.9683 - mean_absolute_error: 80.0530 - val_loss: 12659.2070 - val_mean_absolute_error: 75.8612\n",
      "Epoch 228/250\n",
      "5/5 [==============================] - 0s 14ms/step - loss: 14338.2708 - mean_absolute_error: 79.4525 - val_loss: 12980.9463 - val_mean_absolute_error: 76.4603\n",
      "Epoch 229/250\n",
      "5/5 [==============================] - 0s 14ms/step - loss: 13775.5046 - mean_absolute_error: 77.8333 - val_loss: 12922.6064 - val_mean_absolute_error: 76.4518\n",
      "Epoch 230/250\n",
      "5/5 [==============================] - 0s 15ms/step - loss: 14464.8534 - mean_absolute_error: 79.3415 - val_loss: 12462.1914 - val_mean_absolute_error: 75.7311\n",
      "Epoch 231/250\n",
      "5/5 [==============================] - 0s 14ms/step - loss: 14259.6081 - mean_absolute_error: 79.5729 - val_loss: 12166.6924 - val_mean_absolute_error: 75.2867\n",
      "Epoch 232/250\n",
      "5/5 [==============================] - 0s 14ms/step - loss: 14199.9761 - mean_absolute_error: 79.1504 - val_loss: 12952.7988 - val_mean_absolute_error: 76.1063\n",
      "Epoch 233/250\n",
      "5/5 [==============================] - 0s 14ms/step - loss: 13772.6081 - mean_absolute_error: 76.7830 - val_loss: 13351.6953 - val_mean_absolute_error: 76.8913\n",
      "Epoch 234/250\n",
      "5/5 [==============================] - 0s 14ms/step - loss: 14041.5636 - mean_absolute_error: 77.7813 - val_loss: 12503.0537 - val_mean_absolute_error: 76.2584\n",
      "Epoch 235/250\n",
      "5/5 [==============================] - 0s 14ms/step - loss: 13705.2362 - mean_absolute_error: 78.2909 - val_loss: 12335.2969 - val_mean_absolute_error: 76.1522\n",
      "Epoch 236/250\n"
     ]
    },
    {
     "name": "stdout",
     "output_type": "stream",
     "text": [
      "5/5 [==============================] - 0s 14ms/step - loss: 13929.6779 - mean_absolute_error: 79.3360 - val_loss: 12747.7490 - val_mean_absolute_error: 76.2349\n",
      "Epoch 237/250\n",
      "5/5 [==============================] - 0s 14ms/step - loss: 14089.8434 - mean_absolute_error: 78.8042 - val_loss: 13000.6133 - val_mean_absolute_error: 76.3482\n",
      "Epoch 238/250\n",
      "5/5 [==============================] - 0s 14ms/step - loss: 14153.7446 - mean_absolute_error: 78.7840 - val_loss: 12852.6299 - val_mean_absolute_error: 76.1653\n",
      "Epoch 239/250\n",
      "5/5 [==============================] - 0s 14ms/step - loss: 14633.3805 - mean_absolute_error: 79.5342 - val_loss: 12920.6250 - val_mean_absolute_error: 76.3987\n",
      "Epoch 240/250\n",
      "5/5 [==============================] - 0s 14ms/step - loss: 14321.6971 - mean_absolute_error: 79.2321 - val_loss: 13153.3994 - val_mean_absolute_error: 76.9001\n",
      "Epoch 241/250\n",
      "5/5 [==============================] - 0s 14ms/step - loss: 13896.9940 - mean_absolute_error: 77.7874 - val_loss: 12765.0811 - val_mean_absolute_error: 76.5014\n",
      "Epoch 242/250\n",
      "5/5 [==============================] - 0s 14ms/step - loss: 13849.4788 - mean_absolute_error: 78.2512 - val_loss: 12952.4424 - val_mean_absolute_error: 76.6197\n",
      "Epoch 243/250\n",
      "5/5 [==============================] - 0s 15ms/step - loss: 14056.5846 - mean_absolute_error: 78.1687 - val_loss: 12943.4580 - val_mean_absolute_error: 76.5223\n",
      "Epoch 244/250\n",
      "5/5 [==============================] - 0s 14ms/step - loss: 13771.2051 - mean_absolute_error: 77.6143 - val_loss: 12632.5703 - val_mean_absolute_error: 76.2531\n",
      "Epoch 245/250\n",
      "5/5 [==============================] - 0s 14ms/step - loss: 14185.4294 - mean_absolute_error: 79.0398 - val_loss: 12708.0850 - val_mean_absolute_error: 76.3221\n",
      "Epoch 246/250\n",
      "5/5 [==============================] - 0s 14ms/step - loss: 14026.9310 - mean_absolute_error: 78.9314 - val_loss: 12622.7764 - val_mean_absolute_error: 75.9505\n",
      "Epoch 247/250\n",
      "5/5 [==============================] - 0s 14ms/step - loss: 13682.2466 - mean_absolute_error: 78.3205 - val_loss: 12674.8008 - val_mean_absolute_error: 75.9048\n",
      "Epoch 248/250\n",
      "5/5 [==============================] - 0s 14ms/step - loss: 13642.7952 - mean_absolute_error: 77.7279 - val_loss: 13056.0850 - val_mean_absolute_error: 76.6460\n",
      "Epoch 249/250\n",
      "5/5 [==============================] - 0s 14ms/step - loss: 13868.3529 - mean_absolute_error: 77.4548 - val_loss: 13405.8535 - val_mean_absolute_error: 77.3985\n",
      "Epoch 250/250\n",
      "5/5 [==============================] - 0s 13ms/step - loss: 13648.8188 - mean_absolute_error: 76.8203 - val_loss: 12838.6455 - val_mean_absolute_error: 76.7568\n"
     ]
    },
    {
     "data": {
      "text/plain": [
       "<tensorflow.python.keras.callbacks.History at 0x7fca69d12400>"
      ]
     },
     "execution_count": 778,
     "metadata": {},
     "output_type": "execute_result"
    }
   ],
   "source": [
    "nn_model.fit(X_train_total, Y_train, epochs=250, batch_size=2000, verbose=1, validation_split=0.1)"
   ]
  },
  {
   "cell_type": "code",
   "execution_count": 779,
   "metadata": {
    "ExecuteTime": {
     "end_time": "2021-03-15T03:38:01.984475Z",
     "start_time": "2021-03-15T03:38:01.737367Z"
    },
    "hidden": true
   },
   "outputs": [],
   "source": [
    "# Se generan las predicciones para el entrenamiento y prueba y se evaluan dos metricas: RMSE y MAE\n",
    "test_predictions = nn_model.predict(X_test_total)\n",
    "train_predictions = nn_model.predict(X_train_total)"
   ]
  },
  {
   "cell_type": "code",
   "execution_count": 780,
   "metadata": {
    "ExecuteTime": {
     "end_time": "2021-03-15T03:38:05.230182Z",
     "start_time": "2021-03-15T03:38:05.224928Z"
    },
    "hidden": true
   },
   "outputs": [
    {
     "name": "stdout",
     "output_type": "stream",
     "text": [
      "RMSE DE ENTRENAMIENTO: 101.38\n",
      "RMSE DE PRUEBA: 112.71\n",
      "DIFERENCIA DE: 11.17%\n"
     ]
    }
   ],
   "source": [
    "# Comparacion RSME train y test\n",
    "rmse_train = np.sqrt(mean_squared_error(y_pred=train_predictions, y_true=Y_train))\n",
    "rmse_test = np.sqrt(mean_squared_error(y_pred=test_predictions, y_true=Y_test))\n",
    "print('RMSE DE ENTRENAMIENTO: {}'.format(np.round(rmse_train,2)))\n",
    "print('RMSE DE PRUEBA: {}'.format(np.round(rmse_test,2)))\n",
    "diferencia_porcentual = np.round(100*(rmse_test-rmse_train)/rmse_train,2)\n",
    "print('DIFERENCIA DE: {}%'.format(diferencia_porcentual))"
   ]
  },
  {
   "cell_type": "code",
   "execution_count": 781,
   "metadata": {
    "ExecuteTime": {
     "end_time": "2021-03-15T03:38:07.570418Z",
     "start_time": "2021-03-15T03:38:07.565357Z"
    },
    "hidden": true
   },
   "outputs": [
    {
     "name": "stdout",
     "output_type": "stream",
     "text": [
      "MAE DE ENTRENAMIENTO: 67.57\n",
      "MAE DE PRUEBA: 75.05\n",
      "DIFERENCIA DE: 11.07%\n"
     ]
    }
   ],
   "source": [
    "# Comparacion MAE train y test\n",
    "mae_train = mean_absolute_error(y_pred=train_predictions, y_true=Y_train)\n",
    "mae_test = mean_absolute_error(y_pred=test_predictions, y_true=Y_test)\n",
    "diferencia_porcentual = np.round(100*(mae_test-mae_train)/mae_train,2)\n",
    "print('MAE DE ENTRENAMIENTO: {}'.format(np.round(mae_train,2)))\n",
    "print('MAE DE PRUEBA: {}'.format(np.round(mae_test,2)))\n",
    "print('DIFERENCIA DE: {}%'.format(diferencia_porcentual))"
   ]
  },
  {
   "cell_type": "code",
   "execution_count": 782,
   "metadata": {
    "ExecuteTime": {
     "end_time": "2021-03-15T03:38:15.784822Z",
     "start_time": "2021-03-15T03:38:15.675857Z"
    },
    "hidden": true
   },
   "outputs": [],
   "source": [
    "values = sorted(Y_train.unique())\n",
    "test_predictions = [find_nearest(values, p)for p in test_predictions] \n",
    "train_predictions = [find_nearest(values, p)for p in train_predictions] "
   ]
  },
  {
   "cell_type": "code",
   "execution_count": 783,
   "metadata": {
    "ExecuteTime": {
     "end_time": "2021-03-15T03:38:16.175718Z",
     "start_time": "2021-03-15T03:38:16.169482Z"
    },
    "hidden": true
   },
   "outputs": [
    {
     "name": "stdout",
     "output_type": "stream",
     "text": [
      "RMSE DE ENTRENAMIENTO: 110.47\n",
      "RMSE DE PRUEBA: 118.93\n",
      "DIFERENCIA DE: 7.66%\n"
     ]
    }
   ],
   "source": [
    "# Comparacion RSME train y test\n",
    "rmse_train = np.sqrt(mean_squared_error(y_pred=train_predictions, y_true=Y_train))\n",
    "rmse_test = np.sqrt(mean_squared_error(y_pred=test_predictions, y_true=Y_test))\n",
    "print('RMSE DE ENTRENAMIENTO: {}'.format(np.round(rmse_train,2)))\n",
    "print('RMSE DE PRUEBA: {}'.format(np.round(rmse_test,2)))\n",
    "diferencia_porcentual = np.round(100*(rmse_test-rmse_train)/rmse_train,2)\n",
    "print('DIFERENCIA DE: {}%'.format(diferencia_porcentual))"
   ]
  },
  {
   "cell_type": "code",
   "execution_count": 784,
   "metadata": {
    "ExecuteTime": {
     "end_time": "2021-03-15T03:38:19.743130Z",
     "start_time": "2021-03-15T03:38:19.736824Z"
    },
    "hidden": true
   },
   "outputs": [
    {
     "name": "stdout",
     "output_type": "stream",
     "text": [
      "MAE DE ENTRENAMIENTO: 68.29\n",
      "MAE DE PRUEBA: 74.07\n",
      "DIFERENCIA DE: 8.47%\n"
     ]
    }
   ],
   "source": [
    "# Comparacion MAE train y test\n",
    "mae_train = mean_absolute_error(y_pred=train_predictions, y_true=Y_train)\n",
    "mae_test = mean_absolute_error(y_pred=test_predictions, y_true=Y_test)\n",
    "diferencia_porcentual = np.round(100*(mae_test-mae_train)/mae_train,2)\n",
    "print('MAE DE ENTRENAMIENTO: {}'.format(np.round(mae_train,2)))\n",
    "print('MAE DE PRUEBA: {}'.format(np.round(mae_test,2)))\n",
    "print('DIFERENCIA DE: {}%'.format(diferencia_porcentual))"
   ]
  },
  {
   "cell_type": "code",
   "execution_count": 785,
   "metadata": {
    "ExecuteTime": {
     "end_time": "2021-03-15T03:38:51.994150Z",
     "start_time": "2021-03-15T03:38:51.981431Z"
    },
    "hidden": true
   },
   "outputs": [],
   "source": [
    "# Se crea un dataframe con los resultados\n",
    "resultados_train = pd.DataFrame({'TYPE': ['TRAIN']*len(Y_train), 'TRUE': Y_train, 'PREDICTED': train_predictions})\n",
    "resultados_test = pd.DataFrame({'TYPE': ['TEST']*len(Y_test), 'TRUE': Y_test, 'PREDICTED': test_predictions})\n",
    "resultados_nn = pd.concat([resultados_train, resultados_test], axis=0).reset_index(drop=True)\n",
    "resultados_nn['ABSOLUTE_ERROR'] = (resultados_nn['TRUE']-resultados_nn['PREDICTED']).abs()\n",
    "resultados_nn['SQUARE_ERROR'] = (resultados_nn['TRUE']-resultados_nn['PREDICTED'])**2"
   ]
  },
  {
   "cell_type": "code",
   "execution_count": 786,
   "metadata": {
    "ExecuteTime": {
     "end_time": "2021-03-15T03:38:53.281762Z",
     "start_time": "2021-03-15T03:38:53.273373Z"
    },
    "hidden": true
   },
   "outputs": [],
   "source": [
    "# Resultados por cantidad\n",
    "resultados_por_cantidad = resultados_nn.groupby(['TYPE', 'TRUE'])[['ABSOLUTE_ERROR', 'SQUARE_ERROR']].mean().reset_index()"
   ]
  },
  {
   "cell_type": "code",
   "execution_count": 787,
   "metadata": {
    "ExecuteTime": {
     "end_time": "2021-03-15T03:38:53.981720Z",
     "start_time": "2021-03-15T03:38:53.971111Z"
    },
    "hidden": true
   },
   "outputs": [
    {
     "data": {
      "text/html": [
       "<div>\n",
       "<style scoped>\n",
       "    .dataframe tbody tr th:only-of-type {\n",
       "        vertical-align: middle;\n",
       "    }\n",
       "\n",
       "    .dataframe tbody tr th {\n",
       "        vertical-align: top;\n",
       "    }\n",
       "\n",
       "    .dataframe thead th {\n",
       "        text-align: right;\n",
       "    }\n",
       "</style>\n",
       "<table border=\"1\" class=\"dataframe\">\n",
       "  <thead>\n",
       "    <tr style=\"text-align: right;\">\n",
       "      <th></th>\n",
       "      <th>TYPE</th>\n",
       "      <th>TRUE</th>\n",
       "      <th>ABSOLUTE_ERROR</th>\n",
       "      <th>SQUARE_ERROR</th>\n",
       "    </tr>\n",
       "  </thead>\n",
       "  <tbody>\n",
       "    <tr>\n",
       "      <th>0</th>\n",
       "      <td>TEST</td>\n",
       "      <td>0</td>\n",
       "      <td>32.572327</td>\n",
       "      <td>1091.150943</td>\n",
       "    </tr>\n",
       "    <tr>\n",
       "      <th>1</th>\n",
       "      <td>TEST</td>\n",
       "      <td>1</td>\n",
       "      <td>31.567164</td>\n",
       "      <td>1077.268657</td>\n",
       "    </tr>\n",
       "    <tr>\n",
       "      <th>2</th>\n",
       "      <td>TEST</td>\n",
       "      <td>2</td>\n",
       "      <td>30.506494</td>\n",
       "      <td>1005.077922</td>\n",
       "    </tr>\n",
       "    <tr>\n",
       "      <th>3</th>\n",
       "      <td>TEST</td>\n",
       "      <td>3</td>\n",
       "      <td>32.562500</td>\n",
       "      <td>1650.562500</td>\n",
       "    </tr>\n",
       "    <tr>\n",
       "      <th>4</th>\n",
       "      <td>TEST</td>\n",
       "      <td>4</td>\n",
       "      <td>27.738462</td>\n",
       "      <td>782.169231</td>\n",
       "    </tr>\n",
       "    <tr>\n",
       "      <th>5</th>\n",
       "      <td>TEST</td>\n",
       "      <td>5</td>\n",
       "      <td>37.769106</td>\n",
       "      <td>2408.884553</td>\n",
       "    </tr>\n",
       "    <tr>\n",
       "      <th>6</th>\n",
       "      <td>TEST</td>\n",
       "      <td>6</td>\n",
       "      <td>94.000000</td>\n",
       "      <td>8836.000000</td>\n",
       "    </tr>\n",
       "    <tr>\n",
       "      <th>7</th>\n",
       "      <td>TEST</td>\n",
       "      <td>7</td>\n",
       "      <td>93.000000</td>\n",
       "      <td>8649.000000</td>\n",
       "    </tr>\n",
       "    <tr>\n",
       "      <th>8</th>\n",
       "      <td>TEST</td>\n",
       "      <td>8</td>\n",
       "      <td>27.000000</td>\n",
       "      <td>729.000000</td>\n",
       "    </tr>\n",
       "    <tr>\n",
       "      <th>9</th>\n",
       "      <td>TEST</td>\n",
       "      <td>14</td>\n",
       "      <td>45.000000</td>\n",
       "      <td>2025.000000</td>\n",
       "    </tr>\n",
       "    <tr>\n",
       "      <th>10</th>\n",
       "      <td>TEST</td>\n",
       "      <td>25</td>\n",
       "      <td>35.348214</td>\n",
       "      <td>2749.839286</td>\n",
       "    </tr>\n",
       "    <tr>\n",
       "      <th>11</th>\n",
       "      <td>TEST</td>\n",
       "      <td>50</td>\n",
       "      <td>38.716094</td>\n",
       "      <td>3252.368897</td>\n",
       "    </tr>\n",
       "    <tr>\n",
       "      <th>12</th>\n",
       "      <td>TEST</td>\n",
       "      <td>56</td>\n",
       "      <td>94.000000</td>\n",
       "      <td>8836.000000</td>\n",
       "    </tr>\n",
       "    <tr>\n",
       "      <th>13</th>\n",
       "      <td>TEST</td>\n",
       "      <td>100</td>\n",
       "      <td>50.536023</td>\n",
       "      <td>4336.599424</td>\n",
       "    </tr>\n",
       "    <tr>\n",
       "      <th>14</th>\n",
       "      <td>TEST</td>\n",
       "      <td>150</td>\n",
       "      <td>51.550218</td>\n",
       "      <td>4097.890830</td>\n",
       "    </tr>\n",
       "    <tr>\n",
       "      <th>15</th>\n",
       "      <td>TEST</td>\n",
       "      <td>200</td>\n",
       "      <td>71.705128</td>\n",
       "      <td>8198.346154</td>\n",
       "    </tr>\n",
       "    <tr>\n",
       "      <th>16</th>\n",
       "      <td>TEST</td>\n",
       "      <td>250</td>\n",
       "      <td>70.143389</td>\n",
       "      <td>10361.778399</td>\n",
       "    </tr>\n",
       "    <tr>\n",
       "      <th>17</th>\n",
       "      <td>TEST</td>\n",
       "      <td>500</td>\n",
       "      <td>227.262376</td>\n",
       "      <td>67745.268977</td>\n",
       "    </tr>\n",
       "  </tbody>\n",
       "</table>\n",
       "</div>"
      ],
      "text/plain": [
       "    TYPE  TRUE  ABSOLUTE_ERROR  SQUARE_ERROR\n",
       "0   TEST     0       32.572327   1091.150943\n",
       "1   TEST     1       31.567164   1077.268657\n",
       "2   TEST     2       30.506494   1005.077922\n",
       "3   TEST     3       32.562500   1650.562500\n",
       "4   TEST     4       27.738462    782.169231\n",
       "5   TEST     5       37.769106   2408.884553\n",
       "6   TEST     6       94.000000   8836.000000\n",
       "7   TEST     7       93.000000   8649.000000\n",
       "8   TEST     8       27.000000    729.000000\n",
       "9   TEST    14       45.000000   2025.000000\n",
       "10  TEST    25       35.348214   2749.839286\n",
       "11  TEST    50       38.716094   3252.368897\n",
       "12  TEST    56       94.000000   8836.000000\n",
       "13  TEST   100       50.536023   4336.599424\n",
       "14  TEST   150       51.550218   4097.890830\n",
       "15  TEST   200       71.705128   8198.346154\n",
       "16  TEST   250       70.143389  10361.778399\n",
       "17  TEST   500      227.262376  67745.268977"
      ]
     },
     "execution_count": 787,
     "metadata": {},
     "output_type": "execute_result"
    }
   ],
   "source": [
    "# Imprime los resultados por cantidad en cuanto al MAE y MSE para los datos de prueba\n",
    "resultados_por_cantidad.loc[resultados_por_cantidad['TYPE']=='TEST']"
   ]
  },
  {
   "cell_type": "markdown",
   "metadata": {
    "heading_collapsed": true
   },
   "source": [
    "### Random Forest (Bosques Aleatorios)\n",
    "\n",
    "Uno de los algoritmos que escogí para usar es Bosques Aleatorios utilizando `ScikitLearn`. "
   ]
  },
  {
   "cell_type": "code",
   "execution_count": 791,
   "metadata": {
    "ExecuteTime": {
     "end_time": "2021-03-15T03:56:45.240112Z",
     "start_time": "2021-03-15T03:54:11.929485Z"
    },
    "hidden": true
   },
   "outputs": [
    {
     "name": "stdout",
     "output_type": "stream",
     "text": [
      "Fitting 5 folds for each of 4 candidates, totalling 20 fits\n"
     ]
    },
    {
     "name": "stderr",
     "output_type": "stream",
     "text": [
      "[Parallel(n_jobs=-1)]: Using backend LokyBackend with 16 concurrent workers.\n",
      "[Parallel(n_jobs=-1)]: Done  10 out of  20 | elapsed:   19.6s remaining:   19.6s\n",
      "[Parallel(n_jobs=-1)]: Done  20 out of  20 | elapsed:  1.8min finished\n"
     ]
    }
   ],
   "source": [
    "# Diccionario de hiperparametros a tunear\n",
    "param_tuning = {'n_estimators': [100],\n",
    "               'max_features': ['auto', 'sqrt'],\n",
    "               'max_depth': [5, 7, 10],\n",
    "               'bootstrap': [False]}\n",
    "\n",
    "# Se evalua para todas las combinaciones de hiperparametros cual tiene el menor error de validacion\n",
    "# usando validacion cruzada para 5-folds\n",
    "\n",
    "# Modelo RFRegressor\n",
    "rf_model = RandomForestRegressor(random_state=1608)\n",
    "\n",
    "# Validacion cruzada\n",
    "k_folds = KFold(n_splits=5, shuffle=True, random_state=1608)\n",
    "grid_search_cv = GridSearchCV(estimator = rf_model,\n",
    "                              param_grid = param_tuning,            \n",
    "                              cv = k_folds,\n",
    "                              n_jobs = -1,\n",
    "                              verbose = 1)\n",
    "cv_fit = grid_search_cv.fit(X=X_train_total, y=Y_train) # Fit"
   ]
  },
  {
   "cell_type": "code",
   "execution_count": 792,
   "metadata": {
    "ExecuteTime": {
     "end_time": "2021-03-15T03:56:45.245711Z",
     "start_time": "2021-03-15T03:56:45.242394Z"
    },
    "hidden": true,
    "scrolled": true
   },
   "outputs": [
    {
     "data": {
      "text/plain": [
       "{'bootstrap': False,\n",
       " 'max_depth': 7,\n",
       " 'max_features': 'auto',\n",
       " 'n_estimators': 100}"
      ]
     },
     "execution_count": 792,
     "metadata": {},
     "output_type": "execute_result"
    }
   ],
   "source": [
    "# Imprime los mejores parametros bajo el score de cv calculado para cada iteracion\n",
    "grid_search_cv.best_params_"
   ]
  },
  {
   "cell_type": "code",
   "execution_count": 793,
   "metadata": {
    "ExecuteTime": {
     "end_time": "2021-03-15T03:57:05.901768Z",
     "start_time": "2021-03-15T03:57:05.786741Z"
    },
    "hidden": true
   },
   "outputs": [],
   "source": [
    "# Se generan las predicciones para el entrenamiento y prueba y se evaluan dos metricas: RMSE y MAE\n",
    "rf_best_model = grid_search_cv.best_estimator_\n",
    "test_predictions = rf_best_model.predict(X_test_total)\n",
    "train_predictions = rf_best_model.predict(X_train_total)"
   ]
  },
  {
   "cell_type": "code",
   "execution_count": 794,
   "metadata": {
    "ExecuteTime": {
     "end_time": "2021-03-15T03:57:06.658159Z",
     "start_time": "2021-03-15T03:57:06.652477Z"
    },
    "hidden": true
   },
   "outputs": [
    {
     "name": "stdout",
     "output_type": "stream",
     "text": [
      "RMSE DE ENTRENAMIENTO: 132.08\n",
      "RMSE DE PRUEBA: 140.36\n",
      "DIFERENCIA DE: 6.27%\n"
     ]
    }
   ],
   "source": [
    "# Comparacion RSME train y test\n",
    "rmse_train = np.sqrt(mean_squared_error(y_pred=train_predictions, y_true=Y_train))\n",
    "rmse_test = np.sqrt(mean_squared_error(y_pred=test_predictions, y_true=Y_test))\n",
    "print('RMSE DE ENTRENAMIENTO: {}'.format(np.round(rmse_train,2)))\n",
    "print('RMSE DE PRUEBA: {}'.format(np.round(rmse_test,2)))\n",
    "diferencia_porcentual = np.round(100*(rmse_test-rmse_train)/rmse_train,2)\n",
    "print('DIFERENCIA DE: {}%'.format(diferencia_porcentual))"
   ]
  },
  {
   "cell_type": "code",
   "execution_count": 795,
   "metadata": {
    "ExecuteTime": {
     "end_time": "2021-03-15T03:57:09.775064Z",
     "start_time": "2021-03-15T03:57:09.769803Z"
    },
    "hidden": true
   },
   "outputs": [
    {
     "name": "stdout",
     "output_type": "stream",
     "text": [
      "MAE DE ENTRENAMIENTO: 95.76\n",
      "MAE DE PRUEBA: 102.97\n",
      "DIFERENCIA DE: 7.54%\n"
     ]
    }
   ],
   "source": [
    "# Comparacion MAE train y test\n",
    "mae_train = mean_absolute_error(y_pred=train_predictions, y_true=Y_train)\n",
    "mae_test = mean_absolute_error(y_pred=test_predictions, y_true=Y_test)\n",
    "diferencia_porcentual = np.round(100*(mae_test-mae_train)/mae_train,2)\n",
    "print('MAE DE ENTRENAMIENTO: {}'.format(np.round(mae_train,2)))\n",
    "print('MAE DE PRUEBA: {}'.format(np.round(mae_test,2)))\n",
    "print('DIFERENCIA DE: {}%'.format(diferencia_porcentual))"
   ]
  },
  {
   "cell_type": "code",
   "execution_count": 796,
   "metadata": {
    "ExecuteTime": {
     "end_time": "2021-03-15T03:57:10.732229Z",
     "start_time": "2021-03-15T03:57:10.635262Z"
    },
    "hidden": true
   },
   "outputs": [],
   "source": [
    "values = sorted(Y_train.unique())\n",
    "test_predictions = [find_nearest(values, p)for p in test_predictions] \n",
    "train_predictions = [find_nearest(values, p)for p in train_predictions] "
   ]
  },
  {
   "cell_type": "code",
   "execution_count": 797,
   "metadata": {
    "ExecuteTime": {
     "end_time": "2021-03-15T03:57:11.339547Z",
     "start_time": "2021-03-15T03:57:11.332855Z"
    },
    "hidden": true
   },
   "outputs": [
    {
     "name": "stdout",
     "output_type": "stream",
     "text": [
      "RMSE DE ENTRENAMIENTO: 134.35\n",
      "RMSE DE PRUEBA: 143.11\n",
      "DIFERENCIA DE: 6.52%\n"
     ]
    }
   ],
   "source": [
    "# Comparacion RSME train y test\n",
    "rmse_train = np.sqrt(mean_squared_error(y_pred=train_predictions, y_true=Y_train))\n",
    "rmse_test = np.sqrt(mean_squared_error(y_pred=test_predictions, y_true=Y_test))\n",
    "print('RMSE DE ENTRENAMIENTO: {}'.format(np.round(rmse_train,2)))\n",
    "print('RMSE DE PRUEBA: {}'.format(np.round(rmse_test,2)))\n",
    "diferencia_porcentual = np.round(100*(rmse_test-rmse_train)/rmse_train,2)\n",
    "print('DIFERENCIA DE: {}%'.format(diferencia_porcentual))"
   ]
  },
  {
   "cell_type": "code",
   "execution_count": 798,
   "metadata": {
    "ExecuteTime": {
     "end_time": "2021-03-15T03:57:13.094826Z",
     "start_time": "2021-03-15T03:57:13.088660Z"
    },
    "hidden": true
   },
   "outputs": [
    {
     "name": "stdout",
     "output_type": "stream",
     "text": [
      "MAE DE ENTRENAMIENTO: 93.35\n",
      "MAE DE PRUEBA: 101.16\n",
      "DIFERENCIA DE: 8.38%\n"
     ]
    }
   ],
   "source": [
    "# Comparacion MAE train y test\n",
    "mae_train = mean_absolute_error(y_pred=train_predictions, y_true=Y_train)\n",
    "mae_test = mean_absolute_error(y_pred=test_predictions, y_true=Y_test)\n",
    "diferencia_porcentual = np.round(100*(mae_test-mae_train)/mae_train,2)\n",
    "print('MAE DE ENTRENAMIENTO: {}'.format(np.round(mae_train,2)))\n",
    "print('MAE DE PRUEBA: {}'.format(np.round(mae_test,2)))\n",
    "print('DIFERENCIA DE: {}%'.format(diferencia_porcentual))"
   ]
  },
  {
   "cell_type": "code",
   "execution_count": 799,
   "metadata": {
    "ExecuteTime": {
     "end_time": "2021-03-15T03:57:15.354256Z",
     "start_time": "2021-03-15T03:57:15.340314Z"
    },
    "hidden": true
   },
   "outputs": [],
   "source": [
    "# Se crea un dataframe con los resultados\n",
    "resultados_train = pd.DataFrame({'TYPE': ['TRAIN']*len(Y_train), 'TRUE': Y_train, 'PREDICTED': train_predictions})\n",
    "resultados_test = pd.DataFrame({'TYPE': ['TEST']*len(Y_test), 'TRUE': Y_test, 'PREDICTED': test_predictions})\n",
    "resultados_rf = pd.concat([resultados_train, resultados_test], axis=0).reset_index(drop=True)\n",
    "resultados_rf['ABSOLUTE_ERROR'] = (resultados_rf['TRUE']-resultados_rf['PREDICTED']).abs()\n",
    "resultados_rf['SQUARE_ERROR'] = (resultados_rf['TRUE']-resultados_rf['PREDICTED'])**2"
   ]
  },
  {
   "cell_type": "code",
   "execution_count": 800,
   "metadata": {
    "ExecuteTime": {
     "end_time": "2021-03-15T03:57:36.158372Z",
     "start_time": "2021-03-15T03:57:36.149189Z"
    },
    "hidden": true
   },
   "outputs": [],
   "source": [
    "# Resultados por cantidad\n",
    "resultados_por_cantidad = resultados_rf.groupby(['TYPE', 'TRUE'])[['ABSOLUTE_ERROR', 'SQUARE_ERROR']].mean().reset_index()"
   ]
  },
  {
   "cell_type": "code",
   "execution_count": 801,
   "metadata": {
    "ExecuteTime": {
     "end_time": "2021-03-15T03:57:37.464292Z",
     "start_time": "2021-03-15T03:57:37.453707Z"
    },
    "hidden": true,
    "scrolled": false
   },
   "outputs": [
    {
     "data": {
      "text/html": [
       "<div>\n",
       "<style scoped>\n",
       "    .dataframe tbody tr th:only-of-type {\n",
       "        vertical-align: middle;\n",
       "    }\n",
       "\n",
       "    .dataframe tbody tr th {\n",
       "        vertical-align: top;\n",
       "    }\n",
       "\n",
       "    .dataframe thead th {\n",
       "        text-align: right;\n",
       "    }\n",
       "</style>\n",
       "<table border=\"1\" class=\"dataframe\">\n",
       "  <thead>\n",
       "    <tr style=\"text-align: right;\">\n",
       "      <th></th>\n",
       "      <th>TYPE</th>\n",
       "      <th>TRUE</th>\n",
       "      <th>ABSOLUTE_ERROR</th>\n",
       "      <th>SQUARE_ERROR</th>\n",
       "    </tr>\n",
       "  </thead>\n",
       "  <tbody>\n",
       "    <tr>\n",
       "      <th>0</th>\n",
       "      <td>TEST</td>\n",
       "      <td>0</td>\n",
       "      <td>47.169811</td>\n",
       "      <td>4231.371069</td>\n",
       "    </tr>\n",
       "    <tr>\n",
       "      <th>1</th>\n",
       "      <td>TEST</td>\n",
       "      <td>1</td>\n",
       "      <td>55.626866</td>\n",
       "      <td>5202.582090</td>\n",
       "    </tr>\n",
       "    <tr>\n",
       "      <th>2</th>\n",
       "      <td>TEST</td>\n",
       "      <td>2</td>\n",
       "      <td>49.532468</td>\n",
       "      <td>3982.519481</td>\n",
       "    </tr>\n",
       "    <tr>\n",
       "      <th>3</th>\n",
       "      <td>TEST</td>\n",
       "      <td>3</td>\n",
       "      <td>50.541667</td>\n",
       "      <td>5144.000000</td>\n",
       "    </tr>\n",
       "    <tr>\n",
       "      <th>4</th>\n",
       "      <td>TEST</td>\n",
       "      <td>4</td>\n",
       "      <td>48.323077</td>\n",
       "      <td>4110.876923</td>\n",
       "    </tr>\n",
       "    <tr>\n",
       "      <th>5</th>\n",
       "      <td>TEST</td>\n",
       "      <td>5</td>\n",
       "      <td>81.377236</td>\n",
       "      <td>12102.037398</td>\n",
       "    </tr>\n",
       "    <tr>\n",
       "      <th>6</th>\n",
       "      <td>TEST</td>\n",
       "      <td>6</td>\n",
       "      <td>148.500000</td>\n",
       "      <td>31172.500000</td>\n",
       "    </tr>\n",
       "    <tr>\n",
       "      <th>7</th>\n",
       "      <td>TEST</td>\n",
       "      <td>7</td>\n",
       "      <td>28.000000</td>\n",
       "      <td>784.000000</td>\n",
       "    </tr>\n",
       "    <tr>\n",
       "      <th>8</th>\n",
       "      <td>TEST</td>\n",
       "      <td>8</td>\n",
       "      <td>192.000000</td>\n",
       "      <td>36864.000000</td>\n",
       "    </tr>\n",
       "    <tr>\n",
       "      <th>9</th>\n",
       "      <td>TEST</td>\n",
       "      <td>14</td>\n",
       "      <td>86.000000</td>\n",
       "      <td>7396.000000</td>\n",
       "    </tr>\n",
       "    <tr>\n",
       "      <th>10</th>\n",
       "      <td>TEST</td>\n",
       "      <td>25</td>\n",
       "      <td>83.582589</td>\n",
       "      <td>12939.167411</td>\n",
       "    </tr>\n",
       "    <tr>\n",
       "      <th>11</th>\n",
       "      <td>TEST</td>\n",
       "      <td>50</td>\n",
       "      <td>87.039783</td>\n",
       "      <td>12578.880651</td>\n",
       "    </tr>\n",
       "    <tr>\n",
       "      <th>12</th>\n",
       "      <td>TEST</td>\n",
       "      <td>56</td>\n",
       "      <td>194.000000</td>\n",
       "      <td>37636.000000</td>\n",
       "    </tr>\n",
       "    <tr>\n",
       "      <th>13</th>\n",
       "      <td>TEST</td>\n",
       "      <td>100</td>\n",
       "      <td>72.311239</td>\n",
       "      <td>10107.694524</td>\n",
       "    </tr>\n",
       "    <tr>\n",
       "      <th>14</th>\n",
       "      <td>TEST</td>\n",
       "      <td>150</td>\n",
       "      <td>86.222707</td>\n",
       "      <td>11776.930131</td>\n",
       "    </tr>\n",
       "    <tr>\n",
       "      <th>15</th>\n",
       "      <td>TEST</td>\n",
       "      <td>200</td>\n",
       "      <td>86.596154</td>\n",
       "      <td>11625.839744</td>\n",
       "    </tr>\n",
       "    <tr>\n",
       "      <th>16</th>\n",
       "      <td>TEST</td>\n",
       "      <td>250</td>\n",
       "      <td>80.471136</td>\n",
       "      <td>14009.849162</td>\n",
       "    </tr>\n",
       "    <tr>\n",
       "      <th>17</th>\n",
       "      <td>TEST</td>\n",
       "      <td>500</td>\n",
       "      <td>226.503300</td>\n",
       "      <td>69987.156766</td>\n",
       "    </tr>\n",
       "  </tbody>\n",
       "</table>\n",
       "</div>"
      ],
      "text/plain": [
       "    TYPE  TRUE  ABSOLUTE_ERROR  SQUARE_ERROR\n",
       "0   TEST     0       47.169811   4231.371069\n",
       "1   TEST     1       55.626866   5202.582090\n",
       "2   TEST     2       49.532468   3982.519481\n",
       "3   TEST     3       50.541667   5144.000000\n",
       "4   TEST     4       48.323077   4110.876923\n",
       "5   TEST     5       81.377236  12102.037398\n",
       "6   TEST     6      148.500000  31172.500000\n",
       "7   TEST     7       28.000000    784.000000\n",
       "8   TEST     8      192.000000  36864.000000\n",
       "9   TEST    14       86.000000   7396.000000\n",
       "10  TEST    25       83.582589  12939.167411\n",
       "11  TEST    50       87.039783  12578.880651\n",
       "12  TEST    56      194.000000  37636.000000\n",
       "13  TEST   100       72.311239  10107.694524\n",
       "14  TEST   150       86.222707  11776.930131\n",
       "15  TEST   200       86.596154  11625.839744\n",
       "16  TEST   250       80.471136  14009.849162\n",
       "17  TEST   500      226.503300  69987.156766"
      ]
     },
     "execution_count": 801,
     "metadata": {},
     "output_type": "execute_result"
    }
   ],
   "source": [
    "# Imprime los resultados por cantidad en cuanto al MAE y MSE para los datos de prueba\n",
    "resultados_por_cantidad.loc[resultados_por_cantidad['TYPE']=='TEST']"
   ]
  },
  {
   "cell_type": "markdown",
   "metadata": {
    "heading_collapsed": true
   },
   "source": [
    "### Stacked Model\n",
    "\n",
    "Una idea final que tuve para lograr el mejor modelo posible dentro del tiempo que tenía para experimentar con los datos fue hacer un modelo que a partir de las predicciones de los tres modelos presentados anteriormente."
   ]
  },
  {
   "cell_type": "code",
   "execution_count": 807,
   "metadata": {
    "ExecuteTime": {
     "end_time": "2021-03-15T04:15:28.207171Z",
     "start_time": "2021-03-15T04:15:28.193317Z"
    },
    "hidden": true
   },
   "outputs": [],
   "source": [
    "# Construccion de dataset de predicciones\n",
    "resultados = resultados_xgb[['TYPE', 'TRUE', 'PREDICTED']].rename(columns={'PREDICTED': 'PREDICTED_XGB'})\n",
    "resultados['PREDICTED_NN'] = resultados_nn['PREDICTED']\n",
    "resultados['PREDICTED_RF'] = resultados_rf['PREDICTED']\n",
    "\n",
    "# Separa en train y test\n",
    "X_train_stack = resultados.loc[resultados['TYPE']=='TRAIN'].drop(columns=['TYPE', 'TRUE'])\n",
    "X_test_stack = resultados.loc[resultados['TYPE']=='TEST'].drop(columns=['TYPE', 'TRUE'])\n",
    "Y_train_stack = resultados.loc[resultados['TYPE']=='TRAIN', 'TRUE'] \n",
    "Y_test_stack = resultados.loc[resultados['TYPE']=='TEST', 'TRUE']"
   ]
  },
  {
   "cell_type": "code",
   "execution_count": 833,
   "metadata": {
    "ExecuteTime": {
     "end_time": "2021-03-15T04:20:08.575276Z",
     "start_time": "2021-03-15T04:19:56.981618Z"
    },
    "hidden": true
   },
   "outputs": [
    {
     "name": "stdout",
     "output_type": "stream",
     "text": [
      "Fitting 5 folds for each of 16 candidates, totalling 80 fits\n"
     ]
    },
    {
     "name": "stderr",
     "output_type": "stream",
     "text": [
      "[Parallel(n_jobs=-1)]: Using backend LokyBackend with 16 concurrent workers.\n",
      "[Parallel(n_jobs=-1)]: Done  18 tasks      | elapsed:    1.5s\n",
      "[Parallel(n_jobs=-1)]: Done  80 out of  80 | elapsed:    9.8s finished\n"
     ]
    }
   ],
   "source": [
    "# Diccionario de hiperparametros a tunear\n",
    "param_tuning = {'n_estimators': [100, 1000],\n",
    "               'max_features': ['auto', 'sqrt'],\n",
    "               'max_depth': [3, 5, 7, 10],\n",
    "               'bootstrap': [False]}\n",
    "\n",
    "# Se evalua para todas las combinaciones de hiperparametros cual tiene el menor error de validacion\n",
    "# usando validacion cruzada para 5-folds\n",
    "\n",
    "# Modelo RFRegressor\n",
    "rf_stack_model = RandomForestRegressor(random_state=1608)\n",
    "\n",
    "# Validacion cruzada\n",
    "k_folds = KFold(n_splits=5, shuffle=True, random_state=1608)\n",
    "grid_search_cv = GridSearchCV(estimator = rf_model,\n",
    "                              param_grid = param_tuning,            \n",
    "                              cv = k_folds,\n",
    "                              n_jobs = -1,\n",
    "                              verbose = 1)\n",
    "cv_fit = grid_search_cv.fit(X=X_train_stack, y=Y_train_stack) # Fit"
   ]
  },
  {
   "cell_type": "code",
   "execution_count": 834,
   "metadata": {
    "ExecuteTime": {
     "end_time": "2021-03-15T04:20:09.953221Z",
     "start_time": "2021-03-15T04:20:09.949709Z"
    },
    "hidden": true,
    "scrolled": true
   },
   "outputs": [
    {
     "data": {
      "text/plain": [
       "{'bootstrap': False,\n",
       " 'max_depth': 7,\n",
       " 'max_features': 'sqrt',\n",
       " 'n_estimators': 1000}"
      ]
     },
     "execution_count": 834,
     "metadata": {},
     "output_type": "execute_result"
    }
   ],
   "source": [
    "# Imprime los mejores parametros bajo el score de cv calculado para cada iteracion\n",
    "grid_search_cv.best_params_"
   ]
  },
  {
   "cell_type": "code",
   "execution_count": 835,
   "metadata": {
    "ExecuteTime": {
     "end_time": "2021-03-15T04:20:12.454604Z",
     "start_time": "2021-03-15T04:20:11.795619Z"
    },
    "hidden": true
   },
   "outputs": [],
   "source": [
    "# Se generan las predicciones para el entrenamiento y prueba y se evaluan dos metricas: RMSE y MAE\n",
    "rf_stack_best_model = grid_search_cv.best_estimator_\n",
    "test_predictions = rf_stack_best_model.predict(X_test_stack)\n",
    "train_predictions = rf_stack_best_model.predict(X_train_stack)"
   ]
  },
  {
   "cell_type": "code",
   "execution_count": 836,
   "metadata": {
    "ExecuteTime": {
     "end_time": "2021-03-15T04:20:12.721621Z",
     "start_time": "2021-03-15T04:20:12.716365Z"
    },
    "hidden": true
   },
   "outputs": [
    {
     "name": "stdout",
     "output_type": "stream",
     "text": [
      "RMSE DE ENTRENAMIENTO: 75.68\n",
      "RMSE DE PRUEBA: 104.24\n",
      "DIFERENCIA DE: 37.73%\n"
     ]
    }
   ],
   "source": [
    "# Comparacion RSME train y test\n",
    "rmse_train = np.sqrt(mean_squared_error(y_pred=train_predictions, y_true=Y_train))\n",
    "rmse_test = np.sqrt(mean_squared_error(y_pred=test_predictions, y_true=Y_test))\n",
    "print('RMSE DE ENTRENAMIENTO: {}'.format(np.round(rmse_train,2)))\n",
    "print('RMSE DE PRUEBA: {}'.format(np.round(rmse_test,2)))\n",
    "diferencia_porcentual = np.round(100*(rmse_test-rmse_train)/rmse_train,2)\n",
    "print('DIFERENCIA DE: {}%'.format(diferencia_porcentual))"
   ]
  },
  {
   "cell_type": "code",
   "execution_count": 837,
   "metadata": {
    "ExecuteTime": {
     "end_time": "2021-03-15T04:20:15.221383Z",
     "start_time": "2021-03-15T04:20:15.216227Z"
    },
    "hidden": true
   },
   "outputs": [
    {
     "name": "stdout",
     "output_type": "stream",
     "text": [
      "MAE DE ENTRENAMIENTO: 47.94\n",
      "MAE DE PRUEBA: 66.9\n",
      "DIFERENCIA DE: 39.54%\n"
     ]
    }
   ],
   "source": [
    "# Comparacion MAE train y test\n",
    "mae_train = mean_absolute_error(y_pred=train_predictions, y_true=Y_train)\n",
    "mae_test = mean_absolute_error(y_pred=test_predictions, y_true=Y_test)\n",
    "diferencia_porcentual = np.round(100*(mae_test-mae_train)/mae_train,2)\n",
    "print('MAE DE ENTRENAMIENTO: {}'.format(np.round(mae_train,2)))\n",
    "print('MAE DE PRUEBA: {}'.format(np.round(mae_test,2)))\n",
    "print('DIFERENCIA DE: {}%'.format(diferencia_porcentual))"
   ]
  },
  {
   "cell_type": "code",
   "execution_count": 838,
   "metadata": {
    "ExecuteTime": {
     "end_time": "2021-03-15T04:20:16.543478Z",
     "start_time": "2021-03-15T04:20:16.443156Z"
    },
    "hidden": true
   },
   "outputs": [],
   "source": [
    "values = sorted(Y_train.unique())\n",
    "test_predictions = [find_nearest(values, p)for p in test_predictions] \n",
    "train_predictions = [find_nearest(values, p)for p in train_predictions] "
   ]
  },
  {
   "cell_type": "code",
   "execution_count": 839,
   "metadata": {
    "ExecuteTime": {
     "end_time": "2021-03-15T04:20:18.057565Z",
     "start_time": "2021-03-15T04:20:18.051366Z"
    },
    "hidden": true
   },
   "outputs": [
    {
     "name": "stdout",
     "output_type": "stream",
     "text": [
      "RMSE DE ENTRENAMIENTO: 82.61\n",
      "RMSE DE PRUEBA: 109.4\n",
      "DIFERENCIA DE: 32.43%\n"
     ]
    }
   ],
   "source": [
    "# Comparacion RSME train y test\n",
    "rmse_train = np.sqrt(mean_squared_error(y_pred=train_predictions, y_true=Y_train))\n",
    "rmse_test = np.sqrt(mean_squared_error(y_pred=test_predictions, y_true=Y_test))\n",
    "print('RMSE DE ENTRENAMIENTO: {}'.format(np.round(rmse_train,2)))\n",
    "print('RMSE DE PRUEBA: {}'.format(np.round(rmse_test,2)))\n",
    "diferencia_porcentual = np.round(100*(rmse_test-rmse_train)/rmse_train,2)\n",
    "print('DIFERENCIA DE: {}%'.format(diferencia_porcentual))"
   ]
  },
  {
   "cell_type": "code",
   "execution_count": 840,
   "metadata": {
    "ExecuteTime": {
     "end_time": "2021-03-15T04:20:19.782364Z",
     "start_time": "2021-03-15T04:20:19.775860Z"
    },
    "hidden": true
   },
   "outputs": [
    {
     "name": "stdout",
     "output_type": "stream",
     "text": [
      "MAE DE ENTRENAMIENTO: 44.36\n",
      "MAE DE PRUEBA: 64.12\n",
      "DIFERENCIA DE: 44.54%\n"
     ]
    }
   ],
   "source": [
    "# Comparacion MAE train y test\n",
    "mae_train = mean_absolute_error(y_pred=train_predictions, y_true=Y_train)\n",
    "mae_test = mean_absolute_error(y_pred=test_predictions, y_true=Y_test)\n",
    "diferencia_porcentual = np.round(100*(mae_test-mae_train)/mae_train,2)\n",
    "print('MAE DE ENTRENAMIENTO: {}'.format(np.round(mae_train,2)))\n",
    "print('MAE DE PRUEBA: {}'.format(np.round(mae_test,2)))\n",
    "print('DIFERENCIA DE: {}%'.format(diferencia_porcentual))"
   ]
  },
  {
   "cell_type": "code",
   "execution_count": 841,
   "metadata": {
    "ExecuteTime": {
     "end_time": "2021-03-15T04:20:21.281942Z",
     "start_time": "2021-03-15T04:20:21.268942Z"
    },
    "hidden": true
   },
   "outputs": [],
   "source": [
    "# Se crea un dataframe con los resultados\n",
    "resultados_train = pd.DataFrame({'TYPE': ['TRAIN']*len(Y_train), 'TRUE': Y_train, 'PREDICTED': train_predictions})\n",
    "resultados_test = pd.DataFrame({'TYPE': ['TEST']*len(Y_test), 'TRUE': Y_test, 'PREDICTED': test_predictions})\n",
    "resultados_rf = pd.concat([resultados_train, resultados_test], axis=0).reset_index(drop=True)\n",
    "resultados_rf['ABSOLUTE_ERROR'] = (resultados_rf['TRUE']-resultados_rf['PREDICTED']).abs()\n",
    "resultados_rf['SQUARE_ERROR'] = (resultados_rf['TRUE']-resultados_rf['PREDICTED'])**2"
   ]
  },
  {
   "cell_type": "code",
   "execution_count": 842,
   "metadata": {
    "ExecuteTime": {
     "end_time": "2021-03-15T04:20:22.605567Z",
     "start_time": "2021-03-15T04:20:22.597383Z"
    },
    "hidden": true
   },
   "outputs": [],
   "source": [
    "# Resultados por cantidad\n",
    "resultados_por_cantidad = resultados_rf.groupby(['TYPE', 'TRUE'])[['ABSOLUTE_ERROR', 'SQUARE_ERROR']].mean().reset_index()"
   ]
  },
  {
   "cell_type": "code",
   "execution_count": 843,
   "metadata": {
    "ExecuteTime": {
     "end_time": "2021-03-15T04:20:23.944730Z",
     "start_time": "2021-03-15T04:20:23.934210Z"
    },
    "hidden": true,
    "scrolled": false
   },
   "outputs": [
    {
     "data": {
      "text/html": [
       "<div>\n",
       "<style scoped>\n",
       "    .dataframe tbody tr th:only-of-type {\n",
       "        vertical-align: middle;\n",
       "    }\n",
       "\n",
       "    .dataframe tbody tr th {\n",
       "        vertical-align: top;\n",
       "    }\n",
       "\n",
       "    .dataframe thead th {\n",
       "        text-align: right;\n",
       "    }\n",
       "</style>\n",
       "<table border=\"1\" class=\"dataframe\">\n",
       "  <thead>\n",
       "    <tr style=\"text-align: right;\">\n",
       "      <th></th>\n",
       "      <th>TYPE</th>\n",
       "      <th>TRUE</th>\n",
       "      <th>ABSOLUTE_ERROR</th>\n",
       "      <th>SQUARE_ERROR</th>\n",
       "    </tr>\n",
       "  </thead>\n",
       "  <tbody>\n",
       "    <tr>\n",
       "      <th>0</th>\n",
       "      <td>TEST</td>\n",
       "      <td>0</td>\n",
       "      <td>9.817610</td>\n",
       "      <td>136.798742</td>\n",
       "    </tr>\n",
       "    <tr>\n",
       "      <th>1</th>\n",
       "      <td>TEST</td>\n",
       "      <td>1</td>\n",
       "      <td>11.373134</td>\n",
       "      <td>238.656716</td>\n",
       "    </tr>\n",
       "    <tr>\n",
       "      <th>2</th>\n",
       "      <td>TEST</td>\n",
       "      <td>2</td>\n",
       "      <td>9.103896</td>\n",
       "      <td>154.636364</td>\n",
       "    </tr>\n",
       "    <tr>\n",
       "      <th>3</th>\n",
       "      <td>TEST</td>\n",
       "      <td>3</td>\n",
       "      <td>11.687500</td>\n",
       "      <td>403.187500</td>\n",
       "    </tr>\n",
       "    <tr>\n",
       "      <th>4</th>\n",
       "      <td>TEST</td>\n",
       "      <td>4</td>\n",
       "      <td>8.000000</td>\n",
       "      <td>142.584615</td>\n",
       "    </tr>\n",
       "    <tr>\n",
       "      <th>5</th>\n",
       "      <td>TEST</td>\n",
       "      <td>5</td>\n",
       "      <td>25.557724</td>\n",
       "      <td>2007.593496</td>\n",
       "    </tr>\n",
       "    <tr>\n",
       "      <th>6</th>\n",
       "      <td>TEST</td>\n",
       "      <td>6</td>\n",
       "      <td>48.500000</td>\n",
       "      <td>2372.500000</td>\n",
       "    </tr>\n",
       "    <tr>\n",
       "      <th>7</th>\n",
       "      <td>TEST</td>\n",
       "      <td>7</td>\n",
       "      <td>52.000000</td>\n",
       "      <td>2704.000000</td>\n",
       "    </tr>\n",
       "    <tr>\n",
       "      <th>8</th>\n",
       "      <td>TEST</td>\n",
       "      <td>8</td>\n",
       "      <td>17.000000</td>\n",
       "      <td>289.000000</td>\n",
       "    </tr>\n",
       "    <tr>\n",
       "      <th>9</th>\n",
       "      <td>TEST</td>\n",
       "      <td>14</td>\n",
       "      <td>21.000000</td>\n",
       "      <td>441.000000</td>\n",
       "    </tr>\n",
       "    <tr>\n",
       "      <th>10</th>\n",
       "      <td>TEST</td>\n",
       "      <td>25</td>\n",
       "      <td>38.966518</td>\n",
       "      <td>3754.154018</td>\n",
       "    </tr>\n",
       "    <tr>\n",
       "      <th>11</th>\n",
       "      <td>TEST</td>\n",
       "      <td>50</td>\n",
       "      <td>51.956600</td>\n",
       "      <td>5494.318264</td>\n",
       "    </tr>\n",
       "    <tr>\n",
       "      <th>12</th>\n",
       "      <td>TEST</td>\n",
       "      <td>56</td>\n",
       "      <td>44.000000</td>\n",
       "      <td>1936.000000</td>\n",
       "    </tr>\n",
       "    <tr>\n",
       "      <th>13</th>\n",
       "      <td>TEST</td>\n",
       "      <td>100</td>\n",
       "      <td>67.239193</td>\n",
       "      <td>8749.135447</td>\n",
       "    </tr>\n",
       "    <tr>\n",
       "      <th>14</th>\n",
       "      <td>TEST</td>\n",
       "      <td>150</td>\n",
       "      <td>69.816594</td>\n",
       "      <td>8079.283843</td>\n",
       "    </tr>\n",
       "    <tr>\n",
       "      <th>15</th>\n",
       "      <td>TEST</td>\n",
       "      <td>200</td>\n",
       "      <td>73.538462</td>\n",
       "      <td>8645.012821</td>\n",
       "    </tr>\n",
       "    <tr>\n",
       "      <th>16</th>\n",
       "      <td>TEST</td>\n",
       "      <td>250</td>\n",
       "      <td>72.124767</td>\n",
       "      <td>13365.502793</td>\n",
       "    </tr>\n",
       "    <tr>\n",
       "      <th>17</th>\n",
       "      <td>TEST</td>\n",
       "      <td>500</td>\n",
       "      <td>156.991749</td>\n",
       "      <td>45180.823432</td>\n",
       "    </tr>\n",
       "  </tbody>\n",
       "</table>\n",
       "</div>"
      ],
      "text/plain": [
       "    TYPE  TRUE  ABSOLUTE_ERROR  SQUARE_ERROR\n",
       "0   TEST     0        9.817610    136.798742\n",
       "1   TEST     1       11.373134    238.656716\n",
       "2   TEST     2        9.103896    154.636364\n",
       "3   TEST     3       11.687500    403.187500\n",
       "4   TEST     4        8.000000    142.584615\n",
       "5   TEST     5       25.557724   2007.593496\n",
       "6   TEST     6       48.500000   2372.500000\n",
       "7   TEST     7       52.000000   2704.000000\n",
       "8   TEST     8       17.000000    289.000000\n",
       "9   TEST    14       21.000000    441.000000\n",
       "10  TEST    25       38.966518   3754.154018\n",
       "11  TEST    50       51.956600   5494.318264\n",
       "12  TEST    56       44.000000   1936.000000\n",
       "13  TEST   100       67.239193   8749.135447\n",
       "14  TEST   150       69.816594   8079.283843\n",
       "15  TEST   200       73.538462   8645.012821\n",
       "16  TEST   250       72.124767  13365.502793\n",
       "17  TEST   500      156.991749  45180.823432"
      ]
     },
     "execution_count": 843,
     "metadata": {},
     "output_type": "execute_result"
    }
   ],
   "source": [
    "# Imprime los resultados por cantidad en cuanto al MAE y MSE para los datos de prueba\n",
    "resultados_por_cantidad.loc[resultados_por_cantidad['TYPE']=='TEST']"
   ]
  },
  {
   "cell_type": "markdown",
   "metadata": {},
   "source": [
    "## Alternativa: Modelos de Clasificación\n",
    "\n",
    "Una alternativa que se propone es trabajar con rangos de `ITEM_SOLD_QUANTITY`. Se usarán para el siguiente análisis los siguientes rangos (que serán tomados como clases):\n",
    "\n",
    "1. 0-50: De 0 a 50 cantdiades vendidas.\n",
    "\n",
    "1. 51-100: De 51 a 100 cantdiades vendidas.\n",
    "\n",
    "1. 101-150: De 101 a 150 cantdiades vendidas.\n",
    "\n",
    "1. 151-200: De 151 a 200 cantdiades vendidas.\n",
    "\n",
    "1. 201-250: De 201 a 250 cantdiades vendidas.\n",
    "\n",
    "1. 251-500: De 251 a 500 cantdiades vendidas."
   ]
  },
  {
   "cell_type": "markdown",
   "metadata": {
    "heading_collapsed": true
   },
   "source": [
    "### Definición de los Rangos de Cantidades Vendidas\n",
    "\n",
    "Se crea una variable en el dataset de products para definir los rangos/clases de cantidades vendidas."
   ]
  },
  {
   "cell_type": "code",
   "execution_count": 658,
   "metadata": {
    "ExecuteTime": {
     "end_time": "2021-03-15T02:46:12.949537Z",
     "start_time": "2021-03-15T02:46:12.930172Z"
    },
    "hidden": true
   },
   "outputs": [
    {
     "data": {
      "text/plain": [
       "array(['0-50', '201-250', '251-500', '101-150', '51-100', '151-200'],\n",
       "      dtype=object)"
      ]
     },
     "execution_count": 658,
     "metadata": {},
     "output_type": "execute_result"
    }
   ],
   "source": [
    "# Se define la variables de rangos\n",
    "products['ITEM_RANGE_SOLD_QUANTITY'] = ''\n",
    "products.loc[(products['ITEM_SOLD_QUANTITY'] >= 0) &\n",
    "             (products['ITEM_SOLD_QUANTITY'] <= 50), 'ITEM_RANGE_SOLD_QUANTITY'] = '0-50'\n",
    "products.loc[(products['ITEM_SOLD_QUANTITY'] >= 51) &\n",
    "             (products['ITEM_SOLD_QUANTITY'] <= 100), 'ITEM_RANGE_SOLD_QUANTITY'] = '51-100'\n",
    "products.loc[(products['ITEM_SOLD_QUANTITY'] >= 101) &\n",
    "             (products['ITEM_SOLD_QUANTITY'] <= 150), 'ITEM_RANGE_SOLD_QUANTITY'] = '101-150'\n",
    "products.loc[(products['ITEM_SOLD_QUANTITY'] >= 151) &\n",
    "             (products['ITEM_SOLD_QUANTITY'] <= 200), 'ITEM_RANGE_SOLD_QUANTITY'] = '151-200'\n",
    "products.loc[(products['ITEM_SOLD_QUANTITY'] >= 201) &\n",
    "             (products['ITEM_SOLD_QUANTITY'] <= 250), 'ITEM_RANGE_SOLD_QUANTITY'] = '201-250'\n",
    "products.loc[(products['ITEM_SOLD_QUANTITY'] >= 251) &\n",
    "             (products['ITEM_SOLD_QUANTITY'] <= 500), 'ITEM_RANGE_SOLD_QUANTITY'] = '251-500'"
   ]
  },
  {
   "cell_type": "code",
   "execution_count": 659,
   "metadata": {
    "ExecuteTime": {
     "end_time": "2021-03-15T02:47:53.403203Z",
     "start_time": "2021-03-15T02:47:53.235372Z"
    },
    "hidden": true
   },
   "outputs": [],
   "source": [
    "# Divide los datos en entrenamiento y prueba\n",
    "Y = products['ITEM_RANGE_SOLD_QUANTITY']\n",
    "X = products_numeric.drop(columns='ITEM_SOLD_QUANTITY')\n",
    "X_train, X_test, Y_train, Y_test = train_test_split(X,Y,test_size=0.3, random_state=1608)\n",
    "indexes_train = X_train.index.tolist()\n",
    "indexes_test = X_test.index.tolist()\n",
    "\n",
    "## Estandarizacion para las numericas\n",
    "standard_scaler = StandardScaler() \n",
    "X_train_std = standard_scaler.fit_transform(X_train)\n",
    "X_test_std = standard_scaler.transform(X_test)\n",
    "\n",
    "## Construye la matriz de datos con todos los tipos de data\n",
    "X_train_total = np.concatenate((X_train_std, products_encoded_categoricals[indexes_train,:],\n",
    "                                products_binary.loc[indexes_train]), axis=1)\n",
    "X_test_total = np.concatenate((X_test_std, products_encoded_categoricals[indexes_test,:],\n",
    "                                products_binary.loc[indexes_test]), axis=1)"
   ]
  },
  {
   "cell_type": "code",
   "execution_count": 678,
   "metadata": {
    "ExecuteTime": {
     "end_time": "2021-03-15T03:00:56.139425Z",
     "start_time": "2021-03-15T03:00:56.131627Z"
    },
    "hidden": true
   },
   "outputs": [],
   "source": [
    "# Cambio de variable respuesta a matriz de dummies\n",
    "\n",
    "## OneHotEncoding para las columnas categoricas\n",
    "# Define el one_hot_encoder\n",
    "one_hot_encoder_class = OneHotEncoder(sparse=False)\n",
    "# Transforma los datos\n",
    "Y_train_matriz = one_hot_encoder_class.fit_transform(np.array(Y_train).reshape(Y_train.shape[0], 1))\n",
    "Y_test_matriz = one_hot_encoder_class.transform(np.array(Y_test).reshape(Y_test.shape[0], 1))"
   ]
  },
  {
   "cell_type": "markdown",
   "metadata": {},
   "source": [
    "### Neural Network\n",
    "\n",
    "Se construye una red neuronal y se evalua su rendimiento."
   ]
  },
  {
   "cell_type": "code",
   "execution_count": 702,
   "metadata": {
    "ExecuteTime": {
     "end_time": "2021-03-15T03:08:27.288221Z",
     "start_time": "2021-03-15T03:08:27.218950Z"
    }
   },
   "outputs": [],
   "source": [
    "# Semilla aleatoria fijada \n",
    "tf.random.set_seed(1608)\n",
    "\n",
    "# Capa General 1: Capa Convolucional\n",
    "nn_model = tf.keras.models.Sequential()\n",
    "\n",
    "\n",
    "nn_model.add(tf.keras.layers.Dense(10, input_shape=(X_train_total.shape[1],), activation='relu'))\n",
    "nn_model.add(tf.keras.layers.Dropout(0.25))\n",
    "\n",
    "nn_model.add(tf.keras.layers.Dense(25, activation='relu'))\n",
    "nn_model.add(tf.keras.layers.Dropout(0.25))\n",
    "\n",
    "nn_model.add(tf.keras.layers.Dense(25, activation='relu'))\n",
    "nn_model.add(tf.keras.layers.Dropout(0.5))\n",
    "\n",
    "nn_model.add(tf.keras.layers.Dense(25, activation='relu'))\n",
    "nn_model.add(tf.keras.layers.Dropout(0.25))\n",
    "\n",
    "nn_model.add(tf.keras.layers.Dense(10, activation='relu'))\n",
    "nn_model.add(tf.keras.layers.Dropout(0.25))\n",
    "          \n",
    "nn_model.add(tf.keras.layers.Dense(products['ITEM_RANGE_SOLD_QUANTITY'].nunique()))\n",
    "nn_model.add(tf.keras.layers.Activation('softmax'))\n",
    "\n",
    "# Se especifica cual es el optimizador (metodo de descenso del gradiente a usar, la función de perdida y las metricas a mostrar)\n",
    "nn_model.compile(optimizer='adam', loss='categorical_crossentropy', metrics=['accuracy'])"
   ]
  },
  {
   "cell_type": "code",
   "execution_count": 700,
   "metadata": {
    "ExecuteTime": {
     "end_time": "2021-03-15T03:07:36.058189Z",
     "start_time": "2021-03-15T03:07:36.053705Z"
    },
    "scrolled": false
   },
   "outputs": [
    {
     "name": "stdout",
     "output_type": "stream",
     "text": [
      "Model: \"sequential_22\"\n",
      "_________________________________________________________________\n",
      "Layer (type)                 Output Shape              Param #   \n",
      "=================================================================\n",
      "dense_121 (Dense)            (None, 10)                11650     \n",
      "_________________________________________________________________\n",
      "dropout_101 (Dropout)        (None, 10)                0         \n",
      "_________________________________________________________________\n",
      "dense_122 (Dense)            (None, 25)                275       \n",
      "_________________________________________________________________\n",
      "dropout_102 (Dropout)        (None, 25)                0         \n",
      "_________________________________________________________________\n",
      "dense_123 (Dense)            (None, 25)                650       \n",
      "_________________________________________________________________\n",
      "dropout_103 (Dropout)        (None, 25)                0         \n",
      "_________________________________________________________________\n",
      "dense_124 (Dense)            (None, 25)                650       \n",
      "_________________________________________________________________\n",
      "dropout_104 (Dropout)        (None, 25)                0         \n",
      "_________________________________________________________________\n",
      "dense_125 (Dense)            (None, 10)                260       \n",
      "_________________________________________________________________\n",
      "dropout_105 (Dropout)        (None, 10)                0         \n",
      "_________________________________________________________________\n",
      "dense_126 (Dense)            (None, 6)                 66        \n",
      "_________________________________________________________________\n",
      "activation_9 (Activation)    (None, 6)                 0         \n",
      "=================================================================\n",
      "Total params: 13,551\n",
      "Trainable params: 13,551\n",
      "Non-trainable params: 0\n",
      "_________________________________________________________________\n"
     ]
    }
   ],
   "source": [
    "# Summary de la red neuronal usada\n",
    "nn_model.summary()"
   ]
  },
  {
   "cell_type": "code",
   "execution_count": 703,
   "metadata": {
    "ExecuteTime": {
     "end_time": "2021-03-15T03:08:46.693588Z",
     "start_time": "2021-03-15T03:08:27.655947Z"
    },
    "collapsed": true
   },
   "outputs": [
    {
     "name": "stdout",
     "output_type": "stream",
     "text": [
      "Epoch 1/250\n",
      "5/5 [==============================] - 1s 44ms/step - loss: 1.8052 - accuracy: 0.1133 - val_loss: 1.7704 - val_accuracy: 0.3527\n",
      "Epoch 2/250\n",
      "5/5 [==============================] - 0s 14ms/step - loss: 1.7785 - accuracy: 0.2191 - val_loss: 1.7550 - val_accuracy: 0.5027\n",
      "Epoch 3/250\n",
      "5/5 [==============================] - 0s 14ms/step - loss: 1.7609 - accuracy: 0.3154 - val_loss: 1.7379 - val_accuracy: 0.5126\n",
      "Epoch 4/250\n",
      "5/5 [==============================] - 0s 14ms/step - loss: 1.7385 - accuracy: 0.3736 - val_loss: 1.7147 - val_accuracy: 0.5126\n",
      "Epoch 5/250\n",
      "5/5 [==============================] - 0s 14ms/step - loss: 1.7178 - accuracy: 0.3896 - val_loss: 1.6849 - val_accuracy: 0.5126\n",
      "Epoch 6/250\n",
      "5/5 [==============================] - 0s 14ms/step - loss: 1.6905 - accuracy: 0.4095 - val_loss: 1.6496 - val_accuracy: 0.5126\n",
      "Epoch 7/250\n",
      "5/5 [==============================] - 0s 14ms/step - loss: 1.6670 - accuracy: 0.4137 - val_loss: 1.6126 - val_accuracy: 0.5126\n",
      "Epoch 8/250\n",
      "5/5 [==============================] - 0s 14ms/step - loss: 1.6409 - accuracy: 0.4343 - val_loss: 1.5813 - val_accuracy: 0.5126\n",
      "Epoch 9/250\n",
      "5/5 [==============================] - 0s 14ms/step - loss: 1.6261 - accuracy: 0.4662 - val_loss: 1.5549 - val_accuracy: 0.5126\n",
      "Epoch 10/250\n",
      "5/5 [==============================] - 0s 14ms/step - loss: 1.6001 - accuracy: 0.4863 - val_loss: 1.5312 - val_accuracy: 0.5126\n",
      "Epoch 11/250\n",
      "5/5 [==============================] - 0s 14ms/step - loss: 1.5829 - accuracy: 0.5009 - val_loss: 1.5103 - val_accuracy: 0.5126\n",
      "Epoch 12/250\n",
      "5/5 [==============================] - 0s 15ms/step - loss: 1.5572 - accuracy: 0.5063 - val_loss: 1.4881 - val_accuracy: 0.5126\n",
      "Epoch 13/250\n",
      "5/5 [==============================] - 0s 14ms/step - loss: 1.5349 - accuracy: 0.5153 - val_loss: 1.4683 - val_accuracy: 0.5126\n",
      "Epoch 14/250\n",
      "5/5 [==============================] - 0s 15ms/step - loss: 1.5216 - accuracy: 0.5063 - val_loss: 1.4490 - val_accuracy: 0.5126\n",
      "Epoch 15/250\n",
      "5/5 [==============================] - 0s 15ms/step - loss: 1.4988 - accuracy: 0.5128 - val_loss: 1.4251 - val_accuracy: 0.5126\n",
      "Epoch 16/250\n",
      "5/5 [==============================] - 0s 14ms/step - loss: 1.4853 - accuracy: 0.5150 - val_loss: 1.4017 - val_accuracy: 0.5126\n",
      "Epoch 17/250\n",
      "5/5 [==============================] - 0s 14ms/step - loss: 1.4612 - accuracy: 0.5170 - val_loss: 1.3805 - val_accuracy: 0.5126\n",
      "Epoch 18/250\n",
      "5/5 [==============================] - 0s 14ms/step - loss: 1.4319 - accuracy: 0.5146 - val_loss: 1.3614 - val_accuracy: 0.5126\n",
      "Epoch 19/250\n",
      "5/5 [==============================] - 0s 14ms/step - loss: 1.4217 - accuracy: 0.5172 - val_loss: 1.3427 - val_accuracy: 0.5126\n",
      "Epoch 20/250\n",
      "5/5 [==============================] - 0s 14ms/step - loss: 1.4031 - accuracy: 0.5163 - val_loss: 1.3267 - val_accuracy: 0.5126\n",
      "Epoch 21/250\n",
      "5/5 [==============================] - 0s 121ms/step - loss: 1.3769 - accuracy: 0.5218 - val_loss: 1.3109 - val_accuracy: 0.5126\n",
      "Epoch 22/250\n",
      "5/5 [==============================] - 0s 15ms/step - loss: 1.3756 - accuracy: 0.5160 - val_loss: 1.2998 - val_accuracy: 0.5126\n",
      "Epoch 23/250\n",
      "5/5 [==============================] - 0s 14ms/step - loss: 1.3463 - accuracy: 0.5206 - val_loss: 1.2910 - val_accuracy: 0.5126\n",
      "Epoch 24/250\n",
      "5/5 [==============================] - 0s 14ms/step - loss: 1.3365 - accuracy: 0.5160 - val_loss: 1.2825 - val_accuracy: 0.5126\n",
      "Epoch 25/250\n",
      "5/5 [==============================] - 0s 14ms/step - loss: 1.3285 - accuracy: 0.5219 - val_loss: 1.2722 - val_accuracy: 0.5126\n",
      "Epoch 26/250\n",
      "5/5 [==============================] - 0s 14ms/step - loss: 1.3173 - accuracy: 0.5214 - val_loss: 1.2649 - val_accuracy: 0.5126\n",
      "Epoch 27/250\n",
      "5/5 [==============================] - 0s 14ms/step - loss: 1.3060 - accuracy: 0.5246 - val_loss: 1.2597 - val_accuracy: 0.5126\n",
      "Epoch 28/250\n",
      "5/5 [==============================] - 0s 15ms/step - loss: 1.2992 - accuracy: 0.5168 - val_loss: 1.2582 - val_accuracy: 0.5126\n",
      "Epoch 29/250\n",
      "5/5 [==============================] - 0s 15ms/step - loss: 1.2904 - accuracy: 0.5132 - val_loss: 1.2561 - val_accuracy: 0.5126\n",
      "Epoch 30/250\n",
      "5/5 [==============================] - 0s 14ms/step - loss: 1.2748 - accuracy: 0.5219 - val_loss: 1.2494 - val_accuracy: 0.5126\n",
      "Epoch 31/250\n",
      "5/5 [==============================] - 0s 14ms/step - loss: 1.2851 - accuracy: 0.5160 - val_loss: 1.2441 - val_accuracy: 0.5126\n",
      "Epoch 32/250\n",
      "5/5 [==============================] - 0s 14ms/step - loss: 1.2548 - accuracy: 0.5228 - val_loss: 1.2433 - val_accuracy: 0.5126\n",
      "Epoch 33/250\n",
      "5/5 [==============================] - 0s 15ms/step - loss: 1.2617 - accuracy: 0.5001 - val_loss: 1.2401 - val_accuracy: 0.5126\n",
      "Epoch 34/250\n",
      "5/5 [==============================] - 0s 14ms/step - loss: 1.2543 - accuracy: 0.4955 - val_loss: 1.2398 - val_accuracy: 0.5126\n",
      "Epoch 35/250\n",
      "5/5 [==============================] - 0s 15ms/step - loss: 1.2556 - accuracy: 0.4932 - val_loss: 1.2436 - val_accuracy: 0.5126\n",
      "Epoch 36/250\n",
      "5/5 [==============================] - 0s 14ms/step - loss: 1.2529 - accuracy: 0.4976 - val_loss: 1.2363 - val_accuracy: 0.5126\n",
      "Epoch 37/250\n",
      "5/5 [==============================] - 0s 14ms/step - loss: 1.2327 - accuracy: 0.4976 - val_loss: 1.2308 - val_accuracy: 0.5126\n",
      "Epoch 38/250\n",
      "5/5 [==============================] - 0s 14ms/step - loss: 1.2257 - accuracy: 0.5003 - val_loss: 1.2275 - val_accuracy: 0.5126\n",
      "Epoch 39/250\n",
      "5/5 [==============================] - 0s 15ms/step - loss: 1.2348 - accuracy: 0.4938 - val_loss: 1.2285 - val_accuracy: 0.5126\n",
      "Epoch 40/250\n",
      "5/5 [==============================] - 0s 15ms/step - loss: 1.2160 - accuracy: 0.5009 - val_loss: 1.2299 - val_accuracy: 0.5126\n",
      "Epoch 41/250\n",
      "5/5 [==============================] - 0s 15ms/step - loss: 1.2216 - accuracy: 0.4944 - val_loss: 1.2210 - val_accuracy: 0.5126\n",
      "Epoch 42/250\n",
      "5/5 [==============================] - 0s 15ms/step - loss: 1.2047 - accuracy: 0.5060 - val_loss: 1.2183 - val_accuracy: 0.5126\n",
      "Epoch 43/250\n",
      "5/5 [==============================] - 0s 15ms/step - loss: 1.2064 - accuracy: 0.4981 - val_loss: 1.2246 - val_accuracy: 0.5126\n",
      "Epoch 44/250\n",
      "5/5 [==============================] - 0s 15ms/step - loss: 1.2020 - accuracy: 0.4996 - val_loss: 1.2266 - val_accuracy: 0.5126\n",
      "Epoch 45/250\n",
      "5/5 [==============================] - 0s 14ms/step - loss: 1.1999 - accuracy: 0.5009 - val_loss: 1.2170 - val_accuracy: 0.5126\n",
      "Epoch 46/250\n",
      "5/5 [==============================] - 0s 15ms/step - loss: 1.2098 - accuracy: 0.4968 - val_loss: 1.2180 - val_accuracy: 0.5126\n",
      "Epoch 47/250\n",
      "5/5 [==============================] - 0s 15ms/step - loss: 1.2165 - accuracy: 0.4901 - val_loss: 1.2274 - val_accuracy: 0.5126\n",
      "Epoch 48/250\n",
      "5/5 [==============================] - 0s 15ms/step - loss: 1.1927 - accuracy: 0.4981 - val_loss: 1.2237 - val_accuracy: 0.5126\n",
      "Epoch 49/250\n",
      "5/5 [==============================] - 0s 14ms/step - loss: 1.1931 - accuracy: 0.4999 - val_loss: 1.2197 - val_accuracy: 0.5126\n",
      "Epoch 50/250\n",
      "5/5 [==============================] - 0s 14ms/step - loss: 1.1882 - accuracy: 0.4943 - val_loss: 1.2141 - val_accuracy: 0.5126\n",
      "Epoch 51/250\n",
      "5/5 [==============================] - 0s 15ms/step - loss: 1.1701 - accuracy: 0.5035 - val_loss: 1.2193 - val_accuracy: 0.5126\n",
      "Epoch 52/250\n",
      "5/5 [==============================] - 0s 15ms/step - loss: 1.1865 - accuracy: 0.4966 - val_loss: 1.2271 - val_accuracy: 0.5126\n",
      "Epoch 53/250\n",
      "5/5 [==============================] - 0s 15ms/step - loss: 1.1836 - accuracy: 0.5013 - val_loss: 1.2226 - val_accuracy: 0.5126\n",
      "Epoch 54/250\n",
      "5/5 [==============================] - 0s 15ms/step - loss: 1.1744 - accuracy: 0.5021 - val_loss: 1.2252 - val_accuracy: 0.5126\n",
      "Epoch 55/250\n",
      "5/5 [==============================] - 0s 15ms/step - loss: 1.1681 - accuracy: 0.5064 - val_loss: 1.2222 - val_accuracy: 0.5126\n",
      "Epoch 56/250\n",
      "5/5 [==============================] - 0s 15ms/step - loss: 1.1728 - accuracy: 0.5064 - val_loss: 1.2171 - val_accuracy: 0.5126\n",
      "Epoch 57/250\n",
      "5/5 [==============================] - 0s 15ms/step - loss: 1.1723 - accuracy: 0.5107 - val_loss: 1.2300 - val_accuracy: 0.5126\n",
      "Epoch 58/250\n",
      "5/5 [==============================] - 0s 15ms/step - loss: 1.1655 - accuracy: 0.5162 - val_loss: 1.2165 - val_accuracy: 0.5126\n",
      "Epoch 59/250\n"
     ]
    },
    {
     "name": "stdout",
     "output_type": "stream",
     "text": [
      "5/5 [==============================] - 0s 15ms/step - loss: 1.1739 - accuracy: 0.5116 - val_loss: 1.2120 - val_accuracy: 0.5367\n",
      "Epoch 60/250\n",
      "5/5 [==============================] - 0s 15ms/step - loss: 1.1685 - accuracy: 0.5103 - val_loss: 1.2191 - val_accuracy: 0.5509\n",
      "Epoch 61/250\n",
      "5/5 [==============================] - 0s 14ms/step - loss: 1.1674 - accuracy: 0.5247 - val_loss: 1.2195 - val_accuracy: 0.5564\n",
      "Epoch 62/250\n",
      "5/5 [==============================] - 0s 14ms/step - loss: 1.1623 - accuracy: 0.5333 - val_loss: 1.2305 - val_accuracy: 0.5564\n",
      "Epoch 63/250\n",
      "5/5 [==============================] - 0s 14ms/step - loss: 1.1532 - accuracy: 0.5229 - val_loss: 1.2198 - val_accuracy: 0.5564\n",
      "Epoch 64/250\n",
      "5/5 [==============================] - 0s 14ms/step - loss: 1.1486 - accuracy: 0.5410 - val_loss: 1.2104 - val_accuracy: 0.5597\n",
      "Epoch 65/250\n",
      "5/5 [==============================] - 0s 15ms/step - loss: 1.1552 - accuracy: 0.5429 - val_loss: 1.2181 - val_accuracy: 0.5608\n",
      "Epoch 66/250\n",
      "5/5 [==============================] - 0s 14ms/step - loss: 1.1555 - accuracy: 0.5420 - val_loss: 1.2156 - val_accuracy: 0.5553\n",
      "Epoch 67/250\n",
      "5/5 [==============================] - 0s 14ms/step - loss: 1.1511 - accuracy: 0.5363 - val_loss: 1.2124 - val_accuracy: 0.5575\n",
      "Epoch 68/250\n",
      "5/5 [==============================] - 0s 14ms/step - loss: 1.1547 - accuracy: 0.5384 - val_loss: 1.2178 - val_accuracy: 0.5575\n",
      "Epoch 69/250\n",
      "5/5 [==============================] - 0s 14ms/step - loss: 1.1382 - accuracy: 0.5452 - val_loss: 1.2206 - val_accuracy: 0.5630\n",
      "Epoch 70/250\n",
      "5/5 [==============================] - 0s 14ms/step - loss: 1.1448 - accuracy: 0.5410 - val_loss: 1.2199 - val_accuracy: 0.5575\n",
      "Epoch 71/250\n",
      "5/5 [==============================] - 0s 14ms/step - loss: 1.1472 - accuracy: 0.5521 - val_loss: 1.2270 - val_accuracy: 0.5608\n",
      "Epoch 72/250\n",
      "5/5 [==============================] - 0s 14ms/step - loss: 1.1469 - accuracy: 0.5432 - val_loss: 1.2232 - val_accuracy: 0.5597\n",
      "Epoch 73/250\n",
      "5/5 [==============================] - 0s 14ms/step - loss: 1.1283 - accuracy: 0.5459 - val_loss: 1.2182 - val_accuracy: 0.5597\n",
      "Epoch 74/250\n",
      "5/5 [==============================] - 0s 14ms/step - loss: 1.1431 - accuracy: 0.5469 - val_loss: 1.2328 - val_accuracy: 0.5564\n",
      "Epoch 75/250\n",
      "5/5 [==============================] - 0s 14ms/step - loss: 1.1397 - accuracy: 0.5424 - val_loss: 1.2305 - val_accuracy: 0.5564\n",
      "Epoch 76/250\n",
      "5/5 [==============================] - 0s 14ms/step - loss: 1.1318 - accuracy: 0.5465 - val_loss: 1.2126 - val_accuracy: 0.5641\n",
      "Epoch 77/250\n",
      "5/5 [==============================] - 0s 15ms/step - loss: 1.1384 - accuracy: 0.5546 - val_loss: 1.2107 - val_accuracy: 0.5641\n",
      "Epoch 78/250\n",
      "5/5 [==============================] - 0s 15ms/step - loss: 1.1381 - accuracy: 0.5497 - val_loss: 1.2168 - val_accuracy: 0.5608\n",
      "Epoch 79/250\n",
      "5/5 [==============================] - 0s 15ms/step - loss: 1.1390 - accuracy: 0.5425 - val_loss: 1.2285 - val_accuracy: 0.5586\n",
      "Epoch 80/250\n",
      "5/5 [==============================] - 0s 15ms/step - loss: 1.1419 - accuracy: 0.5498 - val_loss: 1.2226 - val_accuracy: 0.5663\n",
      "Epoch 81/250\n",
      "5/5 [==============================] - 0s 15ms/step - loss: 1.1345 - accuracy: 0.5674 - val_loss: 1.2138 - val_accuracy: 0.5674\n",
      "Epoch 82/250\n",
      "5/5 [==============================] - 0s 16ms/step - loss: 1.1256 - accuracy: 0.5561 - val_loss: 1.2194 - val_accuracy: 0.5608\n",
      "Epoch 83/250\n",
      "5/5 [==============================] - 0s 15ms/step - loss: 1.1223 - accuracy: 0.5525 - val_loss: 1.2184 - val_accuracy: 0.5597\n",
      "Epoch 84/250\n",
      "5/5 [==============================] - 0s 15ms/step - loss: 1.1181 - accuracy: 0.5514 - val_loss: 1.2196 - val_accuracy: 0.5619\n",
      "Epoch 85/250\n",
      "5/5 [==============================] - 0s 15ms/step - loss: 1.1160 - accuracy: 0.5609 - val_loss: 1.2300 - val_accuracy: 0.5608\n",
      "Epoch 86/250\n",
      "5/5 [==============================] - 0s 15ms/step - loss: 1.1175 - accuracy: 0.5602 - val_loss: 1.2195 - val_accuracy: 0.5619\n",
      "Epoch 87/250\n",
      "5/5 [==============================] - 0s 15ms/step - loss: 1.0958 - accuracy: 0.5623 - val_loss: 1.2303 - val_accuracy: 0.5586\n",
      "Epoch 88/250\n",
      "5/5 [==============================] - 0s 15ms/step - loss: 1.1151 - accuracy: 0.5661 - val_loss: 1.2292 - val_accuracy: 0.5728\n",
      "Epoch 89/250\n",
      "5/5 [==============================] - 0s 15ms/step - loss: 1.1010 - accuracy: 0.5730 - val_loss: 1.2292 - val_accuracy: 0.5717\n",
      "Epoch 90/250\n",
      "5/5 [==============================] - 0s 15ms/step - loss: 1.1055 - accuracy: 0.5710 - val_loss: 1.2241 - val_accuracy: 0.5717\n",
      "Epoch 91/250\n",
      "5/5 [==============================] - 0s 15ms/step - loss: 1.1065 - accuracy: 0.5731 - val_loss: 1.2191 - val_accuracy: 0.5641\n",
      "Epoch 92/250\n",
      "5/5 [==============================] - 0s 15ms/step - loss: 1.1012 - accuracy: 0.5825 - val_loss: 1.2365 - val_accuracy: 0.5641\n",
      "Epoch 93/250\n",
      "5/5 [==============================] - 0s 15ms/step - loss: 1.1071 - accuracy: 0.5747 - val_loss: 1.2340 - val_accuracy: 0.5696\n",
      "Epoch 94/250\n",
      "5/5 [==============================] - 0s 15ms/step - loss: 1.0992 - accuracy: 0.6013 - val_loss: 1.2291 - val_accuracy: 0.5586\n",
      "Epoch 95/250\n",
      "5/5 [==============================] - 0s 15ms/step - loss: 1.0934 - accuracy: 0.6028 - val_loss: 1.2344 - val_accuracy: 0.6057\n",
      "Epoch 96/250\n",
      "5/5 [==============================] - 0s 15ms/step - loss: 1.0918 - accuracy: 0.6061 - val_loss: 1.2322 - val_accuracy: 0.6101\n",
      "Epoch 97/250\n",
      "5/5 [==============================] - 0s 15ms/step - loss: 1.0767 - accuracy: 0.6061 - val_loss: 1.2302 - val_accuracy: 0.6068\n",
      "Epoch 98/250\n",
      "5/5 [==============================] - 0s 15ms/step - loss: 1.0758 - accuracy: 0.6044 - val_loss: 1.2404 - val_accuracy: 0.6112\n",
      "Epoch 99/250\n",
      "5/5 [==============================] - 0s 15ms/step - loss: 1.0710 - accuracy: 0.6066 - val_loss: 1.2293 - val_accuracy: 0.6079\n",
      "Epoch 100/250\n",
      "5/5 [==============================] - 0s 15ms/step - loss: 1.0796 - accuracy: 0.6149 - val_loss: 1.2355 - val_accuracy: 0.6101\n",
      "Epoch 101/250\n",
      "5/5 [==============================] - 0s 15ms/step - loss: 1.0642 - accuracy: 0.6106 - val_loss: 1.2370 - val_accuracy: 0.6090\n",
      "Epoch 102/250\n",
      "5/5 [==============================] - 0s 15ms/step - loss: 1.0704 - accuracy: 0.6141 - val_loss: 1.2351 - val_accuracy: 0.6046\n",
      "Epoch 103/250\n",
      "5/5 [==============================] - 0s 15ms/step - loss: 1.0578 - accuracy: 0.6092 - val_loss: 1.2406 - val_accuracy: 0.6013\n",
      "Epoch 104/250\n",
      "5/5 [==============================] - 0s 14ms/step - loss: 1.0627 - accuracy: 0.6090 - val_loss: 1.2397 - val_accuracy: 0.6079\n",
      "Epoch 105/250\n",
      "5/5 [==============================] - 0s 15ms/step - loss: 1.0503 - accuracy: 0.6114 - val_loss: 1.2249 - val_accuracy: 0.6079\n",
      "Epoch 106/250\n",
      "5/5 [==============================] - 0s 15ms/step - loss: 1.0717 - accuracy: 0.6042 - val_loss: 1.2170 - val_accuracy: 0.6112\n",
      "Epoch 107/250\n",
      "5/5 [==============================] - 0s 15ms/step - loss: 1.0495 - accuracy: 0.6098 - val_loss: 1.2198 - val_accuracy: 0.6057\n",
      "Epoch 108/250\n",
      "5/5 [==============================] - 0s 15ms/step - loss: 1.0401 - accuracy: 0.6189 - val_loss: 1.2235 - val_accuracy: 0.6101\n",
      "Epoch 109/250\n",
      "5/5 [==============================] - 0s 15ms/step - loss: 1.0672 - accuracy: 0.6024 - val_loss: 1.2331 - val_accuracy: 0.6112\n",
      "Epoch 110/250\n",
      "5/5 [==============================] - 0s 15ms/step - loss: 1.0532 - accuracy: 0.6115 - val_loss: 1.2174 - val_accuracy: 0.6002\n",
      "Epoch 111/250\n",
      "5/5 [==============================] - 0s 15ms/step - loss: 1.0410 - accuracy: 0.6147 - val_loss: 1.2434 - val_accuracy: 0.6123\n",
      "Epoch 112/250\n",
      "5/5 [==============================] - 0s 15ms/step - loss: 1.0491 - accuracy: 0.6087 - val_loss: 1.2298 - val_accuracy: 0.6079\n",
      "Epoch 113/250\n",
      "5/5 [==============================] - 0s 15ms/step - loss: 1.0542 - accuracy: 0.6149 - val_loss: 1.2326 - val_accuracy: 0.6057\n",
      "Epoch 114/250\n",
      "5/5 [==============================] - 0s 15ms/step - loss: 1.0320 - accuracy: 0.6131 - val_loss: 1.2435 - val_accuracy: 0.6145\n",
      "Epoch 115/250\n",
      "5/5 [==============================] - 0s 15ms/step - loss: 1.0496 - accuracy: 0.6164 - val_loss: 1.2215 - val_accuracy: 0.6046\n",
      "Epoch 116/250\n",
      "5/5 [==============================] - 0s 121ms/step - loss: 1.0346 - accuracy: 0.6148 - val_loss: 1.2276 - val_accuracy: 0.6112\n",
      "Epoch 117/250\n"
     ]
    },
    {
     "name": "stdout",
     "output_type": "stream",
     "text": [
      "5/5 [==============================] - 0s 15ms/step - loss: 1.0335 - accuracy: 0.6196 - val_loss: 1.2254 - val_accuracy: 0.6101\n",
      "Epoch 118/250\n",
      "5/5 [==============================] - 0s 15ms/step - loss: 1.0294 - accuracy: 0.6182 - val_loss: 1.2228 - val_accuracy: 0.6046\n",
      "Epoch 119/250\n",
      "5/5 [==============================] - 0s 15ms/step - loss: 1.0405 - accuracy: 0.6112 - val_loss: 1.2213 - val_accuracy: 0.6068\n",
      "Epoch 120/250\n",
      "5/5 [==============================] - 0s 15ms/step - loss: 1.0417 - accuracy: 0.6131 - val_loss: 1.2172 - val_accuracy: 0.6013\n",
      "Epoch 121/250\n",
      "5/5 [==============================] - 0s 15ms/step - loss: 1.0358 - accuracy: 0.6169 - val_loss: 1.2235 - val_accuracy: 0.6057\n",
      "Epoch 122/250\n",
      "5/5 [==============================] - 0s 14ms/step - loss: 1.0377 - accuracy: 0.6145 - val_loss: 1.2207 - val_accuracy: 0.6046\n",
      "Epoch 123/250\n",
      "5/5 [==============================] - 0s 15ms/step - loss: 1.0235 - accuracy: 0.6111 - val_loss: 1.2340 - val_accuracy: 0.6079\n",
      "Epoch 124/250\n",
      "5/5 [==============================] - 0s 15ms/step - loss: 1.0383 - accuracy: 0.6164 - val_loss: 1.2296 - val_accuracy: 0.6057\n",
      "Epoch 125/250\n",
      "5/5 [==============================] - 0s 15ms/step - loss: 1.0396 - accuracy: 0.6089 - val_loss: 1.2266 - val_accuracy: 0.6068\n",
      "Epoch 126/250\n",
      "5/5 [==============================] - 0s 15ms/step - loss: 1.0267 - accuracy: 0.6186 - val_loss: 1.2188 - val_accuracy: 0.6013\n",
      "Epoch 127/250\n",
      "5/5 [==============================] - 0s 15ms/step - loss: 1.0288 - accuracy: 0.6218 - val_loss: 1.2190 - val_accuracy: 0.6057\n",
      "Epoch 128/250\n",
      "5/5 [==============================] - 0s 15ms/step - loss: 1.0290 - accuracy: 0.6117 - val_loss: 1.2234 - val_accuracy: 0.6057\n",
      "Epoch 129/250\n",
      "5/5 [==============================] - 0s 15ms/step - loss: 1.0201 - accuracy: 0.6136 - val_loss: 1.2194 - val_accuracy: 0.6046\n",
      "Epoch 130/250\n",
      "5/5 [==============================] - 0s 15ms/step - loss: 1.0237 - accuracy: 0.6184 - val_loss: 1.2146 - val_accuracy: 0.6035\n",
      "Epoch 131/250\n",
      "5/5 [==============================] - 0s 15ms/step - loss: 1.0203 - accuracy: 0.6138 - val_loss: 1.2292 - val_accuracy: 0.6068\n",
      "Epoch 132/250\n",
      "5/5 [==============================] - 0s 15ms/step - loss: 1.0394 - accuracy: 0.6109 - val_loss: 1.2326 - val_accuracy: 0.6079\n",
      "Epoch 133/250\n",
      "5/5 [==============================] - 0s 15ms/step - loss: 1.0211 - accuracy: 0.6189 - val_loss: 1.2368 - val_accuracy: 0.6057\n",
      "Epoch 134/250\n",
      "5/5 [==============================] - 0s 15ms/step - loss: 1.0304 - accuracy: 0.6176 - val_loss: 1.2183 - val_accuracy: 0.6035\n",
      "Epoch 135/250\n",
      "5/5 [==============================] - 0s 15ms/step - loss: 1.0245 - accuracy: 0.6139 - val_loss: 1.2191 - val_accuracy: 0.6002\n",
      "Epoch 136/250\n",
      "5/5 [==============================] - 0s 14ms/step - loss: 1.0252 - accuracy: 0.6213 - val_loss: 1.2299 - val_accuracy: 0.6057\n",
      "Epoch 137/250\n",
      "5/5 [==============================] - 0s 15ms/step - loss: 1.0282 - accuracy: 0.6114 - val_loss: 1.2335 - val_accuracy: 0.6046\n",
      "Epoch 138/250\n",
      "5/5 [==============================] - 0s 15ms/step - loss: 1.0142 - accuracy: 0.6165 - val_loss: 1.2221 - val_accuracy: 0.5991\n",
      "Epoch 139/250\n",
      "5/5 [==============================] - 0s 15ms/step - loss: 0.9972 - accuracy: 0.6246 - val_loss: 1.2259 - val_accuracy: 0.6057\n",
      "Epoch 140/250\n",
      "5/5 [==============================] - 0s 15ms/step - loss: 1.0111 - accuracy: 0.6199 - val_loss: 1.2275 - val_accuracy: 0.6134\n",
      "Epoch 141/250\n",
      "5/5 [==============================] - 0s 15ms/step - loss: 1.0115 - accuracy: 0.6193 - val_loss: 1.2263 - val_accuracy: 0.6079\n",
      "Epoch 142/250\n",
      "5/5 [==============================] - 0s 14ms/step - loss: 0.9992 - accuracy: 0.6270 - val_loss: 1.2198 - val_accuracy: 0.6035\n",
      "Epoch 143/250\n",
      "5/5 [==============================] - 0s 15ms/step - loss: 1.0146 - accuracy: 0.6242 - val_loss: 1.2269 - val_accuracy: 0.6046\n",
      "Epoch 144/250\n",
      "5/5 [==============================] - 0s 15ms/step - loss: 0.9990 - accuracy: 0.6221 - val_loss: 1.2507 - val_accuracy: 0.6013\n",
      "Epoch 145/250\n",
      "5/5 [==============================] - 0s 15ms/step - loss: 0.9983 - accuracy: 0.6229 - val_loss: 1.2393 - val_accuracy: 0.5991\n",
      "Epoch 146/250\n",
      "5/5 [==============================] - 0s 14ms/step - loss: 0.9974 - accuracy: 0.6254 - val_loss: 1.2294 - val_accuracy: 0.6035\n",
      "Epoch 147/250\n",
      "5/5 [==============================] - 0s 14ms/step - loss: 0.9974 - accuracy: 0.6209 - val_loss: 1.2379 - val_accuracy: 0.6046\n",
      "Epoch 148/250\n",
      "5/5 [==============================] - 0s 15ms/step - loss: 0.9864 - accuracy: 0.6265 - val_loss: 1.2512 - val_accuracy: 0.6090\n",
      "Epoch 149/250\n",
      "5/5 [==============================] - 0s 15ms/step - loss: 1.0003 - accuracy: 0.6223 - val_loss: 1.2346 - val_accuracy: 0.6046\n",
      "Epoch 150/250\n",
      "5/5 [==============================] - 0s 15ms/step - loss: 0.9975 - accuracy: 0.6269 - val_loss: 1.2389 - val_accuracy: 0.6112\n",
      "Epoch 151/250\n",
      "5/5 [==============================] - 0s 15ms/step - loss: 0.9875 - accuracy: 0.6246 - val_loss: 1.2254 - val_accuracy: 0.6090\n",
      "Epoch 152/250\n",
      "5/5 [==============================] - 0s 15ms/step - loss: 0.9989 - accuracy: 0.6223 - val_loss: 1.2292 - val_accuracy: 0.6166\n",
      "Epoch 153/250\n",
      "5/5 [==============================] - 0s 15ms/step - loss: 0.9978 - accuracy: 0.6245 - val_loss: 1.2280 - val_accuracy: 0.6156\n",
      "Epoch 154/250\n",
      "5/5 [==============================] - 0s 15ms/step - loss: 0.9919 - accuracy: 0.6270 - val_loss: 1.2142 - val_accuracy: 0.6101\n",
      "Epoch 155/250\n",
      "5/5 [==============================] - 0s 15ms/step - loss: 1.0028 - accuracy: 0.6215 - val_loss: 1.2100 - val_accuracy: 0.6188\n",
      "Epoch 156/250\n",
      "5/5 [==============================] - 0s 15ms/step - loss: 0.9928 - accuracy: 0.6261 - val_loss: 1.2302 - val_accuracy: 0.6188\n",
      "Epoch 157/250\n",
      "5/5 [==============================] - 0s 15ms/step - loss: 0.9892 - accuracy: 0.6257 - val_loss: 1.2269 - val_accuracy: 0.6156\n",
      "Epoch 158/250\n",
      "5/5 [==============================] - 0s 15ms/step - loss: 0.9992 - accuracy: 0.6231 - val_loss: 1.2244 - val_accuracy: 0.6112\n",
      "Epoch 159/250\n",
      "5/5 [==============================] - 0s 15ms/step - loss: 0.9957 - accuracy: 0.6262 - val_loss: 1.2240 - val_accuracy: 0.6134\n",
      "Epoch 160/250\n",
      "5/5 [==============================] - 0s 15ms/step - loss: 0.9879 - accuracy: 0.6277 - val_loss: 1.2280 - val_accuracy: 0.6156\n",
      "Epoch 161/250\n",
      "5/5 [==============================] - 0s 15ms/step - loss: 0.9860 - accuracy: 0.6251 - val_loss: 1.2318 - val_accuracy: 0.6123\n",
      "Epoch 162/250\n",
      "5/5 [==============================] - 0s 15ms/step - loss: 0.9840 - accuracy: 0.6300 - val_loss: 1.2288 - val_accuracy: 0.6145\n",
      "Epoch 163/250\n",
      "5/5 [==============================] - 0s 15ms/step - loss: 0.9856 - accuracy: 0.6319 - val_loss: 1.2122 - val_accuracy: 0.6123\n",
      "Epoch 164/250\n",
      "5/5 [==============================] - 0s 15ms/step - loss: 0.9762 - accuracy: 0.6326 - val_loss: 1.2137 - val_accuracy: 0.6090\n",
      "Epoch 165/250\n",
      "5/5 [==============================] - 0s 15ms/step - loss: 0.9831 - accuracy: 0.6309 - val_loss: 1.2400 - val_accuracy: 0.6145\n",
      "Epoch 166/250\n",
      "5/5 [==============================] - 0s 15ms/step - loss: 0.9949 - accuracy: 0.6200 - val_loss: 1.2205 - val_accuracy: 0.6101\n",
      "Epoch 167/250\n",
      "5/5 [==============================] - 0s 15ms/step - loss: 0.9812 - accuracy: 0.6345 - val_loss: 1.2289 - val_accuracy: 0.6210\n",
      "Epoch 168/250\n",
      "5/5 [==============================] - 0s 15ms/step - loss: 0.9947 - accuracy: 0.6276 - val_loss: 1.2273 - val_accuracy: 0.6112\n",
      "Epoch 169/250\n",
      "5/5 [==============================] - 0s 15ms/step - loss: 1.0012 - accuracy: 0.6242 - val_loss: 1.2091 - val_accuracy: 0.6090\n",
      "Epoch 170/250\n",
      "5/5 [==============================] - 0s 15ms/step - loss: 0.9829 - accuracy: 0.6261 - val_loss: 1.2248 - val_accuracy: 0.6145\n",
      "Epoch 171/250\n",
      "5/5 [==============================] - 0s 15ms/step - loss: 0.9789 - accuracy: 0.6342 - val_loss: 1.2257 - val_accuracy: 0.6123\n",
      "Epoch 172/250\n",
      "5/5 [==============================] - 0s 15ms/step - loss: 0.9743 - accuracy: 0.6255 - val_loss: 1.2194 - val_accuracy: 0.6156\n",
      "Epoch 173/250\n",
      "5/5 [==============================] - 0s 15ms/step - loss: 0.9815 - accuracy: 0.6313 - val_loss: 1.2112 - val_accuracy: 0.6123\n",
      "Epoch 174/250\n",
      "5/5 [==============================] - 0s 15ms/step - loss: 0.9746 - accuracy: 0.6305 - val_loss: 1.2366 - val_accuracy: 0.6166\n"
     ]
    },
    {
     "name": "stdout",
     "output_type": "stream",
     "text": [
      "Epoch 175/250\n",
      "5/5 [==============================] - 0s 15ms/step - loss: 0.9767 - accuracy: 0.6307 - val_loss: 1.2256 - val_accuracy: 0.6068\n",
      "Epoch 176/250\n",
      "5/5 [==============================] - 0s 15ms/step - loss: 0.9784 - accuracy: 0.6333 - val_loss: 1.2168 - val_accuracy: 0.6145\n",
      "Epoch 177/250\n",
      "5/5 [==============================] - 0s 15ms/step - loss: 0.9766 - accuracy: 0.6250 - val_loss: 1.2312 - val_accuracy: 0.6112\n",
      "Epoch 178/250\n",
      "5/5 [==============================] - 0s 15ms/step - loss: 0.9707 - accuracy: 0.6343 - val_loss: 1.2185 - val_accuracy: 0.6123\n",
      "Epoch 179/250\n",
      "5/5 [==============================] - 0s 15ms/step - loss: 0.9716 - accuracy: 0.6271 - val_loss: 1.2110 - val_accuracy: 0.6199\n",
      "Epoch 180/250\n",
      "5/5 [==============================] - 0s 15ms/step - loss: 0.9828 - accuracy: 0.6249 - val_loss: 1.2168 - val_accuracy: 0.6177\n",
      "Epoch 181/250\n",
      "5/5 [==============================] - 0s 15ms/step - loss: 0.9755 - accuracy: 0.6275 - val_loss: 1.2313 - val_accuracy: 0.6188\n",
      "Epoch 182/250\n",
      "5/5 [==============================] - 0s 15ms/step - loss: 0.9651 - accuracy: 0.6313 - val_loss: 1.2124 - val_accuracy: 0.6101\n",
      "Epoch 183/250\n",
      "5/5 [==============================] - 0s 15ms/step - loss: 0.9695 - accuracy: 0.6312 - val_loss: 1.2203 - val_accuracy: 0.6199\n",
      "Epoch 184/250\n",
      "5/5 [==============================] - 0s 15ms/step - loss: 0.9742 - accuracy: 0.6362 - val_loss: 1.2032 - val_accuracy: 0.6112\n",
      "Epoch 185/250\n",
      "5/5 [==============================] - 0s 15ms/step - loss: 0.9767 - accuracy: 0.6311 - val_loss: 1.2102 - val_accuracy: 0.6199\n",
      "Epoch 186/250\n",
      "5/5 [==============================] - 0s 15ms/step - loss: 0.9721 - accuracy: 0.6277 - val_loss: 1.2251 - val_accuracy: 0.6199\n",
      "Epoch 187/250\n",
      "5/5 [==============================] - 0s 15ms/step - loss: 0.9776 - accuracy: 0.6273 - val_loss: 1.2183 - val_accuracy: 0.6177\n",
      "Epoch 188/250\n",
      "5/5 [==============================] - 0s 15ms/step - loss: 0.9682 - accuracy: 0.6305 - val_loss: 1.2204 - val_accuracy: 0.6166\n",
      "Epoch 189/250\n",
      "5/5 [==============================] - 0s 15ms/step - loss: 0.9649 - accuracy: 0.6333 - val_loss: 1.2416 - val_accuracy: 0.6188\n",
      "Epoch 190/250\n",
      "5/5 [==============================] - 0s 15ms/step - loss: 0.9747 - accuracy: 0.6291 - val_loss: 1.2334 - val_accuracy: 0.6090\n",
      "Epoch 191/250\n",
      "5/5 [==============================] - 0s 15ms/step - loss: 0.9668 - accuracy: 0.6292 - val_loss: 1.2276 - val_accuracy: 0.6177\n",
      "Epoch 192/250\n",
      "5/5 [==============================] - 0s 15ms/step - loss: 0.9693 - accuracy: 0.6316 - val_loss: 1.2333 - val_accuracy: 0.6123\n",
      "Epoch 193/250\n",
      "5/5 [==============================] - 0s 15ms/step - loss: 0.9618 - accuracy: 0.6317 - val_loss: 1.2513 - val_accuracy: 0.6156\n",
      "Epoch 194/250\n",
      "5/5 [==============================] - 0s 15ms/step - loss: 0.9675 - accuracy: 0.6342 - val_loss: 1.2224 - val_accuracy: 0.6123\n",
      "Epoch 195/250\n",
      "5/5 [==============================] - 0s 15ms/step - loss: 0.9691 - accuracy: 0.6315 - val_loss: 1.2145 - val_accuracy: 0.6112\n",
      "Epoch 196/250\n",
      "5/5 [==============================] - 0s 15ms/step - loss: 0.9684 - accuracy: 0.6298 - val_loss: 1.2594 - val_accuracy: 0.6232\n",
      "Epoch 197/250\n",
      "5/5 [==============================] - 0s 116ms/step - loss: 0.9706 - accuracy: 0.6290 - val_loss: 1.2701 - val_accuracy: 0.6112\n",
      "Epoch 198/250\n",
      "5/5 [==============================] - 0s 15ms/step - loss: 0.9730 - accuracy: 0.6246 - val_loss: 1.2222 - val_accuracy: 0.6166\n",
      "Epoch 199/250\n",
      "5/5 [==============================] - 0s 15ms/step - loss: 0.9646 - accuracy: 0.6292 - val_loss: 1.1994 - val_accuracy: 0.6188\n",
      "Epoch 200/250\n",
      "5/5 [==============================] - 0s 15ms/step - loss: 0.9674 - accuracy: 0.6291 - val_loss: 1.2201 - val_accuracy: 0.6199\n",
      "Epoch 201/250\n",
      "5/5 [==============================] - 0s 15ms/step - loss: 0.9755 - accuracy: 0.6339 - val_loss: 1.2183 - val_accuracy: 0.6134\n",
      "Epoch 202/250\n",
      "5/5 [==============================] - 0s 15ms/step - loss: 0.9702 - accuracy: 0.6319 - val_loss: 1.2235 - val_accuracy: 0.6210\n",
      "Epoch 203/250\n",
      "5/5 [==============================] - 0s 15ms/step - loss: 0.9712 - accuracy: 0.6275 - val_loss: 1.2148 - val_accuracy: 0.6188\n",
      "Epoch 204/250\n",
      "5/5 [==============================] - 0s 15ms/step - loss: 0.9740 - accuracy: 0.6266 - val_loss: 1.2166 - val_accuracy: 0.6134\n",
      "Epoch 205/250\n",
      "5/5 [==============================] - 0s 15ms/step - loss: 0.9613 - accuracy: 0.6366 - val_loss: 1.2267 - val_accuracy: 0.6177\n",
      "Epoch 206/250\n",
      "5/5 [==============================] - 0s 15ms/step - loss: 0.9703 - accuracy: 0.6312 - val_loss: 1.2058 - val_accuracy: 0.6243\n",
      "Epoch 207/250\n",
      "5/5 [==============================] - 0s 15ms/step - loss: 0.9569 - accuracy: 0.6322 - val_loss: 1.2105 - val_accuracy: 0.6254\n",
      "Epoch 208/250\n",
      "5/5 [==============================] - 0s 15ms/step - loss: 0.9639 - accuracy: 0.6289 - val_loss: 1.2265 - val_accuracy: 0.6166\n",
      "Epoch 209/250\n",
      "5/5 [==============================] - 0s 15ms/step - loss: 0.9653 - accuracy: 0.6321 - val_loss: 1.2343 - val_accuracy: 0.6221\n",
      "Epoch 210/250\n",
      "5/5 [==============================] - 0s 15ms/step - loss: 0.9638 - accuracy: 0.6315 - val_loss: 1.2386 - val_accuracy: 0.6298\n",
      "Epoch 211/250\n",
      "5/5 [==============================] - 0s 15ms/step - loss: 0.9664 - accuracy: 0.6370 - val_loss: 1.2436 - val_accuracy: 0.6254\n",
      "Epoch 212/250\n",
      "5/5 [==============================] - 0s 15ms/step - loss: 0.9647 - accuracy: 0.6267 - val_loss: 1.2474 - val_accuracy: 0.6199\n",
      "Epoch 213/250\n",
      "5/5 [==============================] - 0s 14ms/step - loss: 0.9600 - accuracy: 0.6356 - val_loss: 1.2348 - val_accuracy: 0.6232\n",
      "Epoch 214/250\n",
      "5/5 [==============================] - 0s 15ms/step - loss: 0.9653 - accuracy: 0.6333 - val_loss: 1.2682 - val_accuracy: 0.6177\n",
      "Epoch 215/250\n",
      "5/5 [==============================] - 0s 15ms/step - loss: 0.9581 - accuracy: 0.6352 - val_loss: 1.2708 - val_accuracy: 0.6221\n",
      "Epoch 216/250\n",
      "5/5 [==============================] - 0s 14ms/step - loss: 0.9664 - accuracy: 0.6325 - val_loss: 1.2446 - val_accuracy: 0.6210\n",
      "Epoch 217/250\n",
      "5/5 [==============================] - 0s 14ms/step - loss: 0.9712 - accuracy: 0.6284 - val_loss: 1.2290 - val_accuracy: 0.6177\n",
      "Epoch 218/250\n",
      "5/5 [==============================] - 0s 14ms/step - loss: 0.9675 - accuracy: 0.6301 - val_loss: 1.2088 - val_accuracy: 0.6265\n",
      "Epoch 219/250\n",
      "5/5 [==============================] - 0s 14ms/step - loss: 0.9619 - accuracy: 0.6321 - val_loss: 1.2073 - val_accuracy: 0.6232\n",
      "Epoch 220/250\n",
      "5/5 [==============================] - 0s 15ms/step - loss: 0.9547 - accuracy: 0.6353 - val_loss: 1.2411 - val_accuracy: 0.6243\n",
      "Epoch 221/250\n",
      "5/5 [==============================] - 0s 15ms/step - loss: 0.9527 - accuracy: 0.6352 - val_loss: 1.2383 - val_accuracy: 0.6221\n",
      "Epoch 222/250\n",
      "5/5 [==============================] - 0s 15ms/step - loss: 0.9593 - accuracy: 0.6316 - val_loss: 1.2136 - val_accuracy: 0.6232\n",
      "Epoch 223/250\n",
      "5/5 [==============================] - 0s 15ms/step - loss: 0.9582 - accuracy: 0.6374 - val_loss: 1.2185 - val_accuracy: 0.6199\n",
      "Epoch 224/250\n",
      "5/5 [==============================] - 0s 15ms/step - loss: 0.9575 - accuracy: 0.6391 - val_loss: 1.2449 - val_accuracy: 0.6243\n",
      "Epoch 225/250\n",
      "5/5 [==============================] - 0s 15ms/step - loss: 0.9590 - accuracy: 0.6351 - val_loss: 1.2267 - val_accuracy: 0.6199\n",
      "Epoch 226/250\n",
      "5/5 [==============================] - 0s 15ms/step - loss: 0.9449 - accuracy: 0.6379 - val_loss: 1.2191 - val_accuracy: 0.6243\n",
      "Epoch 227/250\n",
      "5/5 [==============================] - 0s 14ms/step - loss: 0.9551 - accuracy: 0.6373 - val_loss: 1.2348 - val_accuracy: 0.6309\n",
      "Epoch 228/250\n",
      "5/5 [==============================] - 0s 15ms/step - loss: 0.9644 - accuracy: 0.6332 - val_loss: 1.2282 - val_accuracy: 0.6210\n",
      "Epoch 229/250\n",
      "5/5 [==============================] - 0s 15ms/step - loss: 0.9507 - accuracy: 0.6383 - val_loss: 1.2419 - val_accuracy: 0.6309\n",
      "Epoch 230/250\n",
      "5/5 [==============================] - 0s 14ms/step - loss: 0.9590 - accuracy: 0.6338 - val_loss: 1.2307 - val_accuracy: 0.6287\n",
      "Epoch 231/250\n",
      "5/5 [==============================] - 0s 15ms/step - loss: 0.9662 - accuracy: 0.6394 - val_loss: 1.2149 - val_accuracy: 0.6287\n",
      "Epoch 232/250\n",
      "5/5 [==============================] - 0s 15ms/step - loss: 0.9459 - accuracy: 0.6481 - val_loss: 1.2242 - val_accuracy: 0.6276\n"
     ]
    },
    {
     "name": "stdout",
     "output_type": "stream",
     "text": [
      "Epoch 233/250\n",
      "5/5 [==============================] - 0s 15ms/step - loss: 0.9624 - accuracy: 0.6396 - val_loss: 1.2315 - val_accuracy: 0.6265\n",
      "Epoch 234/250\n",
      "5/5 [==============================] - 0s 15ms/step - loss: 0.9535 - accuracy: 0.6434 - val_loss: 1.2354 - val_accuracy: 0.6276\n",
      "Epoch 235/250\n",
      "5/5 [==============================] - 0s 14ms/step - loss: 0.9524 - accuracy: 0.6395 - val_loss: 1.2148 - val_accuracy: 0.6287\n",
      "Epoch 236/250\n",
      "5/5 [==============================] - 0s 14ms/step - loss: 0.9508 - accuracy: 0.6452 - val_loss: 1.2088 - val_accuracy: 0.6342\n",
      "Epoch 237/250\n",
      "5/5 [==============================] - 0s 14ms/step - loss: 0.9545 - accuracy: 0.6389 - val_loss: 1.2376 - val_accuracy: 0.6254\n",
      "Epoch 238/250\n",
      "5/5 [==============================] - 0s 14ms/step - loss: 0.9560 - accuracy: 0.6442 - val_loss: 1.2414 - val_accuracy: 0.6243\n",
      "Epoch 239/250\n",
      "5/5 [==============================] - 0s 14ms/step - loss: 0.9441 - accuracy: 0.6444 - val_loss: 1.2421 - val_accuracy: 0.6375\n",
      "Epoch 240/250\n",
      "5/5 [==============================] - 0s 15ms/step - loss: 0.9540 - accuracy: 0.6413 - val_loss: 1.2198 - val_accuracy: 0.6309\n",
      "Epoch 241/250\n",
      "5/5 [==============================] - 0s 15ms/step - loss: 0.9402 - accuracy: 0.6515 - val_loss: 1.2233 - val_accuracy: 0.6309\n",
      "Epoch 242/250\n",
      "5/5 [==============================] - 0s 15ms/step - loss: 0.9419 - accuracy: 0.6455 - val_loss: 1.2338 - val_accuracy: 0.6331\n",
      "Epoch 243/250\n",
      "5/5 [==============================] - 0s 15ms/step - loss: 0.9478 - accuracy: 0.6454 - val_loss: 1.2436 - val_accuracy: 0.6331\n",
      "Epoch 244/250\n",
      "5/5 [==============================] - 0s 15ms/step - loss: 0.9491 - accuracy: 0.6496 - val_loss: 1.2426 - val_accuracy: 0.6353\n",
      "Epoch 245/250\n",
      "5/5 [==============================] - 0s 15ms/step - loss: 0.9411 - accuracy: 0.6410 - val_loss: 1.2289 - val_accuracy: 0.6276\n",
      "Epoch 246/250\n",
      "5/5 [==============================] - 0s 15ms/step - loss: 0.9506 - accuracy: 0.6472 - val_loss: 1.2333 - val_accuracy: 0.6309\n",
      "Epoch 247/250\n",
      "5/5 [==============================] - 0s 14ms/step - loss: 0.9635 - accuracy: 0.6411 - val_loss: 1.2282 - val_accuracy: 0.6375\n",
      "Epoch 248/250\n",
      "5/5 [==============================] - 0s 14ms/step - loss: 0.9402 - accuracy: 0.6450 - val_loss: 1.2428 - val_accuracy: 0.6298\n",
      "Epoch 249/250\n",
      "5/5 [==============================] - 0s 14ms/step - loss: 0.9355 - accuracy: 0.6509 - val_loss: 1.2579 - val_accuracy: 0.6298\n",
      "Epoch 250/250\n",
      "5/5 [==============================] - 0s 14ms/step - loss: 0.9409 - accuracy: 0.6456 - val_loss: 1.2555 - val_accuracy: 0.6298\n"
     ]
    },
    {
     "data": {
      "text/plain": [
       "<tensorflow.python.keras.callbacks.History at 0x7fca66382f70>"
      ]
     },
     "execution_count": 703,
     "metadata": {},
     "output_type": "execute_result"
    }
   ],
   "source": [
    "# Fitting del modelo\n",
    "nn_model.fit(X_train_total, Y_train_matriz, epochs=250, batch_size=2000, verbose=1, validation_split=0.1)"
   ]
  },
  {
   "cell_type": "code",
   "execution_count": null,
   "metadata": {},
   "outputs": [],
   "source": []
  },
  {
   "cell_type": "markdown",
   "metadata": {},
   "source": [
    "## Conclusiones y Reflexiones"
   ]
  },
  {
   "cell_type": "markdown",
   "metadata": {},
   "source": [
    "Lo primero que se debe resaltar es la dificultad tan fuerte en generar un modelo que estime cuando se tiene una variedad tan diferente de ítems, vendedores y demás, sin mencionar que el conjunto de datos no es más que una muestra (y no comprende el total de ítems de [Mercado Libre Colombia](https://www.mercadolibre.com.co/)). \n",
    "\n",
    "El modelo construido usando el concepto de stack/apilar efectivamente resulta ser el mejor cuando se examinan las métricas (de prueba) de RMSE y MAE, lo cual para mí tiene mucho sentido pues junta y combina la __información__ (las predicciones) de cada uno de los modelos individuales. \n",
    "\n",
    "La cantidad vendida realmente corresponde a un set de rangos establecidos [aquí](https://developers.mercadolibre.com.ar/en_us/items-and-searches) y además algunos ítems tienen valores que no se presentan en el cuadro que muestra los valores de `sold_quantity` y por lo tanto, hay que añadir que por eso hay un poco de ruído en la variable de respuesta.\n",
    "\n",
    "Veo un potencial en construir algunas variables (feature engineering) con un poco más de tiempo e imaginación, además de usar tanto el texto del ítem como la imagen de este que efectivamente se puede obtener con la información del conjunto de datos (ver el código anexo). Sin embargo, el uso de imágenes y texto requeriría una muestra más grande de productos (tal vez de otros países también).\n",
    "\n",
    "`### TO DO: CONCLUSIONES DE MAS RESULTADOS Y LA PARTE DE CLASIFICACION`"
   ]
  },
  {
   "cell_type": "code",
   "execution_count": 880,
   "metadata": {
    "ExecuteTime": {
     "end_time": "2021-03-15T05:05:48.754898Z",
     "start_time": "2021-03-15T05:05:48.702352Z"
    }
   },
   "outputs": [
    {
     "name": "stdout",
     "output_type": "stream",
     "text": [
      "DESCARGADA IMAGEN DE: LLAVERO LUJO TRENZA CUERO MARCA TOYOTA PRADO TXL FORTU CRUIS\n"
     ]
    }
   ],
   "source": [
    "# Descarga la imagen con la url de un item\n",
    "img_url_example = products.loc[1608, 'ITEM_THUMBNAIL']\n",
    "response = requests.get(img_url_example)\n",
    "\n",
    "# Guarda la imagen\n",
    "print('DESCARGADA IMAGEN DE: {}'.format(products.loc[1608, 'ITEM_TITLE'].upper()))\n",
    "file = open(\"../Data/Images/EXAMPLE.png\", \"wb\")\n",
    "file.write(response.content)\n",
    "file.close()"
   ]
  },
  {
   "cell_type": "markdown",
   "metadata": {},
   "source": [
    "<img src=\"../Data/Images/EXAMPLE.png \" alt=\"drawing\" width=\"200\" title='Ejemplo de la miniatura de un ítem'/>\n",
    "<center>  <font size=\"1\"> Ejemplo de la miniatura de un ítem del market place de Mercado Libre Colombia</font> </center>"
   ]
  },
  {
   "cell_type": "markdown",
   "metadata": {},
   "source": [
    "# Fin del Documento"
   ]
  },
  {
   "cell_type": "code",
   "execution_count": null,
   "metadata": {},
   "outputs": [],
   "source": []
  }
 ],
 "metadata": {
  "kernelspec": {
   "display_name": "Python 3",
   "language": "python",
   "name": "python3"
  },
  "language_info": {
   "codemirror_mode": {
    "name": "ipython",
    "version": 3
   },
   "file_extension": ".py",
   "mimetype": "text/x-python",
   "name": "python",
   "nbconvert_exporter": "python",
   "pygments_lexer": "ipython3",
   "version": "3.8.2"
  },
  "notify_time": "10",
  "toc": {
   "base_numbering": 1,
   "nav_menu": {},
   "number_sections": true,
   "sideBar": true,
   "skip_h1_title": true,
   "title_cell": "Table of Contents",
   "title_sidebar": "Contents",
   "toc_cell": true,
   "toc_position": {
    "height": "calc(100% - 180px)",
    "left": "10px",
    "top": "150px",
    "width": "461.989px"
   },
   "toc_section_display": true,
   "toc_window_display": true
  }
 },
 "nbformat": 4,
 "nbformat_minor": 4
}
