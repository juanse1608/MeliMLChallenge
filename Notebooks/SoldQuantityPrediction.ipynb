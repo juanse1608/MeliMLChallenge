{
 "cells": [
  {
   "cell_type": "markdown",
   "metadata": {
    "toc": true
   },
   "source": [
    "<h1>Table of Contents<span class=\"tocSkip\"></span></h1>\n",
    "<div class=\"toc\"><ul class=\"toc-item\"><li><span><a href=\"#Importar-Librerías\" data-toc-modified-id=\"Importar-Librerías-1\"><span class=\"toc-item-num\">1&nbsp;&nbsp;</span>Importar Librerías</a></span></li><li><span><a href=\"#Preprocesamiento-de-Datos\" data-toc-modified-id=\"Preprocesamiento-de-Datos-2\"><span class=\"toc-item-num\">2&nbsp;&nbsp;</span>Preprocesamiento de Datos</a></span><ul class=\"toc-item\"><li><span><a href=\"#Construcción-del-Dataset-de-Productos\" data-toc-modified-id=\"Construcción-del-Dataset-de-Productos-2.1\"><span class=\"toc-item-num\">2.1&nbsp;&nbsp;</span>Construcción del Dataset de Productos</a></span><ul class=\"toc-item\"><li><span><a href=\"#Lectura-de-los-Datos\" data-toc-modified-id=\"Lectura-de-los-Datos-2.1.1\"><span class=\"toc-item-num\">2.1.1&nbsp;&nbsp;</span>Lectura de los Datos</a></span></li><li><span><a href=\"#Transformación-de-los-Datos\" data-toc-modified-id=\"Transformación-de-los-Datos-2.1.2\"><span class=\"toc-item-num\">2.1.2&nbsp;&nbsp;</span>Transformación de los Datos</a></span></li></ul></li><li><span><a href=\"#Selección-de-Predictores\" data-toc-modified-id=\"Selección-de-Predictores-2.2\"><span class=\"toc-item-num\">2.2&nbsp;&nbsp;</span>Selección de Predictores</a></span></li><li><span><a href=\"#Estandarización,-OneHotEncoding-y-Train-Test-Split\" data-toc-modified-id=\"Estandarización,-OneHotEncoding-y-Train-Test-Split-2.3\"><span class=\"toc-item-num\">2.3&nbsp;&nbsp;</span>Estandarización, OneHotEncoding y Train-Test Split</a></span></li></ul></li><li><span><a href=\"#Modelos-de-Predicción---Sold-Quantity\" data-toc-modified-id=\"Modelos-de-Predicción---Sold-Quantity-3\"><span class=\"toc-item-num\">3&nbsp;&nbsp;</span>Modelos de Predicción - Sold Quantity</a></span><ul class=\"toc-item\"><li><span><a href=\"#XGBoost-(Gradient-Boosting-Trees)\" data-toc-modified-id=\"XGBoost-(Gradient-Boosting-Trees)-3.1\"><span class=\"toc-item-num\">3.1&nbsp;&nbsp;</span>XGBoost (Gradient Boosting Trees)</a></span></li><li><span><a href=\"#NNs-(Redes-Neuronales)\" data-toc-modified-id=\"NNs-(Redes-Neuronales)-3.2\"><span class=\"toc-item-num\">3.2&nbsp;&nbsp;</span>NNs (Redes Neuronales)</a></span></li></ul></li><li><span><a href=\"#Alternativa:-Modelos-de-Clasificación\" data-toc-modified-id=\"Alternativa:-Modelos-de-Clasificación-4\"><span class=\"toc-item-num\">4&nbsp;&nbsp;</span>Alternativa: Modelos de Clasificación</a></span><ul class=\"toc-item\"><li><span><a href=\"#Definición-de-los-Rangos-de-Cantidades-Vendidas\" data-toc-modified-id=\"Definición-de-los-Rangos-de-Cantidades-Vendidas-4.1\"><span class=\"toc-item-num\">4.1&nbsp;&nbsp;</span>Definición de los Rangos de Cantidades Vendidas</a></span></li><li><span><a href=\"#Neural-Network\" data-toc-modified-id=\"Neural-Network-4.2\"><span class=\"toc-item-num\">4.2&nbsp;&nbsp;</span>Neural Network</a></span></li></ul></li></ul></div>"
   ]
  },
  {
   "cell_type": "markdown",
   "metadata": {},
   "source": [
    "# Sold Quantity Prediction\n",
    "\n",
    "El propósito de este notebook es construir una serie de modelos de predicción para estimar la variable `ITEM_SOLD_QUANTITY` de un item de [Mercado Libre](https://www.mercadolibre.com.co/) con el dataset construido en [`MeliMLChallenge/Notebook/ApiPullingData.ipynb`](https://github.com/juanse1608/MeliMLChallenge/blob/main/Notebooks/ApiPullingData.ipynb).\n",
    "\n",
    "Se recuerda que el dataset consta de __14574__ items (tratanto de tener la misma cantidad para cada una de las categorías de ítems de Meli Colombia) y __50__ variables asociadas al ítem, su vendedor y su envío."
   ]
  },
  {
   "cell_type": "markdown",
   "metadata": {},
   "source": [
    "## Importar Librerías"
   ]
  },
  {
   "cell_type": "code",
   "execution_count": 704,
   "metadata": {
    "ExecuteTime": {
     "end_time": "2021-03-15T03:09:25.388786Z",
     "start_time": "2021-03-15T03:09:25.385446Z"
    }
   },
   "outputs": [
    {
     "data": {
      "text/html": [
       "<style>div#notebook-container{width: 60%;}div#menubar-container{width: 65%;} div#maintoolbar-container{width: 99%;}</style>"
      ],
      "text/plain": [
       "<IPython.core.display.HTML object>"
      ]
     },
     "metadata": {},
     "output_type": "display_data"
    }
   ],
   "source": [
    "# Cambia el ancho de las celdas\n",
    "from IPython.display import HTML, display\n",
    "display(HTML(data=\"\"\"<style>div#notebook-container{width: 60%;}div#menubar-container{width: 65%;} div#maintoolbar-container{width: 99%;}</style>\"\"\"))"
   ]
  },
  {
   "cell_type": "code",
   "execution_count": 733,
   "metadata": {
    "ExecuteTime": {
     "end_time": "2021-03-15T03:23:11.425940Z",
     "start_time": "2021-03-15T03:23:11.421310Z"
    }
   },
   "outputs": [],
   "source": [
    "# Procesamiento de datos\n",
    "import os\n",
    "import re\n",
    "import pandas as pd\n",
    "import numpy as np\n",
    "import datetime as dt\n",
    "import itertools as it\n",
    "\n",
    "# Visualización\n",
    "import matplotlib.pyplot as plt\n",
    "import matplotlib.font_manager\n",
    "from matplotlib.ticker import PercentFormatter\n",
    "import chart_studio.plotly as py\n",
    "import plotly.graph_objs as go\n",
    "import plotly.express as px\n",
    "from plotly.subplots import make_subplots\n",
    "\n",
    "# ML y DS\n",
    "from sklearn.preprocessing import OneHotEncoder, LabelEncoder, StandardScaler\n",
    "from sklearn.model_selection import train_test_split\n",
    "from sklearn.model_selection import GridSearchCV, KFold\n",
    "from sklearn.metrics import mean_squared_error\n",
    "from sklearn.metrics import mean_absolute_error\n",
    "from xgboost import XGBRegressor\n",
    "from xgboost import XGBRFRegressor\n",
    "import tensorflow as tf"
   ]
  },
  {
   "cell_type": "code",
   "execution_count": 735,
   "metadata": {
    "ExecuteTime": {
     "end_time": "2021-03-15T03:23:39.683429Z",
     "start_time": "2021-03-15T03:23:39.680645Z"
    }
   },
   "outputs": [],
   "source": [
    "# Funcion que en encuentra el valor mas cercano de un array a un valor \n",
    "def find_nearest(array, value):\n",
    "    array = np.asarray(array)\n",
    "    idx = (np.abs(array - value)).argmin()\n",
    "    return array[idx]"
   ]
  },
  {
   "cell_type": "markdown",
   "metadata": {},
   "source": [
    "## Preprocesamiento de Datos\n",
    "\n",
    "En esta sección se realiza un proceso general de limpieza y organización de los datos previo a la exploración de los datos."
   ]
  },
  {
   "cell_type": "markdown",
   "metadata": {},
   "source": [
    "### Construcción del Dataset de Productos"
   ]
  },
  {
   "cell_type": "markdown",
   "metadata": {},
   "source": [
    "#### Lectura de los Datos\n",
    " \n",
    "En esta subsección se leen el dataset de productos, se imprimen sus dimensiones, sus columnas y se mencionan sus tipos de variables."
   ]
  },
  {
   "cell_type": "code",
   "execution_count": 706,
   "metadata": {
    "ExecuteTime": {
     "end_time": "2021-03-15T03:09:26.181095Z",
     "start_time": "2021-03-15T03:09:26.059781Z"
    }
   },
   "outputs": [
    {
     "name": "stdout",
     "output_type": "stream",
     "text": [
      "LAS DIMENSIONES DE LA BASE DE PRODUCTOS SON: (14574, 50)\n"
     ]
    }
   ],
   "source": [
    "# Se lee el .csv con el datset construido\n",
    "products = pd.read_csv('../Data/Datasets/PRODUCTOS.csv')\n",
    "products.columns = products.columns.str.upper() # Pone los nombres de las columnas en mayusculas\n",
    "print('LAS DIMENSIONES DE LA BASE DE PRODUCTOS SON: {}'.format(products.shape))"
   ]
  },
  {
   "cell_type": "code",
   "execution_count": 707,
   "metadata": {
    "ExecuteTime": {
     "end_time": "2021-03-15T03:09:26.186078Z",
     "start_time": "2021-03-15T03:09:26.182899Z"
    }
   },
   "outputs": [
    {
     "data": {
      "text/plain": [
       "Index(['ITEM_ID', 'ITEM_SITE_ID', 'ITEM_TITLE', 'ITEM_PRICE',\n",
       "       'ITEM_SALE_PRICE', 'ITEM_CURRENCY_ID', 'ITEM_AVAILABLE_QUANTITY',\n",
       "       'ITEM_SOLD_QUANTITY', 'ITEM_BUYING_MODE', 'ITEM_LISTING_TYPE_ID',\n",
       "       'ITEM_STOP_TIME', 'ITEM_CONDITION', 'ITEM_PERMALINK', 'ITEM_THUMBNAIL',\n",
       "       'ITEM_THUMBNAIL_ID', 'ITEM_ACCEPTS_MERCADOPAGO', 'ITEM_ORIGINAL_PRICE',\n",
       "       'ITEM_CATEGORY_ID', 'ITEM_OFFICIAL_STORE_ID', 'ITEM_DOMAIN_ID',\n",
       "       'ITEM_CATALOG_PRODUCT_ID', 'ITEM_ORDER_BACKEND',\n",
       "       'ITEM_USE_THUMBNAIL_ID', 'SEARCH_CATEGORY_ID', 'SEARCH_CATEGORY_NAME',\n",
       "       'SEARCH_OFFSET', 'SELLER_ID', 'SELLER_REP_TRANSACTIONS_TOTAL',\n",
       "       'SELLER_REP_TRANSACTIONS_CANCELED', 'SELLER_REP_RATING_NEG',\n",
       "       'SELLER_REP_RATING_POS', 'SELLER_REP_RATING_NEU',\n",
       "       'SELLER_TRANSACTIONS_COMPLETED', 'SELLER_STATUS',\n",
       "       'SELLER_METRICS_CLAIMS_RATE', 'SELLER_METRICS_CLAIMS_VALUE',\n",
       "       'SELLER_METRICS_CLAIMS_PERIOD', 'SELLER_METRICS_DELAY_RATE',\n",
       "       'SELLER_METRICS_DELAY_VALUE', 'SELLER_METRICS_DELAY_PERIOD',\n",
       "       'SELLER_METRICS_SALES_PERIOD', 'SELLER_METRICS_SALES_COMPLETED',\n",
       "       'SELLER_METRICS_CANCELLATIONS_PERIOD',\n",
       "       'SELLER_METRICS_CANCELLATIONS_RATE',\n",
       "       'SELLER_METRICS_CANCELLATIONS_VALUE', 'SELLER_LEVEL_ID',\n",
       "       'SHIPPING_FREE', 'SHIPPING_LOGISTIC_TYPE', 'SHIPPING_PICK_UP',\n",
       "       'ADRESS_STATE_ID'],\n",
       "      dtype='object')"
      ]
     },
     "execution_count": 707,
     "metadata": {},
     "output_type": "execute_result"
    }
   ],
   "source": [
    "# Printea la columnas del dataset\n",
    "products.columns"
   ]
  },
  {
   "cell_type": "markdown",
   "metadata": {
    "ExecuteTime": {
     "end_time": "2021-03-09T23:49:05.788278Z",
     "start_time": "2021-03-09T23:49:05.710669Z"
    }
   },
   "source": [
    "Se puede ver claramente que se encuentran los siguientes tipos de variables:\n",
    "    \n",
    "1. Tipo `ITEM`: Variables asociadas al ítem.\n",
    "\n",
    "\n",
    "2. Tipo `SELLER`: Variables asociadas al vendedor.\n",
    "\n",
    "\n",
    "3. Tipo `SHIPPING`: Variables asociadas al envío.\n",
    "\n",
    "\n",
    "4. Tipo `ADRESS`: Variable que indica el departamento donde se encuentra el ítem.\n",
    "\n",
    "\n",
    "5. Tipo `SEARCH`: Variables asociadas a la búsqueda: categoría y offset."
   ]
  },
  {
   "cell_type": "markdown",
   "metadata": {},
   "source": [
    "#### Transformación de los Datos\n",
    "\n",
    "En esta subsección se arreglan, limpian y transforman el dataset de productos."
   ]
  },
  {
   "cell_type": "code",
   "execution_count": 708,
   "metadata": {
    "ExecuteTime": {
     "end_time": "2021-03-15T03:09:26.509591Z",
     "start_time": "2021-03-15T03:09:26.503007Z"
    }
   },
   "outputs": [],
   "source": [
    "# Arreglo a la ADRESS_STATE_ID: para algunos productos el ADRESS_STATE_ID hay que arreglar su dato\n",
    "# Se uso el ITEM_PERMALINK para entender cual era el verdadero dato de ADRESS_STATE_ID\n",
    "cambios_de_direccion = {\n",
    "                        'TUNPUEJPR1gxMDljZA': 'CO-DC', \n",
    "                        'TUNPUEFOVGFiZWI3': 'CO-ANT ',\n",
    "                        'TUNPUENVTmE3NmQ4': 'CO-CUN',\n",
    "                        'TUNPUFZBTGExNmNjNg': 'CO-VAC',\n",
    "                        'TUNPUFJJU2ExMWIyYg': 'CO-RIS',\n",
    "                        'TUNPUEFUTG9mNDk5': 'CO-ATL',\n",
    "                        'TUNPUFRPTGExNGZkNA': 'CO-TOL',\n",
    "                        'TUNPUFNBTnJlMjMw': 'CO-SAN',\n",
    "                        'TUNPUEJPTHI1Mzlk': 'CO-BOL',\n",
    "                        'TUNPUE1BR2FiZjQ0': 'CO-MAG',\n",
    "                        'TUNPUENBTHNjODY4': 'CO-CAL',\n",
    "                        'TUNPUE1FVGExNzFjNQ': 'CO-MET',\n",
    "                        'TUNPUFFVSW9kYmZm': 'CO-QUI',\n",
    "                        'TUNPUE5PUnIxNDkyZg': 'CO-NSA', \n",
    "                        'TUNPUEFSQ2E4Zjc3': 'CO-SAP',\n",
    "                        'TUNPUEJPWWE4YzMz': 'CO-BOY',\n",
    "                        'TUNPUENBVWExM2Q1NQ': 'CO-CAU',\n",
    "                        'TUNPUENPUmFkZGIw': 'CO-COR',\n",
    "                        'TUNPUEdVQWExOTYx': 'CO-LAG',\n",
    "                        'TUNPUE5BUm8xYzk4': 'CO-NAR', \n",
    "                        'TUNPUFNVQ2U4ZWQ0': 'CO-SUC',\n",
    "                        'TUNPUENBU2U2OWIy': 'CO-CAS',\n",
    "                        'TUNPUENFU3IxODA4Mg': 'CO-CES',\n",
    "                        'TUNPUEFNQXMxMzQ2YQ': 'CO-AMA'\n",
    "                       }\n",
    "\n",
    "# Arregla un error que se detecto en las direcciones\n",
    "products.loc[products['ADRESS_STATE_ID'].isin(cambios_de_direccion.keys()), 'ADRESS_STATE_ID'] = \\\n",
    "products.loc[products['ADRESS_STATE_ID'].isin(cambios_de_direccion.keys()), 'ADRESS_STATE_ID'].map(cambios_de_direccion)"
   ]
  },
  {
   "cell_type": "code",
   "execution_count": 709,
   "metadata": {
    "ExecuteTime": {
     "end_time": "2021-03-15T03:09:26.525244Z",
     "start_time": "2021-03-15T03:09:26.511110Z"
    }
   },
   "outputs": [],
   "source": [
    "## Ajuste a la condicion del item\n",
    "\n",
    "# Se cambia nan por not_specified\n",
    "products.loc[products['ITEM_CONDITION'].isna(), 'ITEM_CONDITION'] = 'not_specified'\n",
    "\n",
    "# Ajustes al precio \n",
    "\n",
    "# Se quitan productos que no tienen precio (generalmente precio a convenir)\n",
    "# Es decir este analisis aplica para productos con precio fijo\n",
    "products = products.loc[~products['ITEM_PRICE'].isna()]\n",
    "products.reset_index(drop=True, inplace=True)\n",
    "\n",
    "# Se encontro en google la tasa de cambio de dolar a cop el dia 7 de marzo (cuando se descargaron los datos)\n",
    "exchange_rate_usd_to_cop = 3142.99 \n",
    "products.loc[products['ITEM_CURRENCY_ID'] == 'USD', 'ITEM_PRICE'] *= exchange_rate_usd_to_cop\n",
    "products.loc[products['ITEM_CURRENCY_ID'] == 'USD', 'ITEM_CURRENCY_ID'] = 'COP'\n",
    "\n",
    "# Cambia ITEM_ORIGINAL_PRICE por el ITEM_PRICE como se indica en el documento\n",
    "products.loc[products['ITEM_ORIGINAL_PRICE'].isna(), 'ITEM_ORIGINAL_PRICE'] = \\\n",
    "products.loc[products['ITEM_ORIGINAL_PRICE'].isna(), 'ITEM_PRICE']\n",
    "\n",
    "# Crea las variables de descuento absoluto y la tasa\n",
    "products['ITEM_DISCOUNT_VALUE'] = products['ITEM_ORIGINAL_PRICE'] - products['ITEM_PRICE']\n",
    "products['ITEM_DISCOUNT_RATE'] = products['ITEM_DISCOUNT_VALUE']/products['ITEM_ORIGINAL_PRICE']\n",
    "\n",
    "# Crea la variable de venta total: This is an approximation\n",
    "products['ITEM_SELL_TOTAL'] = products['ITEM_PRICE']*products['ITEM_SOLD_QUANTITY']"
   ]
  },
  {
   "cell_type": "code",
   "execution_count": 710,
   "metadata": {
    "ExecuteTime": {
     "end_time": "2021-03-15T03:09:26.554894Z",
     "start_time": "2021-03-15T03:09:26.527104Z"
    }
   },
   "outputs": [],
   "source": [
    "## Ajuste a variables del vendedor\n",
    "\n",
    "# Cambio de nan to not_specified para SELLER_STATUS\n",
    "products.loc[products['SELLER_STATUS'].isna(), 'SELLER_STATUS'] = 'not_specified'\n",
    "products.loc[products['SELLER_LEVEL_ID'].isna(), 'SELLER_LEVEL_ID'] = 'not_specified'\n",
    "\n",
    "# Cambio nan to 0 para SELLER_METRICS_SALES_PERIOD\n",
    "products.loc[products['SELLER_METRICS_SALES_PERIOD'].isna(), 'SELLER_METRICS_SALES_COMPLETED'] = 0\n",
    "products.loc[products['SELLER_METRICS_SALES_PERIOD'].isna(), 'SELLER_METRICS_SALES_PERIOD'] = '60 days'\n",
    "products.loc[products['SELLER_METRICS_SALES_PERIOD'] == '60 months', 'SELLER_METRICS_SALES_COMPLETED'] *= (60/(30*60))\n",
    "products.loc[products['SELLER_METRICS_SALES_PERIOD'] == '3 months', 'SELLER_METRICS_SALES_COMPLETED'] *= (60/90)\n",
    "products.loc[products['SELLER_METRICS_SALES_PERIOD'] == '365 days', 'SELLER_METRICS_SALES_COMPLETED'] *= (60/365)\n",
    "products['SELLER_METRICS_SALES_PERIOD'] = '60 days'\n",
    "\n",
    "# Estandarizacion de las metricas absolutas del vendedor (por periodo de tiempo)\n",
    "\n",
    "# Cancelaciones \n",
    "products.loc[products['SELLER_METRICS_CANCELLATIONS_PERIOD'] == '60 months', 'SELLER_METRICS_CANCELLATIONS_VALUE'] *= (60/(30*60))\n",
    "products.loc[products['SELLER_METRICS_CANCELLATIONS_PERIOD'] == '3 months', 'SELLER_METRICS_CANCELLATIONS_VALUE'] *= (60/90)\n",
    "products.loc[products['SELLER_METRICS_CANCELLATIONS_PERIOD'] == '365 days', 'SELLER_METRICS_CANCELLATIONS_VALUE'] *= (60/365)\n",
    "products['SELLER_METRICS_CANCELLATIONS_PERIOD'] = '60 days'\n",
    "\n",
    "# Quejas \n",
    "products.loc[products['SELLER_METRICS_CLAIMS_PERIOD'] == '60 months', 'SELLER_METRICS_CLAIMS_VALUE'] *= (60/(30*60))\n",
    "products.loc[products['SELLER_METRICS_CLAIMS_PERIOD'] == '3 months', 'SELLER_METRICS_CLAIMS_VALUE'] *= (60/90)\n",
    "products.loc[products['SELLER_METRICS_CLAIMS_PERIOD'] == '365 days', 'SELLER_METRICS_CLAIMS_VALUE'] *= (60/365)\n",
    "products['SELLER_METRICS_CLAIMS_PERIOD'] = '60 days'\n",
    "\n",
    "# Demoras \n",
    "products.loc[products['SELLER_METRICS_DELAY_PERIOD'] == '60 months', 'SELLER_METRICS_DELAY_VALUE'] *= (60/(30*60))\n",
    "products.loc[products['SELLER_METRICS_DELAY_PERIOD'] == '3 months', 'SELLER_METRICS_DELAY_VALUE'] *= (60/90)\n",
    "products.loc[products['SELLER_METRICS_DELAY_PERIOD'] == '365 days', 'SELLER_METRICS_DELAY_VALUE'] *= (60/365)\n",
    "products['SELLER_METRICS_DELAY_PERIOD'] = '60 days'\n",
    "\n",
    "## Ajustes a variables del shipping/envio\n",
    "\n",
    "# Cambio de nan to not_specified para SHIPPING_LOGISTIC_TYPE\n",
    "products.loc[products['SHIPPING_LOGISTIC_TYPE'].isna(), 'SHIPPING_LOGISTIC_TYPE'] = 'not_specified'"
   ]
  },
  {
   "cell_type": "code",
   "execution_count": 711,
   "metadata": {
    "ExecuteTime": {
     "end_time": "2021-03-15T03:09:26.572669Z",
     "start_time": "2021-03-15T03:09:26.556502Z"
    }
   },
   "outputs": [
    {
     "name": "stdout",
     "output_type": "stream",
     "text": [
      "LAS DIMENSIONES DE LA BASE DE PRODUCTOS SON: (13043, 53)\n"
     ]
    }
   ],
   "source": [
    "# Encuentra las categorias cuyas cantidades vendidas son 0 y las remueve\n",
    "sold_quantity_per_category = products.groupby('SEARCH_CATEGORY_ID')['ITEM_SELL_TOTAL'].sum().sort_values(ascending=False)\n",
    "categories_zero_sold_quantity = sold_quantity_per_category.loc[sold_quantity_per_category == 0].index.tolist()\n",
    "products = products.loc[~products['SEARCH_CATEGORY_ID'].isin(categories_zero_sold_quantity)]\n",
    "\n",
    "# Se remueven los productos cuya cantidad vendida es de 5000\n",
    "products = products.loc[products['ITEM_SOLD_QUANTITY'] < 5000]\n",
    "products = products.loc[~products['ITEM_DOMAIN_ID'].isna()]\n",
    "\n",
    "# Imprime las dimensiones del dataset de products final\n",
    "print('LAS DIMENSIONES DE LA BASE DE PRODUCTOS SON: {}'.format(products.shape))"
   ]
  },
  {
   "cell_type": "markdown",
   "metadata": {},
   "source": [
    "### Selección de Predictores"
   ]
  },
  {
   "cell_type": "code",
   "execution_count": 712,
   "metadata": {
    "ExecuteTime": {
     "end_time": "2021-03-15T03:09:26.729637Z",
     "start_time": "2021-03-15T03:09:26.724099Z"
    },
    "scrolled": false
   },
   "outputs": [
    {
     "name": "stdout",
     "output_type": "stream",
     "text": [
      "LAS DIMENSIONES DE LA DATA DE PRODUCTOS SON: (13043, 30)\n"
     ]
    }
   ],
   "source": [
    "# Variables de item y search  \n",
    "item_vars = [\n",
    "    'ITEM_PRICE',\n",
    "    'ITEM_AVAILABLE_QUANTITY',\n",
    "    'ITEM_SOLD_QUANTITY', # Variable de respuesta\n",
    "    'ITEM_LISTING_TYPE_ID',\n",
    "    'ITEM_CONDITION',\n",
    "    'ITEM_DOMAIN_ID',\n",
    "    'ITEM_ACCEPTS_MERCADOPAGO',\n",
    "    'ITEM_ORIGINAL_PRICE',\n",
    "    'ITEM_USE_THUMBNAIL_ID',\n",
    "    'SEARCH_CATEGORY_ID', # La categoria del busqueda del item \n",
    "    'SEARCH_OFFSET', # El offset de busqueda que en el que se obtuvo el item\n",
    "#     'ITEM_DISCOUNT_VALUE', # Se omite ya que es una combinacion lineal de ITEM_PRICE y ITEM_ORIGINAL_PRICE\n",
    "    'ITEM_DISCOUNT_RATE',\n",
    "]\n",
    "\n",
    "# Variables del seller y el shipping\n",
    "seller_vars = [\n",
    "    'SELLER_REP_TRANSACTIONS_TOTAL',\n",
    "    'SELLER_REP_TRANSACTIONS_CANCELED',\n",
    "    'SELLER_REP_RATING_NEG',\n",
    "    'SELLER_REP_RATING_POS',\n",
    "    'SELLER_REP_RATING_NEU',\n",
    "    'SELLER_TRANSACTIONS_COMPLETED',\n",
    "    'SELLER_METRICS_CLAIMS_RATE',\n",
    "    'SELLER_METRICS_CLAIMS_VALUE',\n",
    "    'SELLER_METRICS_DELAY_RATE',\n",
    "    'SELLER_METRICS_DELAY_VALUE', \n",
    "    'SELLER_METRICS_SALES_COMPLETED',\n",
    "    'SELLER_METRICS_CANCELLATIONS_RATE',\n",
    "    'SELLER_METRICS_CANCELLATIONS_VALUE', \n",
    "    'SELLER_LEVEL_ID',\n",
    "    'SHIPPING_FREE',\n",
    "    'SHIPPING_LOGISTIC_TYPE', \n",
    "    'SHIPPING_PICK_UP',\n",
    "    'ADRESS_STATE_ID', \n",
    "]\n",
    "\n",
    "# Seleeciona unicamente columnas anteriormente definidas\n",
    "products_selected = products[item_vars + seller_vars]\n",
    "products_selected.reset_index(drop=True, inplace=True)\n",
    "print('LAS DIMENSIONES DE LA DATA DE PRODUCTOS SON: {}'.format(products_selected.shape))"
   ]
  },
  {
   "cell_type": "markdown",
   "metadata": {},
   "source": [
    "### Estandarización, OneHotEncoding y Train-Test Split"
   ]
  },
  {
   "cell_type": "code",
   "execution_count": 713,
   "metadata": {
    "ExecuteTime": {
     "end_time": "2021-03-15T03:09:26.965453Z",
     "start_time": "2021-03-15T03:09:26.957047Z"
    }
   },
   "outputs": [
    {
     "name": "stdout",
     "output_type": "stream",
     "text": [
      "LAS DIMENSIONES DE LA DATA NUMERICA DE PRODUCTOS SON: (13043, 19)\n",
      "LAS DIMENSIONES DE LA DATA CATEGORICA DE PRODUCTOS SON: (13043, 7)\n",
      "LAS DIMENSIONES DE LA DATA BINARIA DE PRODUCTOS SON: (13043, 4)\n"
     ]
    }
   ],
   "source": [
    "# Crea un dataframe de variables numericas y otro de categoricas\n",
    "numerics = ['int16', 'int32', 'int64', 'float16', 'float32', 'float64']\n",
    "products_numeric = products_selected.select_dtypes(include=numerics)\n",
    "\n",
    "categorical = ['object']\n",
    "products_categorical = products_selected.select_dtypes(include=categorical)\n",
    "\n",
    "# Cambia las variables \n",
    "binary = ['bool']\n",
    "products_binary = products_selected.select_dtypes(include=binary)\n",
    "\n",
    "# Revisa que todas las variables de products_selected esten en products_numeric, products_binary y products_categorical\n",
    "assert(products_selected.shape[1] == (products_categorical.shape[1]+products_numeric.shape[1]+products_binary.shape[1]))\n",
    "\n",
    "# Imprime las dimensiones de cada base\n",
    "print('LAS DIMENSIONES DE LA DATA NUMERICA DE PRODUCTOS SON: {}'.format(products_numeric.shape))\n",
    "print('LAS DIMENSIONES DE LA DATA CATEGORICA DE PRODUCTOS SON: {}'.format(products_categorical.shape))\n",
    "print('LAS DIMENSIONES DE LA DATA BINARIA DE PRODUCTOS SON: {}'.format(products_binary.shape))"
   ]
  },
  {
   "cell_type": "code",
   "execution_count": 714,
   "metadata": {
    "ExecuteTime": {
     "end_time": "2021-03-15T03:09:27.020189Z",
     "start_time": "2021-03-15T03:09:26.968040Z"
    }
   },
   "outputs": [],
   "source": [
    "## Cambio a 1-0 para las binarias\n",
    "# Cambia las variables binarias True-False por 1-0 \n",
    "products_binary = products_binary.astype(int)\n",
    "\n",
    "## OneHotEncoding para las columnas categoricas\n",
    "# Define el one_hot_encoder\n",
    "one_hot_encoder = OneHotEncoder(sparse=False)\n",
    "# Transforma los datos\n",
    "products_encoded_categoricals = one_hot_encoder.fit_transform(products_categorical)"
   ]
  },
  {
   "cell_type": "code",
   "execution_count": 715,
   "metadata": {
    "ExecuteTime": {
     "end_time": "2021-03-15T03:09:27.140660Z",
     "start_time": "2021-03-15T03:09:27.022100Z"
    }
   },
   "outputs": [],
   "source": [
    "# Divide los datos en entrenamiento y prueba\n",
    "Y = products_numeric['ITEM_SOLD_QUANTITY']\n",
    "X = products_numeric.drop(columns='ITEM_SOLD_QUANTITY')\n",
    "X_train, X_test, Y_train, Y_test = train_test_split(X,Y,test_size=0.3, random_state=1608)\n",
    "indexes_train = X_train.index.tolist()\n",
    "indexes_test = X_test.index.tolist()\n",
    "\n",
    "## Estandarizacion para las numericas\n",
    "standard_scaler = StandardScaler() \n",
    "X_train_std = standard_scaler.fit_transform(X_train)\n",
    "X_test_std = standard_scaler.transform(X_test)\n",
    "\n",
    "## Construye la matriz de datos con todos los tipos de data\n",
    "X_train_total = np.concatenate((X_train_std, products_encoded_categoricals[indexes_train,:],\n",
    "                                products_binary.loc[indexes_train]), axis=1)\n",
    "X_test_total = np.concatenate((X_test_std, products_encoded_categoricals[indexes_test,:],\n",
    "                                products_binary.loc[indexes_test]), axis=1)"
   ]
  },
  {
   "cell_type": "markdown",
   "metadata": {},
   "source": [
    "## Modelos de Predicción - Sold Quantity\n",
    "\n",
    "En esta sección se construye y evalua el rendimiento de disintos modelos de Machine Learning para estimar la cantidad vendida de un ítem en función de las variables escogidas previamente."
   ]
  },
  {
   "cell_type": "markdown",
   "metadata": {},
   "source": [
    "### XGBoost (Gradient Boosting Trees)\n",
    "\n",
    "Uno de los algoritmos que escogí para usar es Gradient Boosting Trees a través del framework `XGBoost` conocido por su excelente rendimiento y rapidez. Lo que se hara es buscar los mejores hiper-parámetros por validación cruzada y evaluar el desempeño del modelo."
   ]
  },
  {
   "cell_type": "code",
   "execution_count": 716,
   "metadata": {
    "ExecuteTime": {
     "end_time": "2021-03-15T03:11:41.324620Z",
     "start_time": "2021-03-15T03:09:28.869595Z"
    }
   },
   "outputs": [
    {
     "name": "stdout",
     "output_type": "stream",
     "text": [
      "Fitting 5 folds for each of 9 candidates, totalling 45 fits\n"
     ]
    },
    {
     "name": "stderr",
     "output_type": "stream",
     "text": [
      "[Parallel(n_jobs=-1)]: Using backend LokyBackend with 16 concurrent workers.\n",
      "[Parallel(n_jobs=-1)]: Done  45 out of  45 | elapsed:  2.1min finished\n"
     ]
    }
   ],
   "source": [
    "# Parametros del XGBoost para tunear (se escogio el dart booster para evitar el overfitting)\n",
    "param_tuning = {\n",
    "        'learning_rate': [0.10, 0.25],\n",
    "        'max_depth': [5, 7],\n",
    "        'min_child_weight': [3, 5],\n",
    "        'subsample': [1.0],\n",
    "        'colsample_bytree': [0.50],\n",
    "        'n_estimators' : [100],\n",
    "        'objective': ['reg:squarederror'],\n",
    "        'booster': ['dart'],\n",
    "        'rate_drop': [0.0, 0.1],\n",
    "        'skip_drop': [0.1, 0.5]\n",
    "    }\n",
    "\n",
    "# Se evalua para todas las combinaciones de hiperparametros cual tiene el menor error de validacion\n",
    "# usando validacion cruzada para 5-folds\n",
    "\n",
    "# Modelo XGBRegressor\n",
    "xgb_model = XGBRegressor()\n",
    "\n",
    "# Validacion cruzada\n",
    "k_folds = KFold(n_splits=5, shuffle=True, random_state=1608)\n",
    "grid_search_cv = GridSearchCV(estimator = xgb_model,\n",
    "                              param_grid = param_tuning,            \n",
    "                              cv = k_folds,\n",
    "                              n_jobs = -1,\n",
    "                              verbose = 1)\n",
    "cv_fit = grid_search_cv.fit(X=X_train_total, y=Y_train) # Fit"
   ]
  },
  {
   "cell_type": "code",
   "execution_count": 717,
   "metadata": {
    "ExecuteTime": {
     "end_time": "2021-03-15T03:11:42.211602Z",
     "start_time": "2021-03-15T03:11:42.206963Z"
    },
    "scrolled": true
   },
   "outputs": [
    {
     "data": {
      "text/plain": [
       "{'booster': 'dart',\n",
       " 'colsample_bytree': 0.5,\n",
       " 'learning_rate': 0.25,\n",
       " 'max_depth': 7,\n",
       " 'min_child_weight': 5,\n",
       " 'n_estimators': 100,\n",
       " 'objective': 'reg:squarederror',\n",
       " 'rate_drop': 0.1,\n",
       " 'skip_drop': 0.5,\n",
       " 'subsample': 1.0}"
      ]
     },
     "execution_count": 717,
     "metadata": {},
     "output_type": "execute_result"
    }
   ],
   "source": [
    "# Imprime los mejores parametros bajo el score de cv calculado para cada iteracion\n",
    "grid_search_cv.best_params_"
   ]
  },
  {
   "cell_type": "code",
   "execution_count": 742,
   "metadata": {
    "ExecuteTime": {
     "end_time": "2021-03-15T03:24:46.736579Z",
     "start_time": "2021-03-15T03:24:46.585737Z"
    }
   },
   "outputs": [],
   "source": [
    "# Se generan las predicciones para el entrenamiento y prueba y se evaluan dos metricas: RMSE y MAE\n",
    "xgb_best_model = grid_search_cv.best_estimator_\n",
    "test_predictions = xgb_best_model.predict(X_test_total)\n",
    "train_predictions = xgb_best_model.predict(X_train_total)"
   ]
  },
  {
   "cell_type": "code",
   "execution_count": 743,
   "metadata": {
    "ExecuteTime": {
     "end_time": "2021-03-15T03:24:47.132942Z",
     "start_time": "2021-03-15T03:24:47.127641Z"
    }
   },
   "outputs": [
    {
     "name": "stdout",
     "output_type": "stream",
     "text": [
      "RMSE DE ENTRENAMIENTO: 79.35\n",
      "RMSE DE PRUEBA: 104.87\n",
      "DIFERENCIA DE: 32.17%\n"
     ]
    }
   ],
   "source": [
    "# Comparacion RSME train y test\n",
    "rmse_train = np.sqrt(mean_squared_error(y_pred=train_predictions, y_true=Y_train))\n",
    "rmse_test = np.sqrt(mean_squared_error(y_pred=test_predictions, y_true=Y_test))\n",
    "print('RMSE DE ENTRENAMIENTO: {}'.format(np.round(rmse_train,2)))\n",
    "print('RMSE DE PRUEBA: {}'.format(np.round(rmse_test,2)))\n",
    "diferencia_porcentual = np.round(100*(rmse_test-rmse_train)/rmse_train,2)\n",
    "print('DIFERENCIA DE: {}%'.format(diferencia_porcentual))"
   ]
  },
  {
   "cell_type": "code",
   "execution_count": 744,
   "metadata": {
    "ExecuteTime": {
     "end_time": "2021-03-15T03:24:48.278376Z",
     "start_time": "2021-03-15T03:24:48.272924Z"
    }
   },
   "outputs": [
    {
     "name": "stdout",
     "output_type": "stream",
     "text": [
      "MAE DE ENTRENAMIENTO: 54.74\n",
      "MAE DE PRUEBA: 72.84\n",
      "DIFERENCIA DE: 33.07%\n"
     ]
    }
   ],
   "source": [
    "# Comparacion MAE train y test\n",
    "mae_train = mean_absolute_error(y_pred=train_predictions, y_true=Y_train)\n",
    "mae_test = mean_absolute_error(y_pred=test_predictions, y_true=Y_test)\n",
    "diferencia_porcentual = np.round(100*(mae_test-mae_train)/mae_train,2)\n",
    "print('MAE DE ENTRENAMIENTO: {}'.format(np.round(mae_train,2)))\n",
    "print('MAE DE PRUEBA: {}'.format(np.round(mae_test,2)))\n",
    "print('DIFERENCIA DE: {}%'.format(diferencia_porcentual))"
   ]
  },
  {
   "cell_type": "code",
   "execution_count": 745,
   "metadata": {
    "ExecuteTime": {
     "end_time": "2021-03-15T03:24:49.177972Z",
     "start_time": "2021-03-15T03:24:49.071569Z"
    }
   },
   "outputs": [],
   "source": [
    "values = sorted(Y_train.unique())\n",
    "test_predictions = [find_nearest(values, p)for p in test_predictions] \n",
    "train_predictions = [find_nearest(values, p)for p in train_predictions] "
   ]
  },
  {
   "cell_type": "code",
   "execution_count": 746,
   "metadata": {
    "ExecuteTime": {
     "end_time": "2021-03-15T03:24:50.338099Z",
     "start_time": "2021-03-15T03:24:50.331706Z"
    }
   },
   "outputs": [
    {
     "name": "stdout",
     "output_type": "stream",
     "text": [
      "RMSE DE ENTRENAMIENTO: 86.3\n",
      "RMSE DE PRUEBA: 111.63\n",
      "DIFERENCIA DE: 29.35%\n"
     ]
    }
   ],
   "source": [
    "# Comparacion RSME train y test\n",
    "rmse_train = np.sqrt(mean_squared_error(y_pred=train_predictions, y_true=Y_train))\n",
    "rmse_test = np.sqrt(mean_squared_error(y_pred=test_predictions, y_true=Y_test))\n",
    "print('RMSE DE ENTRENAMIENTO: {}'.format(np.round(rmse_train,2)))\n",
    "print('RMSE DE PRUEBA: {}'.format(np.round(rmse_test,2)))\n",
    "diferencia_porcentual = np.round(100*(rmse_test-rmse_train)/rmse_train,2)\n",
    "print('DIFERENCIA DE: {}%'.format(diferencia_porcentual))"
   ]
  },
  {
   "cell_type": "code",
   "execution_count": 747,
   "metadata": {
    "ExecuteTime": {
     "end_time": "2021-03-15T03:24:51.620054Z",
     "start_time": "2021-03-15T03:24:51.613857Z"
    }
   },
   "outputs": [
    {
     "name": "stdout",
     "output_type": "stream",
     "text": [
      "MAE DE ENTRENAMIENTO: 49.49\n",
      "MAE DE PRUEBA: 69.39\n",
      "DIFERENCIA DE: 40.21%\n"
     ]
    }
   ],
   "source": [
    "# Comparacion MAE train y test\n",
    "mae_train = mean_absolute_error(y_pred=train_predictions, y_true=Y_train)\n",
    "mae_test = mean_absolute_error(y_pred=test_predictions, y_true=Y_test)\n",
    "diferencia_porcentual = np.round(100*(mae_test-mae_train)/mae_train,2)\n",
    "print('MAE DE ENTRENAMIENTO: {}'.format(np.round(mae_train,2)))\n",
    "print('MAE DE PRUEBA: {}'.format(np.round(mae_test,2)))\n",
    "print('DIFERENCIA DE: {}%'.format(diferencia_porcentual))"
   ]
  },
  {
   "cell_type": "code",
   "execution_count": 750,
   "metadata": {
    "ExecuteTime": {
     "end_time": "2021-03-15T03:27:04.075284Z",
     "start_time": "2021-03-15T03:27:04.062056Z"
    }
   },
   "outputs": [],
   "source": [
    "# Se crea un dataframe con los resultados\n",
    "resultados_train = pd.DataFrame({'TYPE': ['TRAIN']*len(Y_train), 'TRUE': Y_train, 'PREDICTED': train_predictions})\n",
    "resultados_test = pd.DataFrame({'TYPE': ['TEST']*len(Y_test), 'TRUE': Y_test, 'PREDICTED': test_predictions})\n",
    "resultados_xgb = pd.concat([resultados_train, resultados_test], axis=0).reset_index(drop=True)\n",
    "resultados_xgb['ABSOLUTE_ERROR'] = (resultados_xgb['TRUE']-resultados_xgb['PREDICTED']).abs()\n",
    "resultados_xgb['SQUARE_ERROR'] = (resultados_xgb['TRUE']-resultados_xgb['PREDICTED'])**2"
   ]
  },
  {
   "cell_type": "code",
   "execution_count": 758,
   "metadata": {
    "ExecuteTime": {
     "end_time": "2021-03-15T03:29:19.042951Z",
     "start_time": "2021-03-15T03:29:19.036488Z"
    }
   },
   "outputs": [],
   "source": [
    "# Resultados por cantidad\n",
    "resultados_por_cantidad = resultados_xgb.groupby(['TYPE', 'TRUE'])[['ABSOLUTE_ERROR', 'SQUARE_ERROR']].mean().reset_index()"
   ]
  },
  {
   "cell_type": "code",
   "execution_count": 759,
   "metadata": {
    "ExecuteTime": {
     "end_time": "2021-03-15T03:29:20.400302Z",
     "start_time": "2021-03-15T03:29:20.389790Z"
    }
   },
   "outputs": [
    {
     "data": {
      "text/html": [
       "<div>\n",
       "<style scoped>\n",
       "    .dataframe tbody tr th:only-of-type {\n",
       "        vertical-align: middle;\n",
       "    }\n",
       "\n",
       "    .dataframe tbody tr th {\n",
       "        vertical-align: top;\n",
       "    }\n",
       "\n",
       "    .dataframe thead th {\n",
       "        text-align: right;\n",
       "    }\n",
       "</style>\n",
       "<table border=\"1\" class=\"dataframe\">\n",
       "  <thead>\n",
       "    <tr style=\"text-align: right;\">\n",
       "      <th></th>\n",
       "      <th>TYPE</th>\n",
       "      <th>TRUE</th>\n",
       "      <th>ABSOLUTE_ERROR</th>\n",
       "      <th>SQUARE_ERROR</th>\n",
       "    </tr>\n",
       "  </thead>\n",
       "  <tbody>\n",
       "    <tr>\n",
       "      <th>0</th>\n",
       "      <td>TEST</td>\n",
       "      <td>0</td>\n",
       "      <td>13.389937</td>\n",
       "      <td>509.805031</td>\n",
       "    </tr>\n",
       "    <tr>\n",
       "      <th>1</th>\n",
       "      <td>TEST</td>\n",
       "      <td>1</td>\n",
       "      <td>14.776119</td>\n",
       "      <td>718.059701</td>\n",
       "    </tr>\n",
       "    <tr>\n",
       "      <th>2</th>\n",
       "      <td>TEST</td>\n",
       "      <td>2</td>\n",
       "      <td>11.974026</td>\n",
       "      <td>381.818182</td>\n",
       "    </tr>\n",
       "    <tr>\n",
       "      <th>3</th>\n",
       "      <td>TEST</td>\n",
       "      <td>3</td>\n",
       "      <td>18.562500</td>\n",
       "      <td>864.020833</td>\n",
       "    </tr>\n",
       "    <tr>\n",
       "      <th>4</th>\n",
       "      <td>TEST</td>\n",
       "      <td>4</td>\n",
       "      <td>15.784615</td>\n",
       "      <td>673.815385</td>\n",
       "    </tr>\n",
       "    <tr>\n",
       "      <th>5</th>\n",
       "      <td>TEST</td>\n",
       "      <td>5</td>\n",
       "      <td>38.708943</td>\n",
       "      <td>3173.508943</td>\n",
       "    </tr>\n",
       "    <tr>\n",
       "      <th>6</th>\n",
       "      <td>TEST</td>\n",
       "      <td>6</td>\n",
       "      <td>69.000000</td>\n",
       "      <td>5386.000000</td>\n",
       "    </tr>\n",
       "    <tr>\n",
       "      <th>7</th>\n",
       "      <td>TEST</td>\n",
       "      <td>7</td>\n",
       "      <td>52.000000</td>\n",
       "      <td>2704.000000</td>\n",
       "    </tr>\n",
       "    <tr>\n",
       "      <th>8</th>\n",
       "      <td>TEST</td>\n",
       "      <td>8</td>\n",
       "      <td>8.000000</td>\n",
       "      <td>64.000000</td>\n",
       "    </tr>\n",
       "    <tr>\n",
       "      <th>9</th>\n",
       "      <td>TEST</td>\n",
       "      <td>14</td>\n",
       "      <td>11.000000</td>\n",
       "      <td>121.000000</td>\n",
       "    </tr>\n",
       "    <tr>\n",
       "      <th>10</th>\n",
       "      <td>TEST</td>\n",
       "      <td>25</td>\n",
       "      <td>54.049107</td>\n",
       "      <td>5547.450893</td>\n",
       "    </tr>\n",
       "    <tr>\n",
       "      <th>11</th>\n",
       "      <td>TEST</td>\n",
       "      <td>50</td>\n",
       "      <td>63.566004</td>\n",
       "      <td>7161.996383</td>\n",
       "    </tr>\n",
       "    <tr>\n",
       "      <th>12</th>\n",
       "      <td>TEST</td>\n",
       "      <td>56</td>\n",
       "      <td>44.000000</td>\n",
       "      <td>1936.000000</td>\n",
       "    </tr>\n",
       "    <tr>\n",
       "      <th>13</th>\n",
       "      <td>TEST</td>\n",
       "      <td>100</td>\n",
       "      <td>66.703170</td>\n",
       "      <td>8505.406340</td>\n",
       "    </tr>\n",
       "    <tr>\n",
       "      <th>14</th>\n",
       "      <td>TEST</td>\n",
       "      <td>150</td>\n",
       "      <td>61.799127</td>\n",
       "      <td>6986.052402</td>\n",
       "    </tr>\n",
       "    <tr>\n",
       "      <th>15</th>\n",
       "      <td>TEST</td>\n",
       "      <td>200</td>\n",
       "      <td>62.897436</td>\n",
       "      <td>7059.512821</td>\n",
       "    </tr>\n",
       "    <tr>\n",
       "      <th>16</th>\n",
       "      <td>TEST</td>\n",
       "      <td>250</td>\n",
       "      <td>64.666667</td>\n",
       "      <td>11286.886406</td>\n",
       "    </tr>\n",
       "    <tr>\n",
       "      <th>17</th>\n",
       "      <td>TEST</td>\n",
       "      <td>500</td>\n",
       "      <td>165.544554</td>\n",
       "      <td>46850.049505</td>\n",
       "    </tr>\n",
       "  </tbody>\n",
       "</table>\n",
       "</div>"
      ],
      "text/plain": [
       "    TYPE  TRUE  ABSOLUTE_ERROR  SQUARE_ERROR\n",
       "0   TEST     0       13.389937    509.805031\n",
       "1   TEST     1       14.776119    718.059701\n",
       "2   TEST     2       11.974026    381.818182\n",
       "3   TEST     3       18.562500    864.020833\n",
       "4   TEST     4       15.784615    673.815385\n",
       "5   TEST     5       38.708943   3173.508943\n",
       "6   TEST     6       69.000000   5386.000000\n",
       "7   TEST     7       52.000000   2704.000000\n",
       "8   TEST     8        8.000000     64.000000\n",
       "9   TEST    14       11.000000    121.000000\n",
       "10  TEST    25       54.049107   5547.450893\n",
       "11  TEST    50       63.566004   7161.996383\n",
       "12  TEST    56       44.000000   1936.000000\n",
       "13  TEST   100       66.703170   8505.406340\n",
       "14  TEST   150       61.799127   6986.052402\n",
       "15  TEST   200       62.897436   7059.512821\n",
       "16  TEST   250       64.666667  11286.886406\n",
       "17  TEST   500      165.544554  46850.049505"
      ]
     },
     "execution_count": 759,
     "metadata": {},
     "output_type": "execute_result"
    }
   ],
   "source": [
    "# Imprime los resultados por cantidad en cuanto al MAE y MSE para los datos de prueba\n",
    "resultados_por_cantidad.loc[resultados_por_cantidad['TYPE']=='TEST']"
   ]
  },
  {
   "cell_type": "markdown",
   "metadata": {},
   "source": [
    "### NNs (Redes Neuronales)\n",
    "\n",
    "Uno de los algoritmos que escogí para usar es Redes Neuronales utilizando `Tensorflow` y en particular el modelo de `Keras` dentro de este. "
   ]
  },
  {
   "cell_type": "code",
   "execution_count": 602,
   "metadata": {
    "ExecuteTime": {
     "end_time": "2021-03-15T02:15:34.935846Z",
     "start_time": "2021-03-15T02:15:34.865860Z"
    }
   },
   "outputs": [],
   "source": [
    "# Semilla aleatoria fijada \n",
    "tf.random.set_seed(200)\n",
    "\n",
    "# Capa General 1: Capa Convolucional\n",
    "model = tf.keras.models.Sequential()\n",
    "\n",
    "\n",
    "model.add(tf.keras.layers.Dense(10, input_shape=(X_train_total.shape[1],), activation='relu'))\n",
    "model.add(tf.keras.layers.Dropout(0.25))\n",
    "\n",
    "model.add(tf.keras.layers.Dense(25, activation='relu'))\n",
    "model.add(tf.keras.layers.Dropout(0.25))\n",
    "\n",
    "model.add(tf.keras.layers.Dense(25, activation='relu'))\n",
    "model.add(tf.keras.layers.Dropout(0.25))\n",
    "\n",
    "model.add(tf.keras.layers.Dense(10, activation='relu'))\n",
    "model.add(tf.keras.layers.Dropout(0.25))\n",
    "\n",
    "model.add(tf.keras.layers.Dense(10, activation='relu'))\n",
    "model.add(tf.keras.layers.Dropout(0.25))\n",
    "model.add(tf.keras.layers.Dense(1))\n",
    "\n",
    "# Descomente si desea ver la arquitectura de la CNN\n",
    "# model.summary()\n",
    "\n",
    "# Se especifica cual es el optimizador (metodo de descenso del gradiente a usar, la función de perdida y las metricas a mostrar)\n",
    "model.compile(optimizer='adam',loss=tf.keras.losses.MeanSquaredError(), metrics=['mean_absolute_error'])"
   ]
  },
  {
   "cell_type": "code",
   "execution_count": 603,
   "metadata": {
    "ExecuteTime": {
     "end_time": "2021-03-15T02:15:52.186126Z",
     "start_time": "2021-03-15T02:15:36.814168Z"
    }
   },
   "outputs": [
    {
     "name": "stdout",
     "output_type": "stream",
     "text": [
      "Epoch 1/200\n",
      "9/9 [==============================] - 1s 22ms/step - loss: 52518.6730 - mean_absolute_error: 149.8491 - val_loss: 51882.0117 - val_mean_absolute_error: 148.5068\n",
      "Epoch 2/200\n",
      "9/9 [==============================] - 0s 8ms/step - loss: 52713.1859 - mean_absolute_error: 150.3227 - val_loss: 51831.1055 - val_mean_absolute_error: 148.3645\n",
      "Epoch 3/200\n",
      "9/9 [==============================] - 0s 8ms/step - loss: 52825.2316 - mean_absolute_error: 150.4705 - val_loss: 51742.4727 - val_mean_absolute_error: 148.1191\n",
      "Epoch 4/200\n",
      "9/9 [==============================] - 0s 8ms/step - loss: 51741.1891 - mean_absolute_error: 148.2136 - val_loss: 51585.9961 - val_mean_absolute_error: 147.7024\n",
      "Epoch 5/200\n",
      "9/9 [==============================] - 0s 8ms/step - loss: 52730.7832 - mean_absolute_error: 150.2474 - val_loss: 51314.8438 - val_mean_absolute_error: 146.9921\n",
      "Epoch 6/200\n",
      "9/9 [==============================] - 0s 8ms/step - loss: 53116.3402 - mean_absolute_error: 150.7021 - val_loss: 50825.5000 - val_mean_absolute_error: 145.7307\n",
      "Epoch 7/200\n",
      "9/9 [==============================] - 0s 8ms/step - loss: 50462.5605 - mean_absolute_error: 145.0408 - val_loss: 49953.4102 - val_mean_absolute_error: 143.6916\n",
      "Epoch 8/200\n",
      "9/9 [==============================] - 0s 8ms/step - loss: 50177.9051 - mean_absolute_error: 145.0436 - val_loss: 48469.6719 - val_mean_absolute_error: 140.9813\n",
      "Epoch 9/200\n",
      "9/9 [==============================] - 0s 8ms/step - loss: 47975.7992 - mean_absolute_error: 139.9936 - val_loss: 45982.7773 - val_mean_absolute_error: 136.6089\n",
      "Epoch 10/200\n",
      "9/9 [==============================] - 0s 8ms/step - loss: 45432.0340 - mean_absolute_error: 136.0795 - val_loss: 42008.2461 - val_mean_absolute_error: 130.1665\n",
      "Epoch 11/200\n",
      "9/9 [==============================] - 0s 8ms/step - loss: 41217.1934 - mean_absolute_error: 130.0160 - val_loss: 36430.4180 - val_mean_absolute_error: 123.6545\n",
      "Epoch 12/200\n",
      "9/9 [==============================] - 0s 8ms/step - loss: 36597.1613 - mean_absolute_error: 126.2916 - val_loss: 30210.3359 - val_mean_absolute_error: 120.2080\n",
      "Epoch 13/200\n",
      "9/9 [==============================] - 0s 8ms/step - loss: 32687.9027 - mean_absolute_error: 126.0316 - val_loss: 26074.9473 - val_mean_absolute_error: 120.4818\n",
      "Epoch 14/200\n",
      "9/9 [==============================] - 0s 8ms/step - loss: 30977.8207 - mean_absolute_error: 130.0581 - val_loss: 24940.8867 - val_mean_absolute_error: 120.1212\n",
      "Epoch 15/200\n",
      "9/9 [==============================] - 0s 8ms/step - loss: 30749.6734 - mean_absolute_error: 128.9017 - val_loss: 25093.4648 - val_mean_absolute_error: 117.3502\n",
      "Epoch 16/200\n",
      "9/9 [==============================] - 0s 8ms/step - loss: 29878.4148 - mean_absolute_error: 126.3234 - val_loss: 25071.4180 - val_mean_absolute_error: 115.0342\n",
      "Epoch 17/200\n",
      "9/9 [==============================] - 0s 8ms/step - loss: 28293.7641 - mean_absolute_error: 120.6868 - val_loss: 23983.1172 - val_mean_absolute_error: 112.7928\n",
      "Epoch 18/200\n",
      "9/9 [==============================] - 0s 8ms/step - loss: 28341.1584 - mean_absolute_error: 121.2806 - val_loss: 22553.3809 - val_mean_absolute_error: 110.1930\n",
      "Epoch 19/200\n",
      "9/9 [==============================] - 0s 8ms/step - loss: 26859.2311 - mean_absolute_error: 119.0095 - val_loss: 21595.5918 - val_mean_absolute_error: 106.3884\n",
      "Epoch 20/200\n",
      "9/9 [==============================] - 0s 8ms/step - loss: 25831.6318 - mean_absolute_error: 114.5019 - val_loss: 20815.3105 - val_mean_absolute_error: 102.6375\n",
      "Epoch 21/200\n",
      "9/9 [==============================] - 0s 8ms/step - loss: 26218.1164 - mean_absolute_error: 114.1212 - val_loss: 19875.0664 - val_mean_absolute_error: 99.7179\n",
      "Epoch 22/200\n",
      "9/9 [==============================] - 0s 8ms/step - loss: 24621.5906 - mean_absolute_error: 110.2756 - val_loss: 19010.5254 - val_mean_absolute_error: 96.0249\n",
      "Epoch 23/200\n",
      "9/9 [==============================] - 0s 8ms/step - loss: 23796.5115 - mean_absolute_error: 107.1772 - val_loss: 18047.2656 - val_mean_absolute_error: 93.0334\n",
      "Epoch 24/200\n",
      "9/9 [==============================] - 0s 8ms/step - loss: 23733.6281 - mean_absolute_error: 106.0978 - val_loss: 17563.0977 - val_mean_absolute_error: 90.5698\n",
      "Epoch 25/200\n",
      "9/9 [==============================] - 0s 8ms/step - loss: 22719.2965 - mean_absolute_error: 102.4938 - val_loss: 17052.6406 - val_mean_absolute_error: 88.1309\n",
      "Epoch 26/200\n",
      "9/9 [==============================] - 0s 8ms/step - loss: 22400.9305 - mean_absolute_error: 101.4685 - val_loss: 15926.9014 - val_mean_absolute_error: 85.8690\n",
      "Epoch 27/200\n",
      "9/9 [==============================] - 0s 8ms/step - loss: 21446.7133 - mean_absolute_error: 99.2544 - val_loss: 15734.3311 - val_mean_absolute_error: 83.9592\n",
      "Epoch 28/200\n",
      "9/9 [==============================] - 0s 8ms/step - loss: 21012.5211 - mean_absolute_error: 97.0894 - val_loss: 15601.1338 - val_mean_absolute_error: 83.0690\n",
      "Epoch 29/200\n",
      "9/9 [==============================] - 0s 8ms/step - loss: 20444.7875 - mean_absolute_error: 95.5384 - val_loss: 15365.2139 - val_mean_absolute_error: 81.9081\n",
      "Epoch 30/200\n",
      "9/9 [==============================] - 0s 8ms/step - loss: 20319.8365 - mean_absolute_error: 94.5268 - val_loss: 14762.2900 - val_mean_absolute_error: 80.8171\n",
      "Epoch 31/200\n",
      "9/9 [==============================] - 0s 8ms/step - loss: 19683.4727 - mean_absolute_error: 93.1255 - val_loss: 14938.1416 - val_mean_absolute_error: 80.3025\n",
      "Epoch 32/200\n",
      "9/9 [==============================] - 0s 8ms/step - loss: 19661.0330 - mean_absolute_error: 91.6627 - val_loss: 14902.8477 - val_mean_absolute_error: 80.1391\n",
      "Epoch 33/200\n",
      "9/9 [==============================] - 0s 8ms/step - loss: 18953.5047 - mean_absolute_error: 90.4339 - val_loss: 13969.2861 - val_mean_absolute_error: 79.6781\n",
      "Epoch 34/200\n",
      "9/9 [==============================] - 0s 8ms/step - loss: 19267.4396 - mean_absolute_error: 91.8498 - val_loss: 14641.4707 - val_mean_absolute_error: 79.2508\n",
      "Epoch 35/200\n",
      "9/9 [==============================] - 0s 8ms/step - loss: 19088.1518 - mean_absolute_error: 89.5821 - val_loss: 14238.9033 - val_mean_absolute_error: 78.6273\n",
      "Epoch 36/200\n",
      "9/9 [==============================] - 0s 8ms/step - loss: 18040.6841 - mean_absolute_error: 88.4843 - val_loss: 13862.3350 - val_mean_absolute_error: 78.2804\n",
      "Epoch 37/200\n",
      "9/9 [==============================] - 0s 8ms/step - loss: 18354.7535 - mean_absolute_error: 89.7985 - val_loss: 14319.1318 - val_mean_absolute_error: 78.2385\n",
      "Epoch 38/200\n",
      "9/9 [==============================] - 0s 8ms/step - loss: 18080.0560 - mean_absolute_error: 87.4135 - val_loss: 13755.3975 - val_mean_absolute_error: 77.4621\n",
      "Epoch 39/200\n",
      "9/9 [==============================] - 0s 8ms/step - loss: 18076.0010 - mean_absolute_error: 88.7666 - val_loss: 13503.7725 - val_mean_absolute_error: 77.1613\n",
      "Epoch 40/200\n",
      "9/9 [==============================] - 0s 8ms/step - loss: 17508.8299 - mean_absolute_error: 86.2085 - val_loss: 14027.1436 - val_mean_absolute_error: 77.4884\n",
      "Epoch 41/200\n",
      "9/9 [==============================] - 0s 8ms/step - loss: 18168.6539 - mean_absolute_error: 88.4663 - val_loss: 13532.4893 - val_mean_absolute_error: 77.2720\n",
      "Epoch 42/200\n",
      "9/9 [==============================] - 0s 8ms/step - loss: 17754.7687 - mean_absolute_error: 87.4156 - val_loss: 13588.0400 - val_mean_absolute_error: 77.3060\n",
      "Epoch 43/200\n",
      "9/9 [==============================] - 0s 8ms/step - loss: 17753.6330 - mean_absolute_error: 87.6788 - val_loss: 13788.2412 - val_mean_absolute_error: 77.6181\n",
      "Epoch 44/200\n",
      "9/9 [==============================] - 0s 8ms/step - loss: 17461.5537 - mean_absolute_error: 87.5533 - val_loss: 13833.9922 - val_mean_absolute_error: 77.4872\n",
      "Epoch 45/200\n",
      "9/9 [==============================] - 0s 8ms/step - loss: 17410.0008 - mean_absolute_error: 87.0138 - val_loss: 13643.4932 - val_mean_absolute_error: 77.1127\n",
      "Epoch 46/200\n",
      "9/9 [==============================] - 0s 8ms/step - loss: 16739.7666 - mean_absolute_error: 85.6677 - val_loss: 13340.8125 - val_mean_absolute_error: 76.7539\n",
      "Epoch 47/200\n",
      "9/9 [==============================] - 0s 8ms/step - loss: 16664.2230 - mean_absolute_error: 85.5610 - val_loss: 13603.3066 - val_mean_absolute_error: 76.6894\n",
      "Epoch 48/200\n"
     ]
    },
    {
     "name": "stdout",
     "output_type": "stream",
     "text": [
      "9/9 [==============================] - 0s 8ms/step - loss: 16146.3889 - mean_absolute_error: 82.9120 - val_loss: 13657.2852 - val_mean_absolute_error: 76.7320\n",
      "Epoch 49/200\n",
      "9/9 [==============================] - 0s 8ms/step - loss: 17413.5227 - mean_absolute_error: 87.1647 - val_loss: 12928.4561 - val_mean_absolute_error: 75.9260\n",
      "Epoch 50/200\n",
      "9/9 [==============================] - 0s 8ms/step - loss: 16692.5468 - mean_absolute_error: 85.0653 - val_loss: 13334.2080 - val_mean_absolute_error: 76.0236\n",
      "Epoch 51/200\n",
      "9/9 [==============================] - 0s 8ms/step - loss: 16190.7647 - mean_absolute_error: 83.8417 - val_loss: 13112.0732 - val_mean_absolute_error: 75.8678\n",
      "Epoch 52/200\n",
      "9/9 [==============================] - 0s 8ms/step - loss: 17098.7084 - mean_absolute_error: 86.3576 - val_loss: 13322.2529 - val_mean_absolute_error: 76.2516\n",
      "Epoch 53/200\n",
      "9/9 [==============================] - 0s 8ms/step - loss: 16608.1564 - mean_absolute_error: 84.3126 - val_loss: 13172.8984 - val_mean_absolute_error: 75.9344\n",
      "Epoch 54/200\n",
      "9/9 [==============================] - 0s 8ms/step - loss: 16788.1104 - mean_absolute_error: 85.5212 - val_loss: 12950.5674 - val_mean_absolute_error: 75.3584\n",
      "Epoch 55/200\n",
      "9/9 [==============================] - 0s 8ms/step - loss: 15573.3929 - mean_absolute_error: 82.9495 - val_loss: 13037.2021 - val_mean_absolute_error: 75.5963\n",
      "Epoch 56/200\n",
      "9/9 [==============================] - 0s 8ms/step - loss: 16302.8015 - mean_absolute_error: 84.7785 - val_loss: 12919.5352 - val_mean_absolute_error: 75.6520\n",
      "Epoch 57/200\n",
      "9/9 [==============================] - 0s 8ms/step - loss: 16097.4205 - mean_absolute_error: 84.0829 - val_loss: 12838.0996 - val_mean_absolute_error: 75.1049\n",
      "Epoch 58/200\n",
      "9/9 [==============================] - 0s 8ms/step - loss: 15870.7141 - mean_absolute_error: 82.8590 - val_loss: 12838.2832 - val_mean_absolute_error: 75.1155\n",
      "Epoch 59/200\n",
      "9/9 [==============================] - 0s 8ms/step - loss: 15227.7385 - mean_absolute_error: 81.3868 - val_loss: 12733.3867 - val_mean_absolute_error: 74.8821\n",
      "Epoch 60/200\n",
      "9/9 [==============================] - 0s 8ms/step - loss: 16443.5374 - mean_absolute_error: 84.1927 - val_loss: 13387.9805 - val_mean_absolute_error: 75.8344\n",
      "Epoch 61/200\n",
      "9/9 [==============================] - 0s 8ms/step - loss: 16194.9612 - mean_absolute_error: 83.8551 - val_loss: 12576.2891 - val_mean_absolute_error: 74.7823\n",
      "Epoch 62/200\n",
      "9/9 [==============================] - 0s 9ms/step - loss: 15996.0619 - mean_absolute_error: 83.6026 - val_loss: 12928.5127 - val_mean_absolute_error: 74.9678\n",
      "Epoch 63/200\n",
      "9/9 [==============================] - 0s 8ms/step - loss: 15662.8438 - mean_absolute_error: 81.6247 - val_loss: 13158.9941 - val_mean_absolute_error: 75.4487\n",
      "Epoch 64/200\n",
      "9/9 [==============================] - 0s 8ms/step - loss: 16104.0355 - mean_absolute_error: 83.4033 - val_loss: 12810.2432 - val_mean_absolute_error: 75.3801\n",
      "Epoch 65/200\n",
      "9/9 [==============================] - 0s 8ms/step - loss: 15706.6277 - mean_absolute_error: 82.5150 - val_loss: 13171.3350 - val_mean_absolute_error: 75.7563\n",
      "Epoch 66/200\n",
      "9/9 [==============================] - 1s 64ms/step - loss: 14981.0786 - mean_absolute_error: 80.1262 - val_loss: 12663.4902 - val_mean_absolute_error: 75.2176\n",
      "Epoch 67/200\n",
      "9/9 [==============================] - 0s 8ms/step - loss: 15374.0641 - mean_absolute_error: 81.8144 - val_loss: 13027.3799 - val_mean_absolute_error: 75.8361\n",
      "Epoch 68/200\n",
      "9/9 [==============================] - 0s 8ms/step - loss: 15489.2860 - mean_absolute_error: 82.0751 - val_loss: 13056.5469 - val_mean_absolute_error: 75.7460\n",
      "Epoch 69/200\n",
      "9/9 [==============================] - 0s 8ms/step - loss: 15674.8769 - mean_absolute_error: 82.8767 - val_loss: 12581.0117 - val_mean_absolute_error: 74.9561\n",
      "Epoch 70/200\n",
      "9/9 [==============================] - 0s 8ms/step - loss: 15743.3924 - mean_absolute_error: 82.5938 - val_loss: 13406.7598 - val_mean_absolute_error: 76.0247\n",
      "Epoch 71/200\n",
      "9/9 [==============================] - 0s 8ms/step - loss: 15394.0862 - mean_absolute_error: 82.2782 - val_loss: 12571.1797 - val_mean_absolute_error: 75.1594\n",
      "Epoch 72/200\n",
      "9/9 [==============================] - 0s 8ms/step - loss: 15087.9084 - mean_absolute_error: 81.6169 - val_loss: 13116.6416 - val_mean_absolute_error: 75.8289\n",
      "Epoch 73/200\n",
      "9/9 [==============================] - 0s 8ms/step - loss: 15381.6782 - mean_absolute_error: 81.0340 - val_loss: 13070.1211 - val_mean_absolute_error: 76.2300\n",
      "Epoch 74/200\n",
      "9/9 [==============================] - 0s 8ms/step - loss: 16498.0938 - mean_absolute_error: 84.7780 - val_loss: 12858.2559 - val_mean_absolute_error: 75.8305\n",
      "Epoch 75/200\n",
      "9/9 [==============================] - 0s 8ms/step - loss: 15299.9358 - mean_absolute_error: 81.4602 - val_loss: 12993.0889 - val_mean_absolute_error: 75.6140\n",
      "Epoch 76/200\n",
      "9/9 [==============================] - 0s 8ms/step - loss: 15096.2330 - mean_absolute_error: 80.8451 - val_loss: 12279.4229 - val_mean_absolute_error: 74.9155\n",
      "Epoch 77/200\n",
      "9/9 [==============================] - 0s 8ms/step - loss: 15208.5993 - mean_absolute_error: 82.2823 - val_loss: 13334.0908 - val_mean_absolute_error: 75.9669\n",
      "Epoch 78/200\n",
      "9/9 [==============================] - 0s 8ms/step - loss: 14925.6005 - mean_absolute_error: 80.5123 - val_loss: 12689.8184 - val_mean_absolute_error: 75.3099\n",
      "Epoch 79/200\n",
      "9/9 [==============================] - 0s 8ms/step - loss: 14984.4860 - mean_absolute_error: 81.3002 - val_loss: 12761.6650 - val_mean_absolute_error: 75.3607\n",
      "Epoch 80/200\n",
      "9/9 [==============================] - 0s 8ms/step - loss: 14555.3945 - mean_absolute_error: 79.9294 - val_loss: 12869.9580 - val_mean_absolute_error: 75.3793\n",
      "Epoch 81/200\n",
      "9/9 [==============================] - 0s 8ms/step - loss: 14464.3578 - mean_absolute_error: 80.1840 - val_loss: 12759.3789 - val_mean_absolute_error: 75.3157\n",
      "Epoch 82/200\n",
      "9/9 [==============================] - 0s 8ms/step - loss: 15313.7475 - mean_absolute_error: 81.7021 - val_loss: 12877.1855 - val_mean_absolute_error: 75.5298\n",
      "Epoch 83/200\n",
      "9/9 [==============================] - 0s 8ms/step - loss: 15185.1525 - mean_absolute_error: 81.3825 - val_loss: 12801.2266 - val_mean_absolute_error: 75.3584\n",
      "Epoch 84/200\n",
      "9/9 [==============================] - 0s 8ms/step - loss: 15218.1562 - mean_absolute_error: 82.2384 - val_loss: 12779.5225 - val_mean_absolute_error: 74.8551\n",
      "Epoch 85/200\n",
      "9/9 [==============================] - 0s 8ms/step - loss: 15006.5389 - mean_absolute_error: 80.8415 - val_loss: 12794.1084 - val_mean_absolute_error: 74.7207\n",
      "Epoch 86/200\n",
      "9/9 [==============================] - 0s 8ms/step - loss: 14781.2541 - mean_absolute_error: 80.1357 - val_loss: 12424.8740 - val_mean_absolute_error: 74.7220\n",
      "Epoch 87/200\n",
      "9/9 [==============================] - 0s 8ms/step - loss: 14765.6661 - mean_absolute_error: 80.1704 - val_loss: 13211.2920 - val_mean_absolute_error: 75.8444\n",
      "Epoch 88/200\n",
      "9/9 [==============================] - 0s 8ms/step - loss: 15468.2149 - mean_absolute_error: 81.8342 - val_loss: 13031.4941 - val_mean_absolute_error: 75.9981\n",
      "Epoch 89/200\n",
      "9/9 [==============================] - 0s 8ms/step - loss: 15038.4358 - mean_absolute_error: 81.5174 - val_loss: 12463.6367 - val_mean_absolute_error: 74.7752\n",
      "Epoch 90/200\n",
      "9/9 [==============================] - 0s 8ms/step - loss: 14561.6705 - mean_absolute_error: 78.6931 - val_loss: 13077.2266 - val_mean_absolute_error: 75.7269\n",
      "Epoch 91/200\n",
      "9/9 [==============================] - 0s 8ms/step - loss: 14377.8330 - mean_absolute_error: 78.7191 - val_loss: 12389.0615 - val_mean_absolute_error: 74.6491\n",
      "Epoch 92/200\n",
      "9/9 [==============================] - 0s 8ms/step - loss: 14707.0215 - mean_absolute_error: 80.3569 - val_loss: 13258.5479 - val_mean_absolute_error: 75.9283\n",
      "Epoch 93/200\n",
      "9/9 [==============================] - 0s 8ms/step - loss: 15081.4176 - mean_absolute_error: 79.9755 - val_loss: 12773.9805 - val_mean_absolute_error: 75.5099\n",
      "Epoch 94/200\n",
      "9/9 [==============================] - 0s 8ms/step - loss: 14678.1512 - mean_absolute_error: 79.5300 - val_loss: 13073.1074 - val_mean_absolute_error: 75.5735\n",
      "Epoch 95/200\n",
      "9/9 [==============================] - 0s 8ms/step - loss: 14013.2249 - mean_absolute_error: 78.5319 - val_loss: 12888.9189 - val_mean_absolute_error: 75.3609\n"
     ]
    },
    {
     "name": "stdout",
     "output_type": "stream",
     "text": [
      "Epoch 96/200\n",
      "9/9 [==============================] - 0s 8ms/step - loss: 14787.7588 - mean_absolute_error: 79.7310 - val_loss: 12850.0381 - val_mean_absolute_error: 75.4782\n",
      "Epoch 97/200\n",
      "9/9 [==============================] - 0s 8ms/step - loss: 14411.7793 - mean_absolute_error: 79.8822 - val_loss: 12773.7949 - val_mean_absolute_error: 75.3393\n",
      "Epoch 98/200\n",
      "9/9 [==============================] - 0s 8ms/step - loss: 14434.1805 - mean_absolute_error: 79.4124 - val_loss: 12878.8125 - val_mean_absolute_error: 75.5848\n",
      "Epoch 99/200\n",
      "9/9 [==============================] - 0s 8ms/step - loss: 14749.5752 - mean_absolute_error: 80.5302 - val_loss: 12734.9092 - val_mean_absolute_error: 75.4343\n",
      "Epoch 100/200\n",
      "9/9 [==============================] - 0s 8ms/step - loss: 13728.6812 - mean_absolute_error: 77.3817 - val_loss: 12855.3330 - val_mean_absolute_error: 75.3376\n",
      "Epoch 101/200\n",
      "9/9 [==============================] - 0s 8ms/step - loss: 14577.2264 - mean_absolute_error: 79.6953 - val_loss: 12490.4434 - val_mean_absolute_error: 74.7931\n",
      "Epoch 102/200\n",
      "9/9 [==============================] - 0s 8ms/step - loss: 14322.7424 - mean_absolute_error: 79.3351 - val_loss: 13067.0264 - val_mean_absolute_error: 75.7262\n",
      "Epoch 103/200\n",
      "9/9 [==============================] - 0s 8ms/step - loss: 14681.5193 - mean_absolute_error: 79.5712 - val_loss: 12820.4180 - val_mean_absolute_error: 75.3680\n",
      "Epoch 104/200\n",
      "9/9 [==============================] - 0s 8ms/step - loss: 14609.8539 - mean_absolute_error: 79.5659 - val_loss: 12735.6650 - val_mean_absolute_error: 75.2671\n",
      "Epoch 105/200\n",
      "9/9 [==============================] - 0s 8ms/step - loss: 14339.2943 - mean_absolute_error: 78.9118 - val_loss: 13036.9639 - val_mean_absolute_error: 75.6420\n",
      "Epoch 106/200\n",
      "9/9 [==============================] - 0s 8ms/step - loss: 14560.8018 - mean_absolute_error: 78.9180 - val_loss: 12712.6777 - val_mean_absolute_error: 75.3061\n",
      "Epoch 107/200\n",
      "9/9 [==============================] - 0s 8ms/step - loss: 14724.7897 - mean_absolute_error: 79.5576 - val_loss: 13021.7930 - val_mean_absolute_error: 75.9861\n",
      "Epoch 108/200\n",
      "9/9 [==============================] - 0s 8ms/step - loss: 14506.4619 - mean_absolute_error: 79.4740 - val_loss: 13248.0439 - val_mean_absolute_error: 76.2896\n",
      "Epoch 109/200\n",
      "9/9 [==============================] - 0s 8ms/step - loss: 15243.7732 - mean_absolute_error: 80.3016 - val_loss: 13346.9014 - val_mean_absolute_error: 76.4937\n",
      "Epoch 110/200\n",
      "9/9 [==============================] - 0s 8ms/step - loss: 14325.3003 - mean_absolute_error: 79.0797 - val_loss: 12506.1064 - val_mean_absolute_error: 75.3999\n",
      "Epoch 111/200\n",
      "9/9 [==============================] - 0s 8ms/step - loss: 13697.7678 - mean_absolute_error: 77.6767 - val_loss: 13206.4268 - val_mean_absolute_error: 76.0724\n",
      "Epoch 112/200\n",
      "9/9 [==============================] - 0s 8ms/step - loss: 14503.3473 - mean_absolute_error: 79.2980 - val_loss: 12889.3730 - val_mean_absolute_error: 75.8123\n",
      "Epoch 113/200\n",
      "9/9 [==============================] - 0s 8ms/step - loss: 13908.6353 - mean_absolute_error: 78.0763 - val_loss: 12839.9707 - val_mean_absolute_error: 75.3623\n",
      "Epoch 114/200\n",
      "9/9 [==============================] - 0s 8ms/step - loss: 13963.5004 - mean_absolute_error: 78.1873 - val_loss: 13084.0918 - val_mean_absolute_error: 75.8808\n",
      "Epoch 115/200\n",
      "9/9 [==============================] - 0s 8ms/step - loss: 14293.6478 - mean_absolute_error: 78.3800 - val_loss: 12920.3848 - val_mean_absolute_error: 75.7295\n",
      "Epoch 116/200\n",
      "9/9 [==============================] - 0s 8ms/step - loss: 13607.9753 - mean_absolute_error: 76.6583 - val_loss: 13006.9785 - val_mean_absolute_error: 75.8276\n",
      "Epoch 117/200\n",
      "9/9 [==============================] - 0s 8ms/step - loss: 14224.1048 - mean_absolute_error: 78.3235 - val_loss: 13059.9707 - val_mean_absolute_error: 75.8117\n",
      "Epoch 118/200\n",
      "9/9 [==============================] - 0s 8ms/step - loss: 14317.5478 - mean_absolute_error: 77.5850 - val_loss: 12869.8623 - val_mean_absolute_error: 75.6707\n",
      "Epoch 119/200\n",
      "9/9 [==============================] - 0s 8ms/step - loss: 14521.7124 - mean_absolute_error: 79.8149 - val_loss: 12837.5791 - val_mean_absolute_error: 75.5793\n",
      "Epoch 120/200\n",
      "9/9 [==============================] - 0s 8ms/step - loss: 14071.7363 - mean_absolute_error: 77.9651 - val_loss: 12874.7422 - val_mean_absolute_error: 75.8055\n",
      "Epoch 121/200\n",
      "9/9 [==============================] - 0s 8ms/step - loss: 14179.6510 - mean_absolute_error: 78.4502 - val_loss: 12979.7607 - val_mean_absolute_error: 75.8861\n",
      "Epoch 122/200\n",
      "9/9 [==============================] - 0s 8ms/step - loss: 14026.6683 - mean_absolute_error: 77.5184 - val_loss: 12851.6055 - val_mean_absolute_error: 75.5481\n",
      "Epoch 123/200\n",
      "9/9 [==============================] - 0s 8ms/step - loss: 13979.1029 - mean_absolute_error: 77.4151 - val_loss: 12566.3320 - val_mean_absolute_error: 74.8842\n",
      "Epoch 124/200\n",
      "9/9 [==============================] - 0s 8ms/step - loss: 14104.7742 - mean_absolute_error: 77.5137 - val_loss: 12977.7275 - val_mean_absolute_error: 75.5622\n",
      "Epoch 125/200\n",
      "9/9 [==============================] - 0s 8ms/step - loss: 13769.7580 - mean_absolute_error: 77.2254 - val_loss: 12654.3789 - val_mean_absolute_error: 75.2871\n",
      "Epoch 126/200\n",
      "9/9 [==============================] - 0s 8ms/step - loss: 14381.1119 - mean_absolute_error: 78.8488 - val_loss: 13231.9893 - val_mean_absolute_error: 75.9380\n",
      "Epoch 127/200\n",
      "9/9 [==============================] - 0s 8ms/step - loss: 13968.6102 - mean_absolute_error: 77.7031 - val_loss: 12862.4697 - val_mean_absolute_error: 75.3635\n",
      "Epoch 128/200\n",
      "9/9 [==============================] - 0s 8ms/step - loss: 14054.7127 - mean_absolute_error: 77.5331 - val_loss: 12896.2549 - val_mean_absolute_error: 75.4221\n",
      "Epoch 129/200\n",
      "9/9 [==============================] - 0s 8ms/step - loss: 13809.4370 - mean_absolute_error: 77.5326 - val_loss: 13229.4775 - val_mean_absolute_error: 76.1813\n",
      "Epoch 130/200\n",
      "9/9 [==============================] - 0s 8ms/step - loss: 13872.4788 - mean_absolute_error: 76.9243 - val_loss: 13188.1777 - val_mean_absolute_error: 76.2536\n",
      "Epoch 131/200\n",
      "9/9 [==============================] - 0s 8ms/step - loss: 13821.3908 - mean_absolute_error: 77.3213 - val_loss: 12568.5967 - val_mean_absolute_error: 75.1986\n",
      "Epoch 132/200\n",
      "9/9 [==============================] - 0s 8ms/step - loss: 14050.1286 - mean_absolute_error: 78.8850 - val_loss: 13384.1680 - val_mean_absolute_error: 76.1316\n",
      "Epoch 133/200\n",
      "9/9 [==============================] - 0s 8ms/step - loss: 14105.1600 - mean_absolute_error: 78.3547 - val_loss: 13042.9219 - val_mean_absolute_error: 75.9238\n",
      "Epoch 134/200\n",
      "9/9 [==============================] - 0s 8ms/step - loss: 13988.7748 - mean_absolute_error: 77.5302 - val_loss: 12904.5557 - val_mean_absolute_error: 75.4607\n",
      "Epoch 135/200\n",
      "9/9 [==============================] - 0s 8ms/step - loss: 13525.7432 - mean_absolute_error: 76.2971 - val_loss: 13238.2920 - val_mean_absolute_error: 75.9442\n",
      "Epoch 136/200\n",
      "9/9 [==============================] - 0s 8ms/step - loss: 14055.4741 - mean_absolute_error: 77.3796 - val_loss: 13326.4785 - val_mean_absolute_error: 76.3611\n",
      "Epoch 137/200\n",
      "9/9 [==============================] - 0s 8ms/step - loss: 13161.6854 - mean_absolute_error: 74.9827 - val_loss: 13294.6943 - val_mean_absolute_error: 76.3362\n",
      "Epoch 138/200\n",
      "9/9 [==============================] - 0s 8ms/step - loss: 13513.3364 - mean_absolute_error: 76.0643 - val_loss: 12601.1709 - val_mean_absolute_error: 75.1178\n",
      "Epoch 139/200\n",
      "9/9 [==============================] - 0s 8ms/step - loss: 13802.9840 - mean_absolute_error: 76.8410 - val_loss: 13143.8701 - val_mean_absolute_error: 75.8093\n",
      "Epoch 140/200\n",
      "9/9 [==============================] - 0s 8ms/step - loss: 14201.7633 - mean_absolute_error: 77.5037 - val_loss: 13314.4375 - val_mean_absolute_error: 76.3748\n",
      "Epoch 141/200\n",
      "9/9 [==============================] - 0s 56ms/step - loss: 13901.7736 - mean_absolute_error: 77.4794 - val_loss: 12715.7803 - val_mean_absolute_error: 75.1561\n",
      "Epoch 142/200\n",
      "9/9 [==============================] - 0s 8ms/step - loss: 14164.0671 - mean_absolute_error: 78.3625 - val_loss: 12911.9678 - val_mean_absolute_error: 75.3274\n",
      "Epoch 143/200\n"
     ]
    },
    {
     "name": "stdout",
     "output_type": "stream",
     "text": [
      "9/9 [==============================] - 0s 8ms/step - loss: 13392.9688 - mean_absolute_error: 75.7454 - val_loss: 13333.2188 - val_mean_absolute_error: 76.5384\n",
      "Epoch 144/200\n",
      "9/9 [==============================] - 0s 8ms/step - loss: 13437.3372 - mean_absolute_error: 76.0189 - val_loss: 12767.9873 - val_mean_absolute_error: 75.6007\n",
      "Epoch 145/200\n",
      "9/9 [==============================] - 0s 8ms/step - loss: 13276.6773 - mean_absolute_error: 75.4996 - val_loss: 13107.5391 - val_mean_absolute_error: 75.6319\n",
      "Epoch 146/200\n",
      "9/9 [==============================] - 0s 8ms/step - loss: 14341.1670 - mean_absolute_error: 77.0381 - val_loss: 13224.5674 - val_mean_absolute_error: 75.9452\n",
      "Epoch 147/200\n",
      "9/9 [==============================] - 0s 8ms/step - loss: 14056.2471 - mean_absolute_error: 77.8752 - val_loss: 12931.8770 - val_mean_absolute_error: 75.6098\n",
      "Epoch 148/200\n",
      "9/9 [==============================] - 0s 7ms/step - loss: 14216.8233 - mean_absolute_error: 78.1398 - val_loss: 12969.8984 - val_mean_absolute_error: 75.3495\n",
      "Epoch 149/200\n",
      "9/9 [==============================] - 0s 7ms/step - loss: 13405.1944 - mean_absolute_error: 75.6689 - val_loss: 12739.1777 - val_mean_absolute_error: 74.7799\n",
      "Epoch 150/200\n",
      "9/9 [==============================] - 0s 7ms/step - loss: 13289.5104 - mean_absolute_error: 75.6069 - val_loss: 12872.0889 - val_mean_absolute_error: 74.8210\n",
      "Epoch 151/200\n",
      "9/9 [==============================] - 0s 8ms/step - loss: 13983.9099 - mean_absolute_error: 76.3480 - val_loss: 13203.0176 - val_mean_absolute_error: 75.5809\n",
      "Epoch 152/200\n",
      "9/9 [==============================] - 0s 8ms/step - loss: 13922.3615 - mean_absolute_error: 76.4521 - val_loss: 13025.0088 - val_mean_absolute_error: 75.4329\n",
      "Epoch 153/200\n",
      "9/9 [==============================] - 0s 8ms/step - loss: 13881.0426 - mean_absolute_error: 76.7043 - val_loss: 13109.8574 - val_mean_absolute_error: 75.2815\n",
      "Epoch 154/200\n",
      "9/9 [==============================] - 0s 8ms/step - loss: 13891.7859 - mean_absolute_error: 77.0294 - val_loss: 12822.0029 - val_mean_absolute_error: 74.9806\n",
      "Epoch 155/200\n",
      "9/9 [==============================] - 0s 8ms/step - loss: 13914.9930 - mean_absolute_error: 77.1084 - val_loss: 13278.6777 - val_mean_absolute_error: 75.9965\n",
      "Epoch 156/200\n",
      "9/9 [==============================] - 0s 8ms/step - loss: 13812.7653 - mean_absolute_error: 76.6486 - val_loss: 13179.2412 - val_mean_absolute_error: 75.6359\n",
      "Epoch 157/200\n",
      "9/9 [==============================] - 0s 8ms/step - loss: 13036.3445 - mean_absolute_error: 74.6605 - val_loss: 12794.8867 - val_mean_absolute_error: 75.0116\n",
      "Epoch 158/200\n",
      "9/9 [==============================] - 0s 8ms/step - loss: 13843.6240 - mean_absolute_error: 76.6833 - val_loss: 12963.4287 - val_mean_absolute_error: 75.3362\n",
      "Epoch 159/200\n",
      "9/9 [==============================] - 0s 8ms/step - loss: 13467.1546 - mean_absolute_error: 76.0728 - val_loss: 13096.3770 - val_mean_absolute_error: 75.7038\n",
      "Epoch 160/200\n",
      "9/9 [==============================] - 0s 8ms/step - loss: 14010.1283 - mean_absolute_error: 77.5486 - val_loss: 13402.4434 - val_mean_absolute_error: 76.1535\n",
      "Epoch 161/200\n",
      "9/9 [==============================] - 0s 8ms/step - loss: 13299.7846 - mean_absolute_error: 75.4427 - val_loss: 12769.4287 - val_mean_absolute_error: 75.3569\n",
      "Epoch 162/200\n",
      "9/9 [==============================] - 0s 8ms/step - loss: 13590.9151 - mean_absolute_error: 75.9957 - val_loss: 13463.3779 - val_mean_absolute_error: 76.2066\n",
      "Epoch 163/200\n",
      "9/9 [==============================] - 0s 8ms/step - loss: 13386.5381 - mean_absolute_error: 75.1319 - val_loss: 12746.4287 - val_mean_absolute_error: 75.1495\n",
      "Epoch 164/200\n",
      "9/9 [==============================] - 0s 8ms/step - loss: 12975.0345 - mean_absolute_error: 74.4238 - val_loss: 13395.3027 - val_mean_absolute_error: 76.2851\n",
      "Epoch 165/200\n",
      "9/9 [==============================] - 0s 9ms/step - loss: 13503.7180 - mean_absolute_error: 75.9327 - val_loss: 13218.9707 - val_mean_absolute_error: 76.3624\n",
      "Epoch 166/200\n",
      "9/9 [==============================] - 0s 8ms/step - loss: 13210.3993 - mean_absolute_error: 75.1530 - val_loss: 12972.3623 - val_mean_absolute_error: 75.9769\n",
      "Epoch 167/200\n",
      "9/9 [==============================] - 0s 8ms/step - loss: 13877.5795 - mean_absolute_error: 77.1111 - val_loss: 12928.2490 - val_mean_absolute_error: 75.4969\n",
      "Epoch 168/200\n",
      "9/9 [==============================] - 0s 8ms/step - loss: 13647.9992 - mean_absolute_error: 76.2136 - val_loss: 13127.1152 - val_mean_absolute_error: 75.6340\n",
      "Epoch 169/200\n",
      "9/9 [==============================] - 0s 8ms/step - loss: 13585.0013 - mean_absolute_error: 75.7074 - val_loss: 13194.3232 - val_mean_absolute_error: 76.0313\n",
      "Epoch 170/200\n",
      "9/9 [==============================] - 0s 8ms/step - loss: 13069.4552 - mean_absolute_error: 74.9181 - val_loss: 13112.3887 - val_mean_absolute_error: 75.8821\n",
      "Epoch 171/200\n",
      "9/9 [==============================] - 0s 8ms/step - loss: 13782.1622 - mean_absolute_error: 76.6216 - val_loss: 12817.2764 - val_mean_absolute_error: 75.3030\n",
      "Epoch 172/200\n",
      "9/9 [==============================] - 0s 8ms/step - loss: 13878.7098 - mean_absolute_error: 77.3444 - val_loss: 13153.1816 - val_mean_absolute_error: 75.9929\n",
      "Epoch 173/200\n",
      "9/9 [==============================] - 0s 8ms/step - loss: 13659.9892 - mean_absolute_error: 76.5270 - val_loss: 13064.7354 - val_mean_absolute_error: 75.7412\n",
      "Epoch 174/200\n",
      "9/9 [==============================] - 0s 8ms/step - loss: 13086.2699 - mean_absolute_error: 74.7797 - val_loss: 12762.3779 - val_mean_absolute_error: 75.2012\n",
      "Epoch 175/200\n",
      "9/9 [==============================] - 0s 8ms/step - loss: 12938.4813 - mean_absolute_error: 74.6475 - val_loss: 12889.0098 - val_mean_absolute_error: 75.3704\n",
      "Epoch 176/200\n",
      "9/9 [==============================] - 0s 8ms/step - loss: 13608.6873 - mean_absolute_error: 75.3161 - val_loss: 13209.7393 - val_mean_absolute_error: 75.6710\n",
      "Epoch 177/200\n",
      "9/9 [==============================] - 0s 8ms/step - loss: 13275.7047 - mean_absolute_error: 74.6486 - val_loss: 13132.5430 - val_mean_absolute_error: 75.6649\n",
      "Epoch 178/200\n",
      "9/9 [==============================] - 0s 8ms/step - loss: 13444.7002 - mean_absolute_error: 75.1423 - val_loss: 13105.4619 - val_mean_absolute_error: 75.5683\n",
      "Epoch 179/200\n",
      "9/9 [==============================] - 0s 8ms/step - loss: 13367.1024 - mean_absolute_error: 75.3600 - val_loss: 13102.5586 - val_mean_absolute_error: 75.5982\n",
      "Epoch 180/200\n",
      "9/9 [==============================] - 0s 8ms/step - loss: 13345.4586 - mean_absolute_error: 75.6237 - val_loss: 13310.1895 - val_mean_absolute_error: 76.2183\n",
      "Epoch 181/200\n",
      "9/9 [==============================] - 0s 8ms/step - loss: 13595.4111 - mean_absolute_error: 75.9755 - val_loss: 12870.0537 - val_mean_absolute_error: 75.6699\n",
      "Epoch 182/200\n",
      "9/9 [==============================] - 0s 8ms/step - loss: 13607.2951 - mean_absolute_error: 76.9843 - val_loss: 12917.1455 - val_mean_absolute_error: 75.4667\n",
      "Epoch 183/200\n",
      "9/9 [==============================] - 0s 9ms/step - loss: 13455.7067 - mean_absolute_error: 75.5699 - val_loss: 13284.5205 - val_mean_absolute_error: 76.3108\n",
      "Epoch 184/200\n",
      "9/9 [==============================] - 0s 8ms/step - loss: 13369.1116 - mean_absolute_error: 75.5970 - val_loss: 13209.1113 - val_mean_absolute_error: 76.1717\n",
      "Epoch 185/200\n",
      "9/9 [==============================] - 0s 8ms/step - loss: 13519.6134 - mean_absolute_error: 75.6838 - val_loss: 13394.7949 - val_mean_absolute_error: 76.2678\n",
      "Epoch 186/200\n",
      "9/9 [==============================] - 0s 8ms/step - loss: 13309.1601 - mean_absolute_error: 74.6851 - val_loss: 13322.3760 - val_mean_absolute_error: 76.3630\n",
      "Epoch 187/200\n",
      "9/9 [==============================] - 0s 8ms/step - loss: 13119.9272 - mean_absolute_error: 74.7461 - val_loss: 12834.2920 - val_mean_absolute_error: 75.6435\n",
      "Epoch 188/200\n",
      "9/9 [==============================] - 0s 7ms/step - loss: 12872.2104 - mean_absolute_error: 74.3890 - val_loss: 13511.6357 - val_mean_absolute_error: 76.4033\n",
      "Epoch 189/200\n",
      "9/9 [==============================] - 0s 7ms/step - loss: 12884.2969 - mean_absolute_error: 73.3797 - val_loss: 12913.3984 - val_mean_absolute_error: 75.6166\n",
      "Epoch 190/200\n"
     ]
    },
    {
     "name": "stdout",
     "output_type": "stream",
     "text": [
      "9/9 [==============================] - 0s 7ms/step - loss: 13537.0624 - mean_absolute_error: 75.1637 - val_loss: 13042.2891 - val_mean_absolute_error: 75.4779\n",
      "Epoch 191/200\n",
      "9/9 [==============================] - 0s 7ms/step - loss: 13415.7108 - mean_absolute_error: 75.0208 - val_loss: 12750.9834 - val_mean_absolute_error: 75.0718\n",
      "Epoch 192/200\n",
      "9/9 [==============================] - 0s 7ms/step - loss: 13265.3022 - mean_absolute_error: 75.6759 - val_loss: 12982.9043 - val_mean_absolute_error: 75.4485\n",
      "Epoch 193/200\n",
      "9/9 [==============================] - 0s 7ms/step - loss: 13541.6505 - mean_absolute_error: 76.2461 - val_loss: 13394.4990 - val_mean_absolute_error: 76.4875\n",
      "Epoch 194/200\n",
      "9/9 [==============================] - 0s 7ms/step - loss: 13095.7597 - mean_absolute_error: 74.6197 - val_loss: 13075.3340 - val_mean_absolute_error: 76.1111\n",
      "Epoch 195/200\n",
      "9/9 [==============================] - 0s 7ms/step - loss: 13122.6476 - mean_absolute_error: 75.1870 - val_loss: 13250.5010 - val_mean_absolute_error: 75.8537\n",
      "Epoch 196/200\n",
      "9/9 [==============================] - 0s 8ms/step - loss: 13061.5949 - mean_absolute_error: 74.0920 - val_loss: 13232.9004 - val_mean_absolute_error: 76.0262\n",
      "Epoch 197/200\n",
      "9/9 [==============================] - 0s 7ms/step - loss: 13169.8107 - mean_absolute_error: 74.8084 - val_loss: 13105.5303 - val_mean_absolute_error: 76.0917\n",
      "Epoch 198/200\n",
      "9/9 [==============================] - 0s 7ms/step - loss: 13569.4911 - mean_absolute_error: 75.3938 - val_loss: 13291.5508 - val_mean_absolute_error: 76.0431\n",
      "Epoch 199/200\n",
      "9/9 [==============================] - 0s 6ms/step - loss: 13248.5782 - mean_absolute_error: 74.6427 - val_loss: 13204.3477 - val_mean_absolute_error: 76.0581\n",
      "Epoch 200/200\n",
      "9/9 [==============================] - 0s 6ms/step - loss: 13099.7866 - mean_absolute_error: 74.4783 - val_loss: 12907.7725 - val_mean_absolute_error: 75.7516\n"
     ]
    },
    {
     "data": {
      "text/plain": [
       "<tensorflow.python.keras.callbacks.History at 0x7fcad00a4520>"
      ]
     },
     "execution_count": 603,
     "metadata": {},
     "output_type": "execute_result"
    }
   ],
   "source": [
    "model.fit(X_train_total, Y_train, epochs=200, batch_size=1000, verbose=1, validation_split=0.1)"
   ]
  },
  {
   "cell_type": "code",
   "execution_count": 604,
   "metadata": {
    "ExecuteTime": {
     "end_time": "2021-03-15T02:16:04.440287Z",
     "start_time": "2021-03-15T02:16:04.195237Z"
    }
   },
   "outputs": [],
   "source": [
    "test_predictions = model.predict(X_test_total)\n",
    "train_predictions = model.predict(X_train_total)"
   ]
  },
  {
   "cell_type": "code",
   "execution_count": 605,
   "metadata": {
    "ExecuteTime": {
     "end_time": "2021-03-15T02:16:04.904556Z",
     "start_time": "2021-03-15T02:16:04.900898Z"
    }
   },
   "outputs": [
    {
     "data": {
      "text/plain": [
       "74.03773708328883"
      ]
     },
     "execution_count": 605,
     "metadata": {},
     "output_type": "execute_result"
    }
   ],
   "source": [
    "mean_absolute_error(y_pred=test_predictions, y_true=Y_test)"
   ]
  },
  {
   "cell_type": "code",
   "execution_count": 606,
   "metadata": {
    "ExecuteTime": {
     "end_time": "2021-03-15T02:16:05.481669Z",
     "start_time": "2021-03-15T02:16:05.477619Z"
    }
   },
   "outputs": [
    {
     "data": {
      "text/plain": [
       "63.31954201743219"
      ]
     },
     "execution_count": 606,
     "metadata": {},
     "output_type": "execute_result"
    }
   ],
   "source": [
    "mean_absolute_error(y_pred=train_predictions, y_true=Y_train)"
   ]
  },
  {
   "cell_type": "code",
   "execution_count": 607,
   "metadata": {
    "ExecuteTime": {
     "end_time": "2021-03-15T02:16:06.248209Z",
     "start_time": "2021-03-15T02:16:06.138452Z"
    }
   },
   "outputs": [],
   "source": [
    "def find_nearest(array, value):\n",
    "    array = np.asarray(array)\n",
    "    idx = (np.abs(array - value)).argmin()\n",
    "    return array[idx]\n",
    "\n",
    "values = sorted(products['ITEM_SOLD_QUANTITY'].unique())\n",
    "test_predictions = [find_nearest(values, p)for p in test_predictions] \n",
    "train_predictions = [find_nearest(values, p)for p in train_predictions] "
   ]
  },
  {
   "cell_type": "code",
   "execution_count": 608,
   "metadata": {
    "ExecuteTime": {
     "end_time": "2021-03-15T02:16:06.834308Z",
     "start_time": "2021-03-15T02:16:06.827834Z"
    }
   },
   "outputs": [
    {
     "name": "stdout",
     "output_type": "stream",
     "text": [
      "73.82289803220036\n"
     ]
    },
    {
     "data": {
      "text/plain": [
       "65.8276013143483"
      ]
     },
     "execution_count": 608,
     "metadata": {},
     "output_type": "execute_result"
    }
   ],
   "source": [
    "print(mean_absolute_error(y_pred=test_predictions, y_true=Y_test))\n",
    "mean_absolute_error(y_pred=train_predictions, y_true=Y_train)"
   ]
  },
  {
   "cell_type": "code",
   "execution_count": 609,
   "metadata": {
    "ExecuteTime": {
     "end_time": "2021-03-15T02:16:07.915053Z",
     "start_time": "2021-03-15T02:16:07.906115Z"
    }
   },
   "outputs": [],
   "source": [
    "resultados_train = pd.DataFrame({'TYPE': ['TRAIN']*len(Y_train), 'TRUE': Y_train, 'PREDICTED': train_predictions})\n",
    "resultados_test = pd.DataFrame({'TYPE': ['TEST']*len(Y_test), 'TRUE': Y_test, 'PREDICTED': test_predictions})"
   ]
  },
  {
   "cell_type": "code",
   "execution_count": 610,
   "metadata": {
    "ExecuteTime": {
     "end_time": "2021-03-15T02:16:08.672521Z",
     "start_time": "2021-03-15T02:16:08.669455Z"
    }
   },
   "outputs": [],
   "source": [
    "resultados_test['ABSOLUTE_ERROR'] = (resultados_test['TRUE']-resultados_test['PREDICTED']).abs()"
   ]
  },
  {
   "cell_type": "code",
   "execution_count": 611,
   "metadata": {
    "ExecuteTime": {
     "end_time": "2021-03-15T02:16:23.574320Z",
     "start_time": "2021-03-15T02:16:23.568286Z"
    }
   },
   "outputs": [
    {
     "data": {
      "text/plain": [
       "TRUE\n",
       "0       25.628931\n",
       "1       25.134328\n",
       "2       24.116883\n",
       "3       26.937500\n",
       "4       22.369231\n",
       "5       32.217886\n",
       "6       94.000000\n",
       "7       52.000000\n",
       "8       42.000000\n",
       "14      36.000000\n",
       "25      28.564732\n",
       "50      32.555154\n",
       "56      44.000000\n",
       "100     53.080692\n",
       "150     63.615721\n",
       "200     78.820513\n",
       "250     69.173184\n",
       "500    239.440594\n",
       "Name: ABSOLUTE_ERROR, dtype: float64"
      ]
     },
     "execution_count": 611,
     "metadata": {},
     "output_type": "execute_result"
    }
   ],
   "source": [
    "resultados_test.groupby('TRUE')['ABSOLUTE_ERROR'].mean()"
   ]
  },
  {
   "cell_type": "markdown",
   "metadata": {
    "heading_collapsed": true
   },
   "source": [
    "## Alternativa: Modelos de Clasificación\n",
    "\n",
    "Una alternativa que se propone es trabajar con rangos de `ITEM_SOLD_QUANTITY`. Se usarán para el siguiente análisis los siguientes rangos (que serán tomados como clases):\n",
    "\n",
    "1. 0-50: De 0 a 50 cantdiades vendidas.\n",
    "\n",
    "1. 51-100: De 51 a 100 cantdiades vendidas.\n",
    "\n",
    "1. 101-150: De 101 a 150 cantdiades vendidas.\n",
    "\n",
    "1. 151-200: De 151 a 200 cantdiades vendidas.\n",
    "\n",
    "1. 201-250: De 201 a 250 cantdiades vendidas.\n",
    "\n",
    "1. 251-500: De 251 a 500 cantdiades vendidas."
   ]
  },
  {
   "cell_type": "markdown",
   "metadata": {
    "hidden": true
   },
   "source": [
    "### Definición de los Rangos de Cantidades Vendidas\n",
    "\n",
    "Se crea una variable en el dataset de products para definir los rangos/clases de cantidades vendidas."
   ]
  },
  {
   "cell_type": "code",
   "execution_count": 658,
   "metadata": {
    "ExecuteTime": {
     "end_time": "2021-03-15T02:46:12.949537Z",
     "start_time": "2021-03-15T02:46:12.930172Z"
    },
    "hidden": true
   },
   "outputs": [
    {
     "data": {
      "text/plain": [
       "array(['0-50', '201-250', '251-500', '101-150', '51-100', '151-200'],\n",
       "      dtype=object)"
      ]
     },
     "execution_count": 658,
     "metadata": {},
     "output_type": "execute_result"
    }
   ],
   "source": [
    "# Se define la variables de rangos\n",
    "products['ITEM_RANGE_SOLD_QUANTITY'] = ''\n",
    "products.loc[(products['ITEM_SOLD_QUANTITY'] >= 0) &\n",
    "             (products['ITEM_SOLD_QUANTITY'] <= 50), 'ITEM_RANGE_SOLD_QUANTITY'] = '0-50'\n",
    "products.loc[(products['ITEM_SOLD_QUANTITY'] >= 51) &\n",
    "             (products['ITEM_SOLD_QUANTITY'] <= 100), 'ITEM_RANGE_SOLD_QUANTITY'] = '51-100'\n",
    "products.loc[(products['ITEM_SOLD_QUANTITY'] >= 101) &\n",
    "             (products['ITEM_SOLD_QUANTITY'] <= 150), 'ITEM_RANGE_SOLD_QUANTITY'] = '101-150'\n",
    "products.loc[(products['ITEM_SOLD_QUANTITY'] >= 151) &\n",
    "             (products['ITEM_SOLD_QUANTITY'] <= 200), 'ITEM_RANGE_SOLD_QUANTITY'] = '151-200'\n",
    "products.loc[(products['ITEM_SOLD_QUANTITY'] >= 201) &\n",
    "             (products['ITEM_SOLD_QUANTITY'] <= 250), 'ITEM_RANGE_SOLD_QUANTITY'] = '201-250'\n",
    "products.loc[(products['ITEM_SOLD_QUANTITY'] >= 251) &\n",
    "             (products['ITEM_SOLD_QUANTITY'] <= 500), 'ITEM_RANGE_SOLD_QUANTITY'] = '251-500'"
   ]
  },
  {
   "cell_type": "code",
   "execution_count": 659,
   "metadata": {
    "ExecuteTime": {
     "end_time": "2021-03-15T02:47:53.403203Z",
     "start_time": "2021-03-15T02:47:53.235372Z"
    },
    "hidden": true
   },
   "outputs": [],
   "source": [
    "# Divide los datos en entrenamiento y prueba\n",
    "Y = products['ITEM_RANGE_SOLD_QUANTITY']\n",
    "X = products_numeric.drop(columns='ITEM_SOLD_QUANTITY')\n",
    "X_train, X_test, Y_train, Y_test = train_test_split(X,Y,test_size=0.3, random_state=1608)\n",
    "indexes_train = X_train.index.tolist()\n",
    "indexes_test = X_test.index.tolist()\n",
    "\n",
    "## Estandarizacion para las numericas\n",
    "standard_scaler = StandardScaler() \n",
    "X_train_std = standard_scaler.fit_transform(X_train)\n",
    "X_test_std = standard_scaler.transform(X_test)\n",
    "\n",
    "## Construye la matriz de datos con todos los tipos de data\n",
    "X_train_total = np.concatenate((X_train_std, products_encoded_categoricals[indexes_train,:],\n",
    "                                products_binary.loc[indexes_train]), axis=1)\n",
    "X_test_total = np.concatenate((X_test_std, products_encoded_categoricals[indexes_test,:],\n",
    "                                products_binary.loc[indexes_test]), axis=1)"
   ]
  },
  {
   "cell_type": "code",
   "execution_count": 678,
   "metadata": {
    "ExecuteTime": {
     "end_time": "2021-03-15T03:00:56.139425Z",
     "start_time": "2021-03-15T03:00:56.131627Z"
    },
    "hidden": true
   },
   "outputs": [],
   "source": [
    "# Cambio de variable respuesta a matriz de dummies\n",
    "\n",
    "## OneHotEncoding para las columnas categoricas\n",
    "# Define el one_hot_encoder\n",
    "one_hot_encoder_class = OneHotEncoder(sparse=False)\n",
    "# Transforma los datos\n",
    "Y_train_matriz = one_hot_encoder_class.fit_transform(np.array(Y_train).reshape(Y_train.shape[0], 1))\n",
    "Y_test_matriz = one_hot_encoder_class.transform(np.array(Y_test).reshape(Y_test.shape[0], 1))"
   ]
  },
  {
   "cell_type": "markdown",
   "metadata": {
    "heading_collapsed": true,
    "hidden": true
   },
   "source": [
    "### Neural Network\n",
    "\n",
    "Se construye una red neuronal y se evalua su rendimiento."
   ]
  },
  {
   "cell_type": "code",
   "execution_count": 702,
   "metadata": {
    "ExecuteTime": {
     "end_time": "2021-03-15T03:08:27.288221Z",
     "start_time": "2021-03-15T03:08:27.218950Z"
    },
    "hidden": true
   },
   "outputs": [],
   "source": [
    "# Semilla aleatoria fijada \n",
    "tf.random.set_seed(1608)\n",
    "\n",
    "# Capa General 1: Capa Convolucional\n",
    "nn_model = tf.keras.models.Sequential()\n",
    "\n",
    "\n",
    "nn_model.add(tf.keras.layers.Dense(10, input_shape=(X_train_total.shape[1],), activation='relu'))\n",
    "nn_model.add(tf.keras.layers.Dropout(0.25))\n",
    "\n",
    "nn_model.add(tf.keras.layers.Dense(25, activation='relu'))\n",
    "nn_model.add(tf.keras.layers.Dropout(0.25))\n",
    "\n",
    "nn_model.add(tf.keras.layers.Dense(25, activation='relu'))\n",
    "nn_model.add(tf.keras.layers.Dropout(0.5))\n",
    "\n",
    "nn_model.add(tf.keras.layers.Dense(25, activation='relu'))\n",
    "nn_model.add(tf.keras.layers.Dropout(0.25))\n",
    "\n",
    "nn_model.add(tf.keras.layers.Dense(10, activation='relu'))\n",
    "nn_model.add(tf.keras.layers.Dropout(0.25))\n",
    "          \n",
    "nn_model.add(tf.keras.layers.Dense(products['ITEM_RANGE_SOLD_QUANTITY'].nunique()))\n",
    "nn_model.add(tf.keras.layers.Activation('softmax'))\n",
    "\n",
    "# Se especifica cual es el optimizador (metodo de descenso del gradiente a usar, la función de perdida y las metricas a mostrar)\n",
    "nn_model.compile(optimizer='adam', loss='categorical_crossentropy', metrics=['accuracy'])"
   ]
  },
  {
   "cell_type": "code",
   "execution_count": 700,
   "metadata": {
    "ExecuteTime": {
     "end_time": "2021-03-15T03:07:36.058189Z",
     "start_time": "2021-03-15T03:07:36.053705Z"
    },
    "hidden": true,
    "scrolled": false
   },
   "outputs": [
    {
     "name": "stdout",
     "output_type": "stream",
     "text": [
      "Model: \"sequential_22\"\n",
      "_________________________________________________________________\n",
      "Layer (type)                 Output Shape              Param #   \n",
      "=================================================================\n",
      "dense_121 (Dense)            (None, 10)                11650     \n",
      "_________________________________________________________________\n",
      "dropout_101 (Dropout)        (None, 10)                0         \n",
      "_________________________________________________________________\n",
      "dense_122 (Dense)            (None, 25)                275       \n",
      "_________________________________________________________________\n",
      "dropout_102 (Dropout)        (None, 25)                0         \n",
      "_________________________________________________________________\n",
      "dense_123 (Dense)            (None, 25)                650       \n",
      "_________________________________________________________________\n",
      "dropout_103 (Dropout)        (None, 25)                0         \n",
      "_________________________________________________________________\n",
      "dense_124 (Dense)            (None, 25)                650       \n",
      "_________________________________________________________________\n",
      "dropout_104 (Dropout)        (None, 25)                0         \n",
      "_________________________________________________________________\n",
      "dense_125 (Dense)            (None, 10)                260       \n",
      "_________________________________________________________________\n",
      "dropout_105 (Dropout)        (None, 10)                0         \n",
      "_________________________________________________________________\n",
      "dense_126 (Dense)            (None, 6)                 66        \n",
      "_________________________________________________________________\n",
      "activation_9 (Activation)    (None, 6)                 0         \n",
      "=================================================================\n",
      "Total params: 13,551\n",
      "Trainable params: 13,551\n",
      "Non-trainable params: 0\n",
      "_________________________________________________________________\n"
     ]
    }
   ],
   "source": [
    "# Summary de la red neuronal usada\n",
    "nn_model.summary()"
   ]
  },
  {
   "cell_type": "code",
   "execution_count": 703,
   "metadata": {
    "ExecuteTime": {
     "end_time": "2021-03-15T03:08:46.693588Z",
     "start_time": "2021-03-15T03:08:27.655947Z"
    },
    "collapsed": true,
    "hidden": true
   },
   "outputs": [
    {
     "name": "stdout",
     "output_type": "stream",
     "text": [
      "Epoch 1/250\n",
      "5/5 [==============================] - 1s 44ms/step - loss: 1.8052 - accuracy: 0.1133 - val_loss: 1.7704 - val_accuracy: 0.3527\n",
      "Epoch 2/250\n",
      "5/5 [==============================] - 0s 14ms/step - loss: 1.7785 - accuracy: 0.2191 - val_loss: 1.7550 - val_accuracy: 0.5027\n",
      "Epoch 3/250\n",
      "5/5 [==============================] - 0s 14ms/step - loss: 1.7609 - accuracy: 0.3154 - val_loss: 1.7379 - val_accuracy: 0.5126\n",
      "Epoch 4/250\n",
      "5/5 [==============================] - 0s 14ms/step - loss: 1.7385 - accuracy: 0.3736 - val_loss: 1.7147 - val_accuracy: 0.5126\n",
      "Epoch 5/250\n",
      "5/5 [==============================] - 0s 14ms/step - loss: 1.7178 - accuracy: 0.3896 - val_loss: 1.6849 - val_accuracy: 0.5126\n",
      "Epoch 6/250\n",
      "5/5 [==============================] - 0s 14ms/step - loss: 1.6905 - accuracy: 0.4095 - val_loss: 1.6496 - val_accuracy: 0.5126\n",
      "Epoch 7/250\n",
      "5/5 [==============================] - 0s 14ms/step - loss: 1.6670 - accuracy: 0.4137 - val_loss: 1.6126 - val_accuracy: 0.5126\n",
      "Epoch 8/250\n",
      "5/5 [==============================] - 0s 14ms/step - loss: 1.6409 - accuracy: 0.4343 - val_loss: 1.5813 - val_accuracy: 0.5126\n",
      "Epoch 9/250\n",
      "5/5 [==============================] - 0s 14ms/step - loss: 1.6261 - accuracy: 0.4662 - val_loss: 1.5549 - val_accuracy: 0.5126\n",
      "Epoch 10/250\n",
      "5/5 [==============================] - 0s 14ms/step - loss: 1.6001 - accuracy: 0.4863 - val_loss: 1.5312 - val_accuracy: 0.5126\n",
      "Epoch 11/250\n",
      "5/5 [==============================] - 0s 14ms/step - loss: 1.5829 - accuracy: 0.5009 - val_loss: 1.5103 - val_accuracy: 0.5126\n",
      "Epoch 12/250\n",
      "5/5 [==============================] - 0s 15ms/step - loss: 1.5572 - accuracy: 0.5063 - val_loss: 1.4881 - val_accuracy: 0.5126\n",
      "Epoch 13/250\n",
      "5/5 [==============================] - 0s 14ms/step - loss: 1.5349 - accuracy: 0.5153 - val_loss: 1.4683 - val_accuracy: 0.5126\n",
      "Epoch 14/250\n",
      "5/5 [==============================] - 0s 15ms/step - loss: 1.5216 - accuracy: 0.5063 - val_loss: 1.4490 - val_accuracy: 0.5126\n",
      "Epoch 15/250\n",
      "5/5 [==============================] - 0s 15ms/step - loss: 1.4988 - accuracy: 0.5128 - val_loss: 1.4251 - val_accuracy: 0.5126\n",
      "Epoch 16/250\n",
      "5/5 [==============================] - 0s 14ms/step - loss: 1.4853 - accuracy: 0.5150 - val_loss: 1.4017 - val_accuracy: 0.5126\n",
      "Epoch 17/250\n",
      "5/5 [==============================] - 0s 14ms/step - loss: 1.4612 - accuracy: 0.5170 - val_loss: 1.3805 - val_accuracy: 0.5126\n",
      "Epoch 18/250\n",
      "5/5 [==============================] - 0s 14ms/step - loss: 1.4319 - accuracy: 0.5146 - val_loss: 1.3614 - val_accuracy: 0.5126\n",
      "Epoch 19/250\n",
      "5/5 [==============================] - 0s 14ms/step - loss: 1.4217 - accuracy: 0.5172 - val_loss: 1.3427 - val_accuracy: 0.5126\n",
      "Epoch 20/250\n",
      "5/5 [==============================] - 0s 14ms/step - loss: 1.4031 - accuracy: 0.5163 - val_loss: 1.3267 - val_accuracy: 0.5126\n",
      "Epoch 21/250\n",
      "5/5 [==============================] - 0s 121ms/step - loss: 1.3769 - accuracy: 0.5218 - val_loss: 1.3109 - val_accuracy: 0.5126\n",
      "Epoch 22/250\n",
      "5/5 [==============================] - 0s 15ms/step - loss: 1.3756 - accuracy: 0.5160 - val_loss: 1.2998 - val_accuracy: 0.5126\n",
      "Epoch 23/250\n",
      "5/5 [==============================] - 0s 14ms/step - loss: 1.3463 - accuracy: 0.5206 - val_loss: 1.2910 - val_accuracy: 0.5126\n",
      "Epoch 24/250\n",
      "5/5 [==============================] - 0s 14ms/step - loss: 1.3365 - accuracy: 0.5160 - val_loss: 1.2825 - val_accuracy: 0.5126\n",
      "Epoch 25/250\n",
      "5/5 [==============================] - 0s 14ms/step - loss: 1.3285 - accuracy: 0.5219 - val_loss: 1.2722 - val_accuracy: 0.5126\n",
      "Epoch 26/250\n",
      "5/5 [==============================] - 0s 14ms/step - loss: 1.3173 - accuracy: 0.5214 - val_loss: 1.2649 - val_accuracy: 0.5126\n",
      "Epoch 27/250\n",
      "5/5 [==============================] - 0s 14ms/step - loss: 1.3060 - accuracy: 0.5246 - val_loss: 1.2597 - val_accuracy: 0.5126\n",
      "Epoch 28/250\n",
      "5/5 [==============================] - 0s 15ms/step - loss: 1.2992 - accuracy: 0.5168 - val_loss: 1.2582 - val_accuracy: 0.5126\n",
      "Epoch 29/250\n",
      "5/5 [==============================] - 0s 15ms/step - loss: 1.2904 - accuracy: 0.5132 - val_loss: 1.2561 - val_accuracy: 0.5126\n",
      "Epoch 30/250\n",
      "5/5 [==============================] - 0s 14ms/step - loss: 1.2748 - accuracy: 0.5219 - val_loss: 1.2494 - val_accuracy: 0.5126\n",
      "Epoch 31/250\n",
      "5/5 [==============================] - 0s 14ms/step - loss: 1.2851 - accuracy: 0.5160 - val_loss: 1.2441 - val_accuracy: 0.5126\n",
      "Epoch 32/250\n",
      "5/5 [==============================] - 0s 14ms/step - loss: 1.2548 - accuracy: 0.5228 - val_loss: 1.2433 - val_accuracy: 0.5126\n",
      "Epoch 33/250\n",
      "5/5 [==============================] - 0s 15ms/step - loss: 1.2617 - accuracy: 0.5001 - val_loss: 1.2401 - val_accuracy: 0.5126\n",
      "Epoch 34/250\n",
      "5/5 [==============================] - 0s 14ms/step - loss: 1.2543 - accuracy: 0.4955 - val_loss: 1.2398 - val_accuracy: 0.5126\n",
      "Epoch 35/250\n",
      "5/5 [==============================] - 0s 15ms/step - loss: 1.2556 - accuracy: 0.4932 - val_loss: 1.2436 - val_accuracy: 0.5126\n",
      "Epoch 36/250\n",
      "5/5 [==============================] - 0s 14ms/step - loss: 1.2529 - accuracy: 0.4976 - val_loss: 1.2363 - val_accuracy: 0.5126\n",
      "Epoch 37/250\n",
      "5/5 [==============================] - 0s 14ms/step - loss: 1.2327 - accuracy: 0.4976 - val_loss: 1.2308 - val_accuracy: 0.5126\n",
      "Epoch 38/250\n",
      "5/5 [==============================] - 0s 14ms/step - loss: 1.2257 - accuracy: 0.5003 - val_loss: 1.2275 - val_accuracy: 0.5126\n",
      "Epoch 39/250\n",
      "5/5 [==============================] - 0s 15ms/step - loss: 1.2348 - accuracy: 0.4938 - val_loss: 1.2285 - val_accuracy: 0.5126\n",
      "Epoch 40/250\n",
      "5/5 [==============================] - 0s 15ms/step - loss: 1.2160 - accuracy: 0.5009 - val_loss: 1.2299 - val_accuracy: 0.5126\n",
      "Epoch 41/250\n",
      "5/5 [==============================] - 0s 15ms/step - loss: 1.2216 - accuracy: 0.4944 - val_loss: 1.2210 - val_accuracy: 0.5126\n",
      "Epoch 42/250\n",
      "5/5 [==============================] - 0s 15ms/step - loss: 1.2047 - accuracy: 0.5060 - val_loss: 1.2183 - val_accuracy: 0.5126\n",
      "Epoch 43/250\n",
      "5/5 [==============================] - 0s 15ms/step - loss: 1.2064 - accuracy: 0.4981 - val_loss: 1.2246 - val_accuracy: 0.5126\n",
      "Epoch 44/250\n",
      "5/5 [==============================] - 0s 15ms/step - loss: 1.2020 - accuracy: 0.4996 - val_loss: 1.2266 - val_accuracy: 0.5126\n",
      "Epoch 45/250\n",
      "5/5 [==============================] - 0s 14ms/step - loss: 1.1999 - accuracy: 0.5009 - val_loss: 1.2170 - val_accuracy: 0.5126\n",
      "Epoch 46/250\n",
      "5/5 [==============================] - 0s 15ms/step - loss: 1.2098 - accuracy: 0.4968 - val_loss: 1.2180 - val_accuracy: 0.5126\n",
      "Epoch 47/250\n",
      "5/5 [==============================] - 0s 15ms/step - loss: 1.2165 - accuracy: 0.4901 - val_loss: 1.2274 - val_accuracy: 0.5126\n",
      "Epoch 48/250\n",
      "5/5 [==============================] - 0s 15ms/step - loss: 1.1927 - accuracy: 0.4981 - val_loss: 1.2237 - val_accuracy: 0.5126\n",
      "Epoch 49/250\n",
      "5/5 [==============================] - 0s 14ms/step - loss: 1.1931 - accuracy: 0.4999 - val_loss: 1.2197 - val_accuracy: 0.5126\n",
      "Epoch 50/250\n",
      "5/5 [==============================] - 0s 14ms/step - loss: 1.1882 - accuracy: 0.4943 - val_loss: 1.2141 - val_accuracy: 0.5126\n",
      "Epoch 51/250\n",
      "5/5 [==============================] - 0s 15ms/step - loss: 1.1701 - accuracy: 0.5035 - val_loss: 1.2193 - val_accuracy: 0.5126\n",
      "Epoch 52/250\n",
      "5/5 [==============================] - 0s 15ms/step - loss: 1.1865 - accuracy: 0.4966 - val_loss: 1.2271 - val_accuracy: 0.5126\n",
      "Epoch 53/250\n",
      "5/5 [==============================] - 0s 15ms/step - loss: 1.1836 - accuracy: 0.5013 - val_loss: 1.2226 - val_accuracy: 0.5126\n",
      "Epoch 54/250\n",
      "5/5 [==============================] - 0s 15ms/step - loss: 1.1744 - accuracy: 0.5021 - val_loss: 1.2252 - val_accuracy: 0.5126\n",
      "Epoch 55/250\n",
      "5/5 [==============================] - 0s 15ms/step - loss: 1.1681 - accuracy: 0.5064 - val_loss: 1.2222 - val_accuracy: 0.5126\n",
      "Epoch 56/250\n",
      "5/5 [==============================] - 0s 15ms/step - loss: 1.1728 - accuracy: 0.5064 - val_loss: 1.2171 - val_accuracy: 0.5126\n",
      "Epoch 57/250\n",
      "5/5 [==============================] - 0s 15ms/step - loss: 1.1723 - accuracy: 0.5107 - val_loss: 1.2300 - val_accuracy: 0.5126\n",
      "Epoch 58/250\n",
      "5/5 [==============================] - 0s 15ms/step - loss: 1.1655 - accuracy: 0.5162 - val_loss: 1.2165 - val_accuracy: 0.5126\n",
      "Epoch 59/250\n"
     ]
    },
    {
     "name": "stdout",
     "output_type": "stream",
     "text": [
      "5/5 [==============================] - 0s 15ms/step - loss: 1.1739 - accuracy: 0.5116 - val_loss: 1.2120 - val_accuracy: 0.5367\n",
      "Epoch 60/250\n",
      "5/5 [==============================] - 0s 15ms/step - loss: 1.1685 - accuracy: 0.5103 - val_loss: 1.2191 - val_accuracy: 0.5509\n",
      "Epoch 61/250\n",
      "5/5 [==============================] - 0s 14ms/step - loss: 1.1674 - accuracy: 0.5247 - val_loss: 1.2195 - val_accuracy: 0.5564\n",
      "Epoch 62/250\n",
      "5/5 [==============================] - 0s 14ms/step - loss: 1.1623 - accuracy: 0.5333 - val_loss: 1.2305 - val_accuracy: 0.5564\n",
      "Epoch 63/250\n",
      "5/5 [==============================] - 0s 14ms/step - loss: 1.1532 - accuracy: 0.5229 - val_loss: 1.2198 - val_accuracy: 0.5564\n",
      "Epoch 64/250\n",
      "5/5 [==============================] - 0s 14ms/step - loss: 1.1486 - accuracy: 0.5410 - val_loss: 1.2104 - val_accuracy: 0.5597\n",
      "Epoch 65/250\n",
      "5/5 [==============================] - 0s 15ms/step - loss: 1.1552 - accuracy: 0.5429 - val_loss: 1.2181 - val_accuracy: 0.5608\n",
      "Epoch 66/250\n",
      "5/5 [==============================] - 0s 14ms/step - loss: 1.1555 - accuracy: 0.5420 - val_loss: 1.2156 - val_accuracy: 0.5553\n",
      "Epoch 67/250\n",
      "5/5 [==============================] - 0s 14ms/step - loss: 1.1511 - accuracy: 0.5363 - val_loss: 1.2124 - val_accuracy: 0.5575\n",
      "Epoch 68/250\n",
      "5/5 [==============================] - 0s 14ms/step - loss: 1.1547 - accuracy: 0.5384 - val_loss: 1.2178 - val_accuracy: 0.5575\n",
      "Epoch 69/250\n",
      "5/5 [==============================] - 0s 14ms/step - loss: 1.1382 - accuracy: 0.5452 - val_loss: 1.2206 - val_accuracy: 0.5630\n",
      "Epoch 70/250\n",
      "5/5 [==============================] - 0s 14ms/step - loss: 1.1448 - accuracy: 0.5410 - val_loss: 1.2199 - val_accuracy: 0.5575\n",
      "Epoch 71/250\n",
      "5/5 [==============================] - 0s 14ms/step - loss: 1.1472 - accuracy: 0.5521 - val_loss: 1.2270 - val_accuracy: 0.5608\n",
      "Epoch 72/250\n",
      "5/5 [==============================] - 0s 14ms/step - loss: 1.1469 - accuracy: 0.5432 - val_loss: 1.2232 - val_accuracy: 0.5597\n",
      "Epoch 73/250\n",
      "5/5 [==============================] - 0s 14ms/step - loss: 1.1283 - accuracy: 0.5459 - val_loss: 1.2182 - val_accuracy: 0.5597\n",
      "Epoch 74/250\n",
      "5/5 [==============================] - 0s 14ms/step - loss: 1.1431 - accuracy: 0.5469 - val_loss: 1.2328 - val_accuracy: 0.5564\n",
      "Epoch 75/250\n",
      "5/5 [==============================] - 0s 14ms/step - loss: 1.1397 - accuracy: 0.5424 - val_loss: 1.2305 - val_accuracy: 0.5564\n",
      "Epoch 76/250\n",
      "5/5 [==============================] - 0s 14ms/step - loss: 1.1318 - accuracy: 0.5465 - val_loss: 1.2126 - val_accuracy: 0.5641\n",
      "Epoch 77/250\n",
      "5/5 [==============================] - 0s 15ms/step - loss: 1.1384 - accuracy: 0.5546 - val_loss: 1.2107 - val_accuracy: 0.5641\n",
      "Epoch 78/250\n",
      "5/5 [==============================] - 0s 15ms/step - loss: 1.1381 - accuracy: 0.5497 - val_loss: 1.2168 - val_accuracy: 0.5608\n",
      "Epoch 79/250\n",
      "5/5 [==============================] - 0s 15ms/step - loss: 1.1390 - accuracy: 0.5425 - val_loss: 1.2285 - val_accuracy: 0.5586\n",
      "Epoch 80/250\n",
      "5/5 [==============================] - 0s 15ms/step - loss: 1.1419 - accuracy: 0.5498 - val_loss: 1.2226 - val_accuracy: 0.5663\n",
      "Epoch 81/250\n",
      "5/5 [==============================] - 0s 15ms/step - loss: 1.1345 - accuracy: 0.5674 - val_loss: 1.2138 - val_accuracy: 0.5674\n",
      "Epoch 82/250\n",
      "5/5 [==============================] - 0s 16ms/step - loss: 1.1256 - accuracy: 0.5561 - val_loss: 1.2194 - val_accuracy: 0.5608\n",
      "Epoch 83/250\n",
      "5/5 [==============================] - 0s 15ms/step - loss: 1.1223 - accuracy: 0.5525 - val_loss: 1.2184 - val_accuracy: 0.5597\n",
      "Epoch 84/250\n",
      "5/5 [==============================] - 0s 15ms/step - loss: 1.1181 - accuracy: 0.5514 - val_loss: 1.2196 - val_accuracy: 0.5619\n",
      "Epoch 85/250\n",
      "5/5 [==============================] - 0s 15ms/step - loss: 1.1160 - accuracy: 0.5609 - val_loss: 1.2300 - val_accuracy: 0.5608\n",
      "Epoch 86/250\n",
      "5/5 [==============================] - 0s 15ms/step - loss: 1.1175 - accuracy: 0.5602 - val_loss: 1.2195 - val_accuracy: 0.5619\n",
      "Epoch 87/250\n",
      "5/5 [==============================] - 0s 15ms/step - loss: 1.0958 - accuracy: 0.5623 - val_loss: 1.2303 - val_accuracy: 0.5586\n",
      "Epoch 88/250\n",
      "5/5 [==============================] - 0s 15ms/step - loss: 1.1151 - accuracy: 0.5661 - val_loss: 1.2292 - val_accuracy: 0.5728\n",
      "Epoch 89/250\n",
      "5/5 [==============================] - 0s 15ms/step - loss: 1.1010 - accuracy: 0.5730 - val_loss: 1.2292 - val_accuracy: 0.5717\n",
      "Epoch 90/250\n",
      "5/5 [==============================] - 0s 15ms/step - loss: 1.1055 - accuracy: 0.5710 - val_loss: 1.2241 - val_accuracy: 0.5717\n",
      "Epoch 91/250\n",
      "5/5 [==============================] - 0s 15ms/step - loss: 1.1065 - accuracy: 0.5731 - val_loss: 1.2191 - val_accuracy: 0.5641\n",
      "Epoch 92/250\n",
      "5/5 [==============================] - 0s 15ms/step - loss: 1.1012 - accuracy: 0.5825 - val_loss: 1.2365 - val_accuracy: 0.5641\n",
      "Epoch 93/250\n",
      "5/5 [==============================] - 0s 15ms/step - loss: 1.1071 - accuracy: 0.5747 - val_loss: 1.2340 - val_accuracy: 0.5696\n",
      "Epoch 94/250\n",
      "5/5 [==============================] - 0s 15ms/step - loss: 1.0992 - accuracy: 0.6013 - val_loss: 1.2291 - val_accuracy: 0.5586\n",
      "Epoch 95/250\n",
      "5/5 [==============================] - 0s 15ms/step - loss: 1.0934 - accuracy: 0.6028 - val_loss: 1.2344 - val_accuracy: 0.6057\n",
      "Epoch 96/250\n",
      "5/5 [==============================] - 0s 15ms/step - loss: 1.0918 - accuracy: 0.6061 - val_loss: 1.2322 - val_accuracy: 0.6101\n",
      "Epoch 97/250\n",
      "5/5 [==============================] - 0s 15ms/step - loss: 1.0767 - accuracy: 0.6061 - val_loss: 1.2302 - val_accuracy: 0.6068\n",
      "Epoch 98/250\n",
      "5/5 [==============================] - 0s 15ms/step - loss: 1.0758 - accuracy: 0.6044 - val_loss: 1.2404 - val_accuracy: 0.6112\n",
      "Epoch 99/250\n",
      "5/5 [==============================] - 0s 15ms/step - loss: 1.0710 - accuracy: 0.6066 - val_loss: 1.2293 - val_accuracy: 0.6079\n",
      "Epoch 100/250\n",
      "5/5 [==============================] - 0s 15ms/step - loss: 1.0796 - accuracy: 0.6149 - val_loss: 1.2355 - val_accuracy: 0.6101\n",
      "Epoch 101/250\n",
      "5/5 [==============================] - 0s 15ms/step - loss: 1.0642 - accuracy: 0.6106 - val_loss: 1.2370 - val_accuracy: 0.6090\n",
      "Epoch 102/250\n",
      "5/5 [==============================] - 0s 15ms/step - loss: 1.0704 - accuracy: 0.6141 - val_loss: 1.2351 - val_accuracy: 0.6046\n",
      "Epoch 103/250\n",
      "5/5 [==============================] - 0s 15ms/step - loss: 1.0578 - accuracy: 0.6092 - val_loss: 1.2406 - val_accuracy: 0.6013\n",
      "Epoch 104/250\n",
      "5/5 [==============================] - 0s 14ms/step - loss: 1.0627 - accuracy: 0.6090 - val_loss: 1.2397 - val_accuracy: 0.6079\n",
      "Epoch 105/250\n",
      "5/5 [==============================] - 0s 15ms/step - loss: 1.0503 - accuracy: 0.6114 - val_loss: 1.2249 - val_accuracy: 0.6079\n",
      "Epoch 106/250\n",
      "5/5 [==============================] - 0s 15ms/step - loss: 1.0717 - accuracy: 0.6042 - val_loss: 1.2170 - val_accuracy: 0.6112\n",
      "Epoch 107/250\n",
      "5/5 [==============================] - 0s 15ms/step - loss: 1.0495 - accuracy: 0.6098 - val_loss: 1.2198 - val_accuracy: 0.6057\n",
      "Epoch 108/250\n",
      "5/5 [==============================] - 0s 15ms/step - loss: 1.0401 - accuracy: 0.6189 - val_loss: 1.2235 - val_accuracy: 0.6101\n",
      "Epoch 109/250\n",
      "5/5 [==============================] - 0s 15ms/step - loss: 1.0672 - accuracy: 0.6024 - val_loss: 1.2331 - val_accuracy: 0.6112\n",
      "Epoch 110/250\n",
      "5/5 [==============================] - 0s 15ms/step - loss: 1.0532 - accuracy: 0.6115 - val_loss: 1.2174 - val_accuracy: 0.6002\n",
      "Epoch 111/250\n",
      "5/5 [==============================] - 0s 15ms/step - loss: 1.0410 - accuracy: 0.6147 - val_loss: 1.2434 - val_accuracy: 0.6123\n",
      "Epoch 112/250\n",
      "5/5 [==============================] - 0s 15ms/step - loss: 1.0491 - accuracy: 0.6087 - val_loss: 1.2298 - val_accuracy: 0.6079\n",
      "Epoch 113/250\n",
      "5/5 [==============================] - 0s 15ms/step - loss: 1.0542 - accuracy: 0.6149 - val_loss: 1.2326 - val_accuracy: 0.6057\n",
      "Epoch 114/250\n",
      "5/5 [==============================] - 0s 15ms/step - loss: 1.0320 - accuracy: 0.6131 - val_loss: 1.2435 - val_accuracy: 0.6145\n",
      "Epoch 115/250\n",
      "5/5 [==============================] - 0s 15ms/step - loss: 1.0496 - accuracy: 0.6164 - val_loss: 1.2215 - val_accuracy: 0.6046\n",
      "Epoch 116/250\n",
      "5/5 [==============================] - 0s 121ms/step - loss: 1.0346 - accuracy: 0.6148 - val_loss: 1.2276 - val_accuracy: 0.6112\n",
      "Epoch 117/250\n"
     ]
    },
    {
     "name": "stdout",
     "output_type": "stream",
     "text": [
      "5/5 [==============================] - 0s 15ms/step - loss: 1.0335 - accuracy: 0.6196 - val_loss: 1.2254 - val_accuracy: 0.6101\n",
      "Epoch 118/250\n",
      "5/5 [==============================] - 0s 15ms/step - loss: 1.0294 - accuracy: 0.6182 - val_loss: 1.2228 - val_accuracy: 0.6046\n",
      "Epoch 119/250\n",
      "5/5 [==============================] - 0s 15ms/step - loss: 1.0405 - accuracy: 0.6112 - val_loss: 1.2213 - val_accuracy: 0.6068\n",
      "Epoch 120/250\n",
      "5/5 [==============================] - 0s 15ms/step - loss: 1.0417 - accuracy: 0.6131 - val_loss: 1.2172 - val_accuracy: 0.6013\n",
      "Epoch 121/250\n",
      "5/5 [==============================] - 0s 15ms/step - loss: 1.0358 - accuracy: 0.6169 - val_loss: 1.2235 - val_accuracy: 0.6057\n",
      "Epoch 122/250\n",
      "5/5 [==============================] - 0s 14ms/step - loss: 1.0377 - accuracy: 0.6145 - val_loss: 1.2207 - val_accuracy: 0.6046\n",
      "Epoch 123/250\n",
      "5/5 [==============================] - 0s 15ms/step - loss: 1.0235 - accuracy: 0.6111 - val_loss: 1.2340 - val_accuracy: 0.6079\n",
      "Epoch 124/250\n",
      "5/5 [==============================] - 0s 15ms/step - loss: 1.0383 - accuracy: 0.6164 - val_loss: 1.2296 - val_accuracy: 0.6057\n",
      "Epoch 125/250\n",
      "5/5 [==============================] - 0s 15ms/step - loss: 1.0396 - accuracy: 0.6089 - val_loss: 1.2266 - val_accuracy: 0.6068\n",
      "Epoch 126/250\n",
      "5/5 [==============================] - 0s 15ms/step - loss: 1.0267 - accuracy: 0.6186 - val_loss: 1.2188 - val_accuracy: 0.6013\n",
      "Epoch 127/250\n",
      "5/5 [==============================] - 0s 15ms/step - loss: 1.0288 - accuracy: 0.6218 - val_loss: 1.2190 - val_accuracy: 0.6057\n",
      "Epoch 128/250\n",
      "5/5 [==============================] - 0s 15ms/step - loss: 1.0290 - accuracy: 0.6117 - val_loss: 1.2234 - val_accuracy: 0.6057\n",
      "Epoch 129/250\n",
      "5/5 [==============================] - 0s 15ms/step - loss: 1.0201 - accuracy: 0.6136 - val_loss: 1.2194 - val_accuracy: 0.6046\n",
      "Epoch 130/250\n",
      "5/5 [==============================] - 0s 15ms/step - loss: 1.0237 - accuracy: 0.6184 - val_loss: 1.2146 - val_accuracy: 0.6035\n",
      "Epoch 131/250\n",
      "5/5 [==============================] - 0s 15ms/step - loss: 1.0203 - accuracy: 0.6138 - val_loss: 1.2292 - val_accuracy: 0.6068\n",
      "Epoch 132/250\n",
      "5/5 [==============================] - 0s 15ms/step - loss: 1.0394 - accuracy: 0.6109 - val_loss: 1.2326 - val_accuracy: 0.6079\n",
      "Epoch 133/250\n",
      "5/5 [==============================] - 0s 15ms/step - loss: 1.0211 - accuracy: 0.6189 - val_loss: 1.2368 - val_accuracy: 0.6057\n",
      "Epoch 134/250\n",
      "5/5 [==============================] - 0s 15ms/step - loss: 1.0304 - accuracy: 0.6176 - val_loss: 1.2183 - val_accuracy: 0.6035\n",
      "Epoch 135/250\n",
      "5/5 [==============================] - 0s 15ms/step - loss: 1.0245 - accuracy: 0.6139 - val_loss: 1.2191 - val_accuracy: 0.6002\n",
      "Epoch 136/250\n",
      "5/5 [==============================] - 0s 14ms/step - loss: 1.0252 - accuracy: 0.6213 - val_loss: 1.2299 - val_accuracy: 0.6057\n",
      "Epoch 137/250\n",
      "5/5 [==============================] - 0s 15ms/step - loss: 1.0282 - accuracy: 0.6114 - val_loss: 1.2335 - val_accuracy: 0.6046\n",
      "Epoch 138/250\n",
      "5/5 [==============================] - 0s 15ms/step - loss: 1.0142 - accuracy: 0.6165 - val_loss: 1.2221 - val_accuracy: 0.5991\n",
      "Epoch 139/250\n",
      "5/5 [==============================] - 0s 15ms/step - loss: 0.9972 - accuracy: 0.6246 - val_loss: 1.2259 - val_accuracy: 0.6057\n",
      "Epoch 140/250\n",
      "5/5 [==============================] - 0s 15ms/step - loss: 1.0111 - accuracy: 0.6199 - val_loss: 1.2275 - val_accuracy: 0.6134\n",
      "Epoch 141/250\n",
      "5/5 [==============================] - 0s 15ms/step - loss: 1.0115 - accuracy: 0.6193 - val_loss: 1.2263 - val_accuracy: 0.6079\n",
      "Epoch 142/250\n",
      "5/5 [==============================] - 0s 14ms/step - loss: 0.9992 - accuracy: 0.6270 - val_loss: 1.2198 - val_accuracy: 0.6035\n",
      "Epoch 143/250\n",
      "5/5 [==============================] - 0s 15ms/step - loss: 1.0146 - accuracy: 0.6242 - val_loss: 1.2269 - val_accuracy: 0.6046\n",
      "Epoch 144/250\n",
      "5/5 [==============================] - 0s 15ms/step - loss: 0.9990 - accuracy: 0.6221 - val_loss: 1.2507 - val_accuracy: 0.6013\n",
      "Epoch 145/250\n",
      "5/5 [==============================] - 0s 15ms/step - loss: 0.9983 - accuracy: 0.6229 - val_loss: 1.2393 - val_accuracy: 0.5991\n",
      "Epoch 146/250\n",
      "5/5 [==============================] - 0s 14ms/step - loss: 0.9974 - accuracy: 0.6254 - val_loss: 1.2294 - val_accuracy: 0.6035\n",
      "Epoch 147/250\n",
      "5/5 [==============================] - 0s 14ms/step - loss: 0.9974 - accuracy: 0.6209 - val_loss: 1.2379 - val_accuracy: 0.6046\n",
      "Epoch 148/250\n",
      "5/5 [==============================] - 0s 15ms/step - loss: 0.9864 - accuracy: 0.6265 - val_loss: 1.2512 - val_accuracy: 0.6090\n",
      "Epoch 149/250\n",
      "5/5 [==============================] - 0s 15ms/step - loss: 1.0003 - accuracy: 0.6223 - val_loss: 1.2346 - val_accuracy: 0.6046\n",
      "Epoch 150/250\n",
      "5/5 [==============================] - 0s 15ms/step - loss: 0.9975 - accuracy: 0.6269 - val_loss: 1.2389 - val_accuracy: 0.6112\n",
      "Epoch 151/250\n",
      "5/5 [==============================] - 0s 15ms/step - loss: 0.9875 - accuracy: 0.6246 - val_loss: 1.2254 - val_accuracy: 0.6090\n",
      "Epoch 152/250\n",
      "5/5 [==============================] - 0s 15ms/step - loss: 0.9989 - accuracy: 0.6223 - val_loss: 1.2292 - val_accuracy: 0.6166\n",
      "Epoch 153/250\n",
      "5/5 [==============================] - 0s 15ms/step - loss: 0.9978 - accuracy: 0.6245 - val_loss: 1.2280 - val_accuracy: 0.6156\n",
      "Epoch 154/250\n",
      "5/5 [==============================] - 0s 15ms/step - loss: 0.9919 - accuracy: 0.6270 - val_loss: 1.2142 - val_accuracy: 0.6101\n",
      "Epoch 155/250\n",
      "5/5 [==============================] - 0s 15ms/step - loss: 1.0028 - accuracy: 0.6215 - val_loss: 1.2100 - val_accuracy: 0.6188\n",
      "Epoch 156/250\n",
      "5/5 [==============================] - 0s 15ms/step - loss: 0.9928 - accuracy: 0.6261 - val_loss: 1.2302 - val_accuracy: 0.6188\n",
      "Epoch 157/250\n",
      "5/5 [==============================] - 0s 15ms/step - loss: 0.9892 - accuracy: 0.6257 - val_loss: 1.2269 - val_accuracy: 0.6156\n",
      "Epoch 158/250\n",
      "5/5 [==============================] - 0s 15ms/step - loss: 0.9992 - accuracy: 0.6231 - val_loss: 1.2244 - val_accuracy: 0.6112\n",
      "Epoch 159/250\n",
      "5/5 [==============================] - 0s 15ms/step - loss: 0.9957 - accuracy: 0.6262 - val_loss: 1.2240 - val_accuracy: 0.6134\n",
      "Epoch 160/250\n",
      "5/5 [==============================] - 0s 15ms/step - loss: 0.9879 - accuracy: 0.6277 - val_loss: 1.2280 - val_accuracy: 0.6156\n",
      "Epoch 161/250\n",
      "5/5 [==============================] - 0s 15ms/step - loss: 0.9860 - accuracy: 0.6251 - val_loss: 1.2318 - val_accuracy: 0.6123\n",
      "Epoch 162/250\n",
      "5/5 [==============================] - 0s 15ms/step - loss: 0.9840 - accuracy: 0.6300 - val_loss: 1.2288 - val_accuracy: 0.6145\n",
      "Epoch 163/250\n",
      "5/5 [==============================] - 0s 15ms/step - loss: 0.9856 - accuracy: 0.6319 - val_loss: 1.2122 - val_accuracy: 0.6123\n",
      "Epoch 164/250\n",
      "5/5 [==============================] - 0s 15ms/step - loss: 0.9762 - accuracy: 0.6326 - val_loss: 1.2137 - val_accuracy: 0.6090\n",
      "Epoch 165/250\n",
      "5/5 [==============================] - 0s 15ms/step - loss: 0.9831 - accuracy: 0.6309 - val_loss: 1.2400 - val_accuracy: 0.6145\n",
      "Epoch 166/250\n",
      "5/5 [==============================] - 0s 15ms/step - loss: 0.9949 - accuracy: 0.6200 - val_loss: 1.2205 - val_accuracy: 0.6101\n",
      "Epoch 167/250\n",
      "5/5 [==============================] - 0s 15ms/step - loss: 0.9812 - accuracy: 0.6345 - val_loss: 1.2289 - val_accuracy: 0.6210\n",
      "Epoch 168/250\n",
      "5/5 [==============================] - 0s 15ms/step - loss: 0.9947 - accuracy: 0.6276 - val_loss: 1.2273 - val_accuracy: 0.6112\n",
      "Epoch 169/250\n",
      "5/5 [==============================] - 0s 15ms/step - loss: 1.0012 - accuracy: 0.6242 - val_loss: 1.2091 - val_accuracy: 0.6090\n",
      "Epoch 170/250\n",
      "5/5 [==============================] - 0s 15ms/step - loss: 0.9829 - accuracy: 0.6261 - val_loss: 1.2248 - val_accuracy: 0.6145\n",
      "Epoch 171/250\n",
      "5/5 [==============================] - 0s 15ms/step - loss: 0.9789 - accuracy: 0.6342 - val_loss: 1.2257 - val_accuracy: 0.6123\n",
      "Epoch 172/250\n",
      "5/5 [==============================] - 0s 15ms/step - loss: 0.9743 - accuracy: 0.6255 - val_loss: 1.2194 - val_accuracy: 0.6156\n",
      "Epoch 173/250\n",
      "5/5 [==============================] - 0s 15ms/step - loss: 0.9815 - accuracy: 0.6313 - val_loss: 1.2112 - val_accuracy: 0.6123\n",
      "Epoch 174/250\n",
      "5/5 [==============================] - 0s 15ms/step - loss: 0.9746 - accuracy: 0.6305 - val_loss: 1.2366 - val_accuracy: 0.6166\n"
     ]
    },
    {
     "name": "stdout",
     "output_type": "stream",
     "text": [
      "Epoch 175/250\n",
      "5/5 [==============================] - 0s 15ms/step - loss: 0.9767 - accuracy: 0.6307 - val_loss: 1.2256 - val_accuracy: 0.6068\n",
      "Epoch 176/250\n",
      "5/5 [==============================] - 0s 15ms/step - loss: 0.9784 - accuracy: 0.6333 - val_loss: 1.2168 - val_accuracy: 0.6145\n",
      "Epoch 177/250\n",
      "5/5 [==============================] - 0s 15ms/step - loss: 0.9766 - accuracy: 0.6250 - val_loss: 1.2312 - val_accuracy: 0.6112\n",
      "Epoch 178/250\n",
      "5/5 [==============================] - 0s 15ms/step - loss: 0.9707 - accuracy: 0.6343 - val_loss: 1.2185 - val_accuracy: 0.6123\n",
      "Epoch 179/250\n",
      "5/5 [==============================] - 0s 15ms/step - loss: 0.9716 - accuracy: 0.6271 - val_loss: 1.2110 - val_accuracy: 0.6199\n",
      "Epoch 180/250\n",
      "5/5 [==============================] - 0s 15ms/step - loss: 0.9828 - accuracy: 0.6249 - val_loss: 1.2168 - val_accuracy: 0.6177\n",
      "Epoch 181/250\n",
      "5/5 [==============================] - 0s 15ms/step - loss: 0.9755 - accuracy: 0.6275 - val_loss: 1.2313 - val_accuracy: 0.6188\n",
      "Epoch 182/250\n",
      "5/5 [==============================] - 0s 15ms/step - loss: 0.9651 - accuracy: 0.6313 - val_loss: 1.2124 - val_accuracy: 0.6101\n",
      "Epoch 183/250\n",
      "5/5 [==============================] - 0s 15ms/step - loss: 0.9695 - accuracy: 0.6312 - val_loss: 1.2203 - val_accuracy: 0.6199\n",
      "Epoch 184/250\n",
      "5/5 [==============================] - 0s 15ms/step - loss: 0.9742 - accuracy: 0.6362 - val_loss: 1.2032 - val_accuracy: 0.6112\n",
      "Epoch 185/250\n",
      "5/5 [==============================] - 0s 15ms/step - loss: 0.9767 - accuracy: 0.6311 - val_loss: 1.2102 - val_accuracy: 0.6199\n",
      "Epoch 186/250\n",
      "5/5 [==============================] - 0s 15ms/step - loss: 0.9721 - accuracy: 0.6277 - val_loss: 1.2251 - val_accuracy: 0.6199\n",
      "Epoch 187/250\n",
      "5/5 [==============================] - 0s 15ms/step - loss: 0.9776 - accuracy: 0.6273 - val_loss: 1.2183 - val_accuracy: 0.6177\n",
      "Epoch 188/250\n",
      "5/5 [==============================] - 0s 15ms/step - loss: 0.9682 - accuracy: 0.6305 - val_loss: 1.2204 - val_accuracy: 0.6166\n",
      "Epoch 189/250\n",
      "5/5 [==============================] - 0s 15ms/step - loss: 0.9649 - accuracy: 0.6333 - val_loss: 1.2416 - val_accuracy: 0.6188\n",
      "Epoch 190/250\n",
      "5/5 [==============================] - 0s 15ms/step - loss: 0.9747 - accuracy: 0.6291 - val_loss: 1.2334 - val_accuracy: 0.6090\n",
      "Epoch 191/250\n",
      "5/5 [==============================] - 0s 15ms/step - loss: 0.9668 - accuracy: 0.6292 - val_loss: 1.2276 - val_accuracy: 0.6177\n",
      "Epoch 192/250\n",
      "5/5 [==============================] - 0s 15ms/step - loss: 0.9693 - accuracy: 0.6316 - val_loss: 1.2333 - val_accuracy: 0.6123\n",
      "Epoch 193/250\n",
      "5/5 [==============================] - 0s 15ms/step - loss: 0.9618 - accuracy: 0.6317 - val_loss: 1.2513 - val_accuracy: 0.6156\n",
      "Epoch 194/250\n",
      "5/5 [==============================] - 0s 15ms/step - loss: 0.9675 - accuracy: 0.6342 - val_loss: 1.2224 - val_accuracy: 0.6123\n",
      "Epoch 195/250\n",
      "5/5 [==============================] - 0s 15ms/step - loss: 0.9691 - accuracy: 0.6315 - val_loss: 1.2145 - val_accuracy: 0.6112\n",
      "Epoch 196/250\n",
      "5/5 [==============================] - 0s 15ms/step - loss: 0.9684 - accuracy: 0.6298 - val_loss: 1.2594 - val_accuracy: 0.6232\n",
      "Epoch 197/250\n",
      "5/5 [==============================] - 0s 116ms/step - loss: 0.9706 - accuracy: 0.6290 - val_loss: 1.2701 - val_accuracy: 0.6112\n",
      "Epoch 198/250\n",
      "5/5 [==============================] - 0s 15ms/step - loss: 0.9730 - accuracy: 0.6246 - val_loss: 1.2222 - val_accuracy: 0.6166\n",
      "Epoch 199/250\n",
      "5/5 [==============================] - 0s 15ms/step - loss: 0.9646 - accuracy: 0.6292 - val_loss: 1.1994 - val_accuracy: 0.6188\n",
      "Epoch 200/250\n",
      "5/5 [==============================] - 0s 15ms/step - loss: 0.9674 - accuracy: 0.6291 - val_loss: 1.2201 - val_accuracy: 0.6199\n",
      "Epoch 201/250\n",
      "5/5 [==============================] - 0s 15ms/step - loss: 0.9755 - accuracy: 0.6339 - val_loss: 1.2183 - val_accuracy: 0.6134\n",
      "Epoch 202/250\n",
      "5/5 [==============================] - 0s 15ms/step - loss: 0.9702 - accuracy: 0.6319 - val_loss: 1.2235 - val_accuracy: 0.6210\n",
      "Epoch 203/250\n",
      "5/5 [==============================] - 0s 15ms/step - loss: 0.9712 - accuracy: 0.6275 - val_loss: 1.2148 - val_accuracy: 0.6188\n",
      "Epoch 204/250\n",
      "5/5 [==============================] - 0s 15ms/step - loss: 0.9740 - accuracy: 0.6266 - val_loss: 1.2166 - val_accuracy: 0.6134\n",
      "Epoch 205/250\n",
      "5/5 [==============================] - 0s 15ms/step - loss: 0.9613 - accuracy: 0.6366 - val_loss: 1.2267 - val_accuracy: 0.6177\n",
      "Epoch 206/250\n",
      "5/5 [==============================] - 0s 15ms/step - loss: 0.9703 - accuracy: 0.6312 - val_loss: 1.2058 - val_accuracy: 0.6243\n",
      "Epoch 207/250\n",
      "5/5 [==============================] - 0s 15ms/step - loss: 0.9569 - accuracy: 0.6322 - val_loss: 1.2105 - val_accuracy: 0.6254\n",
      "Epoch 208/250\n",
      "5/5 [==============================] - 0s 15ms/step - loss: 0.9639 - accuracy: 0.6289 - val_loss: 1.2265 - val_accuracy: 0.6166\n",
      "Epoch 209/250\n",
      "5/5 [==============================] - 0s 15ms/step - loss: 0.9653 - accuracy: 0.6321 - val_loss: 1.2343 - val_accuracy: 0.6221\n",
      "Epoch 210/250\n",
      "5/5 [==============================] - 0s 15ms/step - loss: 0.9638 - accuracy: 0.6315 - val_loss: 1.2386 - val_accuracy: 0.6298\n",
      "Epoch 211/250\n",
      "5/5 [==============================] - 0s 15ms/step - loss: 0.9664 - accuracy: 0.6370 - val_loss: 1.2436 - val_accuracy: 0.6254\n",
      "Epoch 212/250\n",
      "5/5 [==============================] - 0s 15ms/step - loss: 0.9647 - accuracy: 0.6267 - val_loss: 1.2474 - val_accuracy: 0.6199\n",
      "Epoch 213/250\n",
      "5/5 [==============================] - 0s 14ms/step - loss: 0.9600 - accuracy: 0.6356 - val_loss: 1.2348 - val_accuracy: 0.6232\n",
      "Epoch 214/250\n",
      "5/5 [==============================] - 0s 15ms/step - loss: 0.9653 - accuracy: 0.6333 - val_loss: 1.2682 - val_accuracy: 0.6177\n",
      "Epoch 215/250\n",
      "5/5 [==============================] - 0s 15ms/step - loss: 0.9581 - accuracy: 0.6352 - val_loss: 1.2708 - val_accuracy: 0.6221\n",
      "Epoch 216/250\n",
      "5/5 [==============================] - 0s 14ms/step - loss: 0.9664 - accuracy: 0.6325 - val_loss: 1.2446 - val_accuracy: 0.6210\n",
      "Epoch 217/250\n",
      "5/5 [==============================] - 0s 14ms/step - loss: 0.9712 - accuracy: 0.6284 - val_loss: 1.2290 - val_accuracy: 0.6177\n",
      "Epoch 218/250\n",
      "5/5 [==============================] - 0s 14ms/step - loss: 0.9675 - accuracy: 0.6301 - val_loss: 1.2088 - val_accuracy: 0.6265\n",
      "Epoch 219/250\n",
      "5/5 [==============================] - 0s 14ms/step - loss: 0.9619 - accuracy: 0.6321 - val_loss: 1.2073 - val_accuracy: 0.6232\n",
      "Epoch 220/250\n",
      "5/5 [==============================] - 0s 15ms/step - loss: 0.9547 - accuracy: 0.6353 - val_loss: 1.2411 - val_accuracy: 0.6243\n",
      "Epoch 221/250\n",
      "5/5 [==============================] - 0s 15ms/step - loss: 0.9527 - accuracy: 0.6352 - val_loss: 1.2383 - val_accuracy: 0.6221\n",
      "Epoch 222/250\n",
      "5/5 [==============================] - 0s 15ms/step - loss: 0.9593 - accuracy: 0.6316 - val_loss: 1.2136 - val_accuracy: 0.6232\n",
      "Epoch 223/250\n",
      "5/5 [==============================] - 0s 15ms/step - loss: 0.9582 - accuracy: 0.6374 - val_loss: 1.2185 - val_accuracy: 0.6199\n",
      "Epoch 224/250\n",
      "5/5 [==============================] - 0s 15ms/step - loss: 0.9575 - accuracy: 0.6391 - val_loss: 1.2449 - val_accuracy: 0.6243\n",
      "Epoch 225/250\n",
      "5/5 [==============================] - 0s 15ms/step - loss: 0.9590 - accuracy: 0.6351 - val_loss: 1.2267 - val_accuracy: 0.6199\n",
      "Epoch 226/250\n",
      "5/5 [==============================] - 0s 15ms/step - loss: 0.9449 - accuracy: 0.6379 - val_loss: 1.2191 - val_accuracy: 0.6243\n",
      "Epoch 227/250\n",
      "5/5 [==============================] - 0s 14ms/step - loss: 0.9551 - accuracy: 0.6373 - val_loss: 1.2348 - val_accuracy: 0.6309\n",
      "Epoch 228/250\n",
      "5/5 [==============================] - 0s 15ms/step - loss: 0.9644 - accuracy: 0.6332 - val_loss: 1.2282 - val_accuracy: 0.6210\n",
      "Epoch 229/250\n",
      "5/5 [==============================] - 0s 15ms/step - loss: 0.9507 - accuracy: 0.6383 - val_loss: 1.2419 - val_accuracy: 0.6309\n",
      "Epoch 230/250\n",
      "5/5 [==============================] - 0s 14ms/step - loss: 0.9590 - accuracy: 0.6338 - val_loss: 1.2307 - val_accuracy: 0.6287\n",
      "Epoch 231/250\n",
      "5/5 [==============================] - 0s 15ms/step - loss: 0.9662 - accuracy: 0.6394 - val_loss: 1.2149 - val_accuracy: 0.6287\n",
      "Epoch 232/250\n",
      "5/5 [==============================] - 0s 15ms/step - loss: 0.9459 - accuracy: 0.6481 - val_loss: 1.2242 - val_accuracy: 0.6276\n"
     ]
    },
    {
     "name": "stdout",
     "output_type": "stream",
     "text": [
      "Epoch 233/250\n",
      "5/5 [==============================] - 0s 15ms/step - loss: 0.9624 - accuracy: 0.6396 - val_loss: 1.2315 - val_accuracy: 0.6265\n",
      "Epoch 234/250\n",
      "5/5 [==============================] - 0s 15ms/step - loss: 0.9535 - accuracy: 0.6434 - val_loss: 1.2354 - val_accuracy: 0.6276\n",
      "Epoch 235/250\n",
      "5/5 [==============================] - 0s 14ms/step - loss: 0.9524 - accuracy: 0.6395 - val_loss: 1.2148 - val_accuracy: 0.6287\n",
      "Epoch 236/250\n",
      "5/5 [==============================] - 0s 14ms/step - loss: 0.9508 - accuracy: 0.6452 - val_loss: 1.2088 - val_accuracy: 0.6342\n",
      "Epoch 237/250\n",
      "5/5 [==============================] - 0s 14ms/step - loss: 0.9545 - accuracy: 0.6389 - val_loss: 1.2376 - val_accuracy: 0.6254\n",
      "Epoch 238/250\n",
      "5/5 [==============================] - 0s 14ms/step - loss: 0.9560 - accuracy: 0.6442 - val_loss: 1.2414 - val_accuracy: 0.6243\n",
      "Epoch 239/250\n",
      "5/5 [==============================] - 0s 14ms/step - loss: 0.9441 - accuracy: 0.6444 - val_loss: 1.2421 - val_accuracy: 0.6375\n",
      "Epoch 240/250\n",
      "5/5 [==============================] - 0s 15ms/step - loss: 0.9540 - accuracy: 0.6413 - val_loss: 1.2198 - val_accuracy: 0.6309\n",
      "Epoch 241/250\n",
      "5/5 [==============================] - 0s 15ms/step - loss: 0.9402 - accuracy: 0.6515 - val_loss: 1.2233 - val_accuracy: 0.6309\n",
      "Epoch 242/250\n",
      "5/5 [==============================] - 0s 15ms/step - loss: 0.9419 - accuracy: 0.6455 - val_loss: 1.2338 - val_accuracy: 0.6331\n",
      "Epoch 243/250\n",
      "5/5 [==============================] - 0s 15ms/step - loss: 0.9478 - accuracy: 0.6454 - val_loss: 1.2436 - val_accuracy: 0.6331\n",
      "Epoch 244/250\n",
      "5/5 [==============================] - 0s 15ms/step - loss: 0.9491 - accuracy: 0.6496 - val_loss: 1.2426 - val_accuracy: 0.6353\n",
      "Epoch 245/250\n",
      "5/5 [==============================] - 0s 15ms/step - loss: 0.9411 - accuracy: 0.6410 - val_loss: 1.2289 - val_accuracy: 0.6276\n",
      "Epoch 246/250\n",
      "5/5 [==============================] - 0s 15ms/step - loss: 0.9506 - accuracy: 0.6472 - val_loss: 1.2333 - val_accuracy: 0.6309\n",
      "Epoch 247/250\n",
      "5/5 [==============================] - 0s 14ms/step - loss: 0.9635 - accuracy: 0.6411 - val_loss: 1.2282 - val_accuracy: 0.6375\n",
      "Epoch 248/250\n",
      "5/5 [==============================] - 0s 14ms/step - loss: 0.9402 - accuracy: 0.6450 - val_loss: 1.2428 - val_accuracy: 0.6298\n",
      "Epoch 249/250\n",
      "5/5 [==============================] - 0s 14ms/step - loss: 0.9355 - accuracy: 0.6509 - val_loss: 1.2579 - val_accuracy: 0.6298\n",
      "Epoch 250/250\n",
      "5/5 [==============================] - 0s 14ms/step - loss: 0.9409 - accuracy: 0.6456 - val_loss: 1.2555 - val_accuracy: 0.6298\n"
     ]
    },
    {
     "data": {
      "text/plain": [
       "<tensorflow.python.keras.callbacks.History at 0x7fca66382f70>"
      ]
     },
     "execution_count": 703,
     "metadata": {},
     "output_type": "execute_result"
    }
   ],
   "source": [
    "# Fitting del modelo\n",
    "nn_model.fit(X_train_total, Y_train_matriz, epochs=250, batch_size=2000, verbose=1, validation_split=0.1)"
   ]
  },
  {
   "cell_type": "code",
   "execution_count": null,
   "metadata": {
    "hidden": true
   },
   "outputs": [],
   "source": []
  },
  {
   "cell_type": "markdown",
   "metadata": {},
   "source": [
    "# Fin del Documento"
   ]
  },
  {
   "cell_type": "code",
   "execution_count": null,
   "metadata": {},
   "outputs": [],
   "source": []
  }
 ],
 "metadata": {
  "kernelspec": {
   "display_name": "Python 3",
   "language": "python",
   "name": "python3"
  },
  "language_info": {
   "codemirror_mode": {
    "name": "ipython",
    "version": 3
   },
   "file_extension": ".py",
   "mimetype": "text/x-python",
   "name": "python",
   "nbconvert_exporter": "python",
   "pygments_lexer": "ipython3",
   "version": "3.8.2"
  },
  "notify_time": "10",
  "toc": {
   "base_numbering": 1,
   "nav_menu": {},
   "number_sections": true,
   "sideBar": true,
   "skip_h1_title": true,
   "title_cell": "Table of Contents",
   "title_sidebar": "Contents",
   "toc_cell": true,
   "toc_position": {
    "height": "calc(100% - 180px)",
    "left": "10px",
    "top": "150px",
    "width": "461.989px"
   },
   "toc_section_display": true,
   "toc_window_display": true
  }
 },
 "nbformat": 4,
 "nbformat_minor": 4
}
