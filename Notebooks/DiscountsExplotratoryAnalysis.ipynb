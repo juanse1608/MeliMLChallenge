{
 "cells": [
  {
   "cell_type": "markdown",
   "metadata": {
    "toc": true
   },
   "source": [
    "<h1>Table of Contents<span class=\"tocSkip\"></span></h1>\n",
    "<div class=\"toc\"><ul class=\"toc-item\"><li><span><a href=\"#Importar-Librerías\" data-toc-modified-id=\"Importar-Librerías-1\"><span class=\"toc-item-num\">1&nbsp;&nbsp;</span>Importar Librerías</a></span></li><li><span><a href=\"#Preprocesamiento-de-Datos\" data-toc-modified-id=\"Preprocesamiento-de-Datos-2\"><span class=\"toc-item-num\">2&nbsp;&nbsp;</span>Preprocesamiento de Datos</a></span><ul class=\"toc-item\"><li><span><a href=\"#Construcción-del-Dataset-de-Productos\" data-toc-modified-id=\"Construcción-del-Dataset-de-Productos-2.1\"><span class=\"toc-item-num\">2.1&nbsp;&nbsp;</span>Construcción del Dataset de Productos</a></span><ul class=\"toc-item\"><li><span><a href=\"#Lectura-de-los-Datos\" data-toc-modified-id=\"Lectura-de-los-Datos-2.1.1\"><span class=\"toc-item-num\">2.1.1&nbsp;&nbsp;</span>Lectura de los Datos</a></span></li><li><span><a href=\"#Transformación-de-los-Datos\" data-toc-modified-id=\"Transformación-de-los-Datos-2.1.2\"><span class=\"toc-item-num\">2.1.2&nbsp;&nbsp;</span>Transformación de los Datos</a></span></li></ul></li></ul></li></ul></div>"
   ]
  },
  {
   "cell_type": "markdown",
   "metadata": {},
   "source": [
    "# Pulling Data - Mercado Libre API\n",
    "\n",
    "El propósito de este notebook es realizar el primer paso del reto de DS y ML propuesto por el equipo Meli: Obtener los datos de ciertos productos a través de la [API](https://api.mercadolibre.com/) de Mercado Libre.\n",
    "\n",
    "En este notebook se establece la conexión con la API y se obtiene através del buscador de Mercado Libre ciertos productos para construir un dataset que será usuado tanto para la parte exploratoria como la del modelo de ML."
   ]
  },
  {
   "cell_type": "markdown",
   "metadata": {},
   "source": [
    "## Importar Librerías"
   ]
  },
  {
   "cell_type": "code",
   "execution_count": 1,
   "metadata": {
    "ExecuteTime": {
     "end_time": "2021-03-09T02:56:59.048003Z",
     "start_time": "2021-03-09T02:56:59.039384Z"
    }
   },
   "outputs": [
    {
     "data": {
      "text/html": [
       "<style>div#notebook-container{width: 60%;}div#menubar-container{width: 65%;} div#maintoolbar-container{width: 99%;}</style>"
      ],
      "text/plain": [
       "<IPython.core.display.HTML object>"
      ]
     },
     "metadata": {},
     "output_type": "display_data"
    }
   ],
   "source": [
    "# Cambia el ancho de las celdas\n",
    "from IPython.display import HTML, display\n",
    "display(HTML(data=\"\"\"<style>div#notebook-container{width: 60%;}div#menubar-container{width: 65%;} div#maintoolbar-container{width: 99%;}</style>\"\"\"))"
   ]
  },
  {
   "cell_type": "code",
   "execution_count": 1,
   "metadata": {
    "ExecuteTime": {
     "end_time": "2021-03-09T23:43:19.952103Z",
     "start_time": "2021-03-09T23:43:19.002090Z"
    }
   },
   "outputs": [],
   "source": [
    "# Procesamiento de datos\n",
    "import os\n",
    "import re\n",
    "import pandas as pd\n",
    "import numpy as np\n",
    "import datetime as dt\n",
    "import itertools as it\n",
    "\n",
    "# Visualización\n",
    "import matplotlib.pyplot as plt\n",
    "import matplotlib.font_manager\n",
    "from matplotlib.ticker import PercentFormatter\n",
    "import chart_studio.plotly as py\n",
    "import plotly.graph_objs as go\n",
    "import plotly.express as px\n",
    "from plotly.subplots import make_subplots"
   ]
  },
  {
   "cell_type": "markdown",
   "metadata": {},
   "source": [
    "## Preprocesamiento de Datos\n",
    "\n",
    "En esta sección se realiza un proceso general de limpieza y organización de los datos previo a la exploración de los datos."
   ]
  },
  {
   "cell_type": "markdown",
   "metadata": {},
   "source": [
    "### Construcción del Dataset de Productos"
   ]
  },
  {
   "cell_type": "markdown",
   "metadata": {
    "heading_collapsed": true
   },
   "source": [
    "#### Lectura de los Datos\n",
    " \n",
    "En esta subsección se leen el dataset de productos, se imprimen sus dimensiones, sus columnas y se mencionan sus tipos de variables."
   ]
  },
  {
   "cell_type": "code",
   "execution_count": 4,
   "metadata": {
    "ExecuteTime": {
     "end_time": "2021-03-09T23:46:37.035291Z",
     "start_time": "2021-03-09T23:46:36.906456Z"
    },
    "hidden": true
   },
   "outputs": [
    {
     "name": "stdout",
     "output_type": "stream",
     "text": [
      "LAS DIMENSIONES DE LA BASE DE PRODUCTOS SON: (14531, 47)\n"
     ]
    }
   ],
   "source": [
    "# Se lee el .csv con el datset construido\n",
    "products = pd.read_csv('../Data/Datasets/PRODUCTOS.csv')\n",
    "products.columns = products.columns.str.upper() # Pone los nombres de las columnas en mayusculas\n",
    "print('LAS DIMENSIONES DE LA BASE DE PRODUCTOS SON: {}'.format(products.shape))"
   ]
  },
  {
   "cell_type": "code",
   "execution_count": 6,
   "metadata": {
    "ExecuteTime": {
     "end_time": "2021-03-09T23:46:45.834739Z",
     "start_time": "2021-03-09T23:46:45.830976Z"
    },
    "hidden": true
   },
   "outputs": [
    {
     "data": {
      "text/plain": [
       "Index(['ITEM_ID', 'ITEM_SITE_ID', 'ITEM_TITLE', 'ITEM_PRICE',\n",
       "       'ITEM_SALE_PRICE', 'ITEM_CURRENCY_ID', 'ITEM_AVAILABLE_QUANTITY',\n",
       "       'ITEM_SOLD_QUANTITY', 'ITEM_BUYING_MODE', 'ITEM_LISTING_TYPE_ID',\n",
       "       'ITEM_STOP_TIME', 'ITEM_CONDITION', 'ITEM_PERMALINK', 'ITEM_THUMBNAIL',\n",
       "       'ITEM_THUMBNAIL_ID', 'ITEM_ACCEPTS_MERCADOPAGO', 'ITEM_ORIGINAL_PRICE',\n",
       "       'ITEM_CATEGORY_ID', 'ITEM_OFFICIAL_STORE_ID', 'ITEM_DOMAIN_ID',\n",
       "       'ITEM_CATALOG_PRODUCT_ID', 'ITEM_ORDER_BACKEND',\n",
       "       'ITEM_USE_THUMBNAIL_ID', 'SELLER_ID', 'SELLER_REP_TRANSACTIONS_TOTAL',\n",
       "       'SELLER_REP_TRANSACTIONS_CANCELED', 'SELLER_REP_RATING_NEG',\n",
       "       'SELLER_REP_RATING_POS', 'SELLER_REP_RATING_NEU',\n",
       "       'SELLER_TRANSACTIONS_COMPLETED', 'SELLER_STATUS',\n",
       "       'SELLER_METRICS_CLAIMS_RATE', 'SELLER_METRICS_CLAIMS_VALUE',\n",
       "       'SELLER_METRICS_CLAIMS_PERIOD', 'SELLER_METRICS_DELAY_RATE',\n",
       "       'SELLER_METRICS_DELAY_VALUE', 'SELLER_METRICS_DELAY_PERIOD',\n",
       "       'SELLER_METRICS_SALES_PERIOD', 'SELLER_METRICS_SALES_COMPLETED',\n",
       "       'SELLER_METRICS_CANCELLATIONS_PERIOD',\n",
       "       'SELLER_METRICS_CANCELLATIONS_RATE',\n",
       "       'SELLER_METRICS_CANCELLATIONS_VALUE', 'SELLER_LEVEL_ID',\n",
       "       'SHIPPING_FREE', 'SHIPPING_LOGISTIC_TYPE', 'SHIPPING_PICK_UP',\n",
       "       'ADRESS_STATE_ID'],\n",
       "      dtype='object')"
      ]
     },
     "execution_count": 6,
     "metadata": {},
     "output_type": "execute_result"
    }
   ],
   "source": [
    "# Printea la columnas del dataset\n",
    "products.columns"
   ]
  },
  {
   "cell_type": "markdown",
   "metadata": {
    "ExecuteTime": {
     "end_time": "2021-03-09T23:49:05.788278Z",
     "start_time": "2021-03-09T23:49:05.710669Z"
    },
    "hidden": true
   },
   "source": [
    "Se puede ver claramente que se encuentran los siguientes tipos de variables:\n",
    "    \n",
    "1. Tipo `ITEM`: Variables asociadas al ítem.\n",
    "\n",
    "\n",
    "2. Tipo `SELLER`: Variables asociadas al vendedor.\n",
    "\n",
    "\n",
    "3. Tipo `SHIPPING`: Variables asociadas al envío.\n",
    "\n",
    "\n",
    "4. Tipo `ADRESS`: Variable que indica el departamento donde se encuentra el ítem."
   ]
  },
  {
   "cell_type": "markdown",
   "metadata": {},
   "source": [
    "#### Transformación de los Datos\n",
    "\n",
    "En esta subsección se arreglan, limpian y transforman el dataset de productos."
   ]
  },
  {
   "cell_type": "code",
   "execution_count": 58,
   "metadata": {
    "ExecuteTime": {
     "end_time": "2021-03-10T00:31:33.421260Z",
     "start_time": "2021-03-10T00:31:33.412835Z"
    }
   },
   "outputs": [],
   "source": [
    "# Arreglo a la ADRESS_STATE_ID: para algunos productos el ADRESS_STATE_ID hay que arreglar su dato\n",
    "# Se uso el ITEM_PERMALINK para entender cual era el verdadero dato de ADRESS_STATE_ID\n",
    "cambios_de_direccion = {\n",
    "                        'TUNPUEJPR1gxMDljZA': 'CO-DC', \n",
    "                        'TUNPUEFOVGFiZWI3': 'CO-ANT ',\n",
    "                        'TUNPUENVTmE3NmQ4': 'CO-CUN',\n",
    "                        'TUNPUFZBTGExNmNjNg': 'CO-VAC',\n",
    "                        'TUNPUFJJU2ExMWIyYg': 'CO-RIS',\n",
    "                        'TUNPUEFUTG9mNDk5': 'CO-ATL',\n",
    "                        'TUNPUFRPTGExNGZkNA': 'CO-TOL',\n",
    "                        'TUNPUFNBTnJlMjMw': 'CO-SAN',\n",
    "                        'TUNPUEJPTHI1Mzlk': 'CO-BOL',\n",
    "                        'TUNPUE1BR2FiZjQ0': 'CO-MAG',\n",
    "                        'TUNPUENBTHNjODY4': 'CO-CAL',\n",
    "                        'TUNPUE1FVGExNzFjNQ': 'CO-MET',\n",
    "                        'TUNPUFFVSW9kYmZm': 'CO-QUI',\n",
    "                        'TUNPUE5PUnIxNDkyZg': 'CO-NSA', \n",
    "                        'TUNPUEFSQ2E4Zjc3': 'CO-SAP',\n",
    "                        'TUNPUEJPWWE4YzMz': 'CO-BOY',\n",
    "                        'TUNPUENBVWExM2Q1NQ': 'CO-CAU',\n",
    "                        'TUNPUENPUmFkZGIw': 'CO-COR',\n",
    "                        'TUNPUEdVQWExOTYx': 'CO-LAG',\n",
    "                        'TUNPUE5BUm8xYzk4': 'CO-NAR', \n",
    "                        'TUNPUFNVQ2U4ZWQ0': 'CO-SUC',\n",
    "                        'TUNPUENBU2U2OWIy': 'CO-CAS',\n",
    "                       }\n",
    "\n",
    "# Arregla un error que se detecto en las direcciones\n",
    "products.loc[products['ADRESS_STATE_ID'].isin(cambios_de_direccion.keys()), 'ADRESS_STATE_ID'] = \\\n",
    "products.loc[products['ADRESS_STATE_ID'].isin(cambios_de_direccion.keys()), 'ADRESS_STATE_ID'].map(cambios_de_direccion)"
   ]
  },
  {
   "cell_type": "code",
   "execution_count": 120,
   "metadata": {
    "ExecuteTime": {
     "end_time": "2021-03-10T01:41:37.395366Z",
     "start_time": "2021-03-10T01:41:37.391459Z"
    }
   },
   "outputs": [
    {
     "data": {
      "text/plain": [
       "0"
      ]
     },
     "execution_count": 120,
     "metadata": {},
     "output_type": "execute_result"
    }
   ],
   "source": [
    "# products.loc[products['ITEM_CURRENCY_ID'] == 'USD', 'ITEM_PRICE']\n",
    "products['SELLER_REP_RATING_NEU'].isna().sum()"
   ]
  },
  {
   "cell_type": "code",
   "execution_count": 90,
   "metadata": {
    "ExecuteTime": {
     "end_time": "2021-03-10T00:53:59.195104Z",
     "start_time": "2021-03-10T00:53:59.186169Z"
    }
   },
   "outputs": [],
   "source": [
    "## Ajustes al precio \n",
    "\n",
    "# Se quitan productos que no tienen precio (generalmente precio a convenir)\n",
    "# Es decir este analisis aplica para productos con precio fijo\n",
    "products = products.loc[~products['ITEM_PRICE'].isna()]\n",
    "products.reset_index(drop=True, inplace=True)\n",
    "\n",
    "# Se encontro en google la tasa de cambio de dolar a cop el dia 7 de marzo (cuando se descargaron los datos)\n",
    "exchange_rate_usd_to_cop = 3142.99 \n",
    "products.loc[products['ITEM_CURRENCY_ID'] == 'USD', 'ITEM_PRICE'] *= exchange_rate_usd_to_cop\n",
    "products.loc[products['ITEM_CURRENCY_ID'] == 'USD', 'ITEM_CURRENCY_ID'] = 'COP'\n",
    "\n",
    "# Cambia ITEM_ORIGINAL_PRICE por el ITEM_PRICE como se indica en el documento\n",
    "products.loc[products['ITEM_ORIGINAL_PRICE'].isna(), 'ITEM_ORIGINAL_PRICE'] = \\\n",
    "products.loc[products['ITEM_ORIGINAL_PRICE'].isna(), 'ITEM_PRICE']\n",
    "\n",
    "# Crea las variables de descuento absoluto y la tasa\n",
    "products['ITEM_DISCOUNT_VALUE'] = products['ITEM_ORIGINAL_PRICE'] - products['ITEM_PRICE']\n",
    "products['ITEM_DISCOUNT_RATE'] = products['ITEM_DISCOUNT_VALUE']/products['ITEM_ORIGINAL_PRICE']\n",
    "\n",
    "# Crea la variable de venta total: This is an approximation\n",
    "products['ITEM_SELL_TOTAL'] = products['ITEM_PRICE']*products['ITEM_SOLD_QUANTITY']"
   ]
  },
  {
   "cell_type": "code",
   "execution_count": null,
   "metadata": {},
   "outputs": [],
   "source": [
    "## Ajuste a la condicion del item\n",
    "\n",
    "# Se cambia nan por not_specified\n",
    "products.loc[products['ITEM_CONDITION'].isna(), 'ITEM_CONDITION'] = 'not_specified'"
   ]
  },
  {
   "cell_type": "code",
   "execution_count": 91,
   "metadata": {
    "ExecuteTime": {
     "end_time": "2021-03-10T00:54:02.507880Z",
     "start_time": "2021-03-10T00:54:02.433996Z"
    }
   },
   "outputs": [
    {
     "name": "stdout",
     "output_type": "stream",
     "text": [
      "ITEM_ID 14214\n",
      "ITEM_SITE_ID 1\n",
      "ITEM_TITLE 13786\n",
      "ITEM_PRICE 3474\n",
      "ITEM_SALE_PRICE 0\n",
      "ITEM_CURRENCY_ID 2\n",
      "ITEM_AVAILABLE_QUANTITY 41\n",
      "ITEM_SOLD_QUANTITY 31\n",
      "ITEM_BUYING_MODE 2\n",
      "ITEM_LISTING_TYPE_ID 4\n",
      "ITEM_STOP_TIME 5504\n",
      "ITEM_CONDITION 3\n",
      "ITEM_PERMALINK 14214\n",
      "ITEM_THUMBNAIL 14143\n",
      "ITEM_THUMBNAIL_ID 13800\n",
      "ITEM_ACCEPTS_MERCADOPAGO 2\n",
      "ITEM_ORIGINAL_PRICE 458\n",
      "ITEM_CATEGORY_ID 1437\n",
      "ITEM_OFFICIAL_STORE_ID 203\n",
      "ITEM_DOMAIN_ID 1098\n",
      "ITEM_CATALOG_PRODUCT_ID 1127\n",
      "ITEM_ORDER_BACKEND 50\n",
      "ITEM_USE_THUMBNAIL_ID 2\n",
      "SELLER_ID 3766\n",
      "SELLER_REP_TRANSACTIONS_TOTAL 2285\n",
      "SELLER_REP_TRANSACTIONS_CANCELED 562\n",
      "SELLER_REP_RATING_NEG 26\n",
      "SELLER_REP_RATING_POS 33\n",
      "SELLER_REP_RATING_NEU 24\n",
      "SELLER_TRANSACTIONS_COMPLETED 2258\n",
      "SELLER_STATUS 3\n",
      "SELLER_METRICS_CLAIMS_RATE 383\n",
      "SELLER_METRICS_CLAIMS_VALUE 107\n",
      "SELLER_METRICS_CLAIMS_PERIOD 4\n",
      "SELLER_METRICS_DELAY_RATE 901\n",
      "SELLER_METRICS_DELAY_VALUE 162\n",
      "SELLER_METRICS_DELAY_PERIOD 4\n",
      "SELLER_METRICS_SALES_PERIOD 4\n",
      "SELLER_METRICS_SALES_COMPLETED 1245\n",
      "SELLER_METRICS_CANCELLATIONS_PERIOD 4\n",
      "SELLER_METRICS_CANCELLATIONS_RATE 209\n",
      "SELLER_METRICS_CANCELLATIONS_VALUE 46\n",
      "SELLER_LEVEL_ID 5\n",
      "SHIPPING_FREE 2\n",
      "SHIPPING_LOGISTIC_TYPE 7\n",
      "SHIPPING_PICK_UP 2\n",
      "ADRESS_STATE_ID 27\n"
     ]
    }
   ],
   "source": [
    "for c in products.columns:\n",
    "    print(c, products[c].nunique())"
   ]
  },
  {
   "cell_type": "markdown",
   "metadata": {},
   "source": [
    "# Fin del Documento"
   ]
  },
  {
   "cell_type": "code",
   "execution_count": null,
   "metadata": {},
   "outputs": [],
   "source": []
  }
 ],
 "metadata": {
  "kernelspec": {
   "display_name": "Python 3",
   "language": "python",
   "name": "python3"
  },
  "language_info": {
   "codemirror_mode": {
    "name": "ipython",
    "version": 3
   },
   "file_extension": ".py",
   "mimetype": "text/x-python",
   "name": "python",
   "nbconvert_exporter": "python",
   "pygments_lexer": "ipython3",
   "version": "3.8.2"
  },
  "notify_time": "10",
  "toc": {
   "base_numbering": 1,
   "nav_menu": {},
   "number_sections": true,
   "sideBar": true,
   "skip_h1_title": true,
   "title_cell": "Table of Contents",
   "title_sidebar": "Contents",
   "toc_cell": true,
   "toc_position": {
    "height": "calc(100% - 180px)",
    "left": "10px",
    "top": "150px",
    "width": "462px"
   },
   "toc_section_display": true,
   "toc_window_display": true
  }
 },
 "nbformat": 4,
 "nbformat_minor": 4
}
