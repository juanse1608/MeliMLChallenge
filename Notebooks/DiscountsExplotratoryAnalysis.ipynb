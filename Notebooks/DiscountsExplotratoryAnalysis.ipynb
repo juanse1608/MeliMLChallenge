{
 "cells": [
  {
   "cell_type": "markdown",
   "metadata": {
    "toc": true
   },
   "source": [
    "<h1>Table of Contents<span class=\"tocSkip\"></span></h1>\n",
    "<div class=\"toc\"><ul class=\"toc-item\"><li><span><a href=\"#Importar-Librerías\" data-toc-modified-id=\"Importar-Librerías-1\"><span class=\"toc-item-num\">1&nbsp;&nbsp;</span>Importar Librerías</a></span></li><li><span><a href=\"#Preprocesamiento-de-Datos\" data-toc-modified-id=\"Preprocesamiento-de-Datos-2\"><span class=\"toc-item-num\">2&nbsp;&nbsp;</span>Preprocesamiento de Datos</a></span><ul class=\"toc-item\"><li><span><a href=\"#Construcción-del-Dataset-de-Productos\" data-toc-modified-id=\"Construcción-del-Dataset-de-Productos-2.1\"><span class=\"toc-item-num\">2.1&nbsp;&nbsp;</span>Construcción del Dataset de Productos</a></span><ul class=\"toc-item\"><li><span><a href=\"#Lectura-de-los-Datos\" data-toc-modified-id=\"Lectura-de-los-Datos-2.1.1\"><span class=\"toc-item-num\">2.1.1&nbsp;&nbsp;</span>Lectura de los Datos</a></span></li><li><span><a href=\"#Transformación-de-los-Datos\" data-toc-modified-id=\"Transformación-de-los-Datos-2.1.2\"><span class=\"toc-item-num\">2.1.2&nbsp;&nbsp;</span>Transformación de los Datos</a></span></li></ul></li></ul></li><li><span><a href=\"#Caracterización-General:-Descuentos\" data-toc-modified-id=\"Caracterización-General:-Descuentos-3\"><span class=\"toc-item-num\">3&nbsp;&nbsp;</span>Caracterización General: Descuentos</a></span></li></ul></div>"
   ]
  },
  {
   "cell_type": "markdown",
   "metadata": {},
   "source": [
    "# Pulling Data - Mercado Libre API\n",
    "\n",
    "El propósito de este notebook es realizar el primer paso del reto de DS y ML propuesto por el equipo Meli: Obtener los datos de ciertos productos a través de la [API](https://api.mercadolibre.com/) de Mercado Libre.\n",
    "\n",
    "En este notebook se establece la conexión con la API y se obtiene através del buscador de Mercado Libre ciertos productos para construir un dataset que será usuado tanto para la parte exploratoria como la del modelo de ML."
   ]
  },
  {
   "cell_type": "markdown",
   "metadata": {
    "heading_collapsed": true
   },
   "source": [
    "## Importar Librerías"
   ]
  },
  {
   "cell_type": "code",
   "execution_count": 141,
   "metadata": {
    "ExecuteTime": {
     "end_time": "2021-03-10T16:47:59.214961Z",
     "start_time": "2021-03-10T16:47:59.210856Z"
    },
    "hidden": true
   },
   "outputs": [
    {
     "data": {
      "text/html": [
       "<style>div#notebook-container{width: 60%;}div#menubar-container{width: 65%;} div#maintoolbar-container{width: 99%;}</style>"
      ],
      "text/plain": [
       "<IPython.core.display.HTML object>"
      ]
     },
     "metadata": {},
     "output_type": "display_data"
    }
   ],
   "source": [
    "# Cambia el ancho de las celdas\n",
    "from IPython.display import HTML, display\n",
    "display(HTML(data=\"\"\"<style>div#notebook-container{width: 60%;}div#menubar-container{width: 65%;} div#maintoolbar-container{width: 99%;}</style>\"\"\"))"
   ]
  },
  {
   "cell_type": "code",
   "execution_count": 142,
   "metadata": {
    "ExecuteTime": {
     "end_time": "2021-03-10T16:47:59.758299Z",
     "start_time": "2021-03-10T16:47:59.754145Z"
    },
    "hidden": true
   },
   "outputs": [],
   "source": [
    "# Procesamiento de datos\n",
    "import os\n",
    "import re\n",
    "import pandas as pd\n",
    "import numpy as np\n",
    "import datetime as dt\n",
    "import itertools as it\n",
    "\n",
    "# Visualización\n",
    "import matplotlib.pyplot as plt\n",
    "import matplotlib.font_manager\n",
    "from matplotlib.ticker import PercentFormatter\n",
    "import chart_studio.plotly as py\n",
    "import plotly.graph_objs as go\n",
    "import plotly.express as px\n",
    "from plotly.subplots import make_subplots"
   ]
  },
  {
   "cell_type": "markdown",
   "metadata": {},
   "source": [
    "## Preprocesamiento de Datos\n",
    "\n",
    "En esta sección se realiza un proceso general de limpieza y organización de los datos previo a la exploración de los datos."
   ]
  },
  {
   "cell_type": "markdown",
   "metadata": {
    "heading_collapsed": true
   },
   "source": [
    "### Construcción del Dataset de Productos"
   ]
  },
  {
   "cell_type": "markdown",
   "metadata": {
    "hidden": true
   },
   "source": [
    "#### Lectura de los Datos\n",
    " \n",
    "En esta subsección se leen el dataset de productos, se imprimen sus dimensiones, sus columnas y se mencionan sus tipos de variables."
   ]
  },
  {
   "cell_type": "code",
   "execution_count": 186,
   "metadata": {
    "ExecuteTime": {
     "end_time": "2021-03-10T23:46:55.183490Z",
     "start_time": "2021-03-10T23:46:55.036021Z"
    },
    "hidden": true
   },
   "outputs": [
    {
     "name": "stdout",
     "output_type": "stream",
     "text": [
      "LAS DIMENSIONES DE LA BASE DE PRODUCTOS SON: (14574, 50)\n"
     ]
    }
   ],
   "source": [
    "# Se lee el .csv con el datset construido\n",
    "products = pd.read_csv('../Data/Datasets/PRODUCTOS.csv')\n",
    "products.columns = products.columns.str.upper() # Pone los nombres de las columnas en mayusculas\n",
    "print('LAS DIMENSIONES DE LA BASE DE PRODUCTOS SON: {}'.format(products.shape))"
   ]
  },
  {
   "cell_type": "code",
   "execution_count": 187,
   "metadata": {
    "ExecuteTime": {
     "end_time": "2021-03-10T23:46:55.411603Z",
     "start_time": "2021-03-10T23:46:55.407782Z"
    },
    "hidden": true
   },
   "outputs": [
    {
     "data": {
      "text/plain": [
       "Index(['ITEM_ID', 'ITEM_SITE_ID', 'ITEM_TITLE', 'ITEM_PRICE',\n",
       "       'ITEM_SALE_PRICE', 'ITEM_CURRENCY_ID', 'ITEM_AVAILABLE_QUANTITY',\n",
       "       'ITEM_SOLD_QUANTITY', 'ITEM_BUYING_MODE', 'ITEM_LISTING_TYPE_ID',\n",
       "       'ITEM_STOP_TIME', 'ITEM_CONDITION', 'ITEM_PERMALINK', 'ITEM_THUMBNAIL',\n",
       "       'ITEM_THUMBNAIL_ID', 'ITEM_ACCEPTS_MERCADOPAGO', 'ITEM_ORIGINAL_PRICE',\n",
       "       'ITEM_CATEGORY_ID', 'ITEM_OFFICIAL_STORE_ID', 'ITEM_DOMAIN_ID',\n",
       "       'ITEM_CATALOG_PRODUCT_ID', 'ITEM_ORDER_BACKEND',\n",
       "       'ITEM_USE_THUMBNAIL_ID', 'SEARCH_CATEGORY_ID', 'SEARCH_CATEGORY_NAME',\n",
       "       'SEARCH_OFFSET', 'SELLER_ID', 'SELLER_REP_TRANSACTIONS_TOTAL',\n",
       "       'SELLER_REP_TRANSACTIONS_CANCELED', 'SELLER_REP_RATING_NEG',\n",
       "       'SELLER_REP_RATING_POS', 'SELLER_REP_RATING_NEU',\n",
       "       'SELLER_TRANSACTIONS_COMPLETED', 'SELLER_STATUS',\n",
       "       'SELLER_METRICS_CLAIMS_RATE', 'SELLER_METRICS_CLAIMS_VALUE',\n",
       "       'SELLER_METRICS_CLAIMS_PERIOD', 'SELLER_METRICS_DELAY_RATE',\n",
       "       'SELLER_METRICS_DELAY_VALUE', 'SELLER_METRICS_DELAY_PERIOD',\n",
       "       'SELLER_METRICS_SALES_PERIOD', 'SELLER_METRICS_SALES_COMPLETED',\n",
       "       'SELLER_METRICS_CANCELLATIONS_PERIOD',\n",
       "       'SELLER_METRICS_CANCELLATIONS_RATE',\n",
       "       'SELLER_METRICS_CANCELLATIONS_VALUE', 'SELLER_LEVEL_ID',\n",
       "       'SHIPPING_FREE', 'SHIPPING_LOGISTIC_TYPE', 'SHIPPING_PICK_UP',\n",
       "       'ADRESS_STATE_ID'],\n",
       "      dtype='object')"
      ]
     },
     "execution_count": 187,
     "metadata": {},
     "output_type": "execute_result"
    }
   ],
   "source": [
    "# Printea la columnas del dataset\n",
    "products.columns"
   ]
  },
  {
   "cell_type": "markdown",
   "metadata": {
    "ExecuteTime": {
     "end_time": "2021-03-09T23:49:05.788278Z",
     "start_time": "2021-03-09T23:49:05.710669Z"
    },
    "hidden": true
   },
   "source": [
    "Se puede ver claramente que se encuentran los siguientes tipos de variables:\n",
    "    \n",
    "1. Tipo `ITEM`: Variables asociadas al ítem.\n",
    "\n",
    "\n",
    "2. Tipo `SELLER`: Variables asociadas al vendedor.\n",
    "\n",
    "\n",
    "3. Tipo `SHIPPING`: Variables asociadas al envío.\n",
    "\n",
    "\n",
    "4. Tipo `ADRESS`: Variable que indica el departamento donde se encuentra el ítem.\n",
    "\n",
    "\n",
    "5. Tipo `SEARCH`: Variables asociadas a la búsqueda: categoría y offset."
   ]
  },
  {
   "cell_type": "markdown",
   "metadata": {
    "hidden": true
   },
   "source": [
    "#### Transformación de los Datos\n",
    "\n",
    "En esta subsección se arreglan, limpian y transforman el dataset de productos."
   ]
  },
  {
   "cell_type": "code",
   "execution_count": 188,
   "metadata": {
    "ExecuteTime": {
     "end_time": "2021-03-10T23:46:57.137598Z",
     "start_time": "2021-03-10T23:46:57.127903Z"
    },
    "hidden": true
   },
   "outputs": [],
   "source": [
    "# Arreglo a la ADRESS_STATE_ID: para algunos productos el ADRESS_STATE_ID hay que arreglar su dato\n",
    "# Se uso el ITEM_PERMALINK para entender cual era el verdadero dato de ADRESS_STATE_ID\n",
    "cambios_de_direccion = {\n",
    "                        'TUNPUEJPR1gxMDljZA': 'CO-DC', \n",
    "                        'TUNPUEFOVGFiZWI3': 'CO-ANT ',\n",
    "                        'TUNPUENVTmE3NmQ4': 'CO-CUN',\n",
    "                        'TUNPUFZBTGExNmNjNg': 'CO-VAC',\n",
    "                        'TUNPUFJJU2ExMWIyYg': 'CO-RIS',\n",
    "                        'TUNPUEFUTG9mNDk5': 'CO-ATL',\n",
    "                        'TUNPUFRPTGExNGZkNA': 'CO-TOL',\n",
    "                        'TUNPUFNBTnJlMjMw': 'CO-SAN',\n",
    "                        'TUNPUEJPTHI1Mzlk': 'CO-BOL',\n",
    "                        'TUNPUE1BR2FiZjQ0': 'CO-MAG',\n",
    "                        'TUNPUENBTHNjODY4': 'CO-CAL',\n",
    "                        'TUNPUE1FVGExNzFjNQ': 'CO-MET',\n",
    "                        'TUNPUFFVSW9kYmZm': 'CO-QUI',\n",
    "                        'TUNPUE5PUnIxNDkyZg': 'CO-NSA', \n",
    "                        'TUNPUEFSQ2E4Zjc3': 'CO-SAP',\n",
    "                        'TUNPUEJPWWE4YzMz': 'CO-BOY',\n",
    "                        'TUNPUENBVWExM2Q1NQ': 'CO-CAU',\n",
    "                        'TUNPUENPUmFkZGIw': 'CO-COR',\n",
    "                        'TUNPUEdVQWExOTYx': 'CO-LAG',\n",
    "                        'TUNPUE5BUm8xYzk4': 'CO-NAR', \n",
    "                        'TUNPUFNVQ2U4ZWQ0': 'CO-SUC',\n",
    "                        'TUNPUENBU2U2OWIy': 'CO-CAS',\n",
    "                        'TUNPUENFU3IxODA4Mg': 'CO-CES',\n",
    "                        'TUNPUEFNQXMxMzQ2YQ': 'CO-AMA'\n",
    "                       }\n",
    "\n",
    "# Arregla un error que se detecto en las direcciones\n",
    "products.loc[products['ADRESS_STATE_ID'].isin(cambios_de_direccion.keys()), 'ADRESS_STATE_ID'] = \\\n",
    "products.loc[products['ADRESS_STATE_ID'].isin(cambios_de_direccion.keys()), 'ADRESS_STATE_ID'].map(cambios_de_direccion)"
   ]
  },
  {
   "cell_type": "code",
   "execution_count": 189,
   "metadata": {
    "ExecuteTime": {
     "end_time": "2021-03-10T23:46:57.985042Z",
     "start_time": "2021-03-10T23:46:57.960627Z"
    },
    "hidden": true
   },
   "outputs": [],
   "source": [
    "## Ajuste a la condicion del item\n",
    "\n",
    "# Se cambia nan por not_specified\n",
    "products.loc[products['ITEM_CONDITION'].isna(), 'ITEM_CONDITION'] = 'not_specified'\n",
    "\n",
    "# Ajustes al precio \n",
    "\n",
    "# Se quitan productos que no tienen precio (generalmente precio a convenir)\n",
    "# Es decir este analisis aplica para productos con precio fijo\n",
    "products = products.loc[~products['ITEM_PRICE'].isna()]\n",
    "products.reset_index(drop=True, inplace=True)\n",
    "\n",
    "# Se encontro en google la tasa de cambio de dolar a cop el dia 7 de marzo (cuando se descargaron los datos)\n",
    "exchange_rate_usd_to_cop = 3142.99 \n",
    "products.loc[products['ITEM_CURRENCY_ID'] == 'USD', 'ITEM_PRICE'] *= exchange_rate_usd_to_cop\n",
    "products.loc[products['ITEM_CURRENCY_ID'] == 'USD', 'ITEM_CURRENCY_ID'] = 'COP'\n",
    "\n",
    "# Cambia ITEM_ORIGINAL_PRICE por el ITEM_PRICE como se indica en el documento\n",
    "products.loc[products['ITEM_ORIGINAL_PRICE'].isna(), 'ITEM_ORIGINAL_PRICE'] = \\\n",
    "products.loc[products['ITEM_ORIGINAL_PRICE'].isna(), 'ITEM_PRICE']\n",
    "\n",
    "# Crea las variables de descuento absoluto y la tasa\n",
    "products['ITEM_DISCOUNT_VALUE'] = products['ITEM_ORIGINAL_PRICE'] - products['ITEM_PRICE']\n",
    "products['ITEM_DISCOUNT_RATE'] = products['ITEM_DISCOUNT_VALUE']/products['ITEM_ORIGINAL_PRICE']\n",
    "\n",
    "# Crea la variable de venta total: This is an approximation\n",
    "products['ITEM_SELL_TOTAL'] = products['ITEM_PRICE']*products['ITEM_SOLD_QUANTITY']"
   ]
  },
  {
   "cell_type": "code",
   "execution_count": 190,
   "metadata": {
    "ExecuteTime": {
     "end_time": "2021-03-10T23:46:58.696203Z",
     "start_time": "2021-03-10T23:46:58.657468Z"
    },
    "hidden": true
   },
   "outputs": [],
   "source": [
    "## Ajuste a variables del vendedor\n",
    "\n",
    "# Cambio de nan to not_specified para SELLER_STATUS\n",
    "products.loc[products['SELLER_STATUS'].isna(), 'SELLER_STATUS'] = 'not_specified'\n",
    "products.loc[products['SELLER_LEVEL_ID'].isna(), 'SELLER_LEVEL_ID'] = 'not_specified'\n",
    "\n",
    "# Cambio nan to 0 para SELLER_METRICS_SALES_PERIOD\n",
    "products.loc[products['SELLER_METRICS_SALES_PERIOD'].isna(), 'SELLER_METRICS_SALES_COMPLETED'] = 0\n",
    "products.loc[products['SELLER_METRICS_SALES_PERIOD'].isna(), 'SELLER_METRICS_SALES_PERIOD'] = '60 days'\n",
    "products.loc[products['SELLER_METRICS_SALES_PERIOD'] == '60 months', 'SELLER_METRICS_SALES_COMPLETED'] *= (60/(30*60))\n",
    "products.loc[products['SELLER_METRICS_SALES_PERIOD'] == '3 months', 'SELLER_METRICS_SALES_COMPLETED'] *= (60/90)\n",
    "products.loc[products['SELLER_METRICS_SALES_PERIOD'] == '365 days', 'SELLER_METRICS_SALES_COMPLETED'] *= (60/365)\n",
    "products['SELLER_METRICS_SALES_PERIOD'] = '60 days'\n",
    "\n",
    "# Estandarizacion de las metricas absolutas del vendedor (por periodo de tiempo)\n",
    "\n",
    "# Cancelaciones \n",
    "products.loc[products['SELLER_METRICS_CANCELLATIONS_PERIOD'] == '60 months', 'SELLER_METRICS_CANCELLATIONS_VALUE'] *= (60/(30*60))\n",
    "products.loc[products['SELLER_METRICS_CANCELLATIONS_PERIOD'] == '3 months', 'SELLER_METRICS_CANCELLATIONS_VALUE'] *= (60/90)\n",
    "products.loc[products['SELLER_METRICS_CANCELLATIONS_PERIOD'] == '365 days', 'SELLER_METRICS_CANCELLATIONS_VALUE'] *= (60/365)\n",
    "products['SELLER_METRICS_CANCELLATIONS_PERIOD'] = '60 days'\n",
    "\n",
    "# Quejas \n",
    "products.loc[products['SELLER_METRICS_CLAIMS_PERIOD'] == '60 months', 'SELLER_METRICS_CLAIMS_VALUE'] *= (60/(30*60))\n",
    "products.loc[products['SELLER_METRICS_CLAIMS_PERIOD'] == '3 months', 'SELLER_METRICS_CLAIMS_VALUE'] *= (60/90)\n",
    "products.loc[products['SELLER_METRICS_CLAIMS_PERIOD'] == '365 days', 'SELLER_METRICS_CLAIMS_VALUE'] *= (60/365)\n",
    "products['SELLER_METRICS_CLAIMS_PERIOD'] = '60 days'\n",
    "\n",
    "# Demoras \n",
    "products.loc[products['SELLER_METRICS_DELAY_PERIOD'] == '60 months', 'SELLER_METRICS_DELAY_VALUE'] *= (60/(30*60))\n",
    "products.loc[products['SELLER_METRICS_DELAY_PERIOD'] == '3 months', 'SELLER_METRICS_DELAY_VALUE'] *= (60/90)\n",
    "products.loc[products['SELLER_METRICS_DELAY_PERIOD'] == '365 days', 'SELLER_METRICS_DELAY_VALUE'] *= (60/365)\n",
    "products['SELLER_METRICS_DELAY_PERIOD'] = '60 days'\n",
    "\n",
    "## Ajustes a variables del shipping/envio\n",
    "\n",
    "# Cambio de nan to not_specified para SHIPPING_LOGISTIC_TYPE\n",
    "products.loc[products['SHIPPING_LOGISTIC_TYPE'].isna(), 'SHIPPING_LOGISTIC_TYPE'] = 'not_specified'"
   ]
  },
  {
   "cell_type": "code",
   "execution_count": 205,
   "metadata": {
    "ExecuteTime": {
     "end_time": "2021-03-11T00:07:45.534401Z",
     "start_time": "2021-03-11T00:07:45.526014Z"
    },
    "hidden": true
   },
   "outputs": [
    {
     "name": "stdout",
     "output_type": "stream",
     "text": [
      "LAS DIMENSIONES DE LOS PRODUCTOS CON DESCUENTOS SON: (988, 53)\n"
     ]
    }
   ],
   "source": [
    "# Crea un dataframe con los productos que tienen descuentos\n",
    "discount_products = products.copy()\n",
    "discount_products = discount_products.loc[discount_products['ITEM_DISCOUNT_VALUE'] > 0].reset_index(drop=True)\n",
    "print('LAS DIMENSIONES DE LOS PRODUCTOS CON DESCUENTOS SON: {}'.format(discount_products.shape))"
   ]
  },
  {
   "cell_type": "markdown",
   "metadata": {},
   "source": [
    "## Caracterización General: Descuentos\n",
    "\n",
    "En esta sección se tratan de encontrar las principales métricas, findings e insights de manera general sobre los descuentos."
   ]
  },
  {
   "cell_type": "code",
   "execution_count": 206,
   "metadata": {
    "ExecuteTime": {
     "end_time": "2021-03-11T00:07:46.845349Z",
     "start_time": "2021-03-11T00:07:46.841924Z"
    }
   },
   "outputs": [
    {
     "name": "stdout",
     "output_type": "stream",
     "text": [
      "EN TOTAL HAY 988 PRODUCTOS QUE TIENEN DESCUENTO \n",
      "\n",
      "LO QUE CORRESPONDE A UN 6.93% DEL TOTAL DE PRODUCTOS EN EL DATASET\n"
     ]
    }
   ],
   "source": [
    "# Cuantos productos y que porcentaje es del total obtenido (la muestra que se construyo) tienen descuentos\n",
    "print('EN TOTAL HAY {} PRODUCTOS QUE TIENEN DESCUENTO'.format(discount_products.shape[0]), '\\n')\n",
    "print('LO QUE CORRESPONDE A UN {}% DEL TOTAL DE PRODUCTOS EN EL DATASET'.format(np.round(discount_products.shape[0]/products.shape[0]*100, 2)))"
   ]
  },
  {
   "cell_type": "markdown",
   "metadata": {
    "ExecuteTime": {
     "end_time": "2021-03-10T23:54:32.038696Z",
     "start_time": "2021-03-10T23:54:32.033416Z"
    }
   },
   "source": [
    "Recordemos que teníamos __14256__ productos (después de hacer algunos filtrados generales) y de estos __988__ (el __6.93%__) tenían descuento. Un porcentaje que debería ser muy diferente por categoría. Así que continuemos con el análisis:"
   ]
  },
  {
   "cell_type": "code",
   "execution_count": 218,
   "metadata": {
    "ExecuteTime": {
     "end_time": "2021-03-11T00:16:30.365736Z",
     "start_time": "2021-03-11T00:16:30.340139Z"
    }
   },
   "outputs": [
    {
     "data": {
      "text/html": [
       "<div>\n",
       "<style scoped>\n",
       "    .dataframe tbody tr th:only-of-type {\n",
       "        vertical-align: middle;\n",
       "    }\n",
       "\n",
       "    .dataframe tbody tr th {\n",
       "        vertical-align: top;\n",
       "    }\n",
       "\n",
       "    .dataframe thead th {\n",
       "        text-align: right;\n",
       "    }\n",
       "</style>\n",
       "<table border=\"1\" class=\"dataframe\">\n",
       "  <thead>\n",
       "    <tr style=\"text-align: right;\">\n",
       "      <th></th>\n",
       "      <th>SEARCH_CATEGORY_NAME</th>\n",
       "      <th>ITEM_ID</th>\n",
       "      <th>ITEM_ID_WITH_DISCOUNT</th>\n",
       "      <th>PORCENTAJE_DE_ITEMS_CON_DESCUENTO</th>\n",
       "    </tr>\n",
       "  </thead>\n",
       "  <tbody>\n",
       "    <tr>\n",
       "      <th>0</th>\n",
       "      <td>Electrodomésticos</td>\n",
       "      <td>461</td>\n",
       "      <td>132.0</td>\n",
       "      <td>28.633406</td>\n",
       "    </tr>\n",
       "    <tr>\n",
       "      <th>1</th>\n",
       "      <td>Juegos y Juguetes</td>\n",
       "      <td>460</td>\n",
       "      <td>117.0</td>\n",
       "      <td>25.434783</td>\n",
       "    </tr>\n",
       "    <tr>\n",
       "      <th>2</th>\n",
       "      <td>Celulares y Teléfonos</td>\n",
       "      <td>481</td>\n",
       "      <td>114.0</td>\n",
       "      <td>23.700624</td>\n",
       "    </tr>\n",
       "    <tr>\n",
       "      <th>3</th>\n",
       "      <td>Electrónica, Audio y Video</td>\n",
       "      <td>403</td>\n",
       "      <td>82.0</td>\n",
       "      <td>20.347395</td>\n",
       "    </tr>\n",
       "    <tr>\n",
       "      <th>4</th>\n",
       "      <td>Deportes y Fitness</td>\n",
       "      <td>472</td>\n",
       "      <td>76.0</td>\n",
       "      <td>16.101695</td>\n",
       "    </tr>\n",
       "    <tr>\n",
       "      <th>5</th>\n",
       "      <td>Accesorios para Vehículos</td>\n",
       "      <td>496</td>\n",
       "      <td>53.0</td>\n",
       "      <td>10.685484</td>\n",
       "    </tr>\n",
       "    <tr>\n",
       "      <th>6</th>\n",
       "      <td>Computación</td>\n",
       "      <td>479</td>\n",
       "      <td>49.0</td>\n",
       "      <td>10.229645</td>\n",
       "    </tr>\n",
       "    <tr>\n",
       "      <th>7</th>\n",
       "      <td>Consolas y Videojuegos</td>\n",
       "      <td>495</td>\n",
       "      <td>42.0</td>\n",
       "      <td>8.484848</td>\n",
       "    </tr>\n",
       "    <tr>\n",
       "      <th>8</th>\n",
       "      <td>Herramientas y Construcción</td>\n",
       "      <td>467</td>\n",
       "      <td>38.0</td>\n",
       "      <td>8.137045</td>\n",
       "    </tr>\n",
       "    <tr>\n",
       "      <th>9</th>\n",
       "      <td>Ropa y Accesorios</td>\n",
       "      <td>471</td>\n",
       "      <td>31.0</td>\n",
       "      <td>6.581741</td>\n",
       "    </tr>\n",
       "    <tr>\n",
       "      <th>10</th>\n",
       "      <td>Alimentos y Bebidas</td>\n",
       "      <td>500</td>\n",
       "      <td>31.0</td>\n",
       "      <td>6.200000</td>\n",
       "    </tr>\n",
       "    <tr>\n",
       "      <th>11</th>\n",
       "      <td>Belleza y Cuidado Personal</td>\n",
       "      <td>452</td>\n",
       "      <td>27.0</td>\n",
       "      <td>5.973451</td>\n",
       "    </tr>\n",
       "    <tr>\n",
       "      <th>12</th>\n",
       "      <td>Hogar y Muebles</td>\n",
       "      <td>432</td>\n",
       "      <td>25.0</td>\n",
       "      <td>5.787037</td>\n",
       "    </tr>\n",
       "    <tr>\n",
       "      <th>13</th>\n",
       "      <td>Relojes y Joyas</td>\n",
       "      <td>496</td>\n",
       "      <td>28.0</td>\n",
       "      <td>5.645161</td>\n",
       "    </tr>\n",
       "    <tr>\n",
       "      <th>14</th>\n",
       "      <td>Instrumentos Musicales</td>\n",
       "      <td>459</td>\n",
       "      <td>23.0</td>\n",
       "      <td>5.010893</td>\n",
       "    </tr>\n",
       "    <tr>\n",
       "      <th>15</th>\n",
       "      <td>Arte, Papelería y Mercería</td>\n",
       "      <td>482</td>\n",
       "      <td>22.0</td>\n",
       "      <td>4.564315</td>\n",
       "    </tr>\n",
       "    <tr>\n",
       "      <th>16</th>\n",
       "      <td>Cámaras y Accesorios</td>\n",
       "      <td>494</td>\n",
       "      <td>21.0</td>\n",
       "      <td>4.251012</td>\n",
       "    </tr>\n",
       "    <tr>\n",
       "      <th>17</th>\n",
       "      <td>Agro</td>\n",
       "      <td>472</td>\n",
       "      <td>20.0</td>\n",
       "      <td>4.237288</td>\n",
       "    </tr>\n",
       "    <tr>\n",
       "      <th>18</th>\n",
       "      <td>Bebés</td>\n",
       "      <td>472</td>\n",
       "      <td>17.0</td>\n",
       "      <td>3.601695</td>\n",
       "    </tr>\n",
       "    <tr>\n",
       "      <th>19</th>\n",
       "      <td>Salud y Equipamiento Médico</td>\n",
       "      <td>355</td>\n",
       "      <td>11.0</td>\n",
       "      <td>3.098592</td>\n",
       "    </tr>\n",
       "    <tr>\n",
       "      <th>20</th>\n",
       "      <td>Industrias y Oficinas</td>\n",
       "      <td>381</td>\n",
       "      <td>10.0</td>\n",
       "      <td>2.624672</td>\n",
       "    </tr>\n",
       "    <tr>\n",
       "      <th>21</th>\n",
       "      <td>Libros, Revistas y Comics</td>\n",
       "      <td>500</td>\n",
       "      <td>13.0</td>\n",
       "      <td>2.600000</td>\n",
       "    </tr>\n",
       "    <tr>\n",
       "      <th>22</th>\n",
       "      <td>Animales y Mascotas</td>\n",
       "      <td>498</td>\n",
       "      <td>5.0</td>\n",
       "      <td>1.004016</td>\n",
       "    </tr>\n",
       "    <tr>\n",
       "      <th>23</th>\n",
       "      <td>Antigüedades y Colecciones</td>\n",
       "      <td>499</td>\n",
       "      <td>1.0</td>\n",
       "      <td>0.200401</td>\n",
       "    </tr>\n",
       "    <tr>\n",
       "      <th>24</th>\n",
       "      <td>Inmuebles</td>\n",
       "      <td>490</td>\n",
       "      <td>0.0</td>\n",
       "      <td>0.000000</td>\n",
       "    </tr>\n",
       "    <tr>\n",
       "      <th>25</th>\n",
       "      <td>Música, Películas y Series</td>\n",
       "      <td>498</td>\n",
       "      <td>0.0</td>\n",
       "      <td>0.000000</td>\n",
       "    </tr>\n",
       "    <tr>\n",
       "      <th>26</th>\n",
       "      <td>Otras categorías</td>\n",
       "      <td>499</td>\n",
       "      <td>0.0</td>\n",
       "      <td>0.000000</td>\n",
       "    </tr>\n",
       "    <tr>\n",
       "      <th>27</th>\n",
       "      <td>Recuerdos, Piñatería y Fiestas</td>\n",
       "      <td>500</td>\n",
       "      <td>0.0</td>\n",
       "      <td>0.000000</td>\n",
       "    </tr>\n",
       "    <tr>\n",
       "      <th>28</th>\n",
       "      <td>Carros, Motos y Otros</td>\n",
       "      <td>481</td>\n",
       "      <td>0.0</td>\n",
       "      <td>0.000000</td>\n",
       "    </tr>\n",
       "    <tr>\n",
       "      <th>29</th>\n",
       "      <td>Boletas para Espectáculos</td>\n",
       "      <td>444</td>\n",
       "      <td>0.0</td>\n",
       "      <td>0.000000</td>\n",
       "    </tr>\n",
       "    <tr>\n",
       "      <th>30</th>\n",
       "      <td>Servicios</td>\n",
       "      <td>167</td>\n",
       "      <td>0.0</td>\n",
       "      <td>0.000000</td>\n",
       "    </tr>\n",
       "  </tbody>\n",
       "</table>\n",
       "</div>"
      ],
      "text/plain": [
       "              SEARCH_CATEGORY_NAME  ITEM_ID  ITEM_ID_WITH_DISCOUNT  \\\n",
       "0                Electrodomésticos      461                  132.0   \n",
       "1                Juegos y Juguetes      460                  117.0   \n",
       "2            Celulares y Teléfonos      481                  114.0   \n",
       "3       Electrónica, Audio y Video      403                   82.0   \n",
       "4               Deportes y Fitness      472                   76.0   \n",
       "5        Accesorios para Vehículos      496                   53.0   \n",
       "6                      Computación      479                   49.0   \n",
       "7           Consolas y Videojuegos      495                   42.0   \n",
       "8      Herramientas y Construcción      467                   38.0   \n",
       "9                Ropa y Accesorios      471                   31.0   \n",
       "10             Alimentos y Bebidas      500                   31.0   \n",
       "11      Belleza y Cuidado Personal      452                   27.0   \n",
       "12                 Hogar y Muebles      432                   25.0   \n",
       "13                 Relojes y Joyas      496                   28.0   \n",
       "14          Instrumentos Musicales      459                   23.0   \n",
       "15      Arte, Papelería y Mercería      482                   22.0   \n",
       "16            Cámaras y Accesorios      494                   21.0   \n",
       "17                            Agro      472                   20.0   \n",
       "18                           Bebés      472                   17.0   \n",
       "19     Salud y Equipamiento Médico      355                   11.0   \n",
       "20           Industrias y Oficinas      381                   10.0   \n",
       "21       Libros, Revistas y Comics      500                   13.0   \n",
       "22             Animales y Mascotas      498                    5.0   \n",
       "23      Antigüedades y Colecciones      499                    1.0   \n",
       "24                       Inmuebles      490                    0.0   \n",
       "25      Música, Películas y Series      498                    0.0   \n",
       "26                Otras categorías      499                    0.0   \n",
       "27  Recuerdos, Piñatería y Fiestas      500                    0.0   \n",
       "28           Carros, Motos y Otros      481                    0.0   \n",
       "29       Boletas para Espectáculos      444                    0.0   \n",
       "30                       Servicios      167                    0.0   \n",
       "\n",
       "    PORCENTAJE_DE_ITEMS_CON_DESCUENTO  \n",
       "0                           28.633406  \n",
       "1                           25.434783  \n",
       "2                           23.700624  \n",
       "3                           20.347395  \n",
       "4                           16.101695  \n",
       "5                           10.685484  \n",
       "6                           10.229645  \n",
       "7                            8.484848  \n",
       "8                            8.137045  \n",
       "9                            6.581741  \n",
       "10                           6.200000  \n",
       "11                           5.973451  \n",
       "12                           5.787037  \n",
       "13                           5.645161  \n",
       "14                           5.010893  \n",
       "15                           4.564315  \n",
       "16                           4.251012  \n",
       "17                           4.237288  \n",
       "18                           3.601695  \n",
       "19                           3.098592  \n",
       "20                           2.624672  \n",
       "21                           2.600000  \n",
       "22                           1.004016  \n",
       "23                           0.200401  \n",
       "24                           0.000000  \n",
       "25                           0.000000  \n",
       "26                           0.000000  \n",
       "27                           0.000000  \n",
       "28                           0.000000  \n",
       "29                           0.000000  \n",
       "30                           0.000000  "
      ]
     },
     "execution_count": 218,
     "metadata": {},
     "output_type": "execute_result"
    }
   ],
   "source": [
    "# Genera un dataset con el total de items por categoria, el total de items con descuento por categoria\n",
    "# y el porcentaje de items con descuento por categoria\n",
    "products_per_category = products.groupby(['SEARCH_CATEGORY_NAME'])[['ITEM_ID']].count().reset_index()\n",
    "discount_products_per_category = discount_products.groupby(['SEARCH_CATEGORY_NAME'])[['ITEM_ID']].count().reset_index()\n",
    "\n",
    "percentage_discounts_per_category = pd.merge(products_per_category, discount_products_per_category, on='SEARCH_CATEGORY_NAME',\n",
    "                                             suffixes=('', '_WITH_DISCOUNT'), how='left').fillna(0)\n",
    "percentage_discounts_per_category['PORCENTAJE_DE_ITEMS_CON_DESCUENTO'] = percentage_discounts_per_category['ITEM_ID_WITH_DISCOUNT']\n",
    "percentage_discounts_per_category['PORCENTAJE_DE_ITEMS_CON_DESCUENTO'] /= percentage_discounts_per_category['ITEM_ID']\n",
    "percentage_discounts_per_category['PORCENTAJE_DE_ITEMS_CON_DESCUENTO'] *= 100 # Llevalo a de 0 a 100\n",
    "percentage_discounts_per_category.sort_values(by='PORCENTAJE_DE_ITEMS_CON_DESCUENTO', ascending=False).reset_index(drop=True)"
   ]
  },
  {
   "cell_type": "code",
   "execution_count": 221,
   "metadata": {
    "ExecuteTime": {
     "end_time": "2021-03-11T00:24:00.049617Z",
     "start_time": "2021-03-11T00:24:00.046426Z"
    }
   },
   "outputs": [
    {
     "name": "stdout",
     "output_type": "stream",
     "text": [
      "CATEGORIAS QUE LIDERAN EN CUANTO AL PORCENTAJE DE ITEMS CON DESCUENTO: ['Accesorios para Vehículos', 'Agro', 'Alimentos y Bebidas', 'Animales y Mascotas', 'Antigüedades y Colecciones', 'Arte, Papelería y Mercería', 'Bebés', 'Belleza y Cuidado Personal', 'Boletas para Espectáculos', 'Carros, Motos y Otros', 'Celulares y Teléfonos']\n"
     ]
    }
   ],
   "source": [
    "# Se guarda el top 10 de categorias en cuanto al porcentaje de productos con descuento\n",
    "top_10_categorias = percentage_discounts_per_category.loc[0:10, 'SEARCH_CATEGORY_NAME'].tolist()\n",
    "print('CATEGORIAS QUE LIDERAN EN CUANTO AL PORCENTAJE DE ITEMS CON DESCUENTO:', top_10_categorias)"
   ]
  },
  {
   "cell_type": "markdown",
   "metadata": {},
   "source": [
    "Es claro que todas las categorías relacionadas a ítems de tecnología hacen parte de las categorías top en cuanto al porcentaje de productos ofertados con descuento, como por ejemplo:\n",
    "\n",
    "1. Electrodomésticos (28.63%).\n",
    "2. Celulares y Teléfonos (23.70%).\n",
    "3. Electrónica, Audio y Video (20.35%).\n",
    "4. Computación (10.23%).\n",
    "5. Consolas y Videojuegos (8.48%).\n",
    "\n",
    "En el top 10 aparecen también categorías como: \n",
    "\n",
    "1. Juegos y Juguetes (25.43%). \n",
    "2. Deportes y Fitness (16.10%).\n",
    "3. Accesorios para Vehículos (10.69%).\n",
    "4. Herramientas y Construcción (8.14%) .\n",
    "5. Ropa y Accesorios (6.58%).\n",
    "\n",
    "Pero ¿Será que este top 10 de categorías, ordenadas por el porcentaje de productos por descuentos, son las categorías que lideran la venta total ? Veamos."
   ]
  },
  {
   "cell_type": "code",
   "execution_count": 226,
   "metadata": {
    "ExecuteTime": {
     "end_time": "2021-03-11T00:51:51.174750Z",
     "start_time": "2021-03-11T00:51:51.161315Z"
    }
   },
   "outputs": [
    {
     "data": {
      "text/html": [
       "<div>\n",
       "<style scoped>\n",
       "    .dataframe tbody tr th:only-of-type {\n",
       "        vertical-align: middle;\n",
       "    }\n",
       "\n",
       "    .dataframe tbody tr th {\n",
       "        vertical-align: top;\n",
       "    }\n",
       "\n",
       "    .dataframe thead th {\n",
       "        text-align: right;\n",
       "    }\n",
       "</style>\n",
       "<table border=\"1\" class=\"dataframe\">\n",
       "  <thead>\n",
       "    <tr style=\"text-align: right;\">\n",
       "      <th></th>\n",
       "      <th>SEARCH_CATEGORY_NAME</th>\n",
       "      <th>ITEM_SELL_TOTAL</th>\n",
       "    </tr>\n",
       "  </thead>\n",
       "  <tbody>\n",
       "    <tr>\n",
       "      <th>0</th>\n",
       "      <td>Celulares y Teléfonos</td>\n",
       "      <td>2.358283e+10</td>\n",
       "    </tr>\n",
       "    <tr>\n",
       "      <th>1</th>\n",
       "      <td>Computación</td>\n",
       "      <td>2.136634e+10</td>\n",
       "    </tr>\n",
       "    <tr>\n",
       "      <th>2</th>\n",
       "      <td>Consolas y Videojuegos</td>\n",
       "      <td>1.776000e+10</td>\n",
       "    </tr>\n",
       "    <tr>\n",
       "      <th>3</th>\n",
       "      <td>Electrodomésticos</td>\n",
       "      <td>1.712423e+10</td>\n",
       "    </tr>\n",
       "    <tr>\n",
       "      <th>4</th>\n",
       "      <td>Deportes y Fitness</td>\n",
       "      <td>1.707067e+10</td>\n",
       "    </tr>\n",
       "    <tr>\n",
       "      <th>5</th>\n",
       "      <td>Electrónica, Audio y Video</td>\n",
       "      <td>1.394926e+10</td>\n",
       "    </tr>\n",
       "    <tr>\n",
       "      <th>6</th>\n",
       "      <td>Hogar y Muebles</td>\n",
       "      <td>1.150002e+10</td>\n",
       "    </tr>\n",
       "    <tr>\n",
       "      <th>7</th>\n",
       "      <td>Herramientas y Construcción</td>\n",
       "      <td>9.481478e+09</td>\n",
       "    </tr>\n",
       "    <tr>\n",
       "      <th>8</th>\n",
       "      <td>Industrias y Oficinas</td>\n",
       "      <td>8.007053e+09</td>\n",
       "    </tr>\n",
       "    <tr>\n",
       "      <th>9</th>\n",
       "      <td>Accesorios para Vehículos</td>\n",
       "      <td>7.851461e+09</td>\n",
       "    </tr>\n",
       "    <tr>\n",
       "      <th>10</th>\n",
       "      <td>Belleza y Cuidado Personal</td>\n",
       "      <td>6.686936e+09</td>\n",
       "    </tr>\n",
       "    <tr>\n",
       "      <th>11</th>\n",
       "      <td>Instrumentos Musicales</td>\n",
       "      <td>6.623546e+09</td>\n",
       "    </tr>\n",
       "    <tr>\n",
       "      <th>12</th>\n",
       "      <td>Salud y Equipamiento Médico</td>\n",
       "      <td>6.561079e+09</td>\n",
       "    </tr>\n",
       "    <tr>\n",
       "      <th>13</th>\n",
       "      <td>Cámaras y Accesorios</td>\n",
       "      <td>6.467063e+09</td>\n",
       "    </tr>\n",
       "    <tr>\n",
       "      <th>14</th>\n",
       "      <td>Juegos y Juguetes</td>\n",
       "      <td>5.799367e+09</td>\n",
       "    </tr>\n",
       "    <tr>\n",
       "      <th>15</th>\n",
       "      <td>Ropa y Accesorios</td>\n",
       "      <td>5.744024e+09</td>\n",
       "    </tr>\n",
       "    <tr>\n",
       "      <th>16</th>\n",
       "      <td>Bebés</td>\n",
       "      <td>5.514604e+09</td>\n",
       "    </tr>\n",
       "    <tr>\n",
       "      <th>17</th>\n",
       "      <td>Relojes y Joyas</td>\n",
       "      <td>4.612582e+09</td>\n",
       "    </tr>\n",
       "    <tr>\n",
       "      <th>18</th>\n",
       "      <td>Animales y Mascotas</td>\n",
       "      <td>4.134672e+09</td>\n",
       "    </tr>\n",
       "    <tr>\n",
       "      <th>19</th>\n",
       "      <td>Agro</td>\n",
       "      <td>3.575775e+09</td>\n",
       "    </tr>\n",
       "    <tr>\n",
       "      <th>20</th>\n",
       "      <td>Arte, Papelería y Mercería</td>\n",
       "      <td>2.367480e+09</td>\n",
       "    </tr>\n",
       "    <tr>\n",
       "      <th>21</th>\n",
       "      <td>Alimentos y Bebidas</td>\n",
       "      <td>1.523797e+09</td>\n",
       "    </tr>\n",
       "    <tr>\n",
       "      <th>22</th>\n",
       "      <td>Otras categorías</td>\n",
       "      <td>1.417177e+09</td>\n",
       "    </tr>\n",
       "    <tr>\n",
       "      <th>23</th>\n",
       "      <td>Libros, Revistas y Comics</td>\n",
       "      <td>1.077792e+09</td>\n",
       "    </tr>\n",
       "    <tr>\n",
       "      <th>24</th>\n",
       "      <td>Recuerdos, Piñatería y Fiestas</td>\n",
       "      <td>9.765268e+08</td>\n",
       "    </tr>\n",
       "    <tr>\n",
       "      <th>25</th>\n",
       "      <td>Antigüedades y Colecciones</td>\n",
       "      <td>3.122593e+08</td>\n",
       "    </tr>\n",
       "    <tr>\n",
       "      <th>26</th>\n",
       "      <td>Música, Películas y Series</td>\n",
       "      <td>1.561561e+08</td>\n",
       "    </tr>\n",
       "    <tr>\n",
       "      <th>27</th>\n",
       "      <td>Boletas para Espectáculos</td>\n",
       "      <td>8.854457e+07</td>\n",
       "    </tr>\n",
       "    <tr>\n",
       "      <th>28</th>\n",
       "      <td>Carros, Motos y Otros</td>\n",
       "      <td>0.000000e+00</td>\n",
       "    </tr>\n",
       "    <tr>\n",
       "      <th>29</th>\n",
       "      <td>Inmuebles</td>\n",
       "      <td>0.000000e+00</td>\n",
       "    </tr>\n",
       "    <tr>\n",
       "      <th>30</th>\n",
       "      <td>Servicios</td>\n",
       "      <td>0.000000e+00</td>\n",
       "    </tr>\n",
       "  </tbody>\n",
       "</table>\n",
       "</div>"
      ],
      "text/plain": [
       "              SEARCH_CATEGORY_NAME  ITEM_SELL_TOTAL\n",
       "0            Celulares y Teléfonos     2.358283e+10\n",
       "1                      Computación     2.136634e+10\n",
       "2           Consolas y Videojuegos     1.776000e+10\n",
       "3                Electrodomésticos     1.712423e+10\n",
       "4               Deportes y Fitness     1.707067e+10\n",
       "5       Electrónica, Audio y Video     1.394926e+10\n",
       "6                  Hogar y Muebles     1.150002e+10\n",
       "7      Herramientas y Construcción     9.481478e+09\n",
       "8            Industrias y Oficinas     8.007053e+09\n",
       "9        Accesorios para Vehículos     7.851461e+09\n",
       "10      Belleza y Cuidado Personal     6.686936e+09\n",
       "11          Instrumentos Musicales     6.623546e+09\n",
       "12     Salud y Equipamiento Médico     6.561079e+09\n",
       "13            Cámaras y Accesorios     6.467063e+09\n",
       "14               Juegos y Juguetes     5.799367e+09\n",
       "15               Ropa y Accesorios     5.744024e+09\n",
       "16                           Bebés     5.514604e+09\n",
       "17                 Relojes y Joyas     4.612582e+09\n",
       "18             Animales y Mascotas     4.134672e+09\n",
       "19                            Agro     3.575775e+09\n",
       "20      Arte, Papelería y Mercería     2.367480e+09\n",
       "21             Alimentos y Bebidas     1.523797e+09\n",
       "22                Otras categorías     1.417177e+09\n",
       "23       Libros, Revistas y Comics     1.077792e+09\n",
       "24  Recuerdos, Piñatería y Fiestas     9.765268e+08\n",
       "25      Antigüedades y Colecciones     3.122593e+08\n",
       "26      Música, Películas y Series     1.561561e+08\n",
       "27       Boletas para Espectáculos     8.854457e+07\n",
       "28           Carros, Motos y Otros     0.000000e+00\n",
       "29                       Inmuebles     0.000000e+00\n",
       "30                       Servicios     0.000000e+00"
      ]
     },
     "execution_count": 226,
     "metadata": {},
     "output_type": "execute_result"
    }
   ],
   "source": [
    "# Se ordenan las categorias por venta total (cantidad*precio)\n",
    "# No olvidemos que sold_quantity es una aproximacion y que realmente hace parte de un rango, pero nos da \n",
    "# una referencia de cuando vende en dinero cada item\n",
    "products.groupby('SEARCH_CATEGORY_NAME')[['ITEM_SELL_TOTAL']].sum().sort_values(by='ITEM_SELL_TOTAL', ascending=False).reset_index()"
   ]
  },
  {
   "cell_type": "markdown",
   "metadata": {},
   "source": [
    "# Fin del Documento"
   ]
  },
  {
   "cell_type": "code",
   "execution_count": null,
   "metadata": {},
   "outputs": [],
   "source": []
  }
 ],
 "metadata": {
  "kernelspec": {
   "display_name": "Python 3",
   "language": "python",
   "name": "python3"
  },
  "language_info": {
   "codemirror_mode": {
    "name": "ipython",
    "version": 3
   },
   "file_extension": ".py",
   "mimetype": "text/x-python",
   "name": "python",
   "nbconvert_exporter": "python",
   "pygments_lexer": "ipython3",
   "version": "3.8.2"
  },
  "notify_time": "10",
  "toc": {
   "base_numbering": 1,
   "nav_menu": {},
   "number_sections": true,
   "sideBar": true,
   "skip_h1_title": true,
   "title_cell": "Table of Contents",
   "title_sidebar": "Contents",
   "toc_cell": true,
   "toc_position": {
    "height": "calc(100% - 180px)",
    "left": "10px",
    "top": "150px",
    "width": "462px"
   },
   "toc_section_display": true,
   "toc_window_display": true
  }
 },
 "nbformat": 4,
 "nbformat_minor": 4
}
