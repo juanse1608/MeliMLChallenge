{
 "cells": [
  {
   "cell_type": "markdown",
   "metadata": {
    "toc": true
   },
   "source": [
    "<h1>Table of Contents<span class=\"tocSkip\"></span></h1>\n",
    "<div class=\"toc\"><ul class=\"toc-item\"><li><span><a href=\"#Importar-Librerías\" data-toc-modified-id=\"Importar-Librerías-1\"><span class=\"toc-item-num\">1&nbsp;&nbsp;</span>Importar Librerías</a></span></li><li><span><a href=\"#Preprocesamiento-de-Datos\" data-toc-modified-id=\"Preprocesamiento-de-Datos-2\"><span class=\"toc-item-num\">2&nbsp;&nbsp;</span>Preprocesamiento de Datos</a></span><ul class=\"toc-item\"><li><span><a href=\"#Construcción-del-Dataset-de-Productos\" data-toc-modified-id=\"Construcción-del-Dataset-de-Productos-2.1\"><span class=\"toc-item-num\">2.1&nbsp;&nbsp;</span>Construcción del Dataset de Productos</a></span><ul class=\"toc-item\"><li><span><a href=\"#Lectura-de-los-Datos\" data-toc-modified-id=\"Lectura-de-los-Datos-2.1.1\"><span class=\"toc-item-num\">2.1.1&nbsp;&nbsp;</span>Lectura de los Datos</a></span></li><li><span><a href=\"#Transformación-de-los-Datos\" data-toc-modified-id=\"Transformación-de-los-Datos-2.1.2\"><span class=\"toc-item-num\">2.1.2&nbsp;&nbsp;</span>Transformación de los Datos</a></span></li></ul></li></ul></li><li><span><a href=\"#Caracterización-de-los-Descuentos:-General\" data-toc-modified-id=\"Caracterización-de-los-Descuentos:-General-3\"><span class=\"toc-item-num\">3&nbsp;&nbsp;</span>Caracterización de los Descuentos: General</a></span></li><li><span><a href=\"#Caracterización-de-los-Descuentos:-Celulares-y-Teléfonos\" data-toc-modified-id=\"Caracterización-de-los-Descuentos:-Celulares-y-Teléfonos-4\"><span class=\"toc-item-num\">4&nbsp;&nbsp;</span>Caracterización de los Descuentos: Celulares y Teléfonos</a></span></li></ul></div>"
   ]
  },
  {
   "cell_type": "markdown",
   "metadata": {},
   "source": [
    "# Pulling Data - Mercado Libre API\n",
    "\n",
    "El propósito de este notebook es realizar el primer paso del reto de DS y ML propuesto por el equipo Meli: Obtener los datos de ciertos productos a través de la [API](https://api.mercadolibre.com/) de Mercado Libre.\n",
    "\n",
    "En este notebook se establece la conexión con la API y se obtiene através del buscador de Mercado Libre ciertos productos para construir un dataset que será usuado tanto para la parte exploratoria como la del modelo de ML."
   ]
  },
  {
   "cell_type": "markdown",
   "metadata": {
    "heading_collapsed": true
   },
   "source": [
    "## Importar Librerías"
   ]
  },
  {
   "cell_type": "code",
   "execution_count": 1,
   "metadata": {
    "ExecuteTime": {
     "end_time": "2021-03-11T01:58:26.281771Z",
     "start_time": "2021-03-11T01:58:26.274957Z"
    },
    "hidden": true
   },
   "outputs": [
    {
     "data": {
      "text/html": [
       "<style>div#notebook-container{width: 60%;}div#menubar-container{width: 65%;} div#maintoolbar-container{width: 99%;}</style>"
      ],
      "text/plain": [
       "<IPython.core.display.HTML object>"
      ]
     },
     "metadata": {},
     "output_type": "display_data"
    }
   ],
   "source": [
    "# Cambia el ancho de las celdas\n",
    "from IPython.display import HTML, display\n",
    "display(HTML(data=\"\"\"<style>div#notebook-container{width: 60%;}div#menubar-container{width: 65%;} div#maintoolbar-container{width: 99%;}</style>\"\"\"))"
   ]
  },
  {
   "cell_type": "code",
   "execution_count": 2,
   "metadata": {
    "ExecuteTime": {
     "end_time": "2021-03-11T01:58:26.982320Z",
     "start_time": "2021-03-11T01:58:26.283708Z"
    },
    "hidden": true
   },
   "outputs": [],
   "source": [
    "# Procesamiento de datos\n",
    "import os\n",
    "import re\n",
    "import pandas as pd\n",
    "import numpy as np\n",
    "import datetime as dt\n",
    "import itertools as it\n",
    "\n",
    "# Visualización\n",
    "import matplotlib.pyplot as plt\n",
    "import matplotlib.font_manager\n",
    "from matplotlib.ticker import PercentFormatter\n",
    "import chart_studio.plotly as py\n",
    "import plotly.graph_objs as go\n",
    "import plotly.express as px\n",
    "from plotly.subplots import make_subplots"
   ]
  },
  {
   "cell_type": "markdown",
   "metadata": {},
   "source": [
    "## Preprocesamiento de Datos\n",
    "\n",
    "En esta sección se realiza un proceso general de limpieza y organización de los datos previo a la exploración de los datos."
   ]
  },
  {
   "cell_type": "markdown",
   "metadata": {
    "heading_collapsed": true
   },
   "source": [
    "### Construcción del Dataset de Productos"
   ]
  },
  {
   "cell_type": "markdown",
   "metadata": {
    "hidden": true
   },
   "source": [
    "#### Lectura de los Datos\n",
    " \n",
    "En esta subsección se leen el dataset de productos, se imprimen sus dimensiones, sus columnas y se mencionan sus tipos de variables."
   ]
  },
  {
   "cell_type": "code",
   "execution_count": 3,
   "metadata": {
    "ExecuteTime": {
     "end_time": "2021-03-11T01:58:27.121800Z",
     "start_time": "2021-03-11T01:58:26.984221Z"
    },
    "hidden": true
   },
   "outputs": [
    {
     "name": "stdout",
     "output_type": "stream",
     "text": [
      "LAS DIMENSIONES DE LA BASE DE PRODUCTOS SON: (14574, 50)\n"
     ]
    }
   ],
   "source": [
    "# Se lee el .csv con el datset construido\n",
    "products = pd.read_csv('../Data/Datasets/PRODUCTOS.csv')\n",
    "products.columns = products.columns.str.upper() # Pone los nombres de las columnas en mayusculas\n",
    "print('LAS DIMENSIONES DE LA BASE DE PRODUCTOS SON: {}'.format(products.shape))"
   ]
  },
  {
   "cell_type": "code",
   "execution_count": 4,
   "metadata": {
    "ExecuteTime": {
     "end_time": "2021-03-11T01:58:27.127115Z",
     "start_time": "2021-03-11T01:58:27.123842Z"
    },
    "hidden": true
   },
   "outputs": [
    {
     "data": {
      "text/plain": [
       "Index(['ITEM_ID', 'ITEM_SITE_ID', 'ITEM_TITLE', 'ITEM_PRICE',\n",
       "       'ITEM_SALE_PRICE', 'ITEM_CURRENCY_ID', 'ITEM_AVAILABLE_QUANTITY',\n",
       "       'ITEM_SOLD_QUANTITY', 'ITEM_BUYING_MODE', 'ITEM_LISTING_TYPE_ID',\n",
       "       'ITEM_STOP_TIME', 'ITEM_CONDITION', 'ITEM_PERMALINK', 'ITEM_THUMBNAIL',\n",
       "       'ITEM_THUMBNAIL_ID', 'ITEM_ACCEPTS_MERCADOPAGO', 'ITEM_ORIGINAL_PRICE',\n",
       "       'ITEM_CATEGORY_ID', 'ITEM_OFFICIAL_STORE_ID', 'ITEM_DOMAIN_ID',\n",
       "       'ITEM_CATALOG_PRODUCT_ID', 'ITEM_ORDER_BACKEND',\n",
       "       'ITEM_USE_THUMBNAIL_ID', 'SEARCH_CATEGORY_ID', 'SEARCH_CATEGORY_NAME',\n",
       "       'SEARCH_OFFSET', 'SELLER_ID', 'SELLER_REP_TRANSACTIONS_TOTAL',\n",
       "       'SELLER_REP_TRANSACTIONS_CANCELED', 'SELLER_REP_RATING_NEG',\n",
       "       'SELLER_REP_RATING_POS', 'SELLER_REP_RATING_NEU',\n",
       "       'SELLER_TRANSACTIONS_COMPLETED', 'SELLER_STATUS',\n",
       "       'SELLER_METRICS_CLAIMS_RATE', 'SELLER_METRICS_CLAIMS_VALUE',\n",
       "       'SELLER_METRICS_CLAIMS_PERIOD', 'SELLER_METRICS_DELAY_RATE',\n",
       "       'SELLER_METRICS_DELAY_VALUE', 'SELLER_METRICS_DELAY_PERIOD',\n",
       "       'SELLER_METRICS_SALES_PERIOD', 'SELLER_METRICS_SALES_COMPLETED',\n",
       "       'SELLER_METRICS_CANCELLATIONS_PERIOD',\n",
       "       'SELLER_METRICS_CANCELLATIONS_RATE',\n",
       "       'SELLER_METRICS_CANCELLATIONS_VALUE', 'SELLER_LEVEL_ID',\n",
       "       'SHIPPING_FREE', 'SHIPPING_LOGISTIC_TYPE', 'SHIPPING_PICK_UP',\n",
       "       'ADRESS_STATE_ID'],\n",
       "      dtype='object')"
      ]
     },
     "execution_count": 4,
     "metadata": {},
     "output_type": "execute_result"
    }
   ],
   "source": [
    "# Printea la columnas del dataset\n",
    "products.columns"
   ]
  },
  {
   "cell_type": "markdown",
   "metadata": {
    "ExecuteTime": {
     "end_time": "2021-03-09T23:49:05.788278Z",
     "start_time": "2021-03-09T23:49:05.710669Z"
    },
    "hidden": true
   },
   "source": [
    "Se puede ver claramente que se encuentran los siguientes tipos de variables:\n",
    "    \n",
    "1. Tipo `ITEM`: Variables asociadas al ítem.\n",
    "\n",
    "\n",
    "2. Tipo `SELLER`: Variables asociadas al vendedor.\n",
    "\n",
    "\n",
    "3. Tipo `SHIPPING`: Variables asociadas al envío.\n",
    "\n",
    "\n",
    "4. Tipo `ADRESS`: Variable que indica el departamento donde se encuentra el ítem.\n",
    "\n",
    "\n",
    "5. Tipo `SEARCH`: Variables asociadas a la búsqueda: categoría y offset."
   ]
  },
  {
   "cell_type": "markdown",
   "metadata": {
    "hidden": true
   },
   "source": [
    "#### Transformación de los Datos\n",
    "\n",
    "En esta subsección se arreglan, limpian y transforman el dataset de productos."
   ]
  },
  {
   "cell_type": "code",
   "execution_count": 5,
   "metadata": {
    "ExecuteTime": {
     "end_time": "2021-03-11T01:58:27.137913Z",
     "start_time": "2021-03-11T01:58:27.128458Z"
    },
    "hidden": true
   },
   "outputs": [],
   "source": [
    "# Arreglo a la ADRESS_STATE_ID: para algunos productos el ADRESS_STATE_ID hay que arreglar su dato\n",
    "# Se uso el ITEM_PERMALINK para entender cual era el verdadero dato de ADRESS_STATE_ID\n",
    "cambios_de_direccion = {\n",
    "                        'TUNPUEJPR1gxMDljZA': 'CO-DC', \n",
    "                        'TUNPUEFOVGFiZWI3': 'CO-ANT ',\n",
    "                        'TUNPUENVTmE3NmQ4': 'CO-CUN',\n",
    "                        'TUNPUFZBTGExNmNjNg': 'CO-VAC',\n",
    "                        'TUNPUFJJU2ExMWIyYg': 'CO-RIS',\n",
    "                        'TUNPUEFUTG9mNDk5': 'CO-ATL',\n",
    "                        'TUNPUFRPTGExNGZkNA': 'CO-TOL',\n",
    "                        'TUNPUFNBTnJlMjMw': 'CO-SAN',\n",
    "                        'TUNPUEJPTHI1Mzlk': 'CO-BOL',\n",
    "                        'TUNPUE1BR2FiZjQ0': 'CO-MAG',\n",
    "                        'TUNPUENBTHNjODY4': 'CO-CAL',\n",
    "                        'TUNPUE1FVGExNzFjNQ': 'CO-MET',\n",
    "                        'TUNPUFFVSW9kYmZm': 'CO-QUI',\n",
    "                        'TUNPUE5PUnIxNDkyZg': 'CO-NSA', \n",
    "                        'TUNPUEFSQ2E4Zjc3': 'CO-SAP',\n",
    "                        'TUNPUEJPWWE4YzMz': 'CO-BOY',\n",
    "                        'TUNPUENBVWExM2Q1NQ': 'CO-CAU',\n",
    "                        'TUNPUENPUmFkZGIw': 'CO-COR',\n",
    "                        'TUNPUEdVQWExOTYx': 'CO-LAG',\n",
    "                        'TUNPUE5BUm8xYzk4': 'CO-NAR', \n",
    "                        'TUNPUFNVQ2U4ZWQ0': 'CO-SUC',\n",
    "                        'TUNPUENBU2U2OWIy': 'CO-CAS',\n",
    "                        'TUNPUENFU3IxODA4Mg': 'CO-CES',\n",
    "                        'TUNPUEFNQXMxMzQ2YQ': 'CO-AMA'\n",
    "                       }\n",
    "\n",
    "# Arregla un error que se detecto en las direcciones\n",
    "products.loc[products['ADRESS_STATE_ID'].isin(cambios_de_direccion.keys()), 'ADRESS_STATE_ID'] = \\\n",
    "products.loc[products['ADRESS_STATE_ID'].isin(cambios_de_direccion.keys()), 'ADRESS_STATE_ID'].map(cambios_de_direccion)"
   ]
  },
  {
   "cell_type": "code",
   "execution_count": 6,
   "metadata": {
    "ExecuteTime": {
     "end_time": "2021-03-11T01:58:27.160044Z",
     "start_time": "2021-03-11T01:58:27.139442Z"
    },
    "hidden": true
   },
   "outputs": [],
   "source": [
    "## Ajuste a la condicion del item\n",
    "\n",
    "# Se cambia nan por not_specified\n",
    "products.loc[products['ITEM_CONDITION'].isna(), 'ITEM_CONDITION'] = 'not_specified'\n",
    "\n",
    "# Ajustes al precio \n",
    "\n",
    "# Se quitan productos que no tienen precio (generalmente precio a convenir)\n",
    "# Es decir este analisis aplica para productos con precio fijo\n",
    "products = products.loc[~products['ITEM_PRICE'].isna()]\n",
    "products.reset_index(drop=True, inplace=True)\n",
    "\n",
    "# Se encontro en google la tasa de cambio de dolar a cop el dia 7 de marzo (cuando se descargaron los datos)\n",
    "exchange_rate_usd_to_cop = 3142.99 \n",
    "products.loc[products['ITEM_CURRENCY_ID'] == 'USD', 'ITEM_PRICE'] *= exchange_rate_usd_to_cop\n",
    "products.loc[products['ITEM_CURRENCY_ID'] == 'USD', 'ITEM_CURRENCY_ID'] = 'COP'\n",
    "\n",
    "# Cambia ITEM_ORIGINAL_PRICE por el ITEM_PRICE como se indica en el documento\n",
    "products.loc[products['ITEM_ORIGINAL_PRICE'].isna(), 'ITEM_ORIGINAL_PRICE'] = \\\n",
    "products.loc[products['ITEM_ORIGINAL_PRICE'].isna(), 'ITEM_PRICE']\n",
    "\n",
    "# Crea las variables de descuento absoluto y la tasa\n",
    "products['ITEM_DISCOUNT_VALUE'] = products['ITEM_ORIGINAL_PRICE'] - products['ITEM_PRICE']\n",
    "products['ITEM_DISCOUNT_RATE'] = products['ITEM_DISCOUNT_VALUE']/products['ITEM_ORIGINAL_PRICE']\n",
    "\n",
    "# Crea la variable de venta total: This is an approximation\n",
    "products['ITEM_SELL_TOTAL'] = products['ITEM_PRICE']*products['ITEM_SOLD_QUANTITY']"
   ]
  },
  {
   "cell_type": "code",
   "execution_count": 7,
   "metadata": {
    "ExecuteTime": {
     "end_time": "2021-03-11T01:58:27.195886Z",
     "start_time": "2021-03-11T01:58:27.162959Z"
    },
    "hidden": true
   },
   "outputs": [],
   "source": [
    "## Ajuste a variables del vendedor\n",
    "\n",
    "# Cambio de nan to not_specified para SELLER_STATUS\n",
    "products.loc[products['SELLER_STATUS'].isna(), 'SELLER_STATUS'] = 'not_specified'\n",
    "products.loc[products['SELLER_LEVEL_ID'].isna(), 'SELLER_LEVEL_ID'] = 'not_specified'\n",
    "\n",
    "# Cambio nan to 0 para SELLER_METRICS_SALES_PERIOD\n",
    "products.loc[products['SELLER_METRICS_SALES_PERIOD'].isna(), 'SELLER_METRICS_SALES_COMPLETED'] = 0\n",
    "products.loc[products['SELLER_METRICS_SALES_PERIOD'].isna(), 'SELLER_METRICS_SALES_PERIOD'] = '60 days'\n",
    "products.loc[products['SELLER_METRICS_SALES_PERIOD'] == '60 months', 'SELLER_METRICS_SALES_COMPLETED'] *= (60/(30*60))\n",
    "products.loc[products['SELLER_METRICS_SALES_PERIOD'] == '3 months', 'SELLER_METRICS_SALES_COMPLETED'] *= (60/90)\n",
    "products.loc[products['SELLER_METRICS_SALES_PERIOD'] == '365 days', 'SELLER_METRICS_SALES_COMPLETED'] *= (60/365)\n",
    "products['SELLER_METRICS_SALES_PERIOD'] = '60 days'\n",
    "\n",
    "# Estandarizacion de las metricas absolutas del vendedor (por periodo de tiempo)\n",
    "\n",
    "# Cancelaciones \n",
    "products.loc[products['SELLER_METRICS_CANCELLATIONS_PERIOD'] == '60 months', 'SELLER_METRICS_CANCELLATIONS_VALUE'] *= (60/(30*60))\n",
    "products.loc[products['SELLER_METRICS_CANCELLATIONS_PERIOD'] == '3 months', 'SELLER_METRICS_CANCELLATIONS_VALUE'] *= (60/90)\n",
    "products.loc[products['SELLER_METRICS_CANCELLATIONS_PERIOD'] == '365 days', 'SELLER_METRICS_CANCELLATIONS_VALUE'] *= (60/365)\n",
    "products['SELLER_METRICS_CANCELLATIONS_PERIOD'] = '60 days'\n",
    "\n",
    "# Quejas \n",
    "products.loc[products['SELLER_METRICS_CLAIMS_PERIOD'] == '60 months', 'SELLER_METRICS_CLAIMS_VALUE'] *= (60/(30*60))\n",
    "products.loc[products['SELLER_METRICS_CLAIMS_PERIOD'] == '3 months', 'SELLER_METRICS_CLAIMS_VALUE'] *= (60/90)\n",
    "products.loc[products['SELLER_METRICS_CLAIMS_PERIOD'] == '365 days', 'SELLER_METRICS_CLAIMS_VALUE'] *= (60/365)\n",
    "products['SELLER_METRICS_CLAIMS_PERIOD'] = '60 days'\n",
    "\n",
    "# Demoras \n",
    "products.loc[products['SELLER_METRICS_DELAY_PERIOD'] == '60 months', 'SELLER_METRICS_DELAY_VALUE'] *= (60/(30*60))\n",
    "products.loc[products['SELLER_METRICS_DELAY_PERIOD'] == '3 months', 'SELLER_METRICS_DELAY_VALUE'] *= (60/90)\n",
    "products.loc[products['SELLER_METRICS_DELAY_PERIOD'] == '365 days', 'SELLER_METRICS_DELAY_VALUE'] *= (60/365)\n",
    "products['SELLER_METRICS_DELAY_PERIOD'] = '60 days'\n",
    "\n",
    "## Ajustes a variables del shipping/envio\n",
    "\n",
    "# Cambio de nan to not_specified para SHIPPING_LOGISTIC_TYPE\n",
    "products.loc[products['SHIPPING_LOGISTIC_TYPE'].isna(), 'SHIPPING_LOGISTIC_TYPE'] = 'not_specified'"
   ]
  },
  {
   "cell_type": "code",
   "execution_count": 8,
   "metadata": {
    "ExecuteTime": {
     "end_time": "2021-03-11T01:58:27.206718Z",
     "start_time": "2021-03-11T01:58:27.197756Z"
    },
    "hidden": true
   },
   "outputs": [
    {
     "name": "stdout",
     "output_type": "stream",
     "text": [
      "LAS DIMENSIONES DE LOS PRODUCTOS CON DESCUENTOS SON: (988, 53)\n"
     ]
    }
   ],
   "source": [
    "# Crea un dataframe con los productos que tienen descuentos\n",
    "discount_products = products.copy()\n",
    "discount_products = discount_products.loc[discount_products['ITEM_DISCOUNT_VALUE'] > 0].reset_index(drop=True)\n",
    "print('LAS DIMENSIONES DE LOS PRODUCTOS CON DESCUENTOS SON: {}'.format(discount_products.shape))"
   ]
  },
  {
   "cell_type": "markdown",
   "metadata": {},
   "source": [
    "## Caracterización de los Descuentos: General\n",
    "\n",
    "En esta sección se tratan de encontrar las principales métricas, findings e insights de manera general sobre los descuentos."
   ]
  },
  {
   "cell_type": "code",
   "execution_count": 9,
   "metadata": {
    "ExecuteTime": {
     "end_time": "2021-03-11T01:58:27.211313Z",
     "start_time": "2021-03-11T01:58:27.208268Z"
    }
   },
   "outputs": [
    {
     "name": "stdout",
     "output_type": "stream",
     "text": [
      "EN TOTAL HAY 988 PRODUCTOS QUE TIENEN DESCUENTO \n",
      "\n",
      "LO QUE CORRESPONDE A UN 6.93% DEL TOTAL DE PRODUCTOS EN EL DATASET\n"
     ]
    }
   ],
   "source": [
    "# Cuantos productos y que porcentaje es del total obtenido (la muestra que se construyo) tienen descuentos\n",
    "print('EN TOTAL HAY {} PRODUCTOS QUE TIENEN DESCUENTO'.format(discount_products.shape[0]), '\\n')\n",
    "print('LO QUE CORRESPONDE A UN {}% DEL TOTAL DE PRODUCTOS EN EL DATASET'.format(np.round(discount_products.shape[0]/products.shape[0]*100, 2)))"
   ]
  },
  {
   "cell_type": "markdown",
   "metadata": {
    "ExecuteTime": {
     "end_time": "2021-03-10T23:54:32.038696Z",
     "start_time": "2021-03-10T23:54:32.033416Z"
    }
   },
   "source": [
    "Recordemos que teníamos __14256__ productos (después de hacer algunos filtrados generales) y de estos __988__ (el __6.93%__) tenían descuento. Un porcentaje que debería ser muy diferente por categoría. Así que continuemos con el análisis:"
   ]
  },
  {
   "cell_type": "code",
   "execution_count": 72,
   "metadata": {
    "ExecuteTime": {
     "end_time": "2021-03-11T02:51:35.310881Z",
     "start_time": "2021-03-11T02:51:35.285663Z"
    }
   },
   "outputs": [
    {
     "data": {
      "text/html": [
       "<div>\n",
       "<style scoped>\n",
       "    .dataframe tbody tr th:only-of-type {\n",
       "        vertical-align: middle;\n",
       "    }\n",
       "\n",
       "    .dataframe tbody tr th {\n",
       "        vertical-align: top;\n",
       "    }\n",
       "\n",
       "    .dataframe thead th {\n",
       "        text-align: right;\n",
       "    }\n",
       "</style>\n",
       "<table border=\"1\" class=\"dataframe\">\n",
       "  <thead>\n",
       "    <tr style=\"text-align: right;\">\n",
       "      <th></th>\n",
       "      <th>SEARCH_CATEGORY_NAME</th>\n",
       "      <th>ITEM_ID</th>\n",
       "      <th>ITEM_ID_WITH_DISCOUNT</th>\n",
       "      <th>PORCENTAJE_DE_ITEMS_CON_DESCUENTO</th>\n",
       "    </tr>\n",
       "  </thead>\n",
       "  <tbody>\n",
       "    <tr>\n",
       "      <th>0</th>\n",
       "      <td>Electrodomésticos</td>\n",
       "      <td>461</td>\n",
       "      <td>132.0</td>\n",
       "      <td>28.633406</td>\n",
       "    </tr>\n",
       "    <tr>\n",
       "      <th>1</th>\n",
       "      <td>Juegos y Juguetes</td>\n",
       "      <td>460</td>\n",
       "      <td>117.0</td>\n",
       "      <td>25.434783</td>\n",
       "    </tr>\n",
       "    <tr>\n",
       "      <th>2</th>\n",
       "      <td>Celulares y Teléfonos</td>\n",
       "      <td>481</td>\n",
       "      <td>114.0</td>\n",
       "      <td>23.700624</td>\n",
       "    </tr>\n",
       "    <tr>\n",
       "      <th>3</th>\n",
       "      <td>Electrónica, Audio y Video</td>\n",
       "      <td>403</td>\n",
       "      <td>82.0</td>\n",
       "      <td>20.347395</td>\n",
       "    </tr>\n",
       "    <tr>\n",
       "      <th>4</th>\n",
       "      <td>Deportes y Fitness</td>\n",
       "      <td>472</td>\n",
       "      <td>76.0</td>\n",
       "      <td>16.101695</td>\n",
       "    </tr>\n",
       "    <tr>\n",
       "      <th>5</th>\n",
       "      <td>Accesorios para Vehículos</td>\n",
       "      <td>496</td>\n",
       "      <td>53.0</td>\n",
       "      <td>10.685484</td>\n",
       "    </tr>\n",
       "    <tr>\n",
       "      <th>6</th>\n",
       "      <td>Computación</td>\n",
       "      <td>479</td>\n",
       "      <td>49.0</td>\n",
       "      <td>10.229645</td>\n",
       "    </tr>\n",
       "    <tr>\n",
       "      <th>7</th>\n",
       "      <td>Consolas y Videojuegos</td>\n",
       "      <td>495</td>\n",
       "      <td>42.0</td>\n",
       "      <td>8.484848</td>\n",
       "    </tr>\n",
       "    <tr>\n",
       "      <th>8</th>\n",
       "      <td>Herramientas y Construcción</td>\n",
       "      <td>467</td>\n",
       "      <td>38.0</td>\n",
       "      <td>8.137045</td>\n",
       "    </tr>\n",
       "    <tr>\n",
       "      <th>9</th>\n",
       "      <td>Ropa y Accesorios</td>\n",
       "      <td>471</td>\n",
       "      <td>31.0</td>\n",
       "      <td>6.581741</td>\n",
       "    </tr>\n",
       "    <tr>\n",
       "      <th>10</th>\n",
       "      <td>Alimentos y Bebidas</td>\n",
       "      <td>500</td>\n",
       "      <td>31.0</td>\n",
       "      <td>6.200000</td>\n",
       "    </tr>\n",
       "    <tr>\n",
       "      <th>11</th>\n",
       "      <td>Belleza y Cuidado Personal</td>\n",
       "      <td>452</td>\n",
       "      <td>27.0</td>\n",
       "      <td>5.973451</td>\n",
       "    </tr>\n",
       "    <tr>\n",
       "      <th>12</th>\n",
       "      <td>Hogar y Muebles</td>\n",
       "      <td>432</td>\n",
       "      <td>25.0</td>\n",
       "      <td>5.787037</td>\n",
       "    </tr>\n",
       "    <tr>\n",
       "      <th>13</th>\n",
       "      <td>Relojes y Joyas</td>\n",
       "      <td>496</td>\n",
       "      <td>28.0</td>\n",
       "      <td>5.645161</td>\n",
       "    </tr>\n",
       "    <tr>\n",
       "      <th>14</th>\n",
       "      <td>Instrumentos Musicales</td>\n",
       "      <td>459</td>\n",
       "      <td>23.0</td>\n",
       "      <td>5.010893</td>\n",
       "    </tr>\n",
       "    <tr>\n",
       "      <th>15</th>\n",
       "      <td>Arte, Papelería y Mercería</td>\n",
       "      <td>482</td>\n",
       "      <td>22.0</td>\n",
       "      <td>4.564315</td>\n",
       "    </tr>\n",
       "    <tr>\n",
       "      <th>16</th>\n",
       "      <td>Cámaras y Accesorios</td>\n",
       "      <td>494</td>\n",
       "      <td>21.0</td>\n",
       "      <td>4.251012</td>\n",
       "    </tr>\n",
       "    <tr>\n",
       "      <th>17</th>\n",
       "      <td>Agro</td>\n",
       "      <td>472</td>\n",
       "      <td>20.0</td>\n",
       "      <td>4.237288</td>\n",
       "    </tr>\n",
       "    <tr>\n",
       "      <th>18</th>\n",
       "      <td>Bebés</td>\n",
       "      <td>472</td>\n",
       "      <td>17.0</td>\n",
       "      <td>3.601695</td>\n",
       "    </tr>\n",
       "    <tr>\n",
       "      <th>19</th>\n",
       "      <td>Salud y Equipamiento Médico</td>\n",
       "      <td>355</td>\n",
       "      <td>11.0</td>\n",
       "      <td>3.098592</td>\n",
       "    </tr>\n",
       "    <tr>\n",
       "      <th>20</th>\n",
       "      <td>Industrias y Oficinas</td>\n",
       "      <td>381</td>\n",
       "      <td>10.0</td>\n",
       "      <td>2.624672</td>\n",
       "    </tr>\n",
       "    <tr>\n",
       "      <th>21</th>\n",
       "      <td>Libros, Revistas y Comics</td>\n",
       "      <td>500</td>\n",
       "      <td>13.0</td>\n",
       "      <td>2.600000</td>\n",
       "    </tr>\n",
       "    <tr>\n",
       "      <th>22</th>\n",
       "      <td>Animales y Mascotas</td>\n",
       "      <td>498</td>\n",
       "      <td>5.0</td>\n",
       "      <td>1.004016</td>\n",
       "    </tr>\n",
       "    <tr>\n",
       "      <th>23</th>\n",
       "      <td>Antigüedades y Colecciones</td>\n",
       "      <td>499</td>\n",
       "      <td>1.0</td>\n",
       "      <td>0.200401</td>\n",
       "    </tr>\n",
       "    <tr>\n",
       "      <th>24</th>\n",
       "      <td>Inmuebles</td>\n",
       "      <td>490</td>\n",
       "      <td>0.0</td>\n",
       "      <td>0.000000</td>\n",
       "    </tr>\n",
       "    <tr>\n",
       "      <th>25</th>\n",
       "      <td>Música, Películas y Series</td>\n",
       "      <td>498</td>\n",
       "      <td>0.0</td>\n",
       "      <td>0.000000</td>\n",
       "    </tr>\n",
       "    <tr>\n",
       "      <th>26</th>\n",
       "      <td>Otras categorías</td>\n",
       "      <td>499</td>\n",
       "      <td>0.0</td>\n",
       "      <td>0.000000</td>\n",
       "    </tr>\n",
       "    <tr>\n",
       "      <th>27</th>\n",
       "      <td>Recuerdos, Piñatería y Fiestas</td>\n",
       "      <td>500</td>\n",
       "      <td>0.0</td>\n",
       "      <td>0.000000</td>\n",
       "    </tr>\n",
       "    <tr>\n",
       "      <th>28</th>\n",
       "      <td>Carros, Motos y Otros</td>\n",
       "      <td>481</td>\n",
       "      <td>0.0</td>\n",
       "      <td>0.000000</td>\n",
       "    </tr>\n",
       "    <tr>\n",
       "      <th>29</th>\n",
       "      <td>Boletas para Espectáculos</td>\n",
       "      <td>444</td>\n",
       "      <td>0.0</td>\n",
       "      <td>0.000000</td>\n",
       "    </tr>\n",
       "    <tr>\n",
       "      <th>30</th>\n",
       "      <td>Servicios</td>\n",
       "      <td>167</td>\n",
       "      <td>0.0</td>\n",
       "      <td>0.000000</td>\n",
       "    </tr>\n",
       "  </tbody>\n",
       "</table>\n",
       "</div>"
      ],
      "text/plain": [
       "              SEARCH_CATEGORY_NAME  ITEM_ID  ITEM_ID_WITH_DISCOUNT  \\\n",
       "0                Electrodomésticos      461                  132.0   \n",
       "1                Juegos y Juguetes      460                  117.0   \n",
       "2            Celulares y Teléfonos      481                  114.0   \n",
       "3       Electrónica, Audio y Video      403                   82.0   \n",
       "4               Deportes y Fitness      472                   76.0   \n",
       "5        Accesorios para Vehículos      496                   53.0   \n",
       "6                      Computación      479                   49.0   \n",
       "7           Consolas y Videojuegos      495                   42.0   \n",
       "8      Herramientas y Construcción      467                   38.0   \n",
       "9                Ropa y Accesorios      471                   31.0   \n",
       "10             Alimentos y Bebidas      500                   31.0   \n",
       "11      Belleza y Cuidado Personal      452                   27.0   \n",
       "12                 Hogar y Muebles      432                   25.0   \n",
       "13                 Relojes y Joyas      496                   28.0   \n",
       "14          Instrumentos Musicales      459                   23.0   \n",
       "15      Arte, Papelería y Mercería      482                   22.0   \n",
       "16            Cámaras y Accesorios      494                   21.0   \n",
       "17                            Agro      472                   20.0   \n",
       "18                           Bebés      472                   17.0   \n",
       "19     Salud y Equipamiento Médico      355                   11.0   \n",
       "20           Industrias y Oficinas      381                   10.0   \n",
       "21       Libros, Revistas y Comics      500                   13.0   \n",
       "22             Animales y Mascotas      498                    5.0   \n",
       "23      Antigüedades y Colecciones      499                    1.0   \n",
       "24                       Inmuebles      490                    0.0   \n",
       "25      Música, Películas y Series      498                    0.0   \n",
       "26                Otras categorías      499                    0.0   \n",
       "27  Recuerdos, Piñatería y Fiestas      500                    0.0   \n",
       "28           Carros, Motos y Otros      481                    0.0   \n",
       "29       Boletas para Espectáculos      444                    0.0   \n",
       "30                       Servicios      167                    0.0   \n",
       "\n",
       "    PORCENTAJE_DE_ITEMS_CON_DESCUENTO  \n",
       "0                           28.633406  \n",
       "1                           25.434783  \n",
       "2                           23.700624  \n",
       "3                           20.347395  \n",
       "4                           16.101695  \n",
       "5                           10.685484  \n",
       "6                           10.229645  \n",
       "7                            8.484848  \n",
       "8                            8.137045  \n",
       "9                            6.581741  \n",
       "10                           6.200000  \n",
       "11                           5.973451  \n",
       "12                           5.787037  \n",
       "13                           5.645161  \n",
       "14                           5.010893  \n",
       "15                           4.564315  \n",
       "16                           4.251012  \n",
       "17                           4.237288  \n",
       "18                           3.601695  \n",
       "19                           3.098592  \n",
       "20                           2.624672  \n",
       "21                           2.600000  \n",
       "22                           1.004016  \n",
       "23                           0.200401  \n",
       "24                           0.000000  \n",
       "25                           0.000000  \n",
       "26                           0.000000  \n",
       "27                           0.000000  \n",
       "28                           0.000000  \n",
       "29                           0.000000  \n",
       "30                           0.000000  "
      ]
     },
     "execution_count": 72,
     "metadata": {},
     "output_type": "execute_result"
    }
   ],
   "source": [
    "# Genera un dataset con el total de items por categoria, el total de items con descuento por categoria\n",
    "# y el porcentaje de items con descuento por categoria\n",
    "products_per_category = products.groupby(['SEARCH_CATEGORY_NAME'])[['ITEM_ID']].count().reset_index()\n",
    "discount_products_per_category = discount_products.groupby(['SEARCH_CATEGORY_NAME'])[['ITEM_ID']].count().reset_index()\n",
    "\n",
    "percentage_discounts_per_category = pd.merge(products_per_category, discount_products_per_category, on='SEARCH_CATEGORY_NAME',\n",
    "                                             suffixes=('', '_WITH_DISCOUNT'), how='left').fillna(0)\n",
    "percentage_discounts_per_category['PORCENTAJE_DE_ITEMS_CON_DESCUENTO'] = percentage_discounts_per_category['ITEM_ID_WITH_DISCOUNT']\n",
    "percentage_discounts_per_category['PORCENTAJE_DE_ITEMS_CON_DESCUENTO'] /= percentage_discounts_per_category['ITEM_ID']\n",
    "percentage_discounts_per_category['PORCENTAJE_DE_ITEMS_CON_DESCUENTO'] *= 100 # Llevalo a de 0 a 100\n",
    "percentage_discounts_per_category.sort_values(by='PORCENTAJE_DE_ITEMS_CON_DESCUENTO', ascending=False, inplace=True)\n",
    "percentage_discounts_per_category.reset_index(drop=True, inplace=True)\n",
    "percentage_discounts_per_category"
   ]
  },
  {
   "cell_type": "code",
   "execution_count": 84,
   "metadata": {
    "ExecuteTime": {
     "end_time": "2021-03-11T02:53:01.042594Z",
     "start_time": "2021-03-11T02:53:01.039204Z"
    }
   },
   "outputs": [
    {
     "name": "stdout",
     "output_type": "stream",
     "text": [
      "CATEGORIAS QUE LIDERAN EN CUANTO AL PORCENTAJE DE ITEMS CON DESCUENTO: ['Electrodomésticos', 'Juegos y Juguetes', 'Celulares y Teléfonos', 'Electrónica, Audio y Video', 'Deportes y Fitness', 'Accesorios para Vehículos', 'Computación', 'Consolas y Videojuegos', 'Herramientas y Construcción', 'Ropa y Accesorios']\n"
     ]
    }
   ],
   "source": [
    "# Se guarda el top 10 de categorias en cuanto al porcentaje de productos con descuento\n",
    "top = 10\n",
    "top_ten_categorias = percentage_discounts_per_category.head(top).loc[:, 'SEARCH_CATEGORY_NAME'].tolist()\n",
    "print('CATEGORIAS QUE LIDERAN EN CUANTO AL PORCENTAJE DE ITEMS CON DESCUENTO:', top_ten_categorias)"
   ]
  },
  {
   "cell_type": "markdown",
   "metadata": {},
   "source": [
    "Es claro que todas las categorías relacionadas a ítems de tecnología hacen parte de las categorías top en cuanto al porcentaje de productos ofertados con descuento, como por ejemplo:\n",
    "\n",
    "1. Electrodomésticos (28.63%).\n",
    "2. Celulares y Teléfonos (23.70%).\n",
    "3. Electrónica, Audio y Video (20.35%).\n",
    "4. Computación (10.23%).\n",
    "5. Consolas y Videojuegos (8.48%).\n",
    "\n",
    "En el top 10 aparecen también categorías como: \n",
    "\n",
    "1. Juegos y Juguetes (25.43%). \n",
    "2. Deportes y Fitness (16.10%).\n",
    "3. Accesorios para Vehículos (10.69%).\n",
    "4. Herramientas y Construcción (8.14%) .\n",
    "5. Ropa y Accesorios (6.58%).\n",
    "\n",
    "Pero ¿Será que este top 10 de categorías, ordenadas por el porcentaje de productos por descuentos, son las categorías que lideran la venta total? Veamos."
   ]
  },
  {
   "cell_type": "code",
   "execution_count": 85,
   "metadata": {
    "ExecuteTime": {
     "end_time": "2021-03-11T02:53:03.395583Z",
     "start_time": "2021-03-11T02:53:03.381845Z"
    }
   },
   "outputs": [
    {
     "data": {
      "text/html": [
       "<div>\n",
       "<style scoped>\n",
       "    .dataframe tbody tr th:only-of-type {\n",
       "        vertical-align: middle;\n",
       "    }\n",
       "\n",
       "    .dataframe tbody tr th {\n",
       "        vertical-align: top;\n",
       "    }\n",
       "\n",
       "    .dataframe thead th {\n",
       "        text-align: right;\n",
       "    }\n",
       "</style>\n",
       "<table border=\"1\" class=\"dataframe\">\n",
       "  <thead>\n",
       "    <tr style=\"text-align: right;\">\n",
       "      <th></th>\n",
       "      <th>SEARCH_CATEGORY_NAME</th>\n",
       "      <th>ITEM_SELL_TOTAL</th>\n",
       "    </tr>\n",
       "  </thead>\n",
       "  <tbody>\n",
       "    <tr>\n",
       "      <th>0</th>\n",
       "      <td>Celulares y Teléfonos</td>\n",
       "      <td>2.358283e+10</td>\n",
       "    </tr>\n",
       "    <tr>\n",
       "      <th>1</th>\n",
       "      <td>Computación</td>\n",
       "      <td>2.136634e+10</td>\n",
       "    </tr>\n",
       "    <tr>\n",
       "      <th>2</th>\n",
       "      <td>Consolas y Videojuegos</td>\n",
       "      <td>1.776000e+10</td>\n",
       "    </tr>\n",
       "    <tr>\n",
       "      <th>3</th>\n",
       "      <td>Electrodomésticos</td>\n",
       "      <td>1.712423e+10</td>\n",
       "    </tr>\n",
       "    <tr>\n",
       "      <th>4</th>\n",
       "      <td>Deportes y Fitness</td>\n",
       "      <td>1.707067e+10</td>\n",
       "    </tr>\n",
       "    <tr>\n",
       "      <th>5</th>\n",
       "      <td>Electrónica, Audio y Video</td>\n",
       "      <td>1.394926e+10</td>\n",
       "    </tr>\n",
       "    <tr>\n",
       "      <th>6</th>\n",
       "      <td>Hogar y Muebles</td>\n",
       "      <td>1.150002e+10</td>\n",
       "    </tr>\n",
       "    <tr>\n",
       "      <th>7</th>\n",
       "      <td>Herramientas y Construcción</td>\n",
       "      <td>9.481478e+09</td>\n",
       "    </tr>\n",
       "    <tr>\n",
       "      <th>8</th>\n",
       "      <td>Industrias y Oficinas</td>\n",
       "      <td>8.007053e+09</td>\n",
       "    </tr>\n",
       "    <tr>\n",
       "      <th>9</th>\n",
       "      <td>Accesorios para Vehículos</td>\n",
       "      <td>7.851461e+09</td>\n",
       "    </tr>\n",
       "    <tr>\n",
       "      <th>10</th>\n",
       "      <td>Belleza y Cuidado Personal</td>\n",
       "      <td>6.686936e+09</td>\n",
       "    </tr>\n",
       "    <tr>\n",
       "      <th>11</th>\n",
       "      <td>Instrumentos Musicales</td>\n",
       "      <td>6.623546e+09</td>\n",
       "    </tr>\n",
       "    <tr>\n",
       "      <th>12</th>\n",
       "      <td>Salud y Equipamiento Médico</td>\n",
       "      <td>6.561079e+09</td>\n",
       "    </tr>\n",
       "    <tr>\n",
       "      <th>13</th>\n",
       "      <td>Cámaras y Accesorios</td>\n",
       "      <td>6.467063e+09</td>\n",
       "    </tr>\n",
       "    <tr>\n",
       "      <th>14</th>\n",
       "      <td>Juegos y Juguetes</td>\n",
       "      <td>5.799367e+09</td>\n",
       "    </tr>\n",
       "    <tr>\n",
       "      <th>15</th>\n",
       "      <td>Ropa y Accesorios</td>\n",
       "      <td>5.744024e+09</td>\n",
       "    </tr>\n",
       "    <tr>\n",
       "      <th>16</th>\n",
       "      <td>Bebés</td>\n",
       "      <td>5.514604e+09</td>\n",
       "    </tr>\n",
       "    <tr>\n",
       "      <th>17</th>\n",
       "      <td>Relojes y Joyas</td>\n",
       "      <td>4.612582e+09</td>\n",
       "    </tr>\n",
       "    <tr>\n",
       "      <th>18</th>\n",
       "      <td>Animales y Mascotas</td>\n",
       "      <td>4.134672e+09</td>\n",
       "    </tr>\n",
       "    <tr>\n",
       "      <th>19</th>\n",
       "      <td>Agro</td>\n",
       "      <td>3.575775e+09</td>\n",
       "    </tr>\n",
       "    <tr>\n",
       "      <th>20</th>\n",
       "      <td>Arte, Papelería y Mercería</td>\n",
       "      <td>2.367480e+09</td>\n",
       "    </tr>\n",
       "    <tr>\n",
       "      <th>21</th>\n",
       "      <td>Alimentos y Bebidas</td>\n",
       "      <td>1.523797e+09</td>\n",
       "    </tr>\n",
       "    <tr>\n",
       "      <th>22</th>\n",
       "      <td>Otras categorías</td>\n",
       "      <td>1.417177e+09</td>\n",
       "    </tr>\n",
       "    <tr>\n",
       "      <th>23</th>\n",
       "      <td>Libros, Revistas y Comics</td>\n",
       "      <td>1.077792e+09</td>\n",
       "    </tr>\n",
       "    <tr>\n",
       "      <th>24</th>\n",
       "      <td>Recuerdos, Piñatería y Fiestas</td>\n",
       "      <td>9.765268e+08</td>\n",
       "    </tr>\n",
       "    <tr>\n",
       "      <th>25</th>\n",
       "      <td>Antigüedades y Colecciones</td>\n",
       "      <td>3.122593e+08</td>\n",
       "    </tr>\n",
       "    <tr>\n",
       "      <th>26</th>\n",
       "      <td>Música, Películas y Series</td>\n",
       "      <td>1.561561e+08</td>\n",
       "    </tr>\n",
       "    <tr>\n",
       "      <th>27</th>\n",
       "      <td>Boletas para Espectáculos</td>\n",
       "      <td>8.854457e+07</td>\n",
       "    </tr>\n",
       "    <tr>\n",
       "      <th>28</th>\n",
       "      <td>Carros, Motos y Otros</td>\n",
       "      <td>0.000000e+00</td>\n",
       "    </tr>\n",
       "    <tr>\n",
       "      <th>29</th>\n",
       "      <td>Inmuebles</td>\n",
       "      <td>0.000000e+00</td>\n",
       "    </tr>\n",
       "    <tr>\n",
       "      <th>30</th>\n",
       "      <td>Servicios</td>\n",
       "      <td>0.000000e+00</td>\n",
       "    </tr>\n",
       "  </tbody>\n",
       "</table>\n",
       "</div>"
      ],
      "text/plain": [
       "              SEARCH_CATEGORY_NAME  ITEM_SELL_TOTAL\n",
       "0            Celulares y Teléfonos     2.358283e+10\n",
       "1                      Computación     2.136634e+10\n",
       "2           Consolas y Videojuegos     1.776000e+10\n",
       "3                Electrodomésticos     1.712423e+10\n",
       "4               Deportes y Fitness     1.707067e+10\n",
       "5       Electrónica, Audio y Video     1.394926e+10\n",
       "6                  Hogar y Muebles     1.150002e+10\n",
       "7      Herramientas y Construcción     9.481478e+09\n",
       "8            Industrias y Oficinas     8.007053e+09\n",
       "9        Accesorios para Vehículos     7.851461e+09\n",
       "10      Belleza y Cuidado Personal     6.686936e+09\n",
       "11          Instrumentos Musicales     6.623546e+09\n",
       "12     Salud y Equipamiento Médico     6.561079e+09\n",
       "13            Cámaras y Accesorios     6.467063e+09\n",
       "14               Juegos y Juguetes     5.799367e+09\n",
       "15               Ropa y Accesorios     5.744024e+09\n",
       "16                           Bebés     5.514604e+09\n",
       "17                 Relojes y Joyas     4.612582e+09\n",
       "18             Animales y Mascotas     4.134672e+09\n",
       "19                            Agro     3.575775e+09\n",
       "20      Arte, Papelería y Mercería     2.367480e+09\n",
       "21             Alimentos y Bebidas     1.523797e+09\n",
       "22                Otras categorías     1.417177e+09\n",
       "23       Libros, Revistas y Comics     1.077792e+09\n",
       "24  Recuerdos, Piñatería y Fiestas     9.765268e+08\n",
       "25      Antigüedades y Colecciones     3.122593e+08\n",
       "26      Música, Películas y Series     1.561561e+08\n",
       "27       Boletas para Espectáculos     8.854457e+07\n",
       "28           Carros, Motos y Otros     0.000000e+00\n",
       "29                       Inmuebles     0.000000e+00\n",
       "30                       Servicios     0.000000e+00"
      ]
     },
     "execution_count": 85,
     "metadata": {},
     "output_type": "execute_result"
    }
   ],
   "source": [
    "# Se ordenan las categorias por venta total (cantidad*precio)\n",
    "# No olvidemos que sold_quantity es una aproximacion y que realmente hace parte de un rango, pero nos da \n",
    "# una referencia de cuando vende en dinero cada item\n",
    "var_ventas = 'ITEM_SELL_TOTAL'\n",
    "ventas_per_category = products.groupby('SEARCH_CATEGORY_NAME')[[var_ventas]].sum().sort_values(by=var_ventas, ascending=False).reset_index()\n",
    "ventas_per_category"
   ]
  },
  {
   "cell_type": "markdown",
   "metadata": {},
   "source": [
    "Salvo __Industrias y Oficinas__, todos las categorías del top 10 por venta coinciden con las del top 10 por porcentaje de items con descuento, lo cual permite concluir que, de manera general y para las categorías \"comunes\", a nivel de categoría hay una correlación positiva entre la __venta__ y el __porcentaje de ítems con descuento__. Tratemos de hacer una rápida verificación de nuestrra hipótesis con una gráfica de porcentaje de ítems con descuento vs venta donde cada dato es una categoría:"
   ]
  },
  {
   "cell_type": "code",
   "execution_count": 122,
   "metadata": {
    "ExecuteTime": {
     "end_time": "2021-03-11T03:51:08.201916Z",
     "start_time": "2021-03-11T03:51:08.142019Z"
    }
   },
   "outputs": [
    {
     "name": "stdout",
     "output_type": "stream",
     "text": [
      "EL P-VALOR ES 0.0\n"
     ]
    },
    {
     "data": {
      "application/vnd.plotly.v1+json": {
       "config": {
        "plotlyServerURL": "https://plot.ly"
       },
       "data": [
        {
         "customdata": [
          [
           "Celulares y Teléfonos"
          ],
          [
           "Computación"
          ],
          [
           "Consolas y Videojuegos"
          ],
          [
           "Electrodomésticos"
          ],
          [
           "Deportes y Fitness"
          ],
          [
           "Electrónica, Audio y Video"
          ],
          [
           "Hogar y Muebles"
          ],
          [
           "Herramientas y Construcción"
          ],
          [
           "Industrias y Oficinas"
          ],
          [
           "Accesorios para Vehículos"
          ],
          [
           "Belleza y Cuidado Personal"
          ],
          [
           "Instrumentos Musicales"
          ],
          [
           "Salud y Equipamiento Médico"
          ],
          [
           "Cámaras y Accesorios"
          ],
          [
           "Juegos y Juguetes"
          ],
          [
           "Ropa y Accesorios"
          ],
          [
           "Bebés"
          ],
          [
           "Relojes y Joyas"
          ],
          [
           "Animales y Mascotas"
          ],
          [
           "Agro"
          ],
          [
           "Arte, Papelería y Mercería"
          ],
          [
           "Alimentos y Bebidas"
          ],
          [
           "Otras categorías"
          ],
          [
           "Libros, Revistas y Comics"
          ],
          [
           "Recuerdos, Piñatería y Fiestas"
          ],
          [
           "Antigüedades y Colecciones"
          ],
          [
           "Música, Películas y Series"
          ],
          [
           "Boletas para Espectáculos"
          ],
          [
           "Carros, Motos y Otros"
          ],
          [
           "Inmuebles"
          ],
          [
           "Servicios"
          ]
         ],
         "hovertemplate": "PORCENTAJE_DE_ITEMS_CON_DESCUENTO=%{x}<br>ITEM_SELL_TOTAL=%{y}<br>SEARCH_CATEGORY_NAME=%{customdata[0]}<extra></extra>",
         "legendgroup": "",
         "marker": {
          "color": "#636efa",
          "symbol": "circle"
         },
         "mode": "markers",
         "name": "",
         "orientation": "v",
         "showlegend": false,
         "type": "scatter",
         "x": [
          23.7006237006237,
          10.22964509394572,
          8.484848484848486,
          28.633405639913235,
          16.101694915254235,
          20.34739454094293,
          5.787037037037037,
          8.137044967880087,
          2.6246719160104988,
          10.685483870967742,
          5.9734513274336285,
          5.010893246187364,
          3.0985915492957745,
          4.251012145748987,
          25.43478260869565,
          6.581740976645436,
          3.6016949152542375,
          5.64516129032258,
          1.0040160642570282,
          4.23728813559322,
          4.564315352697095,
          6.2,
          0,
          2.6,
          0,
          0.2004008016032064,
          0,
          0,
          0,
          0,
          0
         ],
         "xaxis": "x",
         "y": [
          23582827969,
          21366342998.3,
          17759998939,
          17124234550,
          17070672930,
          13949258000,
          11500022650,
          9481478170,
          8007052600,
          7851461200,
          6686936400,
          6623546350,
          6561078620,
          6467063234,
          5799366580,
          5744024405,
          5514603850,
          4612581850,
          4134672069,
          3575775060,
          2367480265,
          1523796680,
          1417177245,
          1077792084,
          976526835,
          312259284,
          156156136,
          88544567,
          0,
          0,
          0
         ],
         "yaxis": "y"
        },
        {
         "hovertemplate": "<b>OLS trendline</b><br>ITEM_SELL_TOTAL = 6.159e+08 * PORCENTAJE_DE_ITEMS_CON_DESCUENTO + 2.58267e+09<br>R<sup>2</sup>=0.533256<br><br>PORCENTAJE_DE_ITEMS_CON_DESCUENTO=%{x}<br>ITEM_SELL_TOTAL=%{y} <b>(trend)</b><extra></extra>",
         "legendgroup": "",
         "marker": {
          "color": "#636efa",
          "symbol": "circle"
         },
         "mode": "lines",
         "name": "",
         "showlegend": false,
         "type": "scatter",
         "x": [
          0,
          0,
          0,
          0,
          0,
          0,
          0,
          0.2004008016032064,
          1.0040160642570282,
          2.6,
          2.6246719160104988,
          3.0985915492957745,
          3.6016949152542375,
          4.23728813559322,
          4.251012145748987,
          4.564315352697095,
          5.010893246187364,
          5.64516129032258,
          5.787037037037037,
          5.9734513274336285,
          6.2,
          6.581740976645436,
          8.137044967880087,
          8.484848484848486,
          10.22964509394572,
          10.685483870967742,
          16.101694915254235,
          20.34739454094293,
          23.7006237006237,
          25.43478260869565,
          28.633405639913235
         ],
         "xaxis": "x",
         "y": [
          2582672519.158594,
          2582672519.158594,
          2582672519.158594,
          2582672519.158594,
          2582672519.158594,
          2582672519.158594,
          2582672519.158594,
          2706099292.587525,
          3201045610.9360685,
          4184011477.6255417,
          4199206900.813094,
          4491093813.106202,
          4800954974.662025,
          5192416584.456748,
          5200869196.81399,
          5393832516.467311,
          5668879662.173492,
          6059525096.475166,
          6146906312.042647,
          6261718798.822275,
          6401250035.502853,
          6636364150.097298,
          7594275255.260061,
          7808487302.034414,
          8883106834.629963,
          9163857754.793537,
          12499699967.291578,
          15114624665.96998,
          17179877162.14852,
          18247944938.943947,
          20217975582.53562
         ],
         "yaxis": "y"
        }
       ],
       "layout": {
        "height": 400,
        "legend": {
         "tracegroupgap": 0
        },
        "plot_bgcolor": "rgb(255,255,255)",
        "template": {
         "data": {
          "bar": [
           {
            "error_x": {
             "color": "#2a3f5f"
            },
            "error_y": {
             "color": "#2a3f5f"
            },
            "marker": {
             "line": {
              "color": "#E5ECF6",
              "width": 0.5
             }
            },
            "type": "bar"
           }
          ],
          "barpolar": [
           {
            "marker": {
             "line": {
              "color": "#E5ECF6",
              "width": 0.5
             }
            },
            "type": "barpolar"
           }
          ],
          "carpet": [
           {
            "aaxis": {
             "endlinecolor": "#2a3f5f",
             "gridcolor": "white",
             "linecolor": "white",
             "minorgridcolor": "white",
             "startlinecolor": "#2a3f5f"
            },
            "baxis": {
             "endlinecolor": "#2a3f5f",
             "gridcolor": "white",
             "linecolor": "white",
             "minorgridcolor": "white",
             "startlinecolor": "#2a3f5f"
            },
            "type": "carpet"
           }
          ],
          "choropleth": [
           {
            "colorbar": {
             "outlinewidth": 0,
             "ticks": ""
            },
            "type": "choropleth"
           }
          ],
          "contour": [
           {
            "colorbar": {
             "outlinewidth": 0,
             "ticks": ""
            },
            "colorscale": [
             [
              0,
              "#0d0887"
             ],
             [
              0.1111111111111111,
              "#46039f"
             ],
             [
              0.2222222222222222,
              "#7201a8"
             ],
             [
              0.3333333333333333,
              "#9c179e"
             ],
             [
              0.4444444444444444,
              "#bd3786"
             ],
             [
              0.5555555555555556,
              "#d8576b"
             ],
             [
              0.6666666666666666,
              "#ed7953"
             ],
             [
              0.7777777777777778,
              "#fb9f3a"
             ],
             [
              0.8888888888888888,
              "#fdca26"
             ],
             [
              1,
              "#f0f921"
             ]
            ],
            "type": "contour"
           }
          ],
          "contourcarpet": [
           {
            "colorbar": {
             "outlinewidth": 0,
             "ticks": ""
            },
            "type": "contourcarpet"
           }
          ],
          "heatmap": [
           {
            "colorbar": {
             "outlinewidth": 0,
             "ticks": ""
            },
            "colorscale": [
             [
              0,
              "#0d0887"
             ],
             [
              0.1111111111111111,
              "#46039f"
             ],
             [
              0.2222222222222222,
              "#7201a8"
             ],
             [
              0.3333333333333333,
              "#9c179e"
             ],
             [
              0.4444444444444444,
              "#bd3786"
             ],
             [
              0.5555555555555556,
              "#d8576b"
             ],
             [
              0.6666666666666666,
              "#ed7953"
             ],
             [
              0.7777777777777778,
              "#fb9f3a"
             ],
             [
              0.8888888888888888,
              "#fdca26"
             ],
             [
              1,
              "#f0f921"
             ]
            ],
            "type": "heatmap"
           }
          ],
          "heatmapgl": [
           {
            "colorbar": {
             "outlinewidth": 0,
             "ticks": ""
            },
            "colorscale": [
             [
              0,
              "#0d0887"
             ],
             [
              0.1111111111111111,
              "#46039f"
             ],
             [
              0.2222222222222222,
              "#7201a8"
             ],
             [
              0.3333333333333333,
              "#9c179e"
             ],
             [
              0.4444444444444444,
              "#bd3786"
             ],
             [
              0.5555555555555556,
              "#d8576b"
             ],
             [
              0.6666666666666666,
              "#ed7953"
             ],
             [
              0.7777777777777778,
              "#fb9f3a"
             ],
             [
              0.8888888888888888,
              "#fdca26"
             ],
             [
              1,
              "#f0f921"
             ]
            ],
            "type": "heatmapgl"
           }
          ],
          "histogram": [
           {
            "marker": {
             "colorbar": {
              "outlinewidth": 0,
              "ticks": ""
             }
            },
            "type": "histogram"
           }
          ],
          "histogram2d": [
           {
            "colorbar": {
             "outlinewidth": 0,
             "ticks": ""
            },
            "colorscale": [
             [
              0,
              "#0d0887"
             ],
             [
              0.1111111111111111,
              "#46039f"
             ],
             [
              0.2222222222222222,
              "#7201a8"
             ],
             [
              0.3333333333333333,
              "#9c179e"
             ],
             [
              0.4444444444444444,
              "#bd3786"
             ],
             [
              0.5555555555555556,
              "#d8576b"
             ],
             [
              0.6666666666666666,
              "#ed7953"
             ],
             [
              0.7777777777777778,
              "#fb9f3a"
             ],
             [
              0.8888888888888888,
              "#fdca26"
             ],
             [
              1,
              "#f0f921"
             ]
            ],
            "type": "histogram2d"
           }
          ],
          "histogram2dcontour": [
           {
            "colorbar": {
             "outlinewidth": 0,
             "ticks": ""
            },
            "colorscale": [
             [
              0,
              "#0d0887"
             ],
             [
              0.1111111111111111,
              "#46039f"
             ],
             [
              0.2222222222222222,
              "#7201a8"
             ],
             [
              0.3333333333333333,
              "#9c179e"
             ],
             [
              0.4444444444444444,
              "#bd3786"
             ],
             [
              0.5555555555555556,
              "#d8576b"
             ],
             [
              0.6666666666666666,
              "#ed7953"
             ],
             [
              0.7777777777777778,
              "#fb9f3a"
             ],
             [
              0.8888888888888888,
              "#fdca26"
             ],
             [
              1,
              "#f0f921"
             ]
            ],
            "type": "histogram2dcontour"
           }
          ],
          "mesh3d": [
           {
            "colorbar": {
             "outlinewidth": 0,
             "ticks": ""
            },
            "type": "mesh3d"
           }
          ],
          "parcoords": [
           {
            "line": {
             "colorbar": {
              "outlinewidth": 0,
              "ticks": ""
             }
            },
            "type": "parcoords"
           }
          ],
          "pie": [
           {
            "automargin": true,
            "type": "pie"
           }
          ],
          "scatter": [
           {
            "marker": {
             "colorbar": {
              "outlinewidth": 0,
              "ticks": ""
             }
            },
            "type": "scatter"
           }
          ],
          "scatter3d": [
           {
            "line": {
             "colorbar": {
              "outlinewidth": 0,
              "ticks": ""
             }
            },
            "marker": {
             "colorbar": {
              "outlinewidth": 0,
              "ticks": ""
             }
            },
            "type": "scatter3d"
           }
          ],
          "scattercarpet": [
           {
            "marker": {
             "colorbar": {
              "outlinewidth": 0,
              "ticks": ""
             }
            },
            "type": "scattercarpet"
           }
          ],
          "scattergeo": [
           {
            "marker": {
             "colorbar": {
              "outlinewidth": 0,
              "ticks": ""
             }
            },
            "type": "scattergeo"
           }
          ],
          "scattergl": [
           {
            "marker": {
             "colorbar": {
              "outlinewidth": 0,
              "ticks": ""
             }
            },
            "type": "scattergl"
           }
          ],
          "scattermapbox": [
           {
            "marker": {
             "colorbar": {
              "outlinewidth": 0,
              "ticks": ""
             }
            },
            "type": "scattermapbox"
           }
          ],
          "scatterpolar": [
           {
            "marker": {
             "colorbar": {
              "outlinewidth": 0,
              "ticks": ""
             }
            },
            "type": "scatterpolar"
           }
          ],
          "scatterpolargl": [
           {
            "marker": {
             "colorbar": {
              "outlinewidth": 0,
              "ticks": ""
             }
            },
            "type": "scatterpolargl"
           }
          ],
          "scatterternary": [
           {
            "marker": {
             "colorbar": {
              "outlinewidth": 0,
              "ticks": ""
             }
            },
            "type": "scatterternary"
           }
          ],
          "surface": [
           {
            "colorbar": {
             "outlinewidth": 0,
             "ticks": ""
            },
            "colorscale": [
             [
              0,
              "#0d0887"
             ],
             [
              0.1111111111111111,
              "#46039f"
             ],
             [
              0.2222222222222222,
              "#7201a8"
             ],
             [
              0.3333333333333333,
              "#9c179e"
             ],
             [
              0.4444444444444444,
              "#bd3786"
             ],
             [
              0.5555555555555556,
              "#d8576b"
             ],
             [
              0.6666666666666666,
              "#ed7953"
             ],
             [
              0.7777777777777778,
              "#fb9f3a"
             ],
             [
              0.8888888888888888,
              "#fdca26"
             ],
             [
              1,
              "#f0f921"
             ]
            ],
            "type": "surface"
           }
          ],
          "table": [
           {
            "cells": {
             "fill": {
              "color": "#EBF0F8"
             },
             "line": {
              "color": "white"
             }
            },
            "header": {
             "fill": {
              "color": "#C8D4E3"
             },
             "line": {
              "color": "white"
             }
            },
            "type": "table"
           }
          ]
         },
         "layout": {
          "annotationdefaults": {
           "arrowcolor": "#2a3f5f",
           "arrowhead": 0,
           "arrowwidth": 1
          },
          "coloraxis": {
           "colorbar": {
            "outlinewidth": 0,
            "ticks": ""
           }
          },
          "colorscale": {
           "diverging": [
            [
             0,
             "#8e0152"
            ],
            [
             0.1,
             "#c51b7d"
            ],
            [
             0.2,
             "#de77ae"
            ],
            [
             0.3,
             "#f1b6da"
            ],
            [
             0.4,
             "#fde0ef"
            ],
            [
             0.5,
             "#f7f7f7"
            ],
            [
             0.6,
             "#e6f5d0"
            ],
            [
             0.7,
             "#b8e186"
            ],
            [
             0.8,
             "#7fbc41"
            ],
            [
             0.9,
             "#4d9221"
            ],
            [
             1,
             "#276419"
            ]
           ],
           "sequential": [
            [
             0,
             "#0d0887"
            ],
            [
             0.1111111111111111,
             "#46039f"
            ],
            [
             0.2222222222222222,
             "#7201a8"
            ],
            [
             0.3333333333333333,
             "#9c179e"
            ],
            [
             0.4444444444444444,
             "#bd3786"
            ],
            [
             0.5555555555555556,
             "#d8576b"
            ],
            [
             0.6666666666666666,
             "#ed7953"
            ],
            [
             0.7777777777777778,
             "#fb9f3a"
            ],
            [
             0.8888888888888888,
             "#fdca26"
            ],
            [
             1,
             "#f0f921"
            ]
           ],
           "sequentialminus": [
            [
             0,
             "#0d0887"
            ],
            [
             0.1111111111111111,
             "#46039f"
            ],
            [
             0.2222222222222222,
             "#7201a8"
            ],
            [
             0.3333333333333333,
             "#9c179e"
            ],
            [
             0.4444444444444444,
             "#bd3786"
            ],
            [
             0.5555555555555556,
             "#d8576b"
            ],
            [
             0.6666666666666666,
             "#ed7953"
            ],
            [
             0.7777777777777778,
             "#fb9f3a"
            ],
            [
             0.8888888888888888,
             "#fdca26"
            ],
            [
             1,
             "#f0f921"
            ]
           ]
          },
          "colorway": [
           "#636efa",
           "#EF553B",
           "#00cc96",
           "#ab63fa",
           "#FFA15A",
           "#19d3f3",
           "#FF6692",
           "#B6E880",
           "#FF97FF",
           "#FECB52"
          ],
          "font": {
           "color": "#2a3f5f"
          },
          "geo": {
           "bgcolor": "white",
           "lakecolor": "white",
           "landcolor": "#E5ECF6",
           "showlakes": true,
           "showland": true,
           "subunitcolor": "white"
          },
          "hoverlabel": {
           "align": "left"
          },
          "hovermode": "closest",
          "mapbox": {
           "style": "light"
          },
          "paper_bgcolor": "white",
          "plot_bgcolor": "#E5ECF6",
          "polar": {
           "angularaxis": {
            "gridcolor": "white",
            "linecolor": "white",
            "ticks": ""
           },
           "bgcolor": "#E5ECF6",
           "radialaxis": {
            "gridcolor": "white",
            "linecolor": "white",
            "ticks": ""
           }
          },
          "scene": {
           "xaxis": {
            "backgroundcolor": "#E5ECF6",
            "gridcolor": "white",
            "gridwidth": 2,
            "linecolor": "white",
            "showbackground": true,
            "ticks": "",
            "zerolinecolor": "white"
           },
           "yaxis": {
            "backgroundcolor": "#E5ECF6",
            "gridcolor": "white",
            "gridwidth": 2,
            "linecolor": "white",
            "showbackground": true,
            "ticks": "",
            "zerolinecolor": "white"
           },
           "zaxis": {
            "backgroundcolor": "#E5ECF6",
            "gridcolor": "white",
            "gridwidth": 2,
            "linecolor": "white",
            "showbackground": true,
            "ticks": "",
            "zerolinecolor": "white"
           }
          },
          "shapedefaults": {
           "line": {
            "color": "#2a3f5f"
           }
          },
          "ternary": {
           "aaxis": {
            "gridcolor": "white",
            "linecolor": "white",
            "ticks": ""
           },
           "baxis": {
            "gridcolor": "white",
            "linecolor": "white",
            "ticks": ""
           },
           "bgcolor": "#E5ECF6",
           "caxis": {
            "gridcolor": "white",
            "linecolor": "white",
            "ticks": ""
           }
          },
          "title": {
           "x": 0.05
          },
          "xaxis": {
           "automargin": true,
           "gridcolor": "white",
           "linecolor": "white",
           "ticks": "",
           "title": {
            "standoff": 15
           },
           "zerolinecolor": "white",
           "zerolinewidth": 2
          },
          "yaxis": {
           "automargin": true,
           "gridcolor": "white",
           "linecolor": "white",
           "ticks": "",
           "title": {
            "standoff": 15
           },
           "zerolinecolor": "white",
           "zerolinewidth": 2
          }
         }
        },
        "title": {
         "font": {
          "size": 20
         },
         "text": "PORCENTAJE DE ITEMS CON DESCUENTO VS VENTA POR CATEGORIA"
        },
        "xaxis": {
         "anchor": "y",
         "domain": [
          0,
          1
         ],
         "title": {
          "font": {
           "size": 18
          },
          "text": "PORCENTAJE DE ITEMS CON DESCUENTO"
         }
        },
        "yaxis": {
         "anchor": "x",
         "domain": [
          0,
          1
         ],
         "title": {
          "font": {
           "size": 18
          },
          "text": "VENTA TOTAL"
         }
        }
       }
      },
      "text/html": [
       "<div>                            <div id=\"fb35bc42-f5c3-48f9-aed0-f1e2fb6c96ef\" class=\"plotly-graph-div\" style=\"height:400px; width:100%;\"></div>            <script type=\"text/javascript\">                require([\"plotly\"], function(Plotly) {                    window.PLOTLYENV=window.PLOTLYENV || {};                                    if (document.getElementById(\"fb35bc42-f5c3-48f9-aed0-f1e2fb6c96ef\")) {                    Plotly.newPlot(                        \"fb35bc42-f5c3-48f9-aed0-f1e2fb6c96ef\",                        [{\"customdata\": [[\"Celulares y Tel\\u00e9fonos\"], [\"Computaci\\u00f3n\"], [\"Consolas y Videojuegos\"], [\"Electrodom\\u00e9sticos\"], [\"Deportes y Fitness\"], [\"Electr\\u00f3nica, Audio y Video\"], [\"Hogar y Muebles\"], [\"Herramientas y Construcci\\u00f3n\"], [\"Industrias y Oficinas\"], [\"Accesorios para Veh\\u00edculos\"], [\"Belleza y Cuidado Personal\"], [\"Instrumentos Musicales\"], [\"Salud y Equipamiento M\\u00e9dico\"], [\"C\\u00e1maras y Accesorios\"], [\"Juegos y Juguetes\"], [\"Ropa y Accesorios\"], [\"Beb\\u00e9s\"], [\"Relojes y Joyas\"], [\"Animales y Mascotas\"], [\"Agro\"], [\"Arte, Papeler\\u00eda y Mercer\\u00eda\"], [\"Alimentos y Bebidas\"], [\"Otras categor\\u00edas\"], [\"Libros, Revistas y Comics\"], [\"Recuerdos, Pi\\u00f1ater\\u00eda y Fiestas\"], [\"Antig\\u00fcedades y Colecciones\"], [\"M\\u00fasica, Pel\\u00edculas y Series\"], [\"Boletas para Espect\\u00e1culos\"], [\"Carros, Motos y Otros\"], [\"Inmuebles\"], [\"Servicios\"]], \"hovertemplate\": \"PORCENTAJE_DE_ITEMS_CON_DESCUENTO=%{x}<br>ITEM_SELL_TOTAL=%{y}<br>SEARCH_CATEGORY_NAME=%{customdata[0]}<extra></extra>\", \"legendgroup\": \"\", \"marker\": {\"color\": \"#636efa\", \"symbol\": \"circle\"}, \"mode\": \"markers\", \"name\": \"\", \"orientation\": \"v\", \"showlegend\": false, \"type\": \"scatter\", \"x\": [23.7006237006237, 10.22964509394572, 8.484848484848486, 28.633405639913235, 16.101694915254235, 20.34739454094293, 5.787037037037037, 8.137044967880087, 2.6246719160104988, 10.685483870967742, 5.9734513274336285, 5.010893246187364, 3.0985915492957745, 4.251012145748987, 25.43478260869565, 6.581740976645436, 3.6016949152542375, 5.64516129032258, 1.0040160642570282, 4.23728813559322, 4.564315352697095, 6.2, 0.0, 2.6, 0.0, 0.2004008016032064, 0.0, 0.0, 0.0, 0.0, 0.0], \"xaxis\": \"x\", \"y\": [23582827969.0, 21366342998.3, 17759998939.0, 17124234550.0, 17070672930.0, 13949258000.0, 11500022650.0, 9481478170.0, 8007052600.0, 7851461200.0, 6686936400.0, 6623546350.0, 6561078620.0, 6467063234.0, 5799366580.0, 5744024405.0, 5514603850.0, 4612581850.0, 4134672069.0, 3575775060.0, 2367480265.0, 1523796680.0, 1417177245.0, 1077792084.0, 976526835.0, 312259284.0, 156156136.0, 88544567.0, 0.0, 0.0, 0.0], \"yaxis\": \"y\"}, {\"hovertemplate\": \"<b>OLS trendline</b><br>ITEM_SELL_TOTAL = 6.159e+08 * PORCENTAJE_DE_ITEMS_CON_DESCUENTO + 2.58267e+09<br>R<sup>2</sup>=0.533256<br><br>PORCENTAJE_DE_ITEMS_CON_DESCUENTO=%{x}<br>ITEM_SELL_TOTAL=%{y} <b>(trend)</b><extra></extra>\", \"legendgroup\": \"\", \"marker\": {\"color\": \"#636efa\", \"symbol\": \"circle\"}, \"mode\": \"lines\", \"name\": \"\", \"showlegend\": false, \"type\": \"scatter\", \"x\": [0.0, 0.0, 0.0, 0.0, 0.0, 0.0, 0.0, 0.2004008016032064, 1.0040160642570282, 2.6, 2.6246719160104988, 3.0985915492957745, 3.6016949152542375, 4.23728813559322, 4.251012145748987, 4.564315352697095, 5.010893246187364, 5.64516129032258, 5.787037037037037, 5.9734513274336285, 6.2, 6.581740976645436, 8.137044967880087, 8.484848484848486, 10.22964509394572, 10.685483870967742, 16.101694915254235, 20.34739454094293, 23.7006237006237, 25.43478260869565, 28.633405639913235], \"xaxis\": \"x\", \"y\": [2582672519.158594, 2582672519.158594, 2582672519.158594, 2582672519.158594, 2582672519.158594, 2582672519.158594, 2582672519.158594, 2706099292.587525, 3201045610.9360685, 4184011477.6255417, 4199206900.813094, 4491093813.106202, 4800954974.662025, 5192416584.456748, 5200869196.81399, 5393832516.467311, 5668879662.173492, 6059525096.475166, 6146906312.042647, 6261718798.822275, 6401250035.502853, 6636364150.097298, 7594275255.260061, 7808487302.034414, 8883106834.629963, 9163857754.793537, 12499699967.291578, 15114624665.96998, 17179877162.14852, 18247944938.943947, 20217975582.53562], \"yaxis\": \"y\"}],                        {\"height\": 400, \"legend\": {\"tracegroupgap\": 0}, \"plot_bgcolor\": \"rgb(255,255,255)\", \"template\": {\"data\": {\"bar\": [{\"error_x\": {\"color\": \"#2a3f5f\"}, \"error_y\": {\"color\": \"#2a3f5f\"}, \"marker\": {\"line\": {\"color\": \"#E5ECF6\", \"width\": 0.5}}, \"type\": \"bar\"}], \"barpolar\": [{\"marker\": {\"line\": {\"color\": \"#E5ECF6\", \"width\": 0.5}}, \"type\": \"barpolar\"}], \"carpet\": [{\"aaxis\": {\"endlinecolor\": \"#2a3f5f\", \"gridcolor\": \"white\", \"linecolor\": \"white\", \"minorgridcolor\": \"white\", \"startlinecolor\": \"#2a3f5f\"}, \"baxis\": {\"endlinecolor\": \"#2a3f5f\", \"gridcolor\": \"white\", \"linecolor\": \"white\", \"minorgridcolor\": \"white\", \"startlinecolor\": \"#2a3f5f\"}, \"type\": \"carpet\"}], \"choropleth\": [{\"colorbar\": {\"outlinewidth\": 0, \"ticks\": \"\"}, \"type\": \"choropleth\"}], \"contour\": [{\"colorbar\": {\"outlinewidth\": 0, \"ticks\": \"\"}, \"colorscale\": [[0.0, \"#0d0887\"], [0.1111111111111111, \"#46039f\"], [0.2222222222222222, \"#7201a8\"], [0.3333333333333333, \"#9c179e\"], [0.4444444444444444, \"#bd3786\"], [0.5555555555555556, \"#d8576b\"], [0.6666666666666666, \"#ed7953\"], [0.7777777777777778, \"#fb9f3a\"], [0.8888888888888888, \"#fdca26\"], [1.0, \"#f0f921\"]], \"type\": \"contour\"}], \"contourcarpet\": [{\"colorbar\": {\"outlinewidth\": 0, \"ticks\": \"\"}, \"type\": \"contourcarpet\"}], \"heatmap\": [{\"colorbar\": {\"outlinewidth\": 0, \"ticks\": \"\"}, \"colorscale\": [[0.0, \"#0d0887\"], [0.1111111111111111, \"#46039f\"], [0.2222222222222222, \"#7201a8\"], [0.3333333333333333, \"#9c179e\"], [0.4444444444444444, \"#bd3786\"], [0.5555555555555556, \"#d8576b\"], [0.6666666666666666, \"#ed7953\"], [0.7777777777777778, \"#fb9f3a\"], [0.8888888888888888, \"#fdca26\"], [1.0, \"#f0f921\"]], \"type\": \"heatmap\"}], \"heatmapgl\": [{\"colorbar\": {\"outlinewidth\": 0, \"ticks\": \"\"}, \"colorscale\": [[0.0, \"#0d0887\"], [0.1111111111111111, \"#46039f\"], [0.2222222222222222, \"#7201a8\"], [0.3333333333333333, \"#9c179e\"], [0.4444444444444444, \"#bd3786\"], [0.5555555555555556, \"#d8576b\"], [0.6666666666666666, \"#ed7953\"], [0.7777777777777778, \"#fb9f3a\"], [0.8888888888888888, \"#fdca26\"], [1.0, \"#f0f921\"]], \"type\": \"heatmapgl\"}], \"histogram\": [{\"marker\": {\"colorbar\": {\"outlinewidth\": 0, \"ticks\": \"\"}}, \"type\": \"histogram\"}], \"histogram2d\": [{\"colorbar\": {\"outlinewidth\": 0, \"ticks\": \"\"}, \"colorscale\": [[0.0, \"#0d0887\"], [0.1111111111111111, \"#46039f\"], [0.2222222222222222, \"#7201a8\"], [0.3333333333333333, \"#9c179e\"], [0.4444444444444444, \"#bd3786\"], [0.5555555555555556, \"#d8576b\"], [0.6666666666666666, \"#ed7953\"], [0.7777777777777778, \"#fb9f3a\"], [0.8888888888888888, \"#fdca26\"], [1.0, \"#f0f921\"]], \"type\": \"histogram2d\"}], \"histogram2dcontour\": [{\"colorbar\": {\"outlinewidth\": 0, \"ticks\": \"\"}, \"colorscale\": [[0.0, \"#0d0887\"], [0.1111111111111111, \"#46039f\"], [0.2222222222222222, \"#7201a8\"], [0.3333333333333333, \"#9c179e\"], [0.4444444444444444, \"#bd3786\"], [0.5555555555555556, \"#d8576b\"], [0.6666666666666666, \"#ed7953\"], [0.7777777777777778, \"#fb9f3a\"], [0.8888888888888888, \"#fdca26\"], [1.0, \"#f0f921\"]], \"type\": \"histogram2dcontour\"}], \"mesh3d\": [{\"colorbar\": {\"outlinewidth\": 0, \"ticks\": \"\"}, \"type\": \"mesh3d\"}], \"parcoords\": [{\"line\": {\"colorbar\": {\"outlinewidth\": 0, \"ticks\": \"\"}}, \"type\": \"parcoords\"}], \"pie\": [{\"automargin\": true, \"type\": \"pie\"}], \"scatter\": [{\"marker\": {\"colorbar\": {\"outlinewidth\": 0, \"ticks\": \"\"}}, \"type\": \"scatter\"}], \"scatter3d\": [{\"line\": {\"colorbar\": {\"outlinewidth\": 0, \"ticks\": \"\"}}, \"marker\": {\"colorbar\": {\"outlinewidth\": 0, \"ticks\": \"\"}}, \"type\": \"scatter3d\"}], \"scattercarpet\": [{\"marker\": {\"colorbar\": {\"outlinewidth\": 0, \"ticks\": \"\"}}, \"type\": \"scattercarpet\"}], \"scattergeo\": [{\"marker\": {\"colorbar\": {\"outlinewidth\": 0, \"ticks\": \"\"}}, \"type\": \"scattergeo\"}], \"scattergl\": [{\"marker\": {\"colorbar\": {\"outlinewidth\": 0, \"ticks\": \"\"}}, \"type\": \"scattergl\"}], \"scattermapbox\": [{\"marker\": {\"colorbar\": {\"outlinewidth\": 0, \"ticks\": \"\"}}, \"type\": \"scattermapbox\"}], \"scatterpolar\": [{\"marker\": {\"colorbar\": {\"outlinewidth\": 0, \"ticks\": \"\"}}, \"type\": \"scatterpolar\"}], \"scatterpolargl\": [{\"marker\": {\"colorbar\": {\"outlinewidth\": 0, \"ticks\": \"\"}}, \"type\": \"scatterpolargl\"}], \"scatterternary\": [{\"marker\": {\"colorbar\": {\"outlinewidth\": 0, \"ticks\": \"\"}}, \"type\": \"scatterternary\"}], \"surface\": [{\"colorbar\": {\"outlinewidth\": 0, \"ticks\": \"\"}, \"colorscale\": [[0.0, \"#0d0887\"], [0.1111111111111111, \"#46039f\"], [0.2222222222222222, \"#7201a8\"], [0.3333333333333333, \"#9c179e\"], [0.4444444444444444, \"#bd3786\"], [0.5555555555555556, \"#d8576b\"], [0.6666666666666666, \"#ed7953\"], [0.7777777777777778, \"#fb9f3a\"], [0.8888888888888888, \"#fdca26\"], [1.0, \"#f0f921\"]], \"type\": \"surface\"}], \"table\": [{\"cells\": {\"fill\": {\"color\": \"#EBF0F8\"}, \"line\": {\"color\": \"white\"}}, \"header\": {\"fill\": {\"color\": \"#C8D4E3\"}, \"line\": {\"color\": \"white\"}}, \"type\": \"table\"}]}, \"layout\": {\"annotationdefaults\": {\"arrowcolor\": \"#2a3f5f\", \"arrowhead\": 0, \"arrowwidth\": 1}, \"coloraxis\": {\"colorbar\": {\"outlinewidth\": 0, \"ticks\": \"\"}}, \"colorscale\": {\"diverging\": [[0, \"#8e0152\"], [0.1, \"#c51b7d\"], [0.2, \"#de77ae\"], [0.3, \"#f1b6da\"], [0.4, \"#fde0ef\"], [0.5, \"#f7f7f7\"], [0.6, \"#e6f5d0\"], [0.7, \"#b8e186\"], [0.8, \"#7fbc41\"], [0.9, \"#4d9221\"], [1, \"#276419\"]], \"sequential\": [[0.0, \"#0d0887\"], [0.1111111111111111, \"#46039f\"], [0.2222222222222222, \"#7201a8\"], [0.3333333333333333, \"#9c179e\"], [0.4444444444444444, \"#bd3786\"], [0.5555555555555556, \"#d8576b\"], [0.6666666666666666, \"#ed7953\"], [0.7777777777777778, \"#fb9f3a\"], [0.8888888888888888, \"#fdca26\"], [1.0, \"#f0f921\"]], \"sequentialminus\": [[0.0, \"#0d0887\"], [0.1111111111111111, \"#46039f\"], [0.2222222222222222, \"#7201a8\"], [0.3333333333333333, \"#9c179e\"], [0.4444444444444444, \"#bd3786\"], [0.5555555555555556, \"#d8576b\"], [0.6666666666666666, \"#ed7953\"], [0.7777777777777778, \"#fb9f3a\"], [0.8888888888888888, \"#fdca26\"], [1.0, \"#f0f921\"]]}, \"colorway\": [\"#636efa\", \"#EF553B\", \"#00cc96\", \"#ab63fa\", \"#FFA15A\", \"#19d3f3\", \"#FF6692\", \"#B6E880\", \"#FF97FF\", \"#FECB52\"], \"font\": {\"color\": \"#2a3f5f\"}, \"geo\": {\"bgcolor\": \"white\", \"lakecolor\": \"white\", \"landcolor\": \"#E5ECF6\", \"showlakes\": true, \"showland\": true, \"subunitcolor\": \"white\"}, \"hoverlabel\": {\"align\": \"left\"}, \"hovermode\": \"closest\", \"mapbox\": {\"style\": \"light\"}, \"paper_bgcolor\": \"white\", \"plot_bgcolor\": \"#E5ECF6\", \"polar\": {\"angularaxis\": {\"gridcolor\": \"white\", \"linecolor\": \"white\", \"ticks\": \"\"}, \"bgcolor\": \"#E5ECF6\", \"radialaxis\": {\"gridcolor\": \"white\", \"linecolor\": \"white\", \"ticks\": \"\"}}, \"scene\": {\"xaxis\": {\"backgroundcolor\": \"#E5ECF6\", \"gridcolor\": \"white\", \"gridwidth\": 2, \"linecolor\": \"white\", \"showbackground\": true, \"ticks\": \"\", \"zerolinecolor\": \"white\"}, \"yaxis\": {\"backgroundcolor\": \"#E5ECF6\", \"gridcolor\": \"white\", \"gridwidth\": 2, \"linecolor\": \"white\", \"showbackground\": true, \"ticks\": \"\", \"zerolinecolor\": \"white\"}, \"zaxis\": {\"backgroundcolor\": \"#E5ECF6\", \"gridcolor\": \"white\", \"gridwidth\": 2, \"linecolor\": \"white\", \"showbackground\": true, \"ticks\": \"\", \"zerolinecolor\": \"white\"}}, \"shapedefaults\": {\"line\": {\"color\": \"#2a3f5f\"}}, \"ternary\": {\"aaxis\": {\"gridcolor\": \"white\", \"linecolor\": \"white\", \"ticks\": \"\"}, \"baxis\": {\"gridcolor\": \"white\", \"linecolor\": \"white\", \"ticks\": \"\"}, \"bgcolor\": \"#E5ECF6\", \"caxis\": {\"gridcolor\": \"white\", \"linecolor\": \"white\", \"ticks\": \"\"}}, \"title\": {\"x\": 0.05}, \"xaxis\": {\"automargin\": true, \"gridcolor\": \"white\", \"linecolor\": \"white\", \"ticks\": \"\", \"title\": {\"standoff\": 15}, \"zerolinecolor\": \"white\", \"zerolinewidth\": 2}, \"yaxis\": {\"automargin\": true, \"gridcolor\": \"white\", \"linecolor\": \"white\", \"ticks\": \"\", \"title\": {\"standoff\": 15}, \"zerolinecolor\": \"white\", \"zerolinewidth\": 2}}}, \"title\": {\"font\": {\"size\": 20}, \"text\": \"PORCENTAJE DE ITEMS CON DESCUENTO VS VENTA POR CATEGORIA\"}, \"xaxis\": {\"anchor\": \"y\", \"domain\": [0.0, 1.0], \"title\": {\"font\": {\"size\": 18}, \"text\": \"PORCENTAJE DE ITEMS CON DESCUENTO\"}}, \"yaxis\": {\"anchor\": \"x\", \"domain\": [0.0, 1.0], \"title\": {\"font\": {\"size\": 18}, \"text\": \"VENTA TOTAL\"}}},                        {\"responsive\": true}                    ).then(function(){\n",
       "                            \n",
       "var gd = document.getElementById('fb35bc42-f5c3-48f9-aed0-f1e2fb6c96ef');\n",
       "var x = new MutationObserver(function (mutations, observer) {{\n",
       "        var display = window.getComputedStyle(gd).display;\n",
       "        if (!display || display === 'none') {{\n",
       "            console.log([gd, 'removed!']);\n",
       "            Plotly.purge(gd);\n",
       "            observer.disconnect();\n",
       "        }}\n",
       "}});\n",
       "\n",
       "// Listen for the removal of the full notebook cells\n",
       "var notebookContainer = gd.closest('#notebook-container');\n",
       "if (notebookContainer) {{\n",
       "    x.observe(notebookContainer, {childList: true});\n",
       "}}\n",
       "\n",
       "// Listen for the clearing of the current output cell\n",
       "var outputEl = gd.closest('.output');\n",
       "if (outputEl) {{\n",
       "    x.observe(outputEl, {childList: true});\n",
       "}}\n",
       "\n",
       "                        })                };                });            </script>        </div>"
      ]
     },
     "metadata": {},
     "output_type": "display_data"
    }
   ],
   "source": [
    "# Construye dataframe con venta y % descuentos y grafica en eje x % descuentos y en eje y venta\n",
    "ventas_y_descuentos = pd.merge(ventas_per_category, percentage_discounts_per_category, on='SEARCH_CATEGORY_NAME', how='inner')\n",
    "\n",
    "fig = px.scatter(ventas_y_descuentos, x=\"PORCENTAJE_DE_ITEMS_CON_DESCUENTO\", y=var_ventas, trendline=\"ols\",\n",
    "                 title='PORCENTAJE DE ITEMS CON DESCUENTO VS VENTA POR CATEGORIA',\n",
    "                 hover_data={'SEARCH_CATEGORY_NAME': True}, height=400)\n",
    "fig.update_layout(titlefont = dict(size=20),\n",
    "                  xaxis=dict(title=\"PORCENTAJE DE ITEMS CON DESCUENTO\",titlefont=dict(size=18)),\n",
    "                  yaxis=dict(title=\"VENTA TOTAL\",titlefont=dict(size=18)),\n",
    "                  plot_bgcolor='rgb(255,255,255)', )\n",
    "\n",
    "# Imprime el pvalue de la hipotesis del modelo lineal simple\n",
    "ols_results = px.get_trendline_results(fig).iloc[0,0]\n",
    "p_value =pd.read_html(ols_results.summary().tables[1].as_html(),header=0,index_col=0)[0].loc['x1', 'P>|t|']\n",
    "print('EL P-VALOR ES {}'.format(p_value))\n",
    "\n",
    "fig.show()"
   ]
  },
  {
   "cell_type": "markdown",
   "metadata": {},
   "source": [
    "Con un p-valor significativo (lo que reforzaría nuestra hipótesis) se puede concluir que hay una correlación positiva entre el porcentaje de ítems con descuento y la venta total en una categoría. Sin embargo, __para mí__, verificar de manera mucho más formal esta tesis requiere de analizar otros factores como la naturaleza, la reputación y el awareness de cada categoría dentro del marketplace, los vendedores y diferentes métricas de estos en cada categoría, entre otros. \n",
    "\n",
    "Una categoría que se podría caracterizar como \"diferente\" es __Juegos y Juguetes__ que se posición como la segunda en cuanto a porcentaje de ítems con descuento pero es la número 15 en cuanto a venta. "
   ]
  },
  {
   "cell_type": "markdown",
   "metadata": {},
   "source": [
    "Ahora, entremos al mundo de los productos con descuentos y entendamos de manera general como se distribuyen los descuentos para cada una de las categorías (haciendo un enfasis en las categorías top)."
   ]
  },
  {
   "cell_type": "code",
   "execution_count": 114,
   "metadata": {
    "ExecuteTime": {
     "end_time": "2021-03-11T03:33:33.598084Z",
     "start_time": "2021-03-11T03:33:33.570622Z"
    }
   },
   "outputs": [
    {
     "data": {
      "text/html": [
       "<div>\n",
       "<style scoped>\n",
       "    .dataframe tbody tr th:only-of-type {\n",
       "        vertical-align: middle;\n",
       "    }\n",
       "\n",
       "    .dataframe tbody tr th {\n",
       "        vertical-align: top;\n",
       "    }\n",
       "\n",
       "    .dataframe thead th {\n",
       "        text-align: right;\n",
       "    }\n",
       "</style>\n",
       "<table border=\"1\" class=\"dataframe\">\n",
       "  <thead>\n",
       "    <tr style=\"text-align: right;\">\n",
       "      <th></th>\n",
       "      <th>SEARCH_CATEGORY_NAME</th>\n",
       "      <th>ITEM_DISCOUNT_RATE_MEAN</th>\n",
       "      <th>ITEM_DISCOUNT_RATE_STD</th>\n",
       "      <th>ITEM_DISCOUNT_RATE_MEDIAN</th>\n",
       "    </tr>\n",
       "  </thead>\n",
       "  <tbody>\n",
       "    <tr>\n",
       "      <th>0</th>\n",
       "      <td>Ropa y Accesorios</td>\n",
       "      <td>0.408094</td>\n",
       "      <td>0.115562</td>\n",
       "      <td>0.400000</td>\n",
       "    </tr>\n",
       "    <tr>\n",
       "      <th>1</th>\n",
       "      <td>Electrónica, Audio y Video</td>\n",
       "      <td>0.295670</td>\n",
       "      <td>0.131513</td>\n",
       "      <td>0.300083</td>\n",
       "    </tr>\n",
       "    <tr>\n",
       "      <th>2</th>\n",
       "      <td>Celulares y Teléfonos</td>\n",
       "      <td>0.279006</td>\n",
       "      <td>0.142023</td>\n",
       "      <td>0.286896</td>\n",
       "    </tr>\n",
       "    <tr>\n",
       "      <th>3</th>\n",
       "      <td>Consolas y Videojuegos</td>\n",
       "      <td>0.396167</td>\n",
       "      <td>0.226710</td>\n",
       "      <td>0.286838</td>\n",
       "    </tr>\n",
       "    <tr>\n",
       "      <th>4</th>\n",
       "      <td>Deportes y Fitness</td>\n",
       "      <td>0.302534</td>\n",
       "      <td>0.138329</td>\n",
       "      <td>0.270270</td>\n",
       "    </tr>\n",
       "    <tr>\n",
       "      <th>5</th>\n",
       "      <td>Accesorios para Vehículos</td>\n",
       "      <td>0.254427</td>\n",
       "      <td>0.122009</td>\n",
       "      <td>0.264341</td>\n",
       "    </tr>\n",
       "    <tr>\n",
       "      <th>6</th>\n",
       "      <td>Computación</td>\n",
       "      <td>0.256403</td>\n",
       "      <td>0.119119</td>\n",
       "      <td>0.260052</td>\n",
       "    </tr>\n",
       "    <tr>\n",
       "      <th>7</th>\n",
       "      <td>Electrodomésticos</td>\n",
       "      <td>0.250628</td>\n",
       "      <td>0.105798</td>\n",
       "      <td>0.252965</td>\n",
       "    </tr>\n",
       "    <tr>\n",
       "      <th>8</th>\n",
       "      <td>Juegos y Juguetes</td>\n",
       "      <td>0.252178</td>\n",
       "      <td>0.091409</td>\n",
       "      <td>0.250000</td>\n",
       "    </tr>\n",
       "    <tr>\n",
       "      <th>9</th>\n",
       "      <td>Herramientas y Construcción</td>\n",
       "      <td>0.205726</td>\n",
       "      <td>0.121745</td>\n",
       "      <td>0.195133</td>\n",
       "    </tr>\n",
       "  </tbody>\n",
       "</table>\n",
       "</div>"
      ],
      "text/plain": [
       "          SEARCH_CATEGORY_NAME  ITEM_DISCOUNT_RATE_MEAN  \\\n",
       "0            Ropa y Accesorios                 0.408094   \n",
       "1   Electrónica, Audio y Video                 0.295670   \n",
       "2        Celulares y Teléfonos                 0.279006   \n",
       "3       Consolas y Videojuegos                 0.396167   \n",
       "4           Deportes y Fitness                 0.302534   \n",
       "5    Accesorios para Vehículos                 0.254427   \n",
       "6                  Computación                 0.256403   \n",
       "7            Electrodomésticos                 0.250628   \n",
       "8            Juegos y Juguetes                 0.252178   \n",
       "9  Herramientas y Construcción                 0.205726   \n",
       "\n",
       "   ITEM_DISCOUNT_RATE_STD  ITEM_DISCOUNT_RATE_MEDIAN  \n",
       "0                0.115562                   0.400000  \n",
       "1                0.131513                   0.300083  \n",
       "2                0.142023                   0.286896  \n",
       "3                0.226710                   0.286838  \n",
       "4                0.138329                   0.270270  \n",
       "5                0.122009                   0.264341  \n",
       "6                0.119119                   0.260052  \n",
       "7                0.105798                   0.252965  \n",
       "8                0.091409                   0.250000  \n",
       "9                0.121745                   0.195133  "
      ]
     },
     "execution_count": 114,
     "metadata": {},
     "output_type": "execute_result"
    }
   ],
   "source": [
    "# Genera un dataset con el total de items por categoria, el total de items con descuento por categoria\n",
    "# y el porcentaje de items con descuento por categoria\n",
    "discount_products_top = discount_products.loc[discount_products['SEARCH_CATEGORY_NAME'].isin(top_ten_categorias)]\n",
    "discount_products_per_category_mean = discount_products_top.groupby(['SEARCH_CATEGORY_NAME'])[['ITEM_DISCOUNT_RATE']].mean().reset_index()\n",
    "discount_products_per_category_median = discount_products_top.groupby(['SEARCH_CATEGORY_NAME'])[['ITEM_DISCOUNT_RATE']].median().reset_index()\n",
    "discount_products_per_category_std = discount_products_top.groupby(['SEARCH_CATEGORY_NAME'])[['ITEM_DISCOUNT_RATE']].std().reset_index()\n",
    "discount_products_per_category = pd.merge(discount_products_per_category_mean, discount_products_per_category_std, on='SEARCH_CATEGORY_NAME',\n",
    "                                          how='inner', suffixes=('_MEAN', '_STD'))\n",
    "discount_products_per_category = pd.merge(discount_products_per_category, discount_products_per_category_median, on='SEARCH_CATEGORY_NAME',\n",
    "                                          how='inner').rename(columns={'ITEM_DISCOUNT_RATE': 'ITEM_DISCOUNT_RATE_MEDIAN'})\n",
    "discount_products_per_category.sort_values(by='ITEM_DISCOUNT_RATE_MEDIAN', ascending=False, inplace=True)\n",
    "discount_products_per_category.reset_index(drop=True, inplace=True)\n",
    "sorted_dict = discount_products_per_category['SEARCH_CATEGORY_NAME'].tolist()\n",
    "sorted_dict = {k: v for v,k in enumerate(sorted_dict)}\n",
    "discount_products_per_category"
   ]
  },
  {
   "cell_type": "code",
   "execution_count": 121,
   "metadata": {
    "ExecuteTime": {
     "end_time": "2021-03-11T03:42:09.291830Z",
     "start_time": "2021-03-11T03:42:09.217658Z"
    },
    "scrolled": false
   },
   "outputs": [
    {
     "data": {
      "application/vnd.plotly.v1+json": {
       "config": {
        "plotlyServerURL": "https://plot.ly"
       },
       "data": [
        {
         "alignmentgroup": "True",
         "hovertemplate": "SEARCH_CATEGORY_NAME=%{x}<br>ITEM_DISCOUNT_RATE=%{y}<extra></extra>",
         "legendgroup": "Ropa y Accesorios",
         "marker": {
          "color": "#636efa"
         },
         "name": "Ropa y Accesorios",
         "notched": false,
         "offsetgroup": "Ropa y Accesorios",
         "orientation": "v",
         "quartilemethod": "exclusive",
         "showlegend": true,
         "type": "box",
         "x": [
          "Ropa y Accesorios",
          "Ropa y Accesorios",
          "Ropa y Accesorios",
          "Ropa y Accesorios",
          "Ropa y Accesorios",
          "Ropa y Accesorios",
          "Ropa y Accesorios",
          "Ropa y Accesorios",
          "Ropa y Accesorios",
          "Ropa y Accesorios",
          "Ropa y Accesorios",
          "Ropa y Accesorios",
          "Ropa y Accesorios",
          "Ropa y Accesorios",
          "Ropa y Accesorios",
          "Ropa y Accesorios",
          "Ropa y Accesorios",
          "Ropa y Accesorios",
          "Ropa y Accesorios",
          "Ropa y Accesorios",
          "Ropa y Accesorios",
          "Ropa y Accesorios",
          "Ropa y Accesorios",
          "Ropa y Accesorios",
          "Ropa y Accesorios",
          "Ropa y Accesorios",
          "Ropa y Accesorios",
          "Ropa y Accesorios",
          "Ropa y Accesorios",
          "Ropa y Accesorios",
          "Ropa y Accesorios"
         ],
         "x0": " ",
         "xaxis": "x",
         "y": [
          0.46,
          0.39250050010002,
          0.46,
          0.4,
          0.3,
          0.5834548864346739,
          0.4,
          0.46,
          0.600400266844563,
          0.3925005556790398,
          0.4,
          0.51,
          0.46,
          0.4,
          0.3249972206781545,
          0.4,
          0.5006257822277848,
          0.4,
          0.46,
          0.4,
          0.4,
          0.4,
          0.4,
          0.6253908692933083,
          0.05,
          0.11123470522803114,
          0.46,
          0.36396724294813465,
          0.3379224030037547,
          0.3379224030037547,
          0.46
         ],
         "y0": " ",
         "yaxis": "y"
        },
        {
         "alignmentgroup": "True",
         "hovertemplate": "SEARCH_CATEGORY_NAME=%{x}<br>ITEM_DISCOUNT_RATE=%{y}<extra></extra>",
         "legendgroup": "Electrónica, Audio y Video",
         "marker": {
          "color": "#EF553B"
         },
         "name": "Electrónica, Audio y Video",
         "notched": false,
         "offsetgroup": "Electrónica, Audio y Video",
         "orientation": "v",
         "quartilemethod": "exclusive",
         "showlegend": true,
         "type": "box",
         "x": [
          "Electrónica, Audio y Video",
          "Electrónica, Audio y Video",
          "Electrónica, Audio y Video",
          "Electrónica, Audio y Video",
          "Electrónica, Audio y Video",
          "Electrónica, Audio y Video",
          "Electrónica, Audio y Video",
          "Electrónica, Audio y Video",
          "Electrónica, Audio y Video",
          "Electrónica, Audio y Video",
          "Electrónica, Audio y Video",
          "Electrónica, Audio y Video",
          "Electrónica, Audio y Video",
          "Electrónica, Audio y Video",
          "Electrónica, Audio y Video",
          "Electrónica, Audio y Video",
          "Electrónica, Audio y Video",
          "Electrónica, Audio y Video",
          "Electrónica, Audio y Video",
          "Electrónica, Audio y Video",
          "Electrónica, Audio y Video",
          "Electrónica, Audio y Video",
          "Electrónica, Audio y Video",
          "Electrónica, Audio y Video",
          "Electrónica, Audio y Video",
          "Electrónica, Audio y Video",
          "Electrónica, Audio y Video",
          "Electrónica, Audio y Video",
          "Electrónica, Audio y Video",
          "Electrónica, Audio y Video",
          "Electrónica, Audio y Video",
          "Electrónica, Audio y Video",
          "Electrónica, Audio y Video",
          "Electrónica, Audio y Video",
          "Electrónica, Audio y Video",
          "Electrónica, Audio y Video",
          "Electrónica, Audio y Video",
          "Electrónica, Audio y Video",
          "Electrónica, Audio y Video",
          "Electrónica, Audio y Video",
          "Electrónica, Audio y Video",
          "Electrónica, Audio y Video",
          "Electrónica, Audio y Video",
          "Electrónica, Audio y Video",
          "Electrónica, Audio y Video",
          "Electrónica, Audio y Video",
          "Electrónica, Audio y Video",
          "Electrónica, Audio y Video",
          "Electrónica, Audio y Video",
          "Electrónica, Audio y Video",
          "Electrónica, Audio y Video",
          "Electrónica, Audio y Video",
          "Electrónica, Audio y Video",
          "Electrónica, Audio y Video",
          "Electrónica, Audio y Video",
          "Electrónica, Audio y Video",
          "Electrónica, Audio y Video",
          "Electrónica, Audio y Video",
          "Electrónica, Audio y Video",
          "Electrónica, Audio y Video",
          "Electrónica, Audio y Video",
          "Electrónica, Audio y Video",
          "Electrónica, Audio y Video",
          "Electrónica, Audio y Video",
          "Electrónica, Audio y Video",
          "Electrónica, Audio y Video",
          "Electrónica, Audio y Video",
          "Electrónica, Audio y Video",
          "Electrónica, Audio y Video",
          "Electrónica, Audio y Video",
          "Electrónica, Audio y Video",
          "Electrónica, Audio y Video",
          "Electrónica, Audio y Video",
          "Electrónica, Audio y Video",
          "Electrónica, Audio y Video",
          "Electrónica, Audio y Video",
          "Electrónica, Audio y Video",
          "Electrónica, Audio y Video",
          "Electrónica, Audio y Video",
          "Electrónica, Audio y Video",
          "Electrónica, Audio y Video",
          "Electrónica, Audio y Video"
         ],
         "x0": " ",
         "xaxis": "x",
         "y": [
          0.4622663281790907,
          0.22610661796677972,
          0.3000150007500375,
          0.06253908692933083,
          0.45971090033031303,
          0.35035035035035034,
          0.3003003003003003,
          0.1428775539362766,
          0.4724847137298499,
          0.2255813953488372,
          0.1929373078847666,
          0.4408475316732198,
          0.46255781972746596,
          0.2544922351410684,
          0.21895861148197596,
          0.22729339030820983,
          0.2863766534842493,
          0.4092769440654843,
          0.40804,
          0.30559799972218366,
          0.15018773466833543,
          0.41204153063325394,
          0.10001250156269534,
          0.13451079010468447,
          0.1280256051210242,
          0.16927497562727692,
          0.2156022288898414,
          0.39584982707612815,
          0.20026702269692923,
          0.5008347245409015,
          0.44143613890523836,
          0.182934963868816,
          0.21001666666666666,
          0.44493882091212456,
          0.10828715204790114,
          0.4618937644341801,
          0.3338518806600367,
          0.23094688221709006,
          0.42684258416742493,
          0.5882352941176471,
          0.5000416701391782,
          0.34797738147020446,
          0.2727396699849993,
          0.33387183629509964,
          0.10020040080160321,
          0.22228396776882467,
          0.1666777785185679,
          0.1,
          0.222246916324036,
          0.3619219962855374,
          0.3603288062902073,
          0.4408475316732198,
          0.10020040080160321,
          0.22574653521931703,
          0.4711453614918525,
          0.3001500750375188,
          0.38435094920472035,
          0.3772568229531141,
          0.16666666666666666,
          0.2242560155160919,
          0.43734781178019083,
          0.3371339823478162,
          0.18761726078799248,
          0.45664443304258595,
          0.2036814725890356,
          0.2768104295026342,
          0.4170141784820684,
          0.09099181073703366,
          0.3522352679728879,
          0.571632725973562,
          0.33338889814969164,
          0.22004400880176037,
          0.4047294224647567,
          0.1669449081803005,
          0.34446358131007276,
          0.379746835443038,
          0.08888888888888889,
          0.12470007132991864,
          0.1,
          0.22728305832083276,
          0.34797738147020446,
          0.4521892508819257
         ],
         "y0": " ",
         "yaxis": "y"
        },
        {
         "alignmentgroup": "True",
         "hovertemplate": "SEARCH_CATEGORY_NAME=%{x}<br>ITEM_DISCOUNT_RATE=%{y}<extra></extra>",
         "legendgroup": "Celulares y Teléfonos",
         "marker": {
          "color": "#00cc96"
         },
         "name": "Celulares y Teléfonos",
         "notched": false,
         "offsetgroup": "Celulares y Teléfonos",
         "orientation": "v",
         "quartilemethod": "exclusive",
         "showlegend": true,
         "type": "box",
         "x": [
          "Celulares y Teléfonos",
          "Celulares y Teléfonos",
          "Celulares y Teléfonos",
          "Celulares y Teléfonos",
          "Celulares y Teléfonos",
          "Celulares y Teléfonos",
          "Celulares y Teléfonos",
          "Celulares y Teléfonos",
          "Celulares y Teléfonos",
          "Celulares y Teléfonos",
          "Celulares y Teléfonos",
          "Celulares y Teléfonos",
          "Celulares y Teléfonos",
          "Celulares y Teléfonos",
          "Celulares y Teléfonos",
          "Celulares y Teléfonos",
          "Celulares y Teléfonos",
          "Celulares y Teléfonos",
          "Celulares y Teléfonos",
          "Celulares y Teléfonos",
          "Celulares y Teléfonos",
          "Celulares y Teléfonos",
          "Celulares y Teléfonos",
          "Celulares y Teléfonos",
          "Celulares y Teléfonos",
          "Celulares y Teléfonos",
          "Celulares y Teléfonos",
          "Celulares y Teléfonos",
          "Celulares y Teléfonos",
          "Celulares y Teléfonos",
          "Celulares y Teléfonos",
          "Celulares y Teléfonos",
          "Celulares y Teléfonos",
          "Celulares y Teléfonos",
          "Celulares y Teléfonos",
          "Celulares y Teléfonos",
          "Celulares y Teléfonos",
          "Celulares y Teléfonos",
          "Celulares y Teléfonos",
          "Celulares y Teléfonos",
          "Celulares y Teléfonos",
          "Celulares y Teléfonos",
          "Celulares y Teléfonos",
          "Celulares y Teléfonos",
          "Celulares y Teléfonos",
          "Celulares y Teléfonos",
          "Celulares y Teléfonos",
          "Celulares y Teléfonos",
          "Celulares y Teléfonos",
          "Celulares y Teléfonos",
          "Celulares y Teléfonos",
          "Celulares y Teléfonos",
          "Celulares y Teléfonos",
          "Celulares y Teléfonos",
          "Celulares y Teléfonos",
          "Celulares y Teléfonos",
          "Celulares y Teléfonos",
          "Celulares y Teléfonos",
          "Celulares y Teléfonos",
          "Celulares y Teléfonos",
          "Celulares y Teléfonos",
          "Celulares y Teléfonos",
          "Celulares y Teléfonos",
          "Celulares y Teléfonos",
          "Celulares y Teléfonos",
          "Celulares y Teléfonos",
          "Celulares y Teléfonos",
          "Celulares y Teléfonos",
          "Celulares y Teléfonos",
          "Celulares y Teléfonos",
          "Celulares y Teléfonos",
          "Celulares y Teléfonos",
          "Celulares y Teléfonos",
          "Celulares y Teléfonos",
          "Celulares y Teléfonos",
          "Celulares y Teléfonos",
          "Celulares y Teléfonos",
          "Celulares y Teléfonos",
          "Celulares y Teléfonos",
          "Celulares y Teléfonos",
          "Celulares y Teléfonos",
          "Celulares y Teléfonos",
          "Celulares y Teléfonos",
          "Celulares y Teléfonos",
          "Celulares y Teléfonos",
          "Celulares y Teléfonos",
          "Celulares y Teléfonos",
          "Celulares y Teléfonos",
          "Celulares y Teléfonos",
          "Celulares y Teléfonos",
          "Celulares y Teléfonos",
          "Celulares y Teléfonos",
          "Celulares y Teléfonos",
          "Celulares y Teléfonos",
          "Celulares y Teléfonos",
          "Celulares y Teléfonos",
          "Celulares y Teléfonos",
          "Celulares y Teléfonos",
          "Celulares y Teléfonos",
          "Celulares y Teléfonos",
          "Celulares y Teléfonos",
          "Celulares y Teléfonos",
          "Celulares y Teléfonos",
          "Celulares y Teléfonos",
          "Celulares y Teléfonos",
          "Celulares y Teléfonos",
          "Celulares y Teléfonos",
          "Celulares y Teléfonos",
          "Celulares y Teléfonos",
          "Celulares y Teléfonos",
          "Celulares y Teléfonos",
          "Celulares y Teléfonos",
          "Celulares y Teléfonos",
          "Celulares y Teléfonos"
         ],
         "x0": " ",
         "xaxis": "x",
         "y": [
          0.3286183740534362,
          0.20918599363346976,
          0.4769597661358566,
          0.12,
          0.060155905280188264,
          0.35003500350035005,
          0.38339723287214533,
          0.043721819920754204,
          0.2848384212543109,
          0.3125195324707794,
          0.1000181851245681,
          0.03704252481849163,
          0.10715051075076791,
          0.47203776302104167,
          0.05671379503155204,
          0.31433061865980855,
          0.05,
          0.19094380796508456,
          0.26894865525672373,
          0.10467059547893394,
          0.4000160006400256,
          0.01962046659922131,
          0.15000375009375233,
          0.280014000700035,
          0.26894865525672373,
          0.23334888992599506,
          0.12500446444515875,
          0.03685180310608055,
          0.05,
          0.24289184169167025,
          0.35793241393830927,
          0.2333592621402378,
          0.19474709195220802,
          0.26471366804906027,
          0.16354581673306773,
          0.5133675578371891,
          0.2500156259766235,
          0.3723619012662874,
          0.33502791899324946,
          0.27343358395989975,
          0.267606915377616,
          0.43721075672295184,
          0.3273024820438222,
          0.39399624765478425,
          0.25925925925925924,
          0.4125515689461183,
          0.037136637213471636,
          0.16581129095933675,
          0.3125195324707794,
          0.36373748609566187,
          0.4923455650434649,
          0.3921747042766151,
          0.20463847203274216,
          0.15956521739130436,
          0.30771597815216556,
          0.3334299797042621,
          0.33769179452968645,
          0.060155905280188264,
          0.4923455650434649,
          0.46504650465046504,
          0.38204826368452033,
          0.28215839860748476,
          0.466977985323549,
          0.04000533404453927,
          0.29002900290029004,
          0.3134640262712708,
          0.11334088939262618,
          0.22000440008800176,
          6.273919317397578e-05,
          0.22503750625104185,
          0.39132136179833904,
          0.33502791899324946,
          0.33557046979865773,
          0.27506876719179796,
          0.23334888992599506,
          0.46504650465046504,
          0.26471366804906027,
          0.3182107464314938,
          0.5000396856893404,
          0.288953100689042,
          0.3750312526043837,
          0.22702270227022703,
          0.13334222281485433,
          0.3428620408862984,
          0.06038086391082211,
          0.05671379503155204,
          0.27002700270027,
          0.31433061865980855,
          0.17803440394562733,
          0.44295246038365305,
          0.2848384212543109,
          0.30795465944427725,
          0.34968639917518685,
          0.20456870098874871,
          0.39003900390039004,
          0.47203776302104167,
          0.12501562695336918,
          0.5308100623124856,
          0.5833722248149876,
          0.31654926515349163,
          0.554595872352032,
          0.2983050847457627,
          0.33769179452968645,
          0.38204826368452033,
          0.4538810677744442,
          0.5012813300831302,
          0.16354581673306773,
          0.4769597661358566,
          0.48465266558966075,
          0.22442442442442442,
          0.3286183740534362,
          0.4450222511125556,
          0.1,
          0.09093664746892997
         ],
         "y0": " ",
         "yaxis": "y"
        },
        {
         "alignmentgroup": "True",
         "hovertemplate": "SEARCH_CATEGORY_NAME=%{x}<br>ITEM_DISCOUNT_RATE=%{y}<extra></extra>",
         "legendgroup": "Consolas y Videojuegos",
         "marker": {
          "color": "#ab63fa"
         },
         "name": "Consolas y Videojuegos",
         "notched": false,
         "offsetgroup": "Consolas y Videojuegos",
         "orientation": "v",
         "quartilemethod": "exclusive",
         "showlegend": true,
         "type": "box",
         "x": [
          "Consolas y Videojuegos",
          "Consolas y Videojuegos",
          "Consolas y Videojuegos",
          "Consolas y Videojuegos",
          "Consolas y Videojuegos",
          "Consolas y Videojuegos",
          "Consolas y Videojuegos",
          "Consolas y Videojuegos",
          "Consolas y Videojuegos",
          "Consolas y Videojuegos",
          "Consolas y Videojuegos",
          "Consolas y Videojuegos",
          "Consolas y Videojuegos",
          "Consolas y Videojuegos",
          "Consolas y Videojuegos",
          "Consolas y Videojuegos",
          "Consolas y Videojuegos",
          "Consolas y Videojuegos",
          "Consolas y Videojuegos",
          "Consolas y Videojuegos",
          "Consolas y Videojuegos",
          "Consolas y Videojuegos",
          "Consolas y Videojuegos",
          "Consolas y Videojuegos",
          "Consolas y Videojuegos",
          "Consolas y Videojuegos",
          "Consolas y Videojuegos",
          "Consolas y Videojuegos",
          "Consolas y Videojuegos",
          "Consolas y Videojuegos",
          "Consolas y Videojuegos",
          "Consolas y Videojuegos",
          "Consolas y Videojuegos",
          "Consolas y Videojuegos",
          "Consolas y Videojuegos",
          "Consolas y Videojuegos",
          "Consolas y Videojuegos",
          "Consolas y Videojuegos",
          "Consolas y Videojuegos",
          "Consolas y Videojuegos",
          "Consolas y Videojuegos",
          "Consolas y Videojuegos"
         ],
         "x0": " ",
         "xaxis": "x",
         "y": [
          0.2801120448179272,
          0.4075583549462764,
          0.7502083333333334,
          0.2857346953353811,
          0.750625,
          0.42340261739799845,
          0.41102756892230574,
          0.28653295128939826,
          0.2768166089965398,
          0.16316648244644455,
          0.1666759264403578,
          0.750625,
          0.7504545454545455,
          0.7503125,
          0.750125,
          0.1442857142857143,
          0.24288804759329366,
          0.7504545454545455,
          0.5388760585065435,
          0.1430615164520744,
          0.3003003003003003,
          0.2002002002002002,
          0.2422145328719723,
          0.2422145328719723,
          0.17543859649122806,
          0.7503846153846154,
          0.5388760585065435,
          0.4740484429065744,
          0.5718370264474625,
          0.2715578847070033,
          0.20903573836817263,
          0.2000200020002,
          0.2941349491146538,
          0.1364877161055505,
          0.1442857142857143,
          0.75025,
          0.35727045373347627,
          0.2422145328719723,
          0.28714285714285714,
          0.7508333333333334,
          0.20050125313283207,
          0.2768166089965398
         ],
         "y0": " ",
         "yaxis": "y"
        },
        {
         "alignmentgroup": "True",
         "hovertemplate": "SEARCH_CATEGORY_NAME=%{x}<br>ITEM_DISCOUNT_RATE=%{y}<extra></extra>",
         "legendgroup": "Deportes y Fitness",
         "marker": {
          "color": "#FFA15A"
         },
         "name": "Deportes y Fitness",
         "notched": false,
         "offsetgroup": "Deportes y Fitness",
         "orientation": "v",
         "quartilemethod": "exclusive",
         "showlegend": true,
         "type": "box",
         "x": [
          "Deportes y Fitness",
          "Deportes y Fitness",
          "Deportes y Fitness",
          "Deportes y Fitness",
          "Deportes y Fitness",
          "Deportes y Fitness",
          "Deportes y Fitness",
          "Deportes y Fitness",
          "Deportes y Fitness",
          "Deportes y Fitness",
          "Deportes y Fitness",
          "Deportes y Fitness",
          "Deportes y Fitness",
          "Deportes y Fitness",
          "Deportes y Fitness",
          "Deportes y Fitness",
          "Deportes y Fitness",
          "Deportes y Fitness",
          "Deportes y Fitness",
          "Deportes y Fitness",
          "Deportes y Fitness",
          "Deportes y Fitness",
          "Deportes y Fitness",
          "Deportes y Fitness",
          "Deportes y Fitness",
          "Deportes y Fitness",
          "Deportes y Fitness",
          "Deportes y Fitness",
          "Deportes y Fitness",
          "Deportes y Fitness",
          "Deportes y Fitness",
          "Deportes y Fitness",
          "Deportes y Fitness",
          "Deportes y Fitness",
          "Deportes y Fitness",
          "Deportes y Fitness",
          "Deportes y Fitness",
          "Deportes y Fitness",
          "Deportes y Fitness",
          "Deportes y Fitness",
          "Deportes y Fitness",
          "Deportes y Fitness",
          "Deportes y Fitness",
          "Deportes y Fitness",
          "Deportes y Fitness",
          "Deportes y Fitness",
          "Deportes y Fitness",
          "Deportes y Fitness",
          "Deportes y Fitness",
          "Deportes y Fitness",
          "Deportes y Fitness",
          "Deportes y Fitness",
          "Deportes y Fitness",
          "Deportes y Fitness",
          "Deportes y Fitness",
          "Deportes y Fitness",
          "Deportes y Fitness",
          "Deportes y Fitness",
          "Deportes y Fitness",
          "Deportes y Fitness",
          "Deportes y Fitness",
          "Deportes y Fitness",
          "Deportes y Fitness",
          "Deportes y Fitness",
          "Deportes y Fitness",
          "Deportes y Fitness",
          "Deportes y Fitness",
          "Deportes y Fitness",
          "Deportes y Fitness",
          "Deportes y Fitness",
          "Deportes y Fitness",
          "Deportes y Fitness",
          "Deportes y Fitness",
          "Deportes y Fitness",
          "Deportes y Fitness",
          "Deportes y Fitness"
         ],
         "x0": " ",
         "xaxis": "x",
         "y": [
          0.46,
          0.027028488026379804,
          0.3809886655871988,
          0.5714693906707622,
          0.27454545454545454,
          0.19938398357289527,
          0.4083299305839118,
          0.19506493506493505,
          0.2249438202247191,
          0.23082841754295974,
          0.05883045064125191,
          0.47393364928909953,
          0.5000714285714286,
          0.19617647058823529,
          0.3925005953798523,
          0.1,
          0.24634334103156275,
          0.44493882091212456,
          0.244,
          0.1,
          0.5002084201750729,
          0.4546832373446499,
          0.4003333333333333,
          0.26666666666666666,
          0.5016244314489928,
          0.2166820276497696,
          0.2702702702702703,
          0.10037174721189591,
          0.5000926097425449,
          0.210637177461822,
          0.47451886066204774,
          0.12098901098901099,
          0.26831683168316833,
          0.2673469387755102,
          0.43524627202892,
          0.39862927477445975,
          0.4291845493562232,
          0.22785923753665688,
          0.4387990762124711,
          0.3381872738504986,
          0.32499165275459097,
          0.33344448149383127,
          0.10091743119266056,
          0.25025,
          0.4001600640256102,
          0.20002667022269635,
          0.40005,
          0.25052410901467503,
          0.5005005005005005,
          0.2717391304347826,
          0.3,
          0.5000714285714286,
          0.05,
          0.44618816832064007,
          0.2086230876216968,
          0.23617977528089887,
          0.10091743119266056,
          0.054884146341463415,
          0.21984126984126984,
          0.050017863522686674,
          0.5000714285714286,
          0.4333622241482766,
          0.296,
          0.22847826086956521,
          0.22847826086956521,
          0.30952380952380953,
          0.24414634146341463,
          0.5,
          0.2702702702702703,
          0.21464285714285714,
          0.4,
          0.20407407407407407,
          0.2685365853658537,
          0.40080160320641284,
          0.25583126550868485,
          0.4889975550122249
         ],
         "y0": " ",
         "yaxis": "y"
        },
        {
         "alignmentgroup": "True",
         "hovertemplate": "SEARCH_CATEGORY_NAME=%{x}<br>ITEM_DISCOUNT_RATE=%{y}<extra></extra>",
         "legendgroup": "Accesorios para Vehículos",
         "marker": {
          "color": "#19d3f3"
         },
         "name": "Accesorios para Vehículos",
         "notched": false,
         "offsetgroup": "Accesorios para Vehículos",
         "orientation": "v",
         "quartilemethod": "exclusive",
         "showlegend": true,
         "type": "box",
         "x": [
          "Accesorios para Vehículos",
          "Accesorios para Vehículos",
          "Accesorios para Vehículos",
          "Accesorios para Vehículos",
          "Accesorios para Vehículos",
          "Accesorios para Vehículos",
          "Accesorios para Vehículos",
          "Accesorios para Vehículos",
          "Accesorios para Vehículos",
          "Accesorios para Vehículos",
          "Accesorios para Vehículos",
          "Accesorios para Vehículos",
          "Accesorios para Vehículos",
          "Accesorios para Vehículos",
          "Accesorios para Vehículos",
          "Accesorios para Vehículos",
          "Accesorios para Vehículos",
          "Accesorios para Vehículos",
          "Accesorios para Vehículos",
          "Accesorios para Vehículos",
          "Accesorios para Vehículos",
          "Accesorios para Vehículos",
          "Accesorios para Vehículos",
          "Accesorios para Vehículos",
          "Accesorios para Vehículos",
          "Accesorios para Vehículos",
          "Accesorios para Vehículos",
          "Accesorios para Vehículos",
          "Accesorios para Vehículos",
          "Accesorios para Vehículos",
          "Accesorios para Vehículos",
          "Accesorios para Vehículos",
          "Accesorios para Vehículos",
          "Accesorios para Vehículos",
          "Accesorios para Vehículos",
          "Accesorios para Vehículos",
          "Accesorios para Vehículos",
          "Accesorios para Vehículos",
          "Accesorios para Vehículos",
          "Accesorios para Vehículos",
          "Accesorios para Vehículos",
          "Accesorios para Vehículos",
          "Accesorios para Vehículos",
          "Accesorios para Vehículos",
          "Accesorios para Vehículos",
          "Accesorios para Vehículos",
          "Accesorios para Vehículos",
          "Accesorios para Vehículos",
          "Accesorios para Vehículos",
          "Accesorios para Vehículos",
          "Accesorios para Vehículos",
          "Accesorios para Vehículos",
          "Accesorios para Vehículos"
         ],
         "x0": " ",
         "xaxis": "x",
         "y": [
          0.34006801360272054,
          0.4996426018584703,
          0.1251564455569462,
          0.14326647564469913,
          0.26675558519506504,
          0.0625,
          0.0625,
          0.2188868042526579,
          0.35841666666666666,
          0.08760951188986232,
          0.22110091743119267,
          0.26434108527131783,
          0.17522935779816515,
          0.2002002002002002,
          0.5005005005005005,
          0.17863522686673813,
          0.3150684931506849,
          0.42340261739799845,
          0.2992992992992993,
          0.046363636363636364,
          0.26675558519506504,
          0.272975432211101,
          0.2857551078725532,
          0.37593984962406013,
          0.12531328320802004,
          0.14289797084881395,
          0.1442857142857143,
          0.3531489111241907,
          0.1939068100358423,
          0.06,
          0.33343437405274323,
          0.1668520578420467,
          0.20080321285140562,
          0.3334722801167153,
          0.26675558519506504,
          0.41618015012510423,
          0.25125628140703515,
          0.6618705035971223,
          0.1669449081803005,
          0.25005683109797683,
          0.3942652329749104,
          0.11004566210045662,
          0.28714285714285714,
          0.12531328320802004,
          0.25125628140703515,
          0.25125628140703515,
          0.26672593909757725,
          0.26675558519506504,
          0.3856041131105398,
          0.2500893176134334,
          0.2857551078725532,
          0.2861230329041488,
          0.26675558519506504
         ],
         "y0": " ",
         "yaxis": "y"
        },
        {
         "alignmentgroup": "True",
         "hovertemplate": "SEARCH_CATEGORY_NAME=%{x}<br>ITEM_DISCOUNT_RATE=%{y}<extra></extra>",
         "legendgroup": "Computación",
         "marker": {
          "color": "#FF6692"
         },
         "name": "Computación",
         "notched": false,
         "offsetgroup": "Computación",
         "orientation": "v",
         "quartilemethod": "exclusive",
         "showlegend": true,
         "type": "box",
         "x": [
          "Computación",
          "Computación",
          "Computación",
          "Computación",
          "Computación",
          "Computación",
          "Computación",
          "Computación",
          "Computación",
          "Computación",
          "Computación",
          "Computación",
          "Computación",
          "Computación",
          "Computación",
          "Computación",
          "Computación",
          "Computación",
          "Computación",
          "Computación",
          "Computación",
          "Computación",
          "Computación",
          "Computación",
          "Computación",
          "Computación",
          "Computación",
          "Computación",
          "Computación",
          "Computación",
          "Computación",
          "Computación",
          "Computación",
          "Computación",
          "Computación",
          "Computación",
          "Computación",
          "Computación",
          "Computación",
          "Computación",
          "Computación",
          "Computación",
          "Computación",
          "Computación",
          "Computación",
          "Computación",
          "Computación",
          "Computación",
          "Computación"
         ],
         "x0": " ",
         "xaxis": "x",
         "y": [
          0.3337041156840934,
          0.13462686567164178,
          0.1290364205296945,
          0.4502251125562781,
          0.07142959185131216,
          0.34870641169853767,
          0.353045013239188,
          0.166673611400475,
          0.25006251562890724,
          0.33340742387197153,
          0.14445032111824707,
          0.09375585974123382,
          0.35765379113018597,
          0.253025302530253,
          0.13462686567164178,
          0.3237198351971748,
          0.2919099249374479,
          0.2600520104020804,
          0.1500750375187594,
          0.23446808510638298,
          0.08336112037345782,
          0.16793893129770993,
          0.20000571444898427,
          0.13043478260869565,
          0.14585416666666667,
          0.578420467185762,
          0.407709414381023,
          0.280561122244489,
          0.30792917628945343,
          0.44074576755482536,
          0.4000400040004,
          0.30967127203430206,
          0.32025620496397117,
          0.2555697538752153,
          0.29470173353960905,
          0.2652231570251527,
          0.1672543111737932,
          0.3002144388849178,
          0.16673979815708645,
          0.407709414381023,
          0.16666666666666666,
          0.13666666666666666,
          0.38246543100912034,
          0.036844044423390704,
          0.13065217391304348,
          0.333370374486054,
          0.40080160320641284,
          0.15000750037501875,
          0.38126679862485674
         ],
         "y0": " ",
         "yaxis": "y"
        },
        {
         "alignmentgroup": "True",
         "hovertemplate": "SEARCH_CATEGORY_NAME=%{x}<br>ITEM_DISCOUNT_RATE=%{y}<extra></extra>",
         "legendgroup": "Electrodomésticos",
         "marker": {
          "color": "#B6E880"
         },
         "name": "Electrodomésticos",
         "notched": false,
         "offsetgroup": "Electrodomésticos",
         "orientation": "v",
         "quartilemethod": "exclusive",
         "showlegend": true,
         "type": "box",
         "x": [
          "Electrodomésticos",
          "Electrodomésticos",
          "Electrodomésticos",
          "Electrodomésticos",
          "Electrodomésticos",
          "Electrodomésticos",
          "Electrodomésticos",
          "Electrodomésticos",
          "Electrodomésticos",
          "Electrodomésticos",
          "Electrodomésticos",
          "Electrodomésticos",
          "Electrodomésticos",
          "Electrodomésticos",
          "Electrodomésticos",
          "Electrodomésticos",
          "Electrodomésticos",
          "Electrodomésticos",
          "Electrodomésticos",
          "Electrodomésticos",
          "Electrodomésticos",
          "Electrodomésticos",
          "Electrodomésticos",
          "Electrodomésticos",
          "Electrodomésticos",
          "Electrodomésticos",
          "Electrodomésticos",
          "Electrodomésticos",
          "Electrodomésticos",
          "Electrodomésticos",
          "Electrodomésticos",
          "Electrodomésticos",
          "Electrodomésticos",
          "Electrodomésticos",
          "Electrodomésticos",
          "Electrodomésticos",
          "Electrodomésticos",
          "Electrodomésticos",
          "Electrodomésticos",
          "Electrodomésticos",
          "Electrodomésticos",
          "Electrodomésticos",
          "Electrodomésticos",
          "Electrodomésticos",
          "Electrodomésticos",
          "Electrodomésticos",
          "Electrodomésticos",
          "Electrodomésticos",
          "Electrodomésticos",
          "Electrodomésticos",
          "Electrodomésticos",
          "Electrodomésticos",
          "Electrodomésticos",
          "Electrodomésticos",
          "Electrodomésticos",
          "Electrodomésticos",
          "Electrodomésticos",
          "Electrodomésticos",
          "Electrodomésticos",
          "Electrodomésticos",
          "Electrodomésticos",
          "Electrodomésticos",
          "Electrodomésticos",
          "Electrodomésticos",
          "Electrodomésticos",
          "Electrodomésticos",
          "Electrodomésticos",
          "Electrodomésticos",
          "Electrodomésticos",
          "Electrodomésticos",
          "Electrodomésticos",
          "Electrodomésticos",
          "Electrodomésticos",
          "Electrodomésticos",
          "Electrodomésticos",
          "Electrodomésticos",
          "Electrodomésticos",
          "Electrodomésticos",
          "Electrodomésticos",
          "Electrodomésticos",
          "Electrodomésticos",
          "Electrodomésticos",
          "Electrodomésticos",
          "Electrodomésticos",
          "Electrodomésticos",
          "Electrodomésticos",
          "Electrodomésticos",
          "Electrodomésticos",
          "Electrodomésticos",
          "Electrodomésticos",
          "Electrodomésticos",
          "Electrodomésticos",
          "Electrodomésticos",
          "Electrodomésticos",
          "Electrodomésticos",
          "Electrodomésticos",
          "Electrodomésticos",
          "Electrodomésticos",
          "Electrodomésticos",
          "Electrodomésticos",
          "Electrodomésticos",
          "Electrodomésticos",
          "Electrodomésticos",
          "Electrodomésticos",
          "Electrodomésticos",
          "Electrodomésticos",
          "Electrodomésticos",
          "Electrodomésticos",
          "Electrodomésticos",
          "Electrodomésticos",
          "Electrodomésticos",
          "Electrodomésticos",
          "Electrodomésticos",
          "Electrodomésticos",
          "Electrodomésticos",
          "Electrodomésticos",
          "Electrodomésticos",
          "Electrodomésticos",
          "Electrodomésticos",
          "Electrodomésticos",
          "Electrodomésticos",
          "Electrodomésticos",
          "Electrodomésticos",
          "Electrodomésticos",
          "Electrodomésticos",
          "Electrodomésticos",
          "Electrodomésticos",
          "Electrodomésticos",
          "Electrodomésticos",
          "Electrodomésticos",
          "Electrodomésticos",
          "Electrodomésticos"
         ],
         "x0": " ",
         "xaxis": "x",
         "y": [
          0.14326647564469913,
          0.3336113427856547,
          0.4360092331367017,
          0.2893740159155709,
          0.1793774547159857,
          0.10927394752898109,
          0.21748586341887777,
          0.09097010372178158,
          0.11126760563380282,
          0.1860897883228658,
          0.11200750469043153,
          0.2703433360367667,
          0.2002002002002002,
          0.11727912431587177,
          0.2751375687843922,
          0.1950849945546664,
          0.2279495569690062,
          0.35035035035035034,
          0.14326647564469913,
          0.10008340283569642,
          0.1484932304556704,
          0.2140692501128377,
          0.2274373460814139,
          0.3624612428490327,
          0.24142085769110624,
          0.3414332784184514,
          0.37001850092504623,
          0.5016722408026756,
          0.37509377344336087,
          0.2753822740778317,
          0.09630709426627794,
          0.07284788052520856,
          0.23696682464454977,
          0.375018029712967,
          0.11604139715394567,
          0.3003003003003003,
          0.2257563160856982,
          0.3340196197166041,
          0.14851234223731563,
          0.29640607632456467,
          0.5804601720400028,
          0.17016710102713475,
          0.11741688731979995,
          0.3043610591764859,
          0.2637852593266606,
          0.3184713375796178,
          0.1492201896714459,
          0.27068673275463556,
          0.24083639305495053,
          0.3919095454750214,
          0.37509377344336087,
          0.3014612452350699,
          0.2766798418972332,
          0.4,
          0.2999961089277873,
          0.30017886305311453,
          0.273972602739726,
          0.25687682138033974,
          0.4667185242804756,
          0.24142093464390413,
          0.33340742387197153,
          0.36202822657896416,
          0.4405748452743103,
          0.23427776557581081,
          0.23543260741612712,
          0.273972602739726,
          0.22246941045606228,
          0.32100086423309604,
          0.28609584467615184,
          0.2925327174749808,
          0.2614900943160836,
          0.30451700219928945,
          0.23810941127448063,
          0.38339723287214533,
          0.23800824677697166,
          0.20837674515524068,
          0.14375898493655853,
          0.3043610591764859,
          0.10900225056264067,
          0.10160701241782323,
          0.10927394752898109,
          0.2188868042526579,
          0.19741496598639455,
          0.33338889814969164,
          0.07194244604316546,
          0.11477213200628601,
          0.20669137220105432,
          0.1,
          0.12,
          0.26477963364358875,
          0.29053254437869824,
          0.30559799972218366,
          0.1,
          0.39299749910682386,
          0.2776201042365447,
          0.17,
          0.2404146930020556,
          0.19953196206429363,
          0.29219224014050776,
          0.30650104855621874,
          0.12,
          0.2225677908445913,
          0.4594801567638182,
          0.21821024948468262,
          0.410361631187484,
          0.3994524986731473,
          0.4377736085053158,
          0.11835631012012944,
          0.122041148910165,
          0.14375898493655853,
          0.30018043632784736,
          0.18464379135251577,
          0.36014405762304924,
          0.3799071338117349,
          0.32165832737669764,
          0.2558258523652263,
          0.3548577880531211,
          0.10409938524153053,
          0.1,
          0.42474664778510424,
          0.18906178721678746,
          0.25010421008753647,
          0.1,
          0.21157894736842106,
          0.1,
          0.3250812703175794,
          0.27394246108146764,
          0.25927581582476533,
          0.19461012669249858,
          0.2893740159155709,
          0.3857693956279469,
          0.11132323897300855
         ],
         "y0": " ",
         "yaxis": "y"
        },
        {
         "alignmentgroup": "True",
         "hovertemplate": "SEARCH_CATEGORY_NAME=%{x}<br>ITEM_DISCOUNT_RATE=%{y}<extra></extra>",
         "legendgroup": "Juegos y Juguetes",
         "marker": {
          "color": "#FF97FF"
         },
         "name": "Juegos y Juguetes",
         "notched": false,
         "offsetgroup": "Juegos y Juguetes",
         "orientation": "v",
         "quartilemethod": "exclusive",
         "showlegend": true,
         "type": "box",
         "x": [
          "Juegos y Juguetes",
          "Juegos y Juguetes",
          "Juegos y Juguetes",
          "Juegos y Juguetes",
          "Juegos y Juguetes",
          "Juegos y Juguetes",
          "Juegos y Juguetes",
          "Juegos y Juguetes",
          "Juegos y Juguetes",
          "Juegos y Juguetes",
          "Juegos y Juguetes",
          "Juegos y Juguetes",
          "Juegos y Juguetes",
          "Juegos y Juguetes",
          "Juegos y Juguetes",
          "Juegos y Juguetes",
          "Juegos y Juguetes",
          "Juegos y Juguetes",
          "Juegos y Juguetes",
          "Juegos y Juguetes",
          "Juegos y Juguetes",
          "Juegos y Juguetes",
          "Juegos y Juguetes",
          "Juegos y Juguetes",
          "Juegos y Juguetes",
          "Juegos y Juguetes",
          "Juegos y Juguetes",
          "Juegos y Juguetes",
          "Juegos y Juguetes",
          "Juegos y Juguetes",
          "Juegos y Juguetes",
          "Juegos y Juguetes",
          "Juegos y Juguetes",
          "Juegos y Juguetes",
          "Juegos y Juguetes",
          "Juegos y Juguetes",
          "Juegos y Juguetes",
          "Juegos y Juguetes",
          "Juegos y Juguetes",
          "Juegos y Juguetes",
          "Juegos y Juguetes",
          "Juegos y Juguetes",
          "Juegos y Juguetes",
          "Juegos y Juguetes",
          "Juegos y Juguetes",
          "Juegos y Juguetes",
          "Juegos y Juguetes",
          "Juegos y Juguetes",
          "Juegos y Juguetes",
          "Juegos y Juguetes",
          "Juegos y Juguetes",
          "Juegos y Juguetes",
          "Juegos y Juguetes",
          "Juegos y Juguetes",
          "Juegos y Juguetes",
          "Juegos y Juguetes",
          "Juegos y Juguetes",
          "Juegos y Juguetes",
          "Juegos y Juguetes",
          "Juegos y Juguetes",
          "Juegos y Juguetes",
          "Juegos y Juguetes",
          "Juegos y Juguetes",
          "Juegos y Juguetes",
          "Juegos y Juguetes",
          "Juegos y Juguetes",
          "Juegos y Juguetes",
          "Juegos y Juguetes",
          "Juegos y Juguetes",
          "Juegos y Juguetes",
          "Juegos y Juguetes",
          "Juegos y Juguetes",
          "Juegos y Juguetes",
          "Juegos y Juguetes",
          "Juegos y Juguetes",
          "Juegos y Juguetes",
          "Juegos y Juguetes",
          "Juegos y Juguetes",
          "Juegos y Juguetes",
          "Juegos y Juguetes",
          "Juegos y Juguetes",
          "Juegos y Juguetes",
          "Juegos y Juguetes",
          "Juegos y Juguetes",
          "Juegos y Juguetes",
          "Juegos y Juguetes",
          "Juegos y Juguetes",
          "Juegos y Juguetes",
          "Juegos y Juguetes",
          "Juegos y Juguetes",
          "Juegos y Juguetes",
          "Juegos y Juguetes",
          "Juegos y Juguetes",
          "Juegos y Juguetes",
          "Juegos y Juguetes",
          "Juegos y Juguetes",
          "Juegos y Juguetes",
          "Juegos y Juguetes",
          "Juegos y Juguetes",
          "Juegos y Juguetes",
          "Juegos y Juguetes",
          "Juegos y Juguetes",
          "Juegos y Juguetes",
          "Juegos y Juguetes",
          "Juegos y Juguetes",
          "Juegos y Juguetes",
          "Juegos y Juguetes",
          "Juegos y Juguetes",
          "Juegos y Juguetes",
          "Juegos y Juguetes",
          "Juegos y Juguetes",
          "Juegos y Juguetes",
          "Juegos y Juguetes",
          "Juegos y Juguetes",
          "Juegos y Juguetes",
          "Juegos y Juguetes",
          "Juegos y Juguetes"
         ],
         "x0": " ",
         "xaxis": "x",
         "y": [
          0.3,
          0.15,
          0.2499944438270919,
          0.3336113427856547,
          0.15,
          0.25,
          0.5861538461538461,
          0.25,
          0.22737608003638018,
          0.15,
          0.5,
          0.3337041156840934,
          0.25,
          0.2857551078725532,
          0.5,
          0.2701774470520893,
          0.25,
          0.2676470588235294,
          0.25,
          0.25,
          0.15,
          0.25,
          0.15,
          0.25,
          0.25,
          0.25,
          0.15,
          0.25,
          0.25,
          0.3,
          0.25,
          0.15,
          0.25,
          0.25,
          0.25,
          0.25,
          0.3337041156840934,
          0.2000800320128051,
          0.15,
          0.22737608003638018,
          0.25,
          0.25,
          0.25,
          0.25,
          0.15,
          0.3001000333444481,
          0.05,
          0.333889816360601,
          0.2001953125,
          0.25,
          0.5109090909090909,
          0.3337041156840934,
          0.15,
          0.3003003003003003,
          0.3,
          0.15,
          0.15,
          0.25,
          0.25,
          0.25,
          0.2728512960436562,
          0.25,
          0.15,
          0.25,
          0.25,
          0.25,
          0.15,
          0.25,
          0.25,
          0.25,
          0.25,
          0.25,
          0.15,
          0.25,
          0.15,
          0.25,
          0.25,
          0.15,
          0.15,
          0.25,
          0.2499944438270919,
          0.500017857780635,
          0.25041876046901174,
          0.2499944438270919,
          0.15,
          0.25,
          0.15,
          0.25,
          0.25,
          0.25,
          0.25,
          0.15,
          0.15,
          0.15,
          0.15,
          0.25,
          0.25,
          0.4666977798519901,
          0.5714693906707622,
          0.25,
          0.25,
          0.4286326618088298,
          0.25,
          0.15,
          0.25,
          0.25,
          0.25,
          0.25,
          0.25,
          0.25,
          0.25,
          0.5200208008320333,
          0.25,
          0.25,
          0.25,
          0.25,
          0.25
         ],
         "y0": " ",
         "yaxis": "y"
        },
        {
         "alignmentgroup": "True",
         "hovertemplate": "SEARCH_CATEGORY_NAME=%{x}<br>ITEM_DISCOUNT_RATE=%{y}<extra></extra>",
         "legendgroup": "Herramientas y Construcción",
         "marker": {
          "color": "#FECB52"
         },
         "name": "Herramientas y Construcción",
         "notched": false,
         "offsetgroup": "Herramientas y Construcción",
         "orientation": "v",
         "quartilemethod": "exclusive",
         "showlegend": true,
         "type": "box",
         "x": [
          "Herramientas y Construcción",
          "Herramientas y Construcción",
          "Herramientas y Construcción",
          "Herramientas y Construcción",
          "Herramientas y Construcción",
          "Herramientas y Construcción",
          "Herramientas y Construcción",
          "Herramientas y Construcción",
          "Herramientas y Construcción",
          "Herramientas y Construcción",
          "Herramientas y Construcción",
          "Herramientas y Construcción",
          "Herramientas y Construcción",
          "Herramientas y Construcción",
          "Herramientas y Construcción",
          "Herramientas y Construcción",
          "Herramientas y Construcción",
          "Herramientas y Construcción",
          "Herramientas y Construcción",
          "Herramientas y Construcción",
          "Herramientas y Construcción",
          "Herramientas y Construcción",
          "Herramientas y Construcción",
          "Herramientas y Construcción",
          "Herramientas y Construcción",
          "Herramientas y Construcción",
          "Herramientas y Construcción",
          "Herramientas y Construcción",
          "Herramientas y Construcción",
          "Herramientas y Construcción",
          "Herramientas y Construcción",
          "Herramientas y Construcción",
          "Herramientas y Construcción",
          "Herramientas y Construcción",
          "Herramientas y Construcción",
          "Herramientas y Construcción",
          "Herramientas y Construcción",
          "Herramientas y Construcción"
         ],
         "x0": " ",
         "xaxis": "x",
         "y": [
          0.09092975676290066,
          0.15015015015015015,
          0.22246941045606228,
          0.09528346831824679,
          0.3889969435954432,
          0.2583548629052421,
          0.35035035035035034,
          0.5628517823639775,
          0.3001500750375188,
          0.09983961507618284,
          0.10138375119879435,
          0.23375650871601972,
          0.09714285714285714,
          0.2581477896095515,
          0.2503128911138924,
          0.2702702702702703,
          0.1321900678813862,
          0.11766090128250382,
          0.19788414845646896,
          0.09011627906976744,
          0.0976003226456947,
          0.2503660777055764,
          0.2666888907408951,
          0.011390887290167866,
          0.1,
          0.3150684931506849,
          0.09093664746892997,
          0.4267515923566879,
          0.14815912289799243,
          0.3010191988622896,
          0.29261414209554865,
          0.05,
          0.40743388134381703,
          0.08975509680728298,
          0.19238168526356292,
          0.17657445556209536,
          0.08576329331046312,
          0.24683822687642723
         ],
         "y0": " ",
         "yaxis": "y"
        }
       ],
       "layout": {
        "boxmode": "overlay",
        "legend": {
         "title": {
          "text": "CATEGROIAS"
         },
         "tracegroupgap": 0
        },
        "margin": {
         "t": 60
        },
        "plot_bgcolor": "rgb(255,255,255)",
        "template": {
         "data": {
          "bar": [
           {
            "error_x": {
             "color": "#2a3f5f"
            },
            "error_y": {
             "color": "#2a3f5f"
            },
            "marker": {
             "line": {
              "color": "#E5ECF6",
              "width": 0.5
             }
            },
            "type": "bar"
           }
          ],
          "barpolar": [
           {
            "marker": {
             "line": {
              "color": "#E5ECF6",
              "width": 0.5
             }
            },
            "type": "barpolar"
           }
          ],
          "carpet": [
           {
            "aaxis": {
             "endlinecolor": "#2a3f5f",
             "gridcolor": "white",
             "linecolor": "white",
             "minorgridcolor": "white",
             "startlinecolor": "#2a3f5f"
            },
            "baxis": {
             "endlinecolor": "#2a3f5f",
             "gridcolor": "white",
             "linecolor": "white",
             "minorgridcolor": "white",
             "startlinecolor": "#2a3f5f"
            },
            "type": "carpet"
           }
          ],
          "choropleth": [
           {
            "colorbar": {
             "outlinewidth": 0,
             "ticks": ""
            },
            "type": "choropleth"
           }
          ],
          "contour": [
           {
            "colorbar": {
             "outlinewidth": 0,
             "ticks": ""
            },
            "colorscale": [
             [
              0,
              "#0d0887"
             ],
             [
              0.1111111111111111,
              "#46039f"
             ],
             [
              0.2222222222222222,
              "#7201a8"
             ],
             [
              0.3333333333333333,
              "#9c179e"
             ],
             [
              0.4444444444444444,
              "#bd3786"
             ],
             [
              0.5555555555555556,
              "#d8576b"
             ],
             [
              0.6666666666666666,
              "#ed7953"
             ],
             [
              0.7777777777777778,
              "#fb9f3a"
             ],
             [
              0.8888888888888888,
              "#fdca26"
             ],
             [
              1,
              "#f0f921"
             ]
            ],
            "type": "contour"
           }
          ],
          "contourcarpet": [
           {
            "colorbar": {
             "outlinewidth": 0,
             "ticks": ""
            },
            "type": "contourcarpet"
           }
          ],
          "heatmap": [
           {
            "colorbar": {
             "outlinewidth": 0,
             "ticks": ""
            },
            "colorscale": [
             [
              0,
              "#0d0887"
             ],
             [
              0.1111111111111111,
              "#46039f"
             ],
             [
              0.2222222222222222,
              "#7201a8"
             ],
             [
              0.3333333333333333,
              "#9c179e"
             ],
             [
              0.4444444444444444,
              "#bd3786"
             ],
             [
              0.5555555555555556,
              "#d8576b"
             ],
             [
              0.6666666666666666,
              "#ed7953"
             ],
             [
              0.7777777777777778,
              "#fb9f3a"
             ],
             [
              0.8888888888888888,
              "#fdca26"
             ],
             [
              1,
              "#f0f921"
             ]
            ],
            "type": "heatmap"
           }
          ],
          "heatmapgl": [
           {
            "colorbar": {
             "outlinewidth": 0,
             "ticks": ""
            },
            "colorscale": [
             [
              0,
              "#0d0887"
             ],
             [
              0.1111111111111111,
              "#46039f"
             ],
             [
              0.2222222222222222,
              "#7201a8"
             ],
             [
              0.3333333333333333,
              "#9c179e"
             ],
             [
              0.4444444444444444,
              "#bd3786"
             ],
             [
              0.5555555555555556,
              "#d8576b"
             ],
             [
              0.6666666666666666,
              "#ed7953"
             ],
             [
              0.7777777777777778,
              "#fb9f3a"
             ],
             [
              0.8888888888888888,
              "#fdca26"
             ],
             [
              1,
              "#f0f921"
             ]
            ],
            "type": "heatmapgl"
           }
          ],
          "histogram": [
           {
            "marker": {
             "colorbar": {
              "outlinewidth": 0,
              "ticks": ""
             }
            },
            "type": "histogram"
           }
          ],
          "histogram2d": [
           {
            "colorbar": {
             "outlinewidth": 0,
             "ticks": ""
            },
            "colorscale": [
             [
              0,
              "#0d0887"
             ],
             [
              0.1111111111111111,
              "#46039f"
             ],
             [
              0.2222222222222222,
              "#7201a8"
             ],
             [
              0.3333333333333333,
              "#9c179e"
             ],
             [
              0.4444444444444444,
              "#bd3786"
             ],
             [
              0.5555555555555556,
              "#d8576b"
             ],
             [
              0.6666666666666666,
              "#ed7953"
             ],
             [
              0.7777777777777778,
              "#fb9f3a"
             ],
             [
              0.8888888888888888,
              "#fdca26"
             ],
             [
              1,
              "#f0f921"
             ]
            ],
            "type": "histogram2d"
           }
          ],
          "histogram2dcontour": [
           {
            "colorbar": {
             "outlinewidth": 0,
             "ticks": ""
            },
            "colorscale": [
             [
              0,
              "#0d0887"
             ],
             [
              0.1111111111111111,
              "#46039f"
             ],
             [
              0.2222222222222222,
              "#7201a8"
             ],
             [
              0.3333333333333333,
              "#9c179e"
             ],
             [
              0.4444444444444444,
              "#bd3786"
             ],
             [
              0.5555555555555556,
              "#d8576b"
             ],
             [
              0.6666666666666666,
              "#ed7953"
             ],
             [
              0.7777777777777778,
              "#fb9f3a"
             ],
             [
              0.8888888888888888,
              "#fdca26"
             ],
             [
              1,
              "#f0f921"
             ]
            ],
            "type": "histogram2dcontour"
           }
          ],
          "mesh3d": [
           {
            "colorbar": {
             "outlinewidth": 0,
             "ticks": ""
            },
            "type": "mesh3d"
           }
          ],
          "parcoords": [
           {
            "line": {
             "colorbar": {
              "outlinewidth": 0,
              "ticks": ""
             }
            },
            "type": "parcoords"
           }
          ],
          "pie": [
           {
            "automargin": true,
            "type": "pie"
           }
          ],
          "scatter": [
           {
            "marker": {
             "colorbar": {
              "outlinewidth": 0,
              "ticks": ""
             }
            },
            "type": "scatter"
           }
          ],
          "scatter3d": [
           {
            "line": {
             "colorbar": {
              "outlinewidth": 0,
              "ticks": ""
             }
            },
            "marker": {
             "colorbar": {
              "outlinewidth": 0,
              "ticks": ""
             }
            },
            "type": "scatter3d"
           }
          ],
          "scattercarpet": [
           {
            "marker": {
             "colorbar": {
              "outlinewidth": 0,
              "ticks": ""
             }
            },
            "type": "scattercarpet"
           }
          ],
          "scattergeo": [
           {
            "marker": {
             "colorbar": {
              "outlinewidth": 0,
              "ticks": ""
             }
            },
            "type": "scattergeo"
           }
          ],
          "scattergl": [
           {
            "marker": {
             "colorbar": {
              "outlinewidth": 0,
              "ticks": ""
             }
            },
            "type": "scattergl"
           }
          ],
          "scattermapbox": [
           {
            "marker": {
             "colorbar": {
              "outlinewidth": 0,
              "ticks": ""
             }
            },
            "type": "scattermapbox"
           }
          ],
          "scatterpolar": [
           {
            "marker": {
             "colorbar": {
              "outlinewidth": 0,
              "ticks": ""
             }
            },
            "type": "scatterpolar"
           }
          ],
          "scatterpolargl": [
           {
            "marker": {
             "colorbar": {
              "outlinewidth": 0,
              "ticks": ""
             }
            },
            "type": "scatterpolargl"
           }
          ],
          "scatterternary": [
           {
            "marker": {
             "colorbar": {
              "outlinewidth": 0,
              "ticks": ""
             }
            },
            "type": "scatterternary"
           }
          ],
          "surface": [
           {
            "colorbar": {
             "outlinewidth": 0,
             "ticks": ""
            },
            "colorscale": [
             [
              0,
              "#0d0887"
             ],
             [
              0.1111111111111111,
              "#46039f"
             ],
             [
              0.2222222222222222,
              "#7201a8"
             ],
             [
              0.3333333333333333,
              "#9c179e"
             ],
             [
              0.4444444444444444,
              "#bd3786"
             ],
             [
              0.5555555555555556,
              "#d8576b"
             ],
             [
              0.6666666666666666,
              "#ed7953"
             ],
             [
              0.7777777777777778,
              "#fb9f3a"
             ],
             [
              0.8888888888888888,
              "#fdca26"
             ],
             [
              1,
              "#f0f921"
             ]
            ],
            "type": "surface"
           }
          ],
          "table": [
           {
            "cells": {
             "fill": {
              "color": "#EBF0F8"
             },
             "line": {
              "color": "white"
             }
            },
            "header": {
             "fill": {
              "color": "#C8D4E3"
             },
             "line": {
              "color": "white"
             }
            },
            "type": "table"
           }
          ]
         },
         "layout": {
          "annotationdefaults": {
           "arrowcolor": "#2a3f5f",
           "arrowhead": 0,
           "arrowwidth": 1
          },
          "coloraxis": {
           "colorbar": {
            "outlinewidth": 0,
            "ticks": ""
           }
          },
          "colorscale": {
           "diverging": [
            [
             0,
             "#8e0152"
            ],
            [
             0.1,
             "#c51b7d"
            ],
            [
             0.2,
             "#de77ae"
            ],
            [
             0.3,
             "#f1b6da"
            ],
            [
             0.4,
             "#fde0ef"
            ],
            [
             0.5,
             "#f7f7f7"
            ],
            [
             0.6,
             "#e6f5d0"
            ],
            [
             0.7,
             "#b8e186"
            ],
            [
             0.8,
             "#7fbc41"
            ],
            [
             0.9,
             "#4d9221"
            ],
            [
             1,
             "#276419"
            ]
           ],
           "sequential": [
            [
             0,
             "#0d0887"
            ],
            [
             0.1111111111111111,
             "#46039f"
            ],
            [
             0.2222222222222222,
             "#7201a8"
            ],
            [
             0.3333333333333333,
             "#9c179e"
            ],
            [
             0.4444444444444444,
             "#bd3786"
            ],
            [
             0.5555555555555556,
             "#d8576b"
            ],
            [
             0.6666666666666666,
             "#ed7953"
            ],
            [
             0.7777777777777778,
             "#fb9f3a"
            ],
            [
             0.8888888888888888,
             "#fdca26"
            ],
            [
             1,
             "#f0f921"
            ]
           ],
           "sequentialminus": [
            [
             0,
             "#0d0887"
            ],
            [
             0.1111111111111111,
             "#46039f"
            ],
            [
             0.2222222222222222,
             "#7201a8"
            ],
            [
             0.3333333333333333,
             "#9c179e"
            ],
            [
             0.4444444444444444,
             "#bd3786"
            ],
            [
             0.5555555555555556,
             "#d8576b"
            ],
            [
             0.6666666666666666,
             "#ed7953"
            ],
            [
             0.7777777777777778,
             "#fb9f3a"
            ],
            [
             0.8888888888888888,
             "#fdca26"
            ],
            [
             1,
             "#f0f921"
            ]
           ]
          },
          "colorway": [
           "#636efa",
           "#EF553B",
           "#00cc96",
           "#ab63fa",
           "#FFA15A",
           "#19d3f3",
           "#FF6692",
           "#B6E880",
           "#FF97FF",
           "#FECB52"
          ],
          "font": {
           "color": "#2a3f5f"
          },
          "geo": {
           "bgcolor": "white",
           "lakecolor": "white",
           "landcolor": "#E5ECF6",
           "showlakes": true,
           "showland": true,
           "subunitcolor": "white"
          },
          "hoverlabel": {
           "align": "left"
          },
          "hovermode": "closest",
          "mapbox": {
           "style": "light"
          },
          "paper_bgcolor": "white",
          "plot_bgcolor": "#E5ECF6",
          "polar": {
           "angularaxis": {
            "gridcolor": "white",
            "linecolor": "white",
            "ticks": ""
           },
           "bgcolor": "#E5ECF6",
           "radialaxis": {
            "gridcolor": "white",
            "linecolor": "white",
            "ticks": ""
           }
          },
          "scene": {
           "xaxis": {
            "backgroundcolor": "#E5ECF6",
            "gridcolor": "white",
            "gridwidth": 2,
            "linecolor": "white",
            "showbackground": true,
            "ticks": "",
            "zerolinecolor": "white"
           },
           "yaxis": {
            "backgroundcolor": "#E5ECF6",
            "gridcolor": "white",
            "gridwidth": 2,
            "linecolor": "white",
            "showbackground": true,
            "ticks": "",
            "zerolinecolor": "white"
           },
           "zaxis": {
            "backgroundcolor": "#E5ECF6",
            "gridcolor": "white",
            "gridwidth": 2,
            "linecolor": "white",
            "showbackground": true,
            "ticks": "",
            "zerolinecolor": "white"
           }
          },
          "shapedefaults": {
           "line": {
            "color": "#2a3f5f"
           }
          },
          "ternary": {
           "aaxis": {
            "gridcolor": "white",
            "linecolor": "white",
            "ticks": ""
           },
           "baxis": {
            "gridcolor": "white",
            "linecolor": "white",
            "ticks": ""
           },
           "bgcolor": "#E5ECF6",
           "caxis": {
            "gridcolor": "white",
            "linecolor": "white",
            "ticks": ""
           }
          },
          "title": {
           "x": 0.05
          },
          "xaxis": {
           "automargin": true,
           "gridcolor": "white",
           "linecolor": "white",
           "ticks": "",
           "title": {
            "standoff": 15
           },
           "zerolinecolor": "white",
           "zerolinewidth": 2
          },
          "yaxis": {
           "automargin": true,
           "gridcolor": "white",
           "linecolor": "white",
           "ticks": "",
           "title": {
            "standoff": 15
           },
           "zerolinecolor": "white",
           "zerolinewidth": 2
          }
         }
        },
        "title": {
         "font": {
          "size": 20
         }
        },
        "xaxis": {
         "anchor": "y",
         "categoryarray": [
          "Ropa y Accesorios",
          "Electrónica, Audio y Video",
          "Celulares y Teléfonos",
          "Consolas y Videojuegos",
          "Deportes y Fitness",
          "Accesorios para Vehículos",
          "Computación",
          "Electrodomésticos",
          "Juegos y Juguetes",
          "Herramientas y Construcción"
         ],
         "categoryorder": "array",
         "domain": [
          0,
          1
         ],
         "title": {
          "font": {
           "size": 18
          },
          "text": "CATEGORIA"
         }
        },
        "yaxis": {
         "anchor": "x",
         "domain": [
          0,
          1
         ],
         "title": {
          "font": {
           "size": 18
          },
          "text": "DESCUENTO"
         }
        }
       }
      },
      "text/html": [
       "<div>                            <div id=\"adcd24e4-b77a-45ce-afb2-7bb7d9c923fa\" class=\"plotly-graph-div\" style=\"height:525px; width:100%;\"></div>            <script type=\"text/javascript\">                require([\"plotly\"], function(Plotly) {                    window.PLOTLYENV=window.PLOTLYENV || {};                                    if (document.getElementById(\"adcd24e4-b77a-45ce-afb2-7bb7d9c923fa\")) {                    Plotly.newPlot(                        \"adcd24e4-b77a-45ce-afb2-7bb7d9c923fa\",                        [{\"alignmentgroup\": \"True\", \"hovertemplate\": \"SEARCH_CATEGORY_NAME=%{x}<br>ITEM_DISCOUNT_RATE=%{y}<extra></extra>\", \"legendgroup\": \"Ropa y Accesorios\", \"marker\": {\"color\": \"#636efa\"}, \"name\": \"Ropa y Accesorios\", \"notched\": false, \"offsetgroup\": \"Ropa y Accesorios\", \"orientation\": \"v\", \"quartilemethod\": \"exclusive\", \"showlegend\": true, \"type\": \"box\", \"x\": [\"Ropa y Accesorios\", \"Ropa y Accesorios\", \"Ropa y Accesorios\", \"Ropa y Accesorios\", \"Ropa y Accesorios\", \"Ropa y Accesorios\", \"Ropa y Accesorios\", \"Ropa y Accesorios\", \"Ropa y Accesorios\", \"Ropa y Accesorios\", \"Ropa y Accesorios\", \"Ropa y Accesorios\", \"Ropa y Accesorios\", \"Ropa y Accesorios\", \"Ropa y Accesorios\", \"Ropa y Accesorios\", \"Ropa y Accesorios\", \"Ropa y Accesorios\", \"Ropa y Accesorios\", \"Ropa y Accesorios\", \"Ropa y Accesorios\", \"Ropa y Accesorios\", \"Ropa y Accesorios\", \"Ropa y Accesorios\", \"Ropa y Accesorios\", \"Ropa y Accesorios\", \"Ropa y Accesorios\", \"Ropa y Accesorios\", \"Ropa y Accesorios\", \"Ropa y Accesorios\", \"Ropa y Accesorios\"], \"x0\": \" \", \"xaxis\": \"x\", \"y\": [0.46, 0.39250050010002, 0.46, 0.4, 0.3, 0.5834548864346739, 0.4, 0.46, 0.600400266844563, 0.3925005556790398, 0.4, 0.51, 0.46, 0.4, 0.3249972206781545, 0.4, 0.5006257822277848, 0.4, 0.46, 0.4, 0.4, 0.4, 0.4, 0.6253908692933083, 0.05, 0.11123470522803114, 0.46, 0.36396724294813465, 0.3379224030037547, 0.3379224030037547, 0.46], \"y0\": \" \", \"yaxis\": \"y\"}, {\"alignmentgroup\": \"True\", \"hovertemplate\": \"SEARCH_CATEGORY_NAME=%{x}<br>ITEM_DISCOUNT_RATE=%{y}<extra></extra>\", \"legendgroup\": \"Electr\\u00f3nica, Audio y Video\", \"marker\": {\"color\": \"#EF553B\"}, \"name\": \"Electr\\u00f3nica, Audio y Video\", \"notched\": false, \"offsetgroup\": \"Electr\\u00f3nica, Audio y Video\", \"orientation\": \"v\", \"quartilemethod\": \"exclusive\", \"showlegend\": true, \"type\": \"box\", \"x\": [\"Electr\\u00f3nica, Audio y Video\", \"Electr\\u00f3nica, Audio y Video\", \"Electr\\u00f3nica, Audio y Video\", \"Electr\\u00f3nica, Audio y Video\", \"Electr\\u00f3nica, Audio y Video\", \"Electr\\u00f3nica, Audio y Video\", \"Electr\\u00f3nica, Audio y Video\", \"Electr\\u00f3nica, Audio y Video\", \"Electr\\u00f3nica, Audio y Video\", \"Electr\\u00f3nica, Audio y Video\", \"Electr\\u00f3nica, Audio y Video\", \"Electr\\u00f3nica, Audio y Video\", \"Electr\\u00f3nica, Audio y Video\", \"Electr\\u00f3nica, Audio y Video\", \"Electr\\u00f3nica, Audio y Video\", \"Electr\\u00f3nica, Audio y Video\", \"Electr\\u00f3nica, Audio y Video\", \"Electr\\u00f3nica, Audio y Video\", \"Electr\\u00f3nica, Audio y Video\", \"Electr\\u00f3nica, Audio y Video\", \"Electr\\u00f3nica, Audio y Video\", \"Electr\\u00f3nica, Audio y Video\", \"Electr\\u00f3nica, Audio y Video\", \"Electr\\u00f3nica, Audio y Video\", \"Electr\\u00f3nica, Audio y Video\", \"Electr\\u00f3nica, Audio y Video\", \"Electr\\u00f3nica, Audio y Video\", \"Electr\\u00f3nica, Audio y Video\", \"Electr\\u00f3nica, Audio y Video\", \"Electr\\u00f3nica, Audio y Video\", \"Electr\\u00f3nica, Audio y Video\", \"Electr\\u00f3nica, Audio y Video\", \"Electr\\u00f3nica, Audio y Video\", \"Electr\\u00f3nica, Audio y Video\", \"Electr\\u00f3nica, Audio y Video\", \"Electr\\u00f3nica, Audio y Video\", \"Electr\\u00f3nica, Audio y Video\", \"Electr\\u00f3nica, Audio y Video\", \"Electr\\u00f3nica, Audio y Video\", \"Electr\\u00f3nica, Audio y Video\", \"Electr\\u00f3nica, Audio y Video\", \"Electr\\u00f3nica, Audio y Video\", \"Electr\\u00f3nica, Audio y Video\", \"Electr\\u00f3nica, Audio y Video\", \"Electr\\u00f3nica, Audio y Video\", \"Electr\\u00f3nica, Audio y Video\", \"Electr\\u00f3nica, Audio y Video\", \"Electr\\u00f3nica, Audio y Video\", \"Electr\\u00f3nica, Audio y Video\", \"Electr\\u00f3nica, Audio y Video\", \"Electr\\u00f3nica, Audio y Video\", \"Electr\\u00f3nica, Audio y Video\", \"Electr\\u00f3nica, Audio y Video\", \"Electr\\u00f3nica, Audio y Video\", \"Electr\\u00f3nica, Audio y Video\", \"Electr\\u00f3nica, Audio y Video\", \"Electr\\u00f3nica, Audio y Video\", \"Electr\\u00f3nica, Audio y Video\", \"Electr\\u00f3nica, Audio y Video\", \"Electr\\u00f3nica, Audio y Video\", \"Electr\\u00f3nica, Audio y Video\", \"Electr\\u00f3nica, Audio y Video\", \"Electr\\u00f3nica, Audio y Video\", \"Electr\\u00f3nica, Audio y Video\", \"Electr\\u00f3nica, Audio y Video\", \"Electr\\u00f3nica, Audio y Video\", \"Electr\\u00f3nica, Audio y Video\", \"Electr\\u00f3nica, Audio y Video\", \"Electr\\u00f3nica, Audio y Video\", \"Electr\\u00f3nica, Audio y Video\", \"Electr\\u00f3nica, Audio y Video\", \"Electr\\u00f3nica, Audio y Video\", \"Electr\\u00f3nica, Audio y Video\", \"Electr\\u00f3nica, Audio y Video\", \"Electr\\u00f3nica, Audio y Video\", \"Electr\\u00f3nica, Audio y Video\", \"Electr\\u00f3nica, Audio y Video\", \"Electr\\u00f3nica, Audio y Video\", \"Electr\\u00f3nica, Audio y Video\", \"Electr\\u00f3nica, Audio y Video\", \"Electr\\u00f3nica, Audio y Video\", \"Electr\\u00f3nica, Audio y Video\"], \"x0\": \" \", \"xaxis\": \"x\", \"y\": [0.4622663281790907, 0.22610661796677972, 0.3000150007500375, 0.06253908692933083, 0.45971090033031303, 0.35035035035035034, 0.3003003003003003, 0.1428775539362766, 0.4724847137298499, 0.2255813953488372, 0.1929373078847666, 0.4408475316732198, 0.46255781972746596, 0.2544922351410684, 0.21895861148197596, 0.22729339030820983, 0.2863766534842493, 0.4092769440654843, 0.40804, 0.30559799972218366, 0.15018773466833543, 0.41204153063325394, 0.10001250156269534, 0.13451079010468447, 0.1280256051210242, 0.16927497562727692, 0.2156022288898414, 0.39584982707612815, 0.20026702269692923, 0.5008347245409015, 0.44143613890523836, 0.182934963868816, 0.21001666666666666, 0.44493882091212456, 0.10828715204790114, 0.4618937644341801, 0.3338518806600367, 0.23094688221709006, 0.42684258416742493, 0.5882352941176471, 0.5000416701391782, 0.34797738147020446, 0.2727396699849993, 0.33387183629509964, 0.10020040080160321, 0.22228396776882467, 0.1666777785185679, 0.1, 0.222246916324036, 0.3619219962855374, 0.3603288062902073, 0.4408475316732198, 0.10020040080160321, 0.22574653521931703, 0.4711453614918525, 0.3001500750375188, 0.38435094920472035, 0.3772568229531141, 0.16666666666666666, 0.2242560155160919, 0.43734781178019083, 0.3371339823478162, 0.18761726078799248, 0.45664443304258595, 0.2036814725890356, 0.2768104295026342, 0.4170141784820684, 0.09099181073703366, 0.3522352679728879, 0.571632725973562, 0.33338889814969164, 0.22004400880176037, 0.4047294224647567, 0.1669449081803005, 0.34446358131007276, 0.379746835443038, 0.08888888888888889, 0.12470007132991864, 0.1, 0.22728305832083276, 0.34797738147020446, 0.4521892508819257], \"y0\": \" \", \"yaxis\": \"y\"}, {\"alignmentgroup\": \"True\", \"hovertemplate\": \"SEARCH_CATEGORY_NAME=%{x}<br>ITEM_DISCOUNT_RATE=%{y}<extra></extra>\", \"legendgroup\": \"Celulares y Tel\\u00e9fonos\", \"marker\": {\"color\": \"#00cc96\"}, \"name\": \"Celulares y Tel\\u00e9fonos\", \"notched\": false, \"offsetgroup\": \"Celulares y Tel\\u00e9fonos\", \"orientation\": \"v\", \"quartilemethod\": \"exclusive\", \"showlegend\": true, \"type\": \"box\", \"x\": [\"Celulares y Tel\\u00e9fonos\", \"Celulares y Tel\\u00e9fonos\", \"Celulares y Tel\\u00e9fonos\", \"Celulares y Tel\\u00e9fonos\", \"Celulares y Tel\\u00e9fonos\", \"Celulares y Tel\\u00e9fonos\", \"Celulares y Tel\\u00e9fonos\", \"Celulares y Tel\\u00e9fonos\", \"Celulares y Tel\\u00e9fonos\", \"Celulares y Tel\\u00e9fonos\", \"Celulares y Tel\\u00e9fonos\", \"Celulares y Tel\\u00e9fonos\", \"Celulares y Tel\\u00e9fonos\", \"Celulares y Tel\\u00e9fonos\", \"Celulares y Tel\\u00e9fonos\", \"Celulares y Tel\\u00e9fonos\", \"Celulares y Tel\\u00e9fonos\", \"Celulares y Tel\\u00e9fonos\", \"Celulares y Tel\\u00e9fonos\", \"Celulares y Tel\\u00e9fonos\", \"Celulares y Tel\\u00e9fonos\", \"Celulares y Tel\\u00e9fonos\", \"Celulares y Tel\\u00e9fonos\", \"Celulares y Tel\\u00e9fonos\", \"Celulares y Tel\\u00e9fonos\", \"Celulares y Tel\\u00e9fonos\", \"Celulares y Tel\\u00e9fonos\", \"Celulares y Tel\\u00e9fonos\", \"Celulares y Tel\\u00e9fonos\", \"Celulares y Tel\\u00e9fonos\", \"Celulares y Tel\\u00e9fonos\", \"Celulares y Tel\\u00e9fonos\", \"Celulares y Tel\\u00e9fonos\", \"Celulares y Tel\\u00e9fonos\", \"Celulares y Tel\\u00e9fonos\", \"Celulares y Tel\\u00e9fonos\", \"Celulares y Tel\\u00e9fonos\", \"Celulares y Tel\\u00e9fonos\", \"Celulares y Tel\\u00e9fonos\", \"Celulares y Tel\\u00e9fonos\", \"Celulares y Tel\\u00e9fonos\", \"Celulares y Tel\\u00e9fonos\", \"Celulares y Tel\\u00e9fonos\", \"Celulares y Tel\\u00e9fonos\", \"Celulares y Tel\\u00e9fonos\", \"Celulares y Tel\\u00e9fonos\", \"Celulares y Tel\\u00e9fonos\", \"Celulares y Tel\\u00e9fonos\", \"Celulares y Tel\\u00e9fonos\", \"Celulares y Tel\\u00e9fonos\", \"Celulares y Tel\\u00e9fonos\", \"Celulares y Tel\\u00e9fonos\", \"Celulares y Tel\\u00e9fonos\", \"Celulares y Tel\\u00e9fonos\", \"Celulares y Tel\\u00e9fonos\", \"Celulares y Tel\\u00e9fonos\", \"Celulares y Tel\\u00e9fonos\", \"Celulares y Tel\\u00e9fonos\", \"Celulares y Tel\\u00e9fonos\", \"Celulares y Tel\\u00e9fonos\", \"Celulares y Tel\\u00e9fonos\", \"Celulares y Tel\\u00e9fonos\", \"Celulares y Tel\\u00e9fonos\", \"Celulares y Tel\\u00e9fonos\", \"Celulares y Tel\\u00e9fonos\", \"Celulares y Tel\\u00e9fonos\", \"Celulares y Tel\\u00e9fonos\", \"Celulares y Tel\\u00e9fonos\", \"Celulares y Tel\\u00e9fonos\", \"Celulares y Tel\\u00e9fonos\", \"Celulares y Tel\\u00e9fonos\", \"Celulares y Tel\\u00e9fonos\", \"Celulares y Tel\\u00e9fonos\", \"Celulares y Tel\\u00e9fonos\", \"Celulares y Tel\\u00e9fonos\", \"Celulares y Tel\\u00e9fonos\", \"Celulares y Tel\\u00e9fonos\", \"Celulares y Tel\\u00e9fonos\", \"Celulares y Tel\\u00e9fonos\", \"Celulares y Tel\\u00e9fonos\", \"Celulares y Tel\\u00e9fonos\", \"Celulares y Tel\\u00e9fonos\", \"Celulares y Tel\\u00e9fonos\", \"Celulares y Tel\\u00e9fonos\", \"Celulares y Tel\\u00e9fonos\", \"Celulares y Tel\\u00e9fonos\", \"Celulares y Tel\\u00e9fonos\", \"Celulares y Tel\\u00e9fonos\", \"Celulares y Tel\\u00e9fonos\", \"Celulares y Tel\\u00e9fonos\", \"Celulares y Tel\\u00e9fonos\", \"Celulares y Tel\\u00e9fonos\", \"Celulares y Tel\\u00e9fonos\", \"Celulares y Tel\\u00e9fonos\", \"Celulares y Tel\\u00e9fonos\", \"Celulares y Tel\\u00e9fonos\", \"Celulares y Tel\\u00e9fonos\", \"Celulares y Tel\\u00e9fonos\", \"Celulares y Tel\\u00e9fonos\", \"Celulares y Tel\\u00e9fonos\", \"Celulares y Tel\\u00e9fonos\", \"Celulares y Tel\\u00e9fonos\", \"Celulares y Tel\\u00e9fonos\", \"Celulares y Tel\\u00e9fonos\", \"Celulares y Tel\\u00e9fonos\", \"Celulares y Tel\\u00e9fonos\", \"Celulares y Tel\\u00e9fonos\", \"Celulares y Tel\\u00e9fonos\", \"Celulares y Tel\\u00e9fonos\", \"Celulares y Tel\\u00e9fonos\", \"Celulares y Tel\\u00e9fonos\", \"Celulares y Tel\\u00e9fonos\", \"Celulares y Tel\\u00e9fonos\", \"Celulares y Tel\\u00e9fonos\"], \"x0\": \" \", \"xaxis\": \"x\", \"y\": [0.3286183740534362, 0.20918599363346976, 0.4769597661358566, 0.12, 0.060155905280188264, 0.35003500350035005, 0.38339723287214533, 0.043721819920754204, 0.2848384212543109, 0.3125195324707794, 0.1000181851245681, 0.03704252481849163, 0.10715051075076791, 0.47203776302104167, 0.05671379503155204, 0.31433061865980855, 0.05, 0.19094380796508456, 0.26894865525672373, 0.10467059547893394, 0.4000160006400256, 0.01962046659922131, 0.15000375009375233, 0.280014000700035, 0.26894865525672373, 0.23334888992599506, 0.12500446444515875, 0.03685180310608055, 0.05, 0.24289184169167025, 0.35793241393830927, 0.2333592621402378, 0.19474709195220802, 0.26471366804906027, 0.16354581673306773, 0.5133675578371891, 0.2500156259766235, 0.3723619012662874, 0.33502791899324946, 0.27343358395989975, 0.267606915377616, 0.43721075672295184, 0.3273024820438222, 0.39399624765478425, 0.25925925925925924, 0.4125515689461183, 0.037136637213471636, 0.16581129095933675, 0.3125195324707794, 0.36373748609566187, 0.4923455650434649, 0.3921747042766151, 0.20463847203274216, 0.15956521739130436, 0.30771597815216556, 0.3334299797042621, 0.33769179452968645, 0.060155905280188264, 0.4923455650434649, 0.46504650465046504, 0.38204826368452033, 0.28215839860748476, 0.466977985323549, 0.04000533404453927, 0.29002900290029004, 0.3134640262712708, 0.11334088939262618, 0.22000440008800176, 6.273919317397578e-05, 0.22503750625104185, 0.39132136179833904, 0.33502791899324946, 0.33557046979865773, 0.27506876719179796, 0.23334888992599506, 0.46504650465046504, 0.26471366804906027, 0.3182107464314938, 0.5000396856893404, 0.288953100689042, 0.3750312526043837, 0.22702270227022703, 0.13334222281485433, 0.3428620408862984, 0.06038086391082211, 0.05671379503155204, 0.27002700270027, 0.31433061865980855, 0.17803440394562733, 0.44295246038365305, 0.2848384212543109, 0.30795465944427725, 0.34968639917518685, 0.20456870098874871, 0.39003900390039004, 0.47203776302104167, 0.12501562695336918, 0.5308100623124856, 0.5833722248149876, 0.31654926515349163, 0.554595872352032, 0.2983050847457627, 0.33769179452968645, 0.38204826368452033, 0.4538810677744442, 0.5012813300831302, 0.16354581673306773, 0.4769597661358566, 0.48465266558966075, 0.22442442442442442, 0.3286183740534362, 0.4450222511125556, 0.1, 0.09093664746892997], \"y0\": \" \", \"yaxis\": \"y\"}, {\"alignmentgroup\": \"True\", \"hovertemplate\": \"SEARCH_CATEGORY_NAME=%{x}<br>ITEM_DISCOUNT_RATE=%{y}<extra></extra>\", \"legendgroup\": \"Consolas y Videojuegos\", \"marker\": {\"color\": \"#ab63fa\"}, \"name\": \"Consolas y Videojuegos\", \"notched\": false, \"offsetgroup\": \"Consolas y Videojuegos\", \"orientation\": \"v\", \"quartilemethod\": \"exclusive\", \"showlegend\": true, \"type\": \"box\", \"x\": [\"Consolas y Videojuegos\", \"Consolas y Videojuegos\", \"Consolas y Videojuegos\", \"Consolas y Videojuegos\", \"Consolas y Videojuegos\", \"Consolas y Videojuegos\", \"Consolas y Videojuegos\", \"Consolas y Videojuegos\", \"Consolas y Videojuegos\", \"Consolas y Videojuegos\", \"Consolas y Videojuegos\", \"Consolas y Videojuegos\", \"Consolas y Videojuegos\", \"Consolas y Videojuegos\", \"Consolas y Videojuegos\", \"Consolas y Videojuegos\", \"Consolas y Videojuegos\", \"Consolas y Videojuegos\", \"Consolas y Videojuegos\", \"Consolas y Videojuegos\", \"Consolas y Videojuegos\", \"Consolas y Videojuegos\", \"Consolas y Videojuegos\", \"Consolas y Videojuegos\", \"Consolas y Videojuegos\", \"Consolas y Videojuegos\", \"Consolas y Videojuegos\", \"Consolas y Videojuegos\", \"Consolas y Videojuegos\", \"Consolas y Videojuegos\", \"Consolas y Videojuegos\", \"Consolas y Videojuegos\", \"Consolas y Videojuegos\", \"Consolas y Videojuegos\", \"Consolas y Videojuegos\", \"Consolas y Videojuegos\", \"Consolas y Videojuegos\", \"Consolas y Videojuegos\", \"Consolas y Videojuegos\", \"Consolas y Videojuegos\", \"Consolas y Videojuegos\", \"Consolas y Videojuegos\"], \"x0\": \" \", \"xaxis\": \"x\", \"y\": [0.2801120448179272, 0.4075583549462764, 0.7502083333333334, 0.2857346953353811, 0.750625, 0.42340261739799845, 0.41102756892230574, 0.28653295128939826, 0.2768166089965398, 0.16316648244644455, 0.1666759264403578, 0.750625, 0.7504545454545455, 0.7503125, 0.750125, 0.1442857142857143, 0.24288804759329366, 0.7504545454545455, 0.5388760585065435, 0.1430615164520744, 0.3003003003003003, 0.2002002002002002, 0.2422145328719723, 0.2422145328719723, 0.17543859649122806, 0.7503846153846154, 0.5388760585065435, 0.4740484429065744, 0.5718370264474625, 0.2715578847070033, 0.20903573836817263, 0.2000200020002, 0.2941349491146538, 0.1364877161055505, 0.1442857142857143, 0.75025, 0.35727045373347627, 0.2422145328719723, 0.28714285714285714, 0.7508333333333334, 0.20050125313283207, 0.2768166089965398], \"y0\": \" \", \"yaxis\": \"y\"}, {\"alignmentgroup\": \"True\", \"hovertemplate\": \"SEARCH_CATEGORY_NAME=%{x}<br>ITEM_DISCOUNT_RATE=%{y}<extra></extra>\", \"legendgroup\": \"Deportes y Fitness\", \"marker\": {\"color\": \"#FFA15A\"}, \"name\": \"Deportes y Fitness\", \"notched\": false, \"offsetgroup\": \"Deportes y Fitness\", \"orientation\": \"v\", \"quartilemethod\": \"exclusive\", \"showlegend\": true, \"type\": \"box\", \"x\": [\"Deportes y Fitness\", \"Deportes y Fitness\", \"Deportes y Fitness\", \"Deportes y Fitness\", \"Deportes y Fitness\", \"Deportes y Fitness\", \"Deportes y Fitness\", \"Deportes y Fitness\", \"Deportes y Fitness\", \"Deportes y Fitness\", \"Deportes y Fitness\", \"Deportes y Fitness\", \"Deportes y Fitness\", \"Deportes y Fitness\", \"Deportes y Fitness\", \"Deportes y Fitness\", \"Deportes y Fitness\", \"Deportes y Fitness\", \"Deportes y Fitness\", \"Deportes y Fitness\", \"Deportes y Fitness\", \"Deportes y Fitness\", \"Deportes y Fitness\", \"Deportes y Fitness\", \"Deportes y Fitness\", \"Deportes y Fitness\", \"Deportes y Fitness\", \"Deportes y Fitness\", \"Deportes y Fitness\", \"Deportes y Fitness\", \"Deportes y Fitness\", \"Deportes y Fitness\", \"Deportes y Fitness\", \"Deportes y Fitness\", \"Deportes y Fitness\", \"Deportes y Fitness\", \"Deportes y Fitness\", \"Deportes y Fitness\", \"Deportes y Fitness\", \"Deportes y Fitness\", \"Deportes y Fitness\", \"Deportes y Fitness\", \"Deportes y Fitness\", \"Deportes y Fitness\", \"Deportes y Fitness\", \"Deportes y Fitness\", \"Deportes y Fitness\", \"Deportes y Fitness\", \"Deportes y Fitness\", \"Deportes y Fitness\", \"Deportes y Fitness\", \"Deportes y Fitness\", \"Deportes y Fitness\", \"Deportes y Fitness\", \"Deportes y Fitness\", \"Deportes y Fitness\", \"Deportes y Fitness\", \"Deportes y Fitness\", \"Deportes y Fitness\", \"Deportes y Fitness\", \"Deportes y Fitness\", \"Deportes y Fitness\", \"Deportes y Fitness\", \"Deportes y Fitness\", \"Deportes y Fitness\", \"Deportes y Fitness\", \"Deportes y Fitness\", \"Deportes y Fitness\", \"Deportes y Fitness\", \"Deportes y Fitness\", \"Deportes y Fitness\", \"Deportes y Fitness\", \"Deportes y Fitness\", \"Deportes y Fitness\", \"Deportes y Fitness\", \"Deportes y Fitness\"], \"x0\": \" \", \"xaxis\": \"x\", \"y\": [0.46, 0.027028488026379804, 0.3809886655871988, 0.5714693906707622, 0.27454545454545454, 0.19938398357289527, 0.4083299305839118, 0.19506493506493505, 0.2249438202247191, 0.23082841754295974, 0.05883045064125191, 0.47393364928909953, 0.5000714285714286, 0.19617647058823529, 0.3925005953798523, 0.1, 0.24634334103156275, 0.44493882091212456, 0.244, 0.1, 0.5002084201750729, 0.4546832373446499, 0.4003333333333333, 0.26666666666666666, 0.5016244314489928, 0.2166820276497696, 0.2702702702702703, 0.10037174721189591, 0.5000926097425449, 0.210637177461822, 0.47451886066204774, 0.12098901098901099, 0.26831683168316833, 0.2673469387755102, 0.43524627202892, 0.39862927477445975, 0.4291845493562232, 0.22785923753665688, 0.4387990762124711, 0.3381872738504986, 0.32499165275459097, 0.33344448149383127, 0.10091743119266056, 0.25025, 0.4001600640256102, 0.20002667022269635, 0.40005, 0.25052410901467503, 0.5005005005005005, 0.2717391304347826, 0.3, 0.5000714285714286, 0.05, 0.44618816832064007, 0.2086230876216968, 0.23617977528089887, 0.10091743119266056, 0.054884146341463415, 0.21984126984126984, 0.050017863522686674, 0.5000714285714286, 0.4333622241482766, 0.296, 0.22847826086956521, 0.22847826086956521, 0.30952380952380953, 0.24414634146341463, 0.5, 0.2702702702702703, 0.21464285714285714, 0.4, 0.20407407407407407, 0.2685365853658537, 0.40080160320641284, 0.25583126550868485, 0.4889975550122249], \"y0\": \" \", \"yaxis\": \"y\"}, {\"alignmentgroup\": \"True\", \"hovertemplate\": \"SEARCH_CATEGORY_NAME=%{x}<br>ITEM_DISCOUNT_RATE=%{y}<extra></extra>\", \"legendgroup\": \"Accesorios para Veh\\u00edculos\", \"marker\": {\"color\": \"#19d3f3\"}, \"name\": \"Accesorios para Veh\\u00edculos\", \"notched\": false, \"offsetgroup\": \"Accesorios para Veh\\u00edculos\", \"orientation\": \"v\", \"quartilemethod\": \"exclusive\", \"showlegend\": true, \"type\": \"box\", \"x\": [\"Accesorios para Veh\\u00edculos\", \"Accesorios para Veh\\u00edculos\", \"Accesorios para Veh\\u00edculos\", \"Accesorios para Veh\\u00edculos\", \"Accesorios para Veh\\u00edculos\", \"Accesorios para Veh\\u00edculos\", \"Accesorios para Veh\\u00edculos\", \"Accesorios para Veh\\u00edculos\", \"Accesorios para Veh\\u00edculos\", \"Accesorios para Veh\\u00edculos\", \"Accesorios para Veh\\u00edculos\", \"Accesorios para Veh\\u00edculos\", \"Accesorios para Veh\\u00edculos\", \"Accesorios para Veh\\u00edculos\", \"Accesorios para Veh\\u00edculos\", \"Accesorios para Veh\\u00edculos\", \"Accesorios para Veh\\u00edculos\", \"Accesorios para Veh\\u00edculos\", \"Accesorios para Veh\\u00edculos\", \"Accesorios para Veh\\u00edculos\", \"Accesorios para Veh\\u00edculos\", \"Accesorios para Veh\\u00edculos\", \"Accesorios para Veh\\u00edculos\", \"Accesorios para Veh\\u00edculos\", \"Accesorios para Veh\\u00edculos\", \"Accesorios para Veh\\u00edculos\", \"Accesorios para Veh\\u00edculos\", \"Accesorios para Veh\\u00edculos\", \"Accesorios para Veh\\u00edculos\", \"Accesorios para Veh\\u00edculos\", \"Accesorios para Veh\\u00edculos\", \"Accesorios para Veh\\u00edculos\", \"Accesorios para Veh\\u00edculos\", \"Accesorios para Veh\\u00edculos\", \"Accesorios para Veh\\u00edculos\", \"Accesorios para Veh\\u00edculos\", \"Accesorios para Veh\\u00edculos\", \"Accesorios para Veh\\u00edculos\", \"Accesorios para Veh\\u00edculos\", \"Accesorios para Veh\\u00edculos\", \"Accesorios para Veh\\u00edculos\", \"Accesorios para Veh\\u00edculos\", \"Accesorios para Veh\\u00edculos\", \"Accesorios para Veh\\u00edculos\", \"Accesorios para Veh\\u00edculos\", \"Accesorios para Veh\\u00edculos\", \"Accesorios para Veh\\u00edculos\", \"Accesorios para Veh\\u00edculos\", \"Accesorios para Veh\\u00edculos\", \"Accesorios para Veh\\u00edculos\", \"Accesorios para Veh\\u00edculos\", \"Accesorios para Veh\\u00edculos\", \"Accesorios para Veh\\u00edculos\"], \"x0\": \" \", \"xaxis\": \"x\", \"y\": [0.34006801360272054, 0.4996426018584703, 0.1251564455569462, 0.14326647564469913, 0.26675558519506504, 0.0625, 0.0625, 0.2188868042526579, 0.35841666666666666, 0.08760951188986232, 0.22110091743119267, 0.26434108527131783, 0.17522935779816515, 0.2002002002002002, 0.5005005005005005, 0.17863522686673813, 0.3150684931506849, 0.42340261739799845, 0.2992992992992993, 0.046363636363636364, 0.26675558519506504, 0.272975432211101, 0.2857551078725532, 0.37593984962406013, 0.12531328320802004, 0.14289797084881395, 0.1442857142857143, 0.3531489111241907, 0.1939068100358423, 0.06, 0.33343437405274323, 0.1668520578420467, 0.20080321285140562, 0.3334722801167153, 0.26675558519506504, 0.41618015012510423, 0.25125628140703515, 0.6618705035971223, 0.1669449081803005, 0.25005683109797683, 0.3942652329749104, 0.11004566210045662, 0.28714285714285714, 0.12531328320802004, 0.25125628140703515, 0.25125628140703515, 0.26672593909757725, 0.26675558519506504, 0.3856041131105398, 0.2500893176134334, 0.2857551078725532, 0.2861230329041488, 0.26675558519506504], \"y0\": \" \", \"yaxis\": \"y\"}, {\"alignmentgroup\": \"True\", \"hovertemplate\": \"SEARCH_CATEGORY_NAME=%{x}<br>ITEM_DISCOUNT_RATE=%{y}<extra></extra>\", \"legendgroup\": \"Computaci\\u00f3n\", \"marker\": {\"color\": \"#FF6692\"}, \"name\": \"Computaci\\u00f3n\", \"notched\": false, \"offsetgroup\": \"Computaci\\u00f3n\", \"orientation\": \"v\", \"quartilemethod\": \"exclusive\", \"showlegend\": true, \"type\": \"box\", \"x\": [\"Computaci\\u00f3n\", \"Computaci\\u00f3n\", \"Computaci\\u00f3n\", \"Computaci\\u00f3n\", \"Computaci\\u00f3n\", \"Computaci\\u00f3n\", \"Computaci\\u00f3n\", \"Computaci\\u00f3n\", \"Computaci\\u00f3n\", \"Computaci\\u00f3n\", \"Computaci\\u00f3n\", \"Computaci\\u00f3n\", \"Computaci\\u00f3n\", \"Computaci\\u00f3n\", \"Computaci\\u00f3n\", \"Computaci\\u00f3n\", \"Computaci\\u00f3n\", \"Computaci\\u00f3n\", \"Computaci\\u00f3n\", \"Computaci\\u00f3n\", \"Computaci\\u00f3n\", \"Computaci\\u00f3n\", \"Computaci\\u00f3n\", \"Computaci\\u00f3n\", \"Computaci\\u00f3n\", \"Computaci\\u00f3n\", \"Computaci\\u00f3n\", \"Computaci\\u00f3n\", \"Computaci\\u00f3n\", \"Computaci\\u00f3n\", \"Computaci\\u00f3n\", \"Computaci\\u00f3n\", \"Computaci\\u00f3n\", \"Computaci\\u00f3n\", \"Computaci\\u00f3n\", \"Computaci\\u00f3n\", \"Computaci\\u00f3n\", \"Computaci\\u00f3n\", \"Computaci\\u00f3n\", \"Computaci\\u00f3n\", \"Computaci\\u00f3n\", \"Computaci\\u00f3n\", \"Computaci\\u00f3n\", \"Computaci\\u00f3n\", \"Computaci\\u00f3n\", \"Computaci\\u00f3n\", \"Computaci\\u00f3n\", \"Computaci\\u00f3n\", \"Computaci\\u00f3n\"], \"x0\": \" \", \"xaxis\": \"x\", \"y\": [0.3337041156840934, 0.13462686567164178, 0.1290364205296945, 0.4502251125562781, 0.07142959185131216, 0.34870641169853767, 0.353045013239188, 0.166673611400475, 0.25006251562890724, 0.33340742387197153, 0.14445032111824707, 0.09375585974123382, 0.35765379113018597, 0.253025302530253, 0.13462686567164178, 0.3237198351971748, 0.2919099249374479, 0.2600520104020804, 0.1500750375187594, 0.23446808510638298, 0.08336112037345782, 0.16793893129770993, 0.20000571444898427, 0.13043478260869565, 0.14585416666666667, 0.578420467185762, 0.407709414381023, 0.280561122244489, 0.30792917628945343, 0.44074576755482536, 0.4000400040004, 0.30967127203430206, 0.32025620496397117, 0.2555697538752153, 0.29470173353960905, 0.2652231570251527, 0.1672543111737932, 0.3002144388849178, 0.16673979815708645, 0.407709414381023, 0.16666666666666666, 0.13666666666666666, 0.38246543100912034, 0.036844044423390704, 0.13065217391304348, 0.333370374486054, 0.40080160320641284, 0.15000750037501875, 0.38126679862485674], \"y0\": \" \", \"yaxis\": \"y\"}, {\"alignmentgroup\": \"True\", \"hovertemplate\": \"SEARCH_CATEGORY_NAME=%{x}<br>ITEM_DISCOUNT_RATE=%{y}<extra></extra>\", \"legendgroup\": \"Electrodom\\u00e9sticos\", \"marker\": {\"color\": \"#B6E880\"}, \"name\": \"Electrodom\\u00e9sticos\", \"notched\": false, \"offsetgroup\": \"Electrodom\\u00e9sticos\", \"orientation\": \"v\", \"quartilemethod\": \"exclusive\", \"showlegend\": true, \"type\": \"box\", \"x\": [\"Electrodom\\u00e9sticos\", \"Electrodom\\u00e9sticos\", \"Electrodom\\u00e9sticos\", \"Electrodom\\u00e9sticos\", \"Electrodom\\u00e9sticos\", \"Electrodom\\u00e9sticos\", \"Electrodom\\u00e9sticos\", \"Electrodom\\u00e9sticos\", \"Electrodom\\u00e9sticos\", \"Electrodom\\u00e9sticos\", \"Electrodom\\u00e9sticos\", \"Electrodom\\u00e9sticos\", \"Electrodom\\u00e9sticos\", \"Electrodom\\u00e9sticos\", \"Electrodom\\u00e9sticos\", \"Electrodom\\u00e9sticos\", \"Electrodom\\u00e9sticos\", \"Electrodom\\u00e9sticos\", \"Electrodom\\u00e9sticos\", \"Electrodom\\u00e9sticos\", \"Electrodom\\u00e9sticos\", \"Electrodom\\u00e9sticos\", \"Electrodom\\u00e9sticos\", \"Electrodom\\u00e9sticos\", \"Electrodom\\u00e9sticos\", \"Electrodom\\u00e9sticos\", \"Electrodom\\u00e9sticos\", \"Electrodom\\u00e9sticos\", \"Electrodom\\u00e9sticos\", \"Electrodom\\u00e9sticos\", \"Electrodom\\u00e9sticos\", \"Electrodom\\u00e9sticos\", \"Electrodom\\u00e9sticos\", \"Electrodom\\u00e9sticos\", \"Electrodom\\u00e9sticos\", \"Electrodom\\u00e9sticos\", \"Electrodom\\u00e9sticos\", \"Electrodom\\u00e9sticos\", \"Electrodom\\u00e9sticos\", \"Electrodom\\u00e9sticos\", \"Electrodom\\u00e9sticos\", \"Electrodom\\u00e9sticos\", \"Electrodom\\u00e9sticos\", \"Electrodom\\u00e9sticos\", \"Electrodom\\u00e9sticos\", \"Electrodom\\u00e9sticos\", \"Electrodom\\u00e9sticos\", \"Electrodom\\u00e9sticos\", \"Electrodom\\u00e9sticos\", \"Electrodom\\u00e9sticos\", \"Electrodom\\u00e9sticos\", \"Electrodom\\u00e9sticos\", \"Electrodom\\u00e9sticos\", \"Electrodom\\u00e9sticos\", \"Electrodom\\u00e9sticos\", \"Electrodom\\u00e9sticos\", \"Electrodom\\u00e9sticos\", \"Electrodom\\u00e9sticos\", \"Electrodom\\u00e9sticos\", \"Electrodom\\u00e9sticos\", \"Electrodom\\u00e9sticos\", \"Electrodom\\u00e9sticos\", \"Electrodom\\u00e9sticos\", \"Electrodom\\u00e9sticos\", \"Electrodom\\u00e9sticos\", \"Electrodom\\u00e9sticos\", \"Electrodom\\u00e9sticos\", \"Electrodom\\u00e9sticos\", \"Electrodom\\u00e9sticos\", \"Electrodom\\u00e9sticos\", \"Electrodom\\u00e9sticos\", \"Electrodom\\u00e9sticos\", \"Electrodom\\u00e9sticos\", \"Electrodom\\u00e9sticos\", \"Electrodom\\u00e9sticos\", \"Electrodom\\u00e9sticos\", \"Electrodom\\u00e9sticos\", \"Electrodom\\u00e9sticos\", \"Electrodom\\u00e9sticos\", \"Electrodom\\u00e9sticos\", \"Electrodom\\u00e9sticos\", \"Electrodom\\u00e9sticos\", \"Electrodom\\u00e9sticos\", \"Electrodom\\u00e9sticos\", \"Electrodom\\u00e9sticos\", \"Electrodom\\u00e9sticos\", \"Electrodom\\u00e9sticos\", \"Electrodom\\u00e9sticos\", \"Electrodom\\u00e9sticos\", \"Electrodom\\u00e9sticos\", \"Electrodom\\u00e9sticos\", \"Electrodom\\u00e9sticos\", \"Electrodom\\u00e9sticos\", \"Electrodom\\u00e9sticos\", \"Electrodom\\u00e9sticos\", \"Electrodom\\u00e9sticos\", \"Electrodom\\u00e9sticos\", \"Electrodom\\u00e9sticos\", \"Electrodom\\u00e9sticos\", \"Electrodom\\u00e9sticos\", \"Electrodom\\u00e9sticos\", \"Electrodom\\u00e9sticos\", \"Electrodom\\u00e9sticos\", \"Electrodom\\u00e9sticos\", \"Electrodom\\u00e9sticos\", \"Electrodom\\u00e9sticos\", \"Electrodom\\u00e9sticos\", \"Electrodom\\u00e9sticos\", \"Electrodom\\u00e9sticos\", \"Electrodom\\u00e9sticos\", \"Electrodom\\u00e9sticos\", \"Electrodom\\u00e9sticos\", \"Electrodom\\u00e9sticos\", \"Electrodom\\u00e9sticos\", \"Electrodom\\u00e9sticos\", \"Electrodom\\u00e9sticos\", \"Electrodom\\u00e9sticos\", \"Electrodom\\u00e9sticos\", \"Electrodom\\u00e9sticos\", \"Electrodom\\u00e9sticos\", \"Electrodom\\u00e9sticos\", \"Electrodom\\u00e9sticos\", \"Electrodom\\u00e9sticos\", \"Electrodom\\u00e9sticos\", \"Electrodom\\u00e9sticos\", \"Electrodom\\u00e9sticos\", \"Electrodom\\u00e9sticos\", \"Electrodom\\u00e9sticos\", \"Electrodom\\u00e9sticos\", \"Electrodom\\u00e9sticos\", \"Electrodom\\u00e9sticos\", \"Electrodom\\u00e9sticos\"], \"x0\": \" \", \"xaxis\": \"x\", \"y\": [0.14326647564469913, 0.3336113427856547, 0.4360092331367017, 0.2893740159155709, 0.1793774547159857, 0.10927394752898109, 0.21748586341887777, 0.09097010372178158, 0.11126760563380282, 0.1860897883228658, 0.11200750469043153, 0.2703433360367667, 0.2002002002002002, 0.11727912431587177, 0.2751375687843922, 0.1950849945546664, 0.2279495569690062, 0.35035035035035034, 0.14326647564469913, 0.10008340283569642, 0.1484932304556704, 0.2140692501128377, 0.2274373460814139, 0.3624612428490327, 0.24142085769110624, 0.3414332784184514, 0.37001850092504623, 0.5016722408026756, 0.37509377344336087, 0.2753822740778317, 0.09630709426627794, 0.07284788052520856, 0.23696682464454977, 0.375018029712967, 0.11604139715394567, 0.3003003003003003, 0.2257563160856982, 0.3340196197166041, 0.14851234223731563, 0.29640607632456467, 0.5804601720400028, 0.17016710102713475, 0.11741688731979995, 0.3043610591764859, 0.2637852593266606, 0.3184713375796178, 0.1492201896714459, 0.27068673275463556, 0.24083639305495053, 0.3919095454750214, 0.37509377344336087, 0.3014612452350699, 0.2766798418972332, 0.4, 0.2999961089277873, 0.30017886305311453, 0.273972602739726, 0.25687682138033974, 0.4667185242804756, 0.24142093464390413, 0.33340742387197153, 0.36202822657896416, 0.4405748452743103, 0.23427776557581081, 0.23543260741612712, 0.273972602739726, 0.22246941045606228, 0.32100086423309604, 0.28609584467615184, 0.2925327174749808, 0.2614900943160836, 0.30451700219928945, 0.23810941127448063, 0.38339723287214533, 0.23800824677697166, 0.20837674515524068, 0.14375898493655853, 0.3043610591764859, 0.10900225056264067, 0.10160701241782323, 0.10927394752898109, 0.2188868042526579, 0.19741496598639455, 0.33338889814969164, 0.07194244604316546, 0.11477213200628601, 0.20669137220105432, 0.1, 0.12, 0.26477963364358875, 0.29053254437869824, 0.30559799972218366, 0.1, 0.39299749910682386, 0.2776201042365447, 0.17, 0.2404146930020556, 0.19953196206429363, 0.29219224014050776, 0.30650104855621874, 0.12, 0.2225677908445913, 0.4594801567638182, 0.21821024948468262, 0.410361631187484, 0.3994524986731473, 0.4377736085053158, 0.11835631012012944, 0.122041148910165, 0.14375898493655853, 0.30018043632784736, 0.18464379135251577, 0.36014405762304924, 0.3799071338117349, 0.32165832737669764, 0.2558258523652263, 0.3548577880531211, 0.10409938524153053, 0.1, 0.42474664778510424, 0.18906178721678746, 0.25010421008753647, 0.1, 0.21157894736842106, 0.1, 0.3250812703175794, 0.27394246108146764, 0.25927581582476533, 0.19461012669249858, 0.2893740159155709, 0.3857693956279469, 0.11132323897300855], \"y0\": \" \", \"yaxis\": \"y\"}, {\"alignmentgroup\": \"True\", \"hovertemplate\": \"SEARCH_CATEGORY_NAME=%{x}<br>ITEM_DISCOUNT_RATE=%{y}<extra></extra>\", \"legendgroup\": \"Juegos y Juguetes\", \"marker\": {\"color\": \"#FF97FF\"}, \"name\": \"Juegos y Juguetes\", \"notched\": false, \"offsetgroup\": \"Juegos y Juguetes\", \"orientation\": \"v\", \"quartilemethod\": \"exclusive\", \"showlegend\": true, \"type\": \"box\", \"x\": [\"Juegos y Juguetes\", \"Juegos y Juguetes\", \"Juegos y Juguetes\", \"Juegos y Juguetes\", \"Juegos y Juguetes\", \"Juegos y Juguetes\", \"Juegos y Juguetes\", \"Juegos y Juguetes\", \"Juegos y Juguetes\", \"Juegos y Juguetes\", \"Juegos y Juguetes\", \"Juegos y Juguetes\", \"Juegos y Juguetes\", \"Juegos y Juguetes\", \"Juegos y Juguetes\", \"Juegos y Juguetes\", \"Juegos y Juguetes\", \"Juegos y Juguetes\", \"Juegos y Juguetes\", \"Juegos y Juguetes\", \"Juegos y Juguetes\", \"Juegos y Juguetes\", \"Juegos y Juguetes\", \"Juegos y Juguetes\", \"Juegos y Juguetes\", \"Juegos y Juguetes\", \"Juegos y Juguetes\", \"Juegos y Juguetes\", \"Juegos y Juguetes\", \"Juegos y Juguetes\", \"Juegos y Juguetes\", \"Juegos y Juguetes\", \"Juegos y Juguetes\", \"Juegos y Juguetes\", \"Juegos y Juguetes\", \"Juegos y Juguetes\", \"Juegos y Juguetes\", \"Juegos y Juguetes\", \"Juegos y Juguetes\", \"Juegos y Juguetes\", \"Juegos y Juguetes\", \"Juegos y Juguetes\", \"Juegos y Juguetes\", \"Juegos y Juguetes\", \"Juegos y Juguetes\", \"Juegos y Juguetes\", \"Juegos y Juguetes\", \"Juegos y Juguetes\", \"Juegos y Juguetes\", \"Juegos y Juguetes\", \"Juegos y Juguetes\", \"Juegos y Juguetes\", \"Juegos y Juguetes\", \"Juegos y Juguetes\", \"Juegos y Juguetes\", \"Juegos y Juguetes\", \"Juegos y Juguetes\", \"Juegos y Juguetes\", \"Juegos y Juguetes\", \"Juegos y Juguetes\", \"Juegos y Juguetes\", \"Juegos y Juguetes\", \"Juegos y Juguetes\", \"Juegos y Juguetes\", \"Juegos y Juguetes\", \"Juegos y Juguetes\", \"Juegos y Juguetes\", \"Juegos y Juguetes\", \"Juegos y Juguetes\", \"Juegos y Juguetes\", \"Juegos y Juguetes\", \"Juegos y Juguetes\", \"Juegos y Juguetes\", \"Juegos y Juguetes\", \"Juegos y Juguetes\", \"Juegos y Juguetes\", \"Juegos y Juguetes\", \"Juegos y Juguetes\", \"Juegos y Juguetes\", \"Juegos y Juguetes\", \"Juegos y Juguetes\", \"Juegos y Juguetes\", \"Juegos y Juguetes\", \"Juegos y Juguetes\", \"Juegos y Juguetes\", \"Juegos y Juguetes\", \"Juegos y Juguetes\", \"Juegos y Juguetes\", \"Juegos y Juguetes\", \"Juegos y Juguetes\", \"Juegos y Juguetes\", \"Juegos y Juguetes\", \"Juegos y Juguetes\", \"Juegos y Juguetes\", \"Juegos y Juguetes\", \"Juegos y Juguetes\", \"Juegos y Juguetes\", \"Juegos y Juguetes\", \"Juegos y Juguetes\", \"Juegos y Juguetes\", \"Juegos y Juguetes\", \"Juegos y Juguetes\", \"Juegos y Juguetes\", \"Juegos y Juguetes\", \"Juegos y Juguetes\", \"Juegos y Juguetes\", \"Juegos y Juguetes\", \"Juegos y Juguetes\", \"Juegos y Juguetes\", \"Juegos y Juguetes\", \"Juegos y Juguetes\", \"Juegos y Juguetes\", \"Juegos y Juguetes\", \"Juegos y Juguetes\", \"Juegos y Juguetes\", \"Juegos y Juguetes\", \"Juegos y Juguetes\"], \"x0\": \" \", \"xaxis\": \"x\", \"y\": [0.3, 0.15, 0.2499944438270919, 0.3336113427856547, 0.15, 0.25, 0.5861538461538461, 0.25, 0.22737608003638018, 0.15, 0.5, 0.3337041156840934, 0.25, 0.2857551078725532, 0.5, 0.2701774470520893, 0.25, 0.2676470588235294, 0.25, 0.25, 0.15, 0.25, 0.15, 0.25, 0.25, 0.25, 0.15, 0.25, 0.25, 0.3, 0.25, 0.15, 0.25, 0.25, 0.25, 0.25, 0.3337041156840934, 0.2000800320128051, 0.15, 0.22737608003638018, 0.25, 0.25, 0.25, 0.25, 0.15, 0.3001000333444481, 0.05, 0.333889816360601, 0.2001953125, 0.25, 0.5109090909090909, 0.3337041156840934, 0.15, 0.3003003003003003, 0.3, 0.15, 0.15, 0.25, 0.25, 0.25, 0.2728512960436562, 0.25, 0.15, 0.25, 0.25, 0.25, 0.15, 0.25, 0.25, 0.25, 0.25, 0.25, 0.15, 0.25, 0.15, 0.25, 0.25, 0.15, 0.15, 0.25, 0.2499944438270919, 0.500017857780635, 0.25041876046901174, 0.2499944438270919, 0.15, 0.25, 0.15, 0.25, 0.25, 0.25, 0.25, 0.15, 0.15, 0.15, 0.15, 0.25, 0.25, 0.4666977798519901, 0.5714693906707622, 0.25, 0.25, 0.4286326618088298, 0.25, 0.15, 0.25, 0.25, 0.25, 0.25, 0.25, 0.25, 0.25, 0.5200208008320333, 0.25, 0.25, 0.25, 0.25, 0.25], \"y0\": \" \", \"yaxis\": \"y\"}, {\"alignmentgroup\": \"True\", \"hovertemplate\": \"SEARCH_CATEGORY_NAME=%{x}<br>ITEM_DISCOUNT_RATE=%{y}<extra></extra>\", \"legendgroup\": \"Herramientas y Construcci\\u00f3n\", \"marker\": {\"color\": \"#FECB52\"}, \"name\": \"Herramientas y Construcci\\u00f3n\", \"notched\": false, \"offsetgroup\": \"Herramientas y Construcci\\u00f3n\", \"orientation\": \"v\", \"quartilemethod\": \"exclusive\", \"showlegend\": true, \"type\": \"box\", \"x\": [\"Herramientas y Construcci\\u00f3n\", \"Herramientas y Construcci\\u00f3n\", \"Herramientas y Construcci\\u00f3n\", \"Herramientas y Construcci\\u00f3n\", \"Herramientas y Construcci\\u00f3n\", \"Herramientas y Construcci\\u00f3n\", \"Herramientas y Construcci\\u00f3n\", \"Herramientas y Construcci\\u00f3n\", \"Herramientas y Construcci\\u00f3n\", \"Herramientas y Construcci\\u00f3n\", \"Herramientas y Construcci\\u00f3n\", \"Herramientas y Construcci\\u00f3n\", \"Herramientas y Construcci\\u00f3n\", \"Herramientas y Construcci\\u00f3n\", \"Herramientas y Construcci\\u00f3n\", \"Herramientas y Construcci\\u00f3n\", \"Herramientas y Construcci\\u00f3n\", \"Herramientas y Construcci\\u00f3n\", \"Herramientas y Construcci\\u00f3n\", \"Herramientas y Construcci\\u00f3n\", \"Herramientas y Construcci\\u00f3n\", \"Herramientas y Construcci\\u00f3n\", \"Herramientas y Construcci\\u00f3n\", \"Herramientas y Construcci\\u00f3n\", \"Herramientas y Construcci\\u00f3n\", \"Herramientas y Construcci\\u00f3n\", \"Herramientas y Construcci\\u00f3n\", \"Herramientas y Construcci\\u00f3n\", \"Herramientas y Construcci\\u00f3n\", \"Herramientas y Construcci\\u00f3n\", \"Herramientas y Construcci\\u00f3n\", \"Herramientas y Construcci\\u00f3n\", \"Herramientas y Construcci\\u00f3n\", \"Herramientas y Construcci\\u00f3n\", \"Herramientas y Construcci\\u00f3n\", \"Herramientas y Construcci\\u00f3n\", \"Herramientas y Construcci\\u00f3n\", \"Herramientas y Construcci\\u00f3n\"], \"x0\": \" \", \"xaxis\": \"x\", \"y\": [0.09092975676290066, 0.15015015015015015, 0.22246941045606228, 0.09528346831824679, 0.3889969435954432, 0.2583548629052421, 0.35035035035035034, 0.5628517823639775, 0.3001500750375188, 0.09983961507618284, 0.10138375119879435, 0.23375650871601972, 0.09714285714285714, 0.2581477896095515, 0.2503128911138924, 0.2702702702702703, 0.1321900678813862, 0.11766090128250382, 0.19788414845646896, 0.09011627906976744, 0.0976003226456947, 0.2503660777055764, 0.2666888907408951, 0.011390887290167866, 0.1, 0.3150684931506849, 0.09093664746892997, 0.4267515923566879, 0.14815912289799243, 0.3010191988622896, 0.29261414209554865, 0.05, 0.40743388134381703, 0.08975509680728298, 0.19238168526356292, 0.17657445556209536, 0.08576329331046312, 0.24683822687642723], \"y0\": \" \", \"yaxis\": \"y\"}],                        {\"boxmode\": \"overlay\", \"legend\": {\"title\": {\"text\": \"CATEGROIAS\"}, \"tracegroupgap\": 0}, \"margin\": {\"t\": 60}, \"plot_bgcolor\": \"rgb(255,255,255)\", \"template\": {\"data\": {\"bar\": [{\"error_x\": {\"color\": \"#2a3f5f\"}, \"error_y\": {\"color\": \"#2a3f5f\"}, \"marker\": {\"line\": {\"color\": \"#E5ECF6\", \"width\": 0.5}}, \"type\": \"bar\"}], \"barpolar\": [{\"marker\": {\"line\": {\"color\": \"#E5ECF6\", \"width\": 0.5}}, \"type\": \"barpolar\"}], \"carpet\": [{\"aaxis\": {\"endlinecolor\": \"#2a3f5f\", \"gridcolor\": \"white\", \"linecolor\": \"white\", \"minorgridcolor\": \"white\", \"startlinecolor\": \"#2a3f5f\"}, \"baxis\": {\"endlinecolor\": \"#2a3f5f\", \"gridcolor\": \"white\", \"linecolor\": \"white\", \"minorgridcolor\": \"white\", \"startlinecolor\": \"#2a3f5f\"}, \"type\": \"carpet\"}], \"choropleth\": [{\"colorbar\": {\"outlinewidth\": 0, \"ticks\": \"\"}, \"type\": \"choropleth\"}], \"contour\": [{\"colorbar\": {\"outlinewidth\": 0, \"ticks\": \"\"}, \"colorscale\": [[0.0, \"#0d0887\"], [0.1111111111111111, \"#46039f\"], [0.2222222222222222, \"#7201a8\"], [0.3333333333333333, \"#9c179e\"], [0.4444444444444444, \"#bd3786\"], [0.5555555555555556, \"#d8576b\"], [0.6666666666666666, \"#ed7953\"], [0.7777777777777778, \"#fb9f3a\"], [0.8888888888888888, \"#fdca26\"], [1.0, \"#f0f921\"]], \"type\": \"contour\"}], \"contourcarpet\": [{\"colorbar\": {\"outlinewidth\": 0, \"ticks\": \"\"}, \"type\": \"contourcarpet\"}], \"heatmap\": [{\"colorbar\": {\"outlinewidth\": 0, \"ticks\": \"\"}, \"colorscale\": [[0.0, \"#0d0887\"], [0.1111111111111111, \"#46039f\"], [0.2222222222222222, \"#7201a8\"], [0.3333333333333333, \"#9c179e\"], [0.4444444444444444, \"#bd3786\"], [0.5555555555555556, \"#d8576b\"], [0.6666666666666666, \"#ed7953\"], [0.7777777777777778, \"#fb9f3a\"], [0.8888888888888888, \"#fdca26\"], [1.0, \"#f0f921\"]], \"type\": \"heatmap\"}], \"heatmapgl\": [{\"colorbar\": {\"outlinewidth\": 0, \"ticks\": \"\"}, \"colorscale\": [[0.0, \"#0d0887\"], [0.1111111111111111, \"#46039f\"], [0.2222222222222222, \"#7201a8\"], [0.3333333333333333, \"#9c179e\"], [0.4444444444444444, \"#bd3786\"], [0.5555555555555556, \"#d8576b\"], [0.6666666666666666, \"#ed7953\"], [0.7777777777777778, \"#fb9f3a\"], [0.8888888888888888, \"#fdca26\"], [1.0, \"#f0f921\"]], \"type\": \"heatmapgl\"}], \"histogram\": [{\"marker\": {\"colorbar\": {\"outlinewidth\": 0, \"ticks\": \"\"}}, \"type\": \"histogram\"}], \"histogram2d\": [{\"colorbar\": {\"outlinewidth\": 0, \"ticks\": \"\"}, \"colorscale\": [[0.0, \"#0d0887\"], [0.1111111111111111, \"#46039f\"], [0.2222222222222222, \"#7201a8\"], [0.3333333333333333, \"#9c179e\"], [0.4444444444444444, \"#bd3786\"], [0.5555555555555556, \"#d8576b\"], [0.6666666666666666, \"#ed7953\"], [0.7777777777777778, \"#fb9f3a\"], [0.8888888888888888, \"#fdca26\"], [1.0, \"#f0f921\"]], \"type\": \"histogram2d\"}], \"histogram2dcontour\": [{\"colorbar\": {\"outlinewidth\": 0, \"ticks\": \"\"}, \"colorscale\": [[0.0, \"#0d0887\"], [0.1111111111111111, \"#46039f\"], [0.2222222222222222, \"#7201a8\"], [0.3333333333333333, \"#9c179e\"], [0.4444444444444444, \"#bd3786\"], [0.5555555555555556, \"#d8576b\"], [0.6666666666666666, \"#ed7953\"], [0.7777777777777778, \"#fb9f3a\"], [0.8888888888888888, \"#fdca26\"], [1.0, \"#f0f921\"]], \"type\": \"histogram2dcontour\"}], \"mesh3d\": [{\"colorbar\": {\"outlinewidth\": 0, \"ticks\": \"\"}, \"type\": \"mesh3d\"}], \"parcoords\": [{\"line\": {\"colorbar\": {\"outlinewidth\": 0, \"ticks\": \"\"}}, \"type\": \"parcoords\"}], \"pie\": [{\"automargin\": true, \"type\": \"pie\"}], \"scatter\": [{\"marker\": {\"colorbar\": {\"outlinewidth\": 0, \"ticks\": \"\"}}, \"type\": \"scatter\"}], \"scatter3d\": [{\"line\": {\"colorbar\": {\"outlinewidth\": 0, \"ticks\": \"\"}}, \"marker\": {\"colorbar\": {\"outlinewidth\": 0, \"ticks\": \"\"}}, \"type\": \"scatter3d\"}], \"scattercarpet\": [{\"marker\": {\"colorbar\": {\"outlinewidth\": 0, \"ticks\": \"\"}}, \"type\": \"scattercarpet\"}], \"scattergeo\": [{\"marker\": {\"colorbar\": {\"outlinewidth\": 0, \"ticks\": \"\"}}, \"type\": \"scattergeo\"}], \"scattergl\": [{\"marker\": {\"colorbar\": {\"outlinewidth\": 0, \"ticks\": \"\"}}, \"type\": \"scattergl\"}], \"scattermapbox\": [{\"marker\": {\"colorbar\": {\"outlinewidth\": 0, \"ticks\": \"\"}}, \"type\": \"scattermapbox\"}], \"scatterpolar\": [{\"marker\": {\"colorbar\": {\"outlinewidth\": 0, \"ticks\": \"\"}}, \"type\": \"scatterpolar\"}], \"scatterpolargl\": [{\"marker\": {\"colorbar\": {\"outlinewidth\": 0, \"ticks\": \"\"}}, \"type\": \"scatterpolargl\"}], \"scatterternary\": [{\"marker\": {\"colorbar\": {\"outlinewidth\": 0, \"ticks\": \"\"}}, \"type\": \"scatterternary\"}], \"surface\": [{\"colorbar\": {\"outlinewidth\": 0, \"ticks\": \"\"}, \"colorscale\": [[0.0, \"#0d0887\"], [0.1111111111111111, \"#46039f\"], [0.2222222222222222, \"#7201a8\"], [0.3333333333333333, \"#9c179e\"], [0.4444444444444444, \"#bd3786\"], [0.5555555555555556, \"#d8576b\"], [0.6666666666666666, \"#ed7953\"], [0.7777777777777778, \"#fb9f3a\"], [0.8888888888888888, \"#fdca26\"], [1.0, \"#f0f921\"]], \"type\": \"surface\"}], \"table\": [{\"cells\": {\"fill\": {\"color\": \"#EBF0F8\"}, \"line\": {\"color\": \"white\"}}, \"header\": {\"fill\": {\"color\": \"#C8D4E3\"}, \"line\": {\"color\": \"white\"}}, \"type\": \"table\"}]}, \"layout\": {\"annotationdefaults\": {\"arrowcolor\": \"#2a3f5f\", \"arrowhead\": 0, \"arrowwidth\": 1}, \"coloraxis\": {\"colorbar\": {\"outlinewidth\": 0, \"ticks\": \"\"}}, \"colorscale\": {\"diverging\": [[0, \"#8e0152\"], [0.1, \"#c51b7d\"], [0.2, \"#de77ae\"], [0.3, \"#f1b6da\"], [0.4, \"#fde0ef\"], [0.5, \"#f7f7f7\"], [0.6, \"#e6f5d0\"], [0.7, \"#b8e186\"], [0.8, \"#7fbc41\"], [0.9, \"#4d9221\"], [1, \"#276419\"]], \"sequential\": [[0.0, \"#0d0887\"], [0.1111111111111111, \"#46039f\"], [0.2222222222222222, \"#7201a8\"], [0.3333333333333333, \"#9c179e\"], [0.4444444444444444, \"#bd3786\"], [0.5555555555555556, \"#d8576b\"], [0.6666666666666666, \"#ed7953\"], [0.7777777777777778, \"#fb9f3a\"], [0.8888888888888888, \"#fdca26\"], [1.0, \"#f0f921\"]], \"sequentialminus\": [[0.0, \"#0d0887\"], [0.1111111111111111, \"#46039f\"], [0.2222222222222222, \"#7201a8\"], [0.3333333333333333, \"#9c179e\"], [0.4444444444444444, \"#bd3786\"], [0.5555555555555556, \"#d8576b\"], [0.6666666666666666, \"#ed7953\"], [0.7777777777777778, \"#fb9f3a\"], [0.8888888888888888, \"#fdca26\"], [1.0, \"#f0f921\"]]}, \"colorway\": [\"#636efa\", \"#EF553B\", \"#00cc96\", \"#ab63fa\", \"#FFA15A\", \"#19d3f3\", \"#FF6692\", \"#B6E880\", \"#FF97FF\", \"#FECB52\"], \"font\": {\"color\": \"#2a3f5f\"}, \"geo\": {\"bgcolor\": \"white\", \"lakecolor\": \"white\", \"landcolor\": \"#E5ECF6\", \"showlakes\": true, \"showland\": true, \"subunitcolor\": \"white\"}, \"hoverlabel\": {\"align\": \"left\"}, \"hovermode\": \"closest\", \"mapbox\": {\"style\": \"light\"}, \"paper_bgcolor\": \"white\", \"plot_bgcolor\": \"#E5ECF6\", \"polar\": {\"angularaxis\": {\"gridcolor\": \"white\", \"linecolor\": \"white\", \"ticks\": \"\"}, \"bgcolor\": \"#E5ECF6\", \"radialaxis\": {\"gridcolor\": \"white\", \"linecolor\": \"white\", \"ticks\": \"\"}}, \"scene\": {\"xaxis\": {\"backgroundcolor\": \"#E5ECF6\", \"gridcolor\": \"white\", \"gridwidth\": 2, \"linecolor\": \"white\", \"showbackground\": true, \"ticks\": \"\", \"zerolinecolor\": \"white\"}, \"yaxis\": {\"backgroundcolor\": \"#E5ECF6\", \"gridcolor\": \"white\", \"gridwidth\": 2, \"linecolor\": \"white\", \"showbackground\": true, \"ticks\": \"\", \"zerolinecolor\": \"white\"}, \"zaxis\": {\"backgroundcolor\": \"#E5ECF6\", \"gridcolor\": \"white\", \"gridwidth\": 2, \"linecolor\": \"white\", \"showbackground\": true, \"ticks\": \"\", \"zerolinecolor\": \"white\"}}, \"shapedefaults\": {\"line\": {\"color\": \"#2a3f5f\"}}, \"ternary\": {\"aaxis\": {\"gridcolor\": \"white\", \"linecolor\": \"white\", \"ticks\": \"\"}, \"baxis\": {\"gridcolor\": \"white\", \"linecolor\": \"white\", \"ticks\": \"\"}, \"bgcolor\": \"#E5ECF6\", \"caxis\": {\"gridcolor\": \"white\", \"linecolor\": \"white\", \"ticks\": \"\"}}, \"title\": {\"x\": 0.05}, \"xaxis\": {\"automargin\": true, \"gridcolor\": \"white\", \"linecolor\": \"white\", \"ticks\": \"\", \"title\": {\"standoff\": 15}, \"zerolinecolor\": \"white\", \"zerolinewidth\": 2}, \"yaxis\": {\"automargin\": true, \"gridcolor\": \"white\", \"linecolor\": \"white\", \"ticks\": \"\", \"title\": {\"standoff\": 15}, \"zerolinecolor\": \"white\", \"zerolinewidth\": 2}}}, \"title\": {\"font\": {\"size\": 20}}, \"xaxis\": {\"anchor\": \"y\", \"categoryarray\": [\"Ropa y Accesorios\", \"Electr\\u00f3nica, Audio y Video\", \"Celulares y Tel\\u00e9fonos\", \"Consolas y Videojuegos\", \"Deportes y Fitness\", \"Accesorios para Veh\\u00edculos\", \"Computaci\\u00f3n\", \"Electrodom\\u00e9sticos\", \"Juegos y Juguetes\", \"Herramientas y Construcci\\u00f3n\"], \"categoryorder\": \"array\", \"domain\": [0.0, 1.0], \"title\": {\"font\": {\"size\": 18}, \"text\": \"CATEGORIA\"}}, \"yaxis\": {\"anchor\": \"x\", \"domain\": [0.0, 1.0], \"title\": {\"font\": {\"size\": 18}, \"text\": \"DESCUENTO\"}}},                        {\"responsive\": true}                    ).then(function(){\n",
       "                            \n",
       "var gd = document.getElementById('adcd24e4-b77a-45ce-afb2-7bb7d9c923fa');\n",
       "var x = new MutationObserver(function (mutations, observer) {{\n",
       "        var display = window.getComputedStyle(gd).display;\n",
       "        if (!display || display === 'none') {{\n",
       "            console.log([gd, 'removed!']);\n",
       "            Plotly.purge(gd);\n",
       "            observer.disconnect();\n",
       "        }}\n",
       "}});\n",
       "\n",
       "// Listen for the removal of the full notebook cells\n",
       "var notebookContainer = gd.closest('#notebook-container');\n",
       "if (notebookContainer) {{\n",
       "    x.observe(notebookContainer, {childList: true});\n",
       "}}\n",
       "\n",
       "// Listen for the clearing of the current output cell\n",
       "var outputEl = gd.closest('.output');\n",
       "if (outputEl) {{\n",
       "    x.observe(outputEl, {childList: true});\n",
       "}}\n",
       "\n",
       "                        })                };                });            </script>        </div>"
      ]
     },
     "metadata": {},
     "output_type": "display_data"
    }
   ],
   "source": [
    "discount_products_top_sorted = discount_products_top.sort_values(by=['SEARCH_CATEGORY_NAME'], key=lambda x: x.map(sorted_dict))\n",
    "fig = px.box(discount_products_top_sorted, x=\"SEARCH_CATEGORY_NAME\", y=\"ITEM_DISCOUNT_RATE\", color=\"SEARCH_CATEGORY_NAME\",)\n",
    "fig.update_traces(quartilemethod=\"exclusive\")\n",
    "fig.update_layout(titlefont = dict(size=20),\n",
    "                  xaxis=dict(title=\"CATEGORIA\",titlefont=dict(size=18)),\n",
    "                  yaxis=dict(title=\"DESCUENTO\",titlefont=dict(size=18)),\n",
    "                  plot_bgcolor='rgb(255,255,255)', legend_title='CATEGROIAS')\n",
    "fig.show()"
   ]
  },
  {
   "cell_type": "markdown",
   "metadata": {},
   "source": [
    "Se puede ver __Ropa y Accesarios__ lidera, y de manera muy clara, el ranking por descuento mediano (y de hecho también promedio), así como el hecho de que para esta categoría no hay tanta variabilidad como se presentan en las otras (salvo por __Juegos y Jueguetes__). El ranking continua seguido de __Electrónica, Audio y Video__ y luego __Celulares y Teléfonos__ aunque no es claro que en mediana no hay una diferencia en los descuentos para las categorías de la 2da a la 9na. \n",
    "\n",
    "Otro caso único es el __Consolas y Videojuegos__ donde la variabilidad es altísima y sobre todo hacia arriba, llega a tener un descuento máximo de más de 70% de descuento.\n",
    "\n",
    "Por otro lado, es importante resaltar que hay una cantidad de ítems notables fuera del intervalo de cuantiles [0.25, 0.75] para las categorías de __Juegos y Juguetes__ y __Ropa y Accesorios__."
   ]
  },
  {
   "cell_type": "markdown",
   "metadata": {
    "ExecuteTime": {
     "end_time": "2021-03-11T02:14:38.644119Z",
     "start_time": "2021-03-11T02:14:38.641015Z"
    }
   },
   "source": [
    "Ahora, vamos a continuar con una análisis más profundo de los descuentos para algunas de las categorías más top (por decisión __personal__ preferí enfocarme en las cinco categorías relacionadas a tecnología): \n",
    "\n",
    "1. Electrodomésticos.\n",
    "2. Celulares y Teléfonos.\n",
    "3. Electrónica, Audio y Video.\n",
    "4. Computación.\n",
    "5. Consolas y Videojuegos."
   ]
  },
  {
   "cell_type": "markdown",
   "metadata": {},
   "source": [
    "## Caracterización de los Descuentos: Celulares y Teléfonos"
   ]
  },
  {
   "cell_type": "code",
   "execution_count": null,
   "metadata": {},
   "outputs": [],
   "source": []
  },
  {
   "cell_type": "code",
   "execution_count": null,
   "metadata": {},
   "outputs": [],
   "source": []
  },
  {
   "cell_type": "code",
   "execution_count": null,
   "metadata": {},
   "outputs": [],
   "source": []
  },
  {
   "cell_type": "code",
   "execution_count": null,
   "metadata": {},
   "outputs": [],
   "source": []
  },
  {
   "cell_type": "code",
   "execution_count": null,
   "metadata": {},
   "outputs": [],
   "source": []
  },
  {
   "cell_type": "code",
   "execution_count": null,
   "metadata": {},
   "outputs": [],
   "source": []
  },
  {
   "cell_type": "code",
   "execution_count": null,
   "metadata": {},
   "outputs": [],
   "source": []
  },
  {
   "cell_type": "code",
   "execution_count": null,
   "metadata": {},
   "outputs": [],
   "source": []
  },
  {
   "cell_type": "markdown",
   "metadata": {},
   "source": [
    "# Fin del Documento"
   ]
  },
  {
   "cell_type": "code",
   "execution_count": null,
   "metadata": {},
   "outputs": [],
   "source": []
  }
 ],
 "metadata": {
  "kernelspec": {
   "display_name": "Python 3",
   "language": "python",
   "name": "python3"
  },
  "language_info": {
   "codemirror_mode": {
    "name": "ipython",
    "version": 3
   },
   "file_extension": ".py",
   "mimetype": "text/x-python",
   "name": "python",
   "nbconvert_exporter": "python",
   "pygments_lexer": "ipython3",
   "version": "3.8.2"
  },
  "notify_time": "10",
  "toc": {
   "base_numbering": 1,
   "nav_menu": {},
   "number_sections": true,
   "sideBar": true,
   "skip_h1_title": true,
   "title_cell": "Table of Contents",
   "title_sidebar": "Contents",
   "toc_cell": true,
   "toc_position": {
    "height": "calc(100% - 180px)",
    "left": "10px",
    "top": "150px",
    "width": "462px"
   },
   "toc_section_display": true,
   "toc_window_display": true
  }
 },
 "nbformat": 4,
 "nbformat_minor": 4
}
